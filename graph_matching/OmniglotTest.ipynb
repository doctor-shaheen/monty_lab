{
 "cells": [
  {
   "cell_type": "markdown",
   "id": "d2f8c8b6",
   "metadata": {},
   "source": [
    "# Omniglot Tests"
   ]
  },
  {
   "cell_type": "code",
   "execution_count": null,
   "id": "9456005c",
   "metadata": {},
   "outputs": [],
   "source": [
    "import numpy as np\n",
    "import os\n",
    "import random\n",
    "from sys import platform as sys_pf\n",
    "import matplotlib.pyplot as plt"
   ]
  },
  {
   "cell_type": "code",
   "execution_count": null,
   "id": "087b2768",
   "metadata": {},
   "outputs": [],
   "source": [
    "%matplotlib notebook"
   ]
  },
  {
   "cell_type": "markdown",
   "id": "95812c72",
   "metadata": {},
   "source": [
    "### Basic Testing, Visualizing & Debugging Dataset"
   ]
  },
  {
   "cell_type": "code",
   "execution_count": null,
   "id": "b3b16384",
   "metadata": {},
   "outputs": [],
   "source": [
    "def plot_motor_to_image(I,drawing,lw=2):\n",
    "\tdrawing = [d[:,0:2] for d in drawing] # strip off the timing data (third column)\n",
    "\tdrawing = [space_motor_to_img(d) for d in drawing] # convert to image space\n",
    "\tplt.imshow(I,cmap='gray')\n",
    "\tns = len(drawing)\n",
    "\tfor sid in range(ns): # for each stroke\n",
    "\t\tplot_traj(drawing[sid],get_color(sid),lw)\n",
    "\tplt.xticks([])\n",
    "\tplt.yticks([])\n",
    "\n",
    "def plot_traj(stk,color,lw):\n",
    "\tn = stk.shape[0]\n",
    "\tif n > 1:\n",
    "\t\tplt.plot(stk[:,0],stk[:,1],color=color,linewidth=lw)\n",
    "\telse:\n",
    "\t\tplt.plot(stk[0,0],stk[0,1],color=color,linewidth=lw,marker='.')\n",
    "\n",
    "# Color map for the stroke of index k\n",
    "def get_color(k):\t\n",
    "    scol = ['r','g','b','m','c']\n",
    "    ncol = len(scol)\n",
    "    if k < ncol:\n",
    "       out = scol[k]\n",
    "    else:\n",
    "       out = scol[-1]\n",
    "    return out\n",
    "\n",
    "# convert to str and add leading zero to single digit numbers\n",
    "def num2str(idx):\n",
    "\tif idx < 10:\n",
    "\t\treturn '0'+str(idx)\n",
    "\treturn str(idx)\n",
    "\n",
    "# Load binary image for a character\n",
    "#\n",
    "# fn : filename\n",
    "def load_img(fn):\n",
    "\tI = plt.imread(fn)\n",
    "\tI = np.array(I,dtype=bool)\n",
    "\treturn I\n",
    "\n",
    "def load_motor(fn):\n",
    "\tmotor = []\n",
    "\twith open(fn,'r') as fid:\n",
    "\t\tlines = fid.readlines()\n",
    "\tlines = [l.strip() for l in lines]\n",
    "\tfor myline in lines:\n",
    "\t\tif myline =='START': # beginning of character\n",
    "\t\t\tstk = []\n",
    "\t\telif myline =='BREAK': # break between strokes\n",
    "\t\t\tstk = np.array(stk)\n",
    "\t\t\tmotor.append(stk) # add to list of strokes\n",
    "\t\t\tstk = [] \n",
    "\t\telse:\n",
    "\t\t\tarr = np.fromstring(myline,dtype=float,sep=',')\n",
    "\t\t\tstk.append(arr)\n",
    "\treturn motor\n",
    "\n",
    "def space_motor_to_img(pt):\n",
    "\tpt[:,1] = -pt[:,1]\n",
    "\treturn pt\n",
    "def space_img_to_motor(pt):\n",
    "\tpt[:,1] = -pt[:,1]\n",
    "\treturn"
   ]
  },
  {
   "cell_type": "code",
   "execution_count": null,
   "id": "8df54335",
   "metadata": {},
   "outputs": [],
   "source": [
    "omniglot_path = os.path.expanduser('~/tbp/data/omniglot/python/')\n",
    "img_dir = omniglot_path + 'images_background'\n",
    "stroke_dir = omniglot_path + 'strokes_background'\n",
    "nreps = 20 # number of renditions for each character\n",
    "\n",
    "alphabet_names = [a for a in os.listdir(img_dir) if a[0] != '.'] # get folder names\n",
    "print(alphabet_names)"
   ]
  },
  {
   "cell_type": "code",
   "execution_count": null,
   "id": "aa50cc72",
   "metadata": {},
   "outputs": [],
   "source": [
    "a_id = 12\n",
    "character_id = 2\n",
    "alpha_name = alphabet_names[a_id]\n",
    "\n",
    "img_char_dir = os.path.join(img_dir,alpha_name,'character'+num2str(character_id))\n",
    "stroke_char_dir = os.path.join(stroke_dir,alpha_name,'character'+num2str(character_id))\n",
    "\n",
    "# get base file name for this character\n",
    "fn_example = os.listdir(img_char_dir)[0]\n",
    "fn_base = fn_example[:fn_example.find('_')] "
   ]
  },
  {
   "cell_type": "code",
   "execution_count": null,
   "id": "92ca5f32",
   "metadata": {},
   "outputs": [],
   "source": [
    "plt.figure(figsize=(10,8))\n",
    "for r in range(1,nreps+1): # for each rendition\n",
    "    plt.subplot(4,5,r)\n",
    "    fn_stk = stroke_char_dir + '/' + fn_base + '_' + num2str(r) + '.txt'\n",
    "    fn_img = img_char_dir + '/' + fn_base + '_' + num2str(r) + '.png'\t\t\t\n",
    "    motor = load_motor(fn_stk)\n",
    "    I = load_img(fn_img)\n",
    "    plot_motor_to_image(I,motor)\n",
    "    if r==1:\n",
    "        plt.title(alpha_name[:15] + '\\n character ' + str(character_id))\n",
    "plt.tight_layout()\n",
    "plt.show()"
   ]
  },
  {
   "cell_type": "code",
   "execution_count": null,
   "id": "8584db71",
   "metadata": {},
   "outputs": [],
   "source": [
    "motor = load_motor(fn_stk)\n",
    "motor = [d[:,0:2] for d in motor] # strip off the timing data (third column)\n",
    "motor = [space_motor_to_img(d) for d in motor] # convert to image space\n",
    "locations = np.zeros((2))\n",
    "for stroke in motor:\n",
    "    locations = np.vstack([locations, stroke])\n",
    "locations = locations[1:]"
   ]
  },
  {
   "cell_type": "code",
   "execution_count": null,
   "id": "8d0ada52",
   "metadata": {},
   "outputs": [],
   "source": [
    "plt.figure()\n",
    "plt.imshow(I)\n",
    "plt.scatter(locations[:,0],locations[:,1], s=1, c='r')\n",
    "plt.show()"
   ]
  },
  {
   "cell_type": "code",
   "execution_count": null,
   "id": "8ea43dc1",
   "metadata": {},
   "outputs": [],
   "source": [
    "def get_image_patch(img, loc, patch_size):\n",
    "    loc = np.array(loc,dtype=int)\n",
    "    startx = loc[1] - patch_size//2\n",
    "    stopx = loc[1] + patch_size//2\n",
    "    starty = loc[0] - patch_size//2\n",
    "    stopy = loc[0] + patch_size//2\n",
    "    patch = img[startx:stopx, starty:stopy]\n",
    "    return patch"
   ]
  },
  {
   "cell_type": "code",
   "execution_count": null,
   "id": "5b3618bb",
   "metadata": {},
   "outputs": [],
   "source": [
    "i = 1\n",
    "patch = get_image_patch(I, locations[i], 10)\n",
    "\n",
    "plt.figure()\n",
    "plt.subplot(1,2,1)\n",
    "plt.imshow(I)\n",
    "plt.scatter(locations[:,0],locations[:,1], s=1, c='r')\n",
    "plt.scatter(locations[i,0],locations[i,1], s=10, c='g')\n",
    "plt.axis('off')\n",
    "plt.title('Location of Patch (green)')\n",
    "plt.subplot(1,2,2)\n",
    "plt.imshow(patch)\n",
    "plt.axis('off')\n",
    "plt.title('Patch Observation')\n",
    "plt.show()"
   ]
  },
  {
   "cell_type": "markdown",
   "id": "5b62d1b5",
   "metadata": {},
   "source": [
    "### Testing Data Formatting For Monty Compatibility"
   ]
  },
  {
   "cell_type": "code",
   "execution_count": null,
   "id": "6d629862",
   "metadata": {},
   "outputs": [],
   "source": [
    "from tbp.monty.frameworks.environment_utils.transforms import DepthTo3DLocations\n",
    "from tbp.monty.frameworks.environment_utils.graph_utils import get_point_normal,get_curvature_at_point\n",
    "import quaternion as qt\n",
    "from scipy.ndimage import gaussian_filter"
   ]
  },
  {
   "cell_type": "code",
   "execution_count": null,
   "id": "d1e61ea4",
   "metadata": {},
   "outputs": [],
   "source": [
    "agent_id = 'agent_01'\n",
    "sensor_id = 'patch_01'\n",
    "depth = 1.2 - gaussian_filter(np.array(~patch,dtype=float), sigma=0.5)\n",
    "obs = {agent_id:{sensor_id:{\"depth\":depth, \n",
    "                            \"semantic\":np.array(~patch,dtype=int)}}}\n",
    "rotation = qt.from_rotation_vector([np.pi / 2, 0.0, 0.0])\n",
    "loc = locations[i]\n",
    "sensor_position = np.array([loc[0],loc[1],0])\n",
    "state = {agent_id:{\"sensors\":{sensor_id + \".depth\":{\"rotation\":rotation, \n",
    "                                                    \"position\":sensor_position}},\n",
    "                  \"rotation\":rotation, \"position\":np.array([0,0,0])}}"
   ]
  },
  {
   "cell_type": "code",
   "execution_count": null,
   "id": "e4f80bdf",
   "metadata": {},
   "outputs": [],
   "source": [
    "d2 = gaussian_filter(np.array(~patch,dtype=float), sigma=0.5)"
   ]
  },
  {
   "cell_type": "code",
   "execution_count": null,
   "id": "6d1ed8eb",
   "metadata": {},
   "outputs": [],
   "source": [
    "plt.figure()\n",
    "plt.subplot(1,2,1)\n",
    "plt.imshow(1.2-d2)\n",
    "plt.title(\"depth\")\n",
    "plt.axis('off')\n",
    "plt.colorbar()\n",
    "plt.subplot(1,2,2)\n",
    "plt.imshow(obs[agent_id][sensor_id]['semantic'])\n",
    "plt.colorbar()\n",
    "plt.title(\"on object\")\n",
    "plt.axis('off')\n",
    "plt.show()"
   ]
  },
  {
   "cell_type": "markdown",
   "id": "5b0d200d",
   "metadata": {},
   "source": [
    "#### Apply Habitat Transform"
   ]
  },
  {
   "cell_type": "code",
   "execution_count": null,
   "id": "252050d8",
   "metadata": {},
   "outputs": [],
   "source": [
    "transform = DepthTo3DLocations(\n",
    "                agent_id=agent_id,\n",
    "                sensor_ids=[sensor_id],\n",
    "                resolutions=[[10,10]],\n",
    "                world_coord=True,\n",
    "                zooms=1,\n",
    "                get_all_points=True,\n",
    "                use_semantic_sensor=True,\n",
    "                depth_clip_sensors=(0,),\n",
    "                clip_value=1.1,\n",
    "            )\n",
    "    "
   ]
  },
  {
   "cell_type": "code",
   "execution_count": null,
   "id": "45d8aaba",
   "metadata": {},
   "outputs": [],
   "source": [
    "obs = transform(obs, state=state)"
   ]
  },
  {
   "cell_type": "code",
   "execution_count": null,
   "id": "b7486780",
   "metadata": {},
   "outputs": [],
   "source": [
    "obs_3d = obs[agent_id][sensor_id]['semantic_3d']\n",
    "locs = obs_3d[obs_3d[:,3] == 1]\n",
    "\n",
    "obs_dim = int(np.sqrt(obs_3d.shape[0]))\n",
    "half_obs_dim = obs_dim // 2\n",
    "center_id = half_obs_dim + obs_dim * half_obs_dim\n",
    "\n",
    "point_normal = get_point_normal(\n",
    "                obs_3d, center_id, sensor_location=sensor_position\n",
    "            )\n",
    "k1, k2, dir1, dir2 = get_curvature_at_point(obs_3d, center_id, point_normal)\n",
    "\n",
    "center_loc = obs_3d[center_id,:3]\n",
    "\n",
    "plt.figure()\n",
    "ax = plt.subplot(1,1,1,projection='3d')\n",
    "ax.scatter(locs[:,0], locs[:,1], locs[:,2],c='black')\n",
    "ax.scatter(center_loc[0], center_loc[1], center_loc[2],s=50,c='green')\n",
    "linelen = 0.8\n",
    "colors = ['green','red','orange']\n",
    "for i,line in enumerate([point_normal, dir1, dir2]):\n",
    "    plt.plot([center_loc[0], center_loc[0] + line[0]*linelen], \n",
    "             [center_loc[1], center_loc[1] + line[1]*linelen], \n",
    "             [center_loc[2], center_loc[2] + line[2]*linelen],\n",
    "            color=colors[i])\n",
    "ax.set_aspect('equal')\n",
    "plt.show()"
   ]
  },
  {
   "cell_type": "markdown",
   "id": "9de2eb2a",
   "metadata": {},
   "source": [
    "#### Test Formatting on All Points"
   ]
  },
  {
   "cell_type": "code",
   "execution_count": null,
   "id": "de48f2d4",
   "metadata": {},
   "outputs": [],
   "source": [
    "# we know the point normal faces the camera on the 2D image here\n",
    "point_normal = np.array([0,0,-1])\n",
    "colors = ['green','red','orange']\n",
    "linelen = 10\n",
    "plt.figure()\n",
    "ax = plt.subplot(1,1,1,projection='3d')\n",
    "for loc in locations:\n",
    "    patch = get_image_patch(I, loc, 10)\n",
    "    depth = 1.2 - gaussian_filter(np.array(~patch,dtype=float), sigma=0.5)\n",
    "    obs = {agent_id:{sensor_id:{\"depth\":depth, \n",
    "                            \"semantic\":np.array(~patch,dtype=int)}}}\n",
    "    rotation = qt.from_rotation_vector([np.pi / 2, 0.0, 0.0])\n",
    "    sensor_position = np.array([loc[0],loc[1],0])\n",
    "    state = {agent_id:{\"sensors\":{sensor_id + \".depth\":{\"rotation\":rotation, \n",
    "                                                        \"position\":sensor_position}},\n",
    "                      \"rotation\":rotation, \"position\":np.array([0,0,0])}}\n",
    "    obs = transform(obs, state=state)\n",
    "    obs_3d = obs[agent_id][sensor_id]['semantic_3d']\n",
    "    # If the center of the patch is on the object, get curvature and plot\n",
    "    if obs_3d[center_id, 3] > 0:\n",
    "        locs = obs_3d[obs_3d[:,3] == 1]\n",
    "        k1, k2, dir1, dir2 = get_curvature_at_point(obs_3d, center_id, point_normal)\n",
    "        center_loc = obs_3d[center_id,:3]\n",
    "        ax.scatter(center_loc[0], center_loc[1], center_loc[2],c=k1)\n",
    "        for i,line in enumerate([point_normal, dir1, dir2]):\n",
    "            plt.plot([center_loc[0], center_loc[0] + line[0]*linelen], \n",
    "                     [center_loc[1], center_loc[1] + line[1]*linelen], \n",
    "                     [center_loc[2], center_loc[2] + line[2]*linelen],\n",
    "                    color=colors[i])\n",
    "ax.set_aspect('equal')\n",
    "plt.show()"
   ]
  },
  {
   "cell_type": "markdown",
   "id": "b55808c7",
   "metadata": {},
   "source": [
    "# Load Experiment Data & Visualize"
   ]
  },
  {
   "cell_type": "code",
   "execution_count": null,
   "id": "1eb67e27",
   "metadata": {},
   "outputs": [],
   "source": [
    "from tbp.monty.frameworks.utils.logging_utils import load_stats\n",
    "from tbp.monty.frameworks.utils.plot_utils import (show_initial_hypotheses, \n",
    "                                                         plot_evidence_at_step,\n",
    "                                                        plot_graph)"
   ]
  },
  {
   "cell_type": "code",
   "execution_count": null,
   "id": "f63fb771",
   "metadata": {},
   "outputs": [],
   "source": [
    "pretrain_path = os.path.expanduser(\"~/tbp/results/monty/pretrained_models/\")\n",
    "pretrained_dict = pretrain_path + \"pretrained_ycb/supervised_pre_training_on_omniglot/pretrained/\"\n",
    "log_path = os.path.expanduser(\"~/tbp/results/monty/projects/monty_runs/\")\n",
    "exp_name = \"evidence_on_omniglot/\"\n",
    "exp_path = log_path + exp_name\n",
    "save_path = exp_path + '/stepwise_examples/'\n",
    "train_stats, eval_stats, detailed_stats, lm_models = load_stats(exp_path,\n",
    "                                                                load_train=False,\n",
    "                                                                load_eval=True,\n",
    "                                                                load_detailed=True,\n",
    "                                                                pretrained_dict=pretrained_dict,\n",
    "                                                               )"
   ]
  },
  {
   "cell_type": "code",
   "execution_count": null,
   "id": "53d41430",
   "metadata": {},
   "outputs": [],
   "source": [
    "eval_stats"
   ]
  },
  {
   "cell_type": "code",
   "execution_count": null,
   "id": "e7c05bc0",
   "metadata": {},
   "outputs": [],
   "source": [
    "plot_graph(lm_models['pretrained'][0]['Korean_1'])\n",
    "plt.show()"
   ]
  },
  {
   "cell_type": "code",
   "execution_count": null,
   "id": "fb8796f2",
   "metadata": {},
   "outputs": [],
   "source": [
    "step = 10\n",
    "episode = 0\n",
    "plt.figure()\n",
    "plt.subplot(1,2,1)\n",
    "plt.imshow(detailed_stats[str(episode)]['SM_1']['raw_observations'][0]['depth'])\n",
    "plt.title('character')\n",
    "plt.axis('off')\n",
    "plt.subplot(1,2,2)\n",
    "plt.imshow(detailed_stats[str(episode)]['SM_0']['raw_observations'][step]['depth'])\n",
    "plt.title(f'observation at step {step}')\n",
    "plt.axis('off')\n",
    "plt.show()"
   ]
  },
  {
   "cell_type": "code",
   "execution_count": null,
   "id": "5c58a7f0",
   "metadata": {},
   "outputs": [],
   "source": [
    "graph = lm_models['pretrained'][0]['Korean_1']\n",
    "color_id = graph.feature_mapping['principal_curvatures_log'][0]\n",
    "curv_dir_ids = graph.feature_mapping['curvature_directions']\n",
    "norm_len = 3\n",
    "\n",
    "fig = plt.figure()\n",
    "ax = plt.subplot(1,1,1,projection='3d')\n",
    "s = ax.scatter(\n",
    "    graph.pos[:, 0],\n",
    "    graph.pos[:, 1],\n",
    "    graph.pos[:, 2],\n",
    "    s=5,\n",
    "    alpha=0.5,\n",
    "    c='grey'#np.arctan(np.array(graph.x[:,color_id])/100)\n",
    ")\n",
    "\n",
    "ax.set_xticks([]), ax.set_yticks([]), ax.set_zticks([])\n",
    "# ax_range = 0.07\n",
    "# ax.set_xlim(0-ax_range, 0+ax_range)\n",
    "# ax.set_ylim(0.05-ax_range,0.05+ax_range)\n",
    "# ax.set_zlim(0-ax_range, 0+ax_range)\n",
    "ax.set_title(\"Learned Locations and Norm\")\n",
    "\n",
    "for p_id, p in enumerate(np.array(graph.pos)):\n",
    "    norm = np.array(graph.norm[p_id])\n",
    "#     norm = graph.x[p_id][curv_dir_ids[0]:curv_dir_ids[0]+3]\n",
    "    ax.plot([p[0], p[0] + norm[0] * norm_len],\n",
    "            [p[1], p[1] + norm[1] * norm_len],\n",
    "            [p[2], p[2] + norm[2] * norm_len],\n",
    "#             c=[np.abs(norm[0]),np.abs(norm[1]),np.abs(norm[2])]#'lightblue',\n",
    "            c=[(norm[0]+1)*0.5,(norm[1]+1)*0.5,(norm[2]+1)*0.5]\n",
    "           )\n",
    "ax.set_aspect(\"equal\")\n",
    "plt.show()"
   ]
  },
  {
   "cell_type": "code",
   "execution_count": null,
   "id": "88265d77",
   "metadata": {},
   "outputs": [],
   "source": [
    "obj = 'Korean_1'\n",
    "graph = lm_models['pretrained'][0][obj]\n",
    "pc1ispc2 = graph.feature_mapping['pc1_is_pc2']\n",
    "curv_dir_ids = graph.feature_mapping['curvature_directions']\n",
    "norm_len = 10\n",
    "\n",
    "fig = plt.figure()\n",
    "ax = plt.subplot(1,1,1,projection='3d')\n",
    "s = ax.scatter(\n",
    "    graph.pos[:, 0],\n",
    "    graph.pos[:, 1],\n",
    "    graph.pos[:, 2],\n",
    "    s=5,\n",
    ")\n",
    "\n",
    "ax.set_xticks([]), ax.set_yticks([]), ax.set_zticks([])\n",
    "# ax_range = 0.07\n",
    "# ax.set_xlim(0-ax_range, 0+ax_range)\n",
    "# ax.set_ylim(0.05-ax_range,0.05+ax_range)\n",
    "# ax.set_zlim(0-ax_range, 0+ax_range)\n",
    "ax.set_title(\"Principal Curvature Directions\")\n",
    "\n",
    "for p_id, p in enumerate(np.array(graph.pos)):\n",
    "    norm = graph.norm[p_id]\n",
    "#     ax.plot([p[0], p[0] + norm[0] * norm_len],\n",
    "#                 [p[1], p[1] + norm[1] * norm_len],\n",
    "#                 [p[2], p[2] + norm[2] * norm_len],\n",
    "#                 c='blue',\n",
    "#                )\n",
    "#     if not graph.x[p_id, pc1ispc2[0]]:\n",
    "    cd1 = graph.x[p_id][curv_dir_ids[0]:curv_dir_ids[0]+3]\n",
    "    cd2 = graph.x[p_id][curv_dir_ids[0]+3:curv_dir_ids[0]+6]\n",
    "    ax.plot([p[0], p[0] + cd1[0] * norm_len],\n",
    "            [p[1], p[1] + cd1[1] * norm_len],\n",
    "            [p[2], p[2] + cd1[2] * norm_len],\n",
    "            c='red',\n",
    "           )\n",
    "    ax.plot([p[0], p[0] + cd2[0] * norm_len * 0.5],\n",
    "            [p[1], p[1] + cd2[1] * norm_len * 0.5],\n",
    "            [p[2], p[2] + cd2[2] * norm_len * 0.5],\n",
    "            c='orange',\n",
    "           )\n",
    "ax.set_aspect(\"equal\")\n",
    "plt.show()"
   ]
  },
  {
   "cell_type": "code",
   "execution_count": null,
   "id": "79c1a29f",
   "metadata": {},
   "outputs": [],
   "source": [
    "show_initial_hypotheses(detailed_stats, episode=4, obj='Korean_1')"
   ]
  },
  {
   "cell_type": "code",
   "execution_count": null,
   "id": "71e157f0",
   "metadata": {},
   "outputs": [],
   "source": [
    "plt.figure()\n",
    "plt.hist(detailed_stats['4']['LM_0']['evidences'][3]['Korean_2'])\n",
    "plt.show()"
   ]
  },
  {
   "cell_type": "code",
   "execution_count": null,
   "id": "6843d9b9",
   "metadata": {},
   "outputs": [],
   "source": [
    "objects = ['Korean_1','Korean_2','Korean_3','Gujarati_2']\n",
    "\n",
    "episode = 4\n",
    "lm = 'LM_0'\n",
    "current_evidence_update_th = -1"
   ]
  },
  {
   "cell_type": "code",
   "execution_count": null,
   "id": "7bdb2421",
   "metadata": {
    "scrolled": true
   },
   "outputs": [],
   "source": [
    "for step in range(eval_stats['num_steps'][episode]):\n",
    "    plot_evidence_at_step(detailed_stats,\n",
    "                          lm_models,\n",
    "                              episode, \n",
    "                              step,\n",
    "                              objects,\n",
    "                              save_fig=True, \n",
    "                              save_path=save_path)"
   ]
  },
  {
   "cell_type": "markdown",
   "id": "9788a57b",
   "metadata": {},
   "source": [
    "## Plot Longer Run Stats"
   ]
  },
  {
   "cell_type": "code",
   "execution_count": null,
   "id": "b87e01d5",
   "metadata": {},
   "outputs": [],
   "source": [
    "pretrain_path = os.path.expanduser(\"~/tbp/results/monty/pretrained_models/\")\n",
    "pretrained_dict = pretrain_path + \"pretrained_ycb/supervised_pre_training_on_omniglot_large/pretrained/\"\n",
    "log_path = os.path.expanduser(\"~/tbp/results/monty/projects/monty_runs/\")\n",
    "exp_name = \"evidence_on_omniglot_large/\"\n",
    "exp_path = log_path + exp_name\n",
    "save_path = exp_path + '/stepwise_examples/'\n",
    "train_stats, eval_stats, detailed_stats, lm_models = load_stats(exp_path,\n",
    "                                                                load_train=False,\n",
    "                                                                load_eval=True,\n",
    "                                                                load_detailed=False,\n",
    "                                                                pretrained_dict=pretrained_dict,\n",
    "                                                               )"
   ]
  },
  {
   "cell_type": "code",
   "execution_count": null,
   "id": "3671aadf",
   "metadata": {},
   "outputs": [],
   "source": [
    "same_v_perf = []\n",
    "new_v_perf = []\n",
    "for i, perf in enumerate(eval_stats['performance']):\n",
    "    if i%2 == 0:\n",
    "        same_v_perf.append(perf)\n",
    "    else:\n",
    "        new_v_perf.append(perf)"
   ]
  },
  {
   "cell_type": "code",
   "execution_count": null,
   "id": "8634c80e",
   "metadata": {},
   "outputs": [],
   "source": [
    "fig, ax = plt.subplots()\n",
    "plt.hist([same_v_perf, new_v_perf], rwidth=0.6, color=['green','orange'])\n",
    "plt.legend(['same version', 'new version'], fontsize=15)\n",
    "plt.ylabel('count', fontsize=15)\n",
    "plt.xticks(fontsize=12)\n",
    "plt.yticks(fontsize=12)\n",
    "ax.spines['top'].set_visible(False)\n",
    "ax.spines['right'].set_visible(False)\n",
    "plt.title('Performance on Omniglot (1 Alphabet)', fontsize=15)\n",
    "plt.show()"
   ]
  },
  {
   "cell_type": "code",
   "execution_count": null,
   "id": "86c73087",
   "metadata": {},
   "outputs": [],
   "source": []
  }
 ],
 "metadata": {
  "kernelspec": {
   "display_name": "Python 3 (ipykernel)",
   "language": "python",
   "name": "python3"
  },
  "language_info": {
   "codemirror_mode": {
    "name": "ipython",
    "version": 3
   },
   "file_extension": ".py",
   "mimetype": "text/x-python",
   "name": "python",
   "nbconvert_exporter": "python",
   "pygments_lexer": "ipython3",
   "version": "3.8.13"
  }
 },
 "nbformat": 4,
 "nbformat_minor": 5
}
