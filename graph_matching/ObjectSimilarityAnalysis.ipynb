{
 "cells": [
  {
   "cell_type": "markdown",
   "id": "34e30631",
   "metadata": {},
   "source": [
    "# Object Similarity Analysis"
   ]
  },
  {
   "cell_type": "code",
   "execution_count": null,
   "id": "05310b6d",
   "metadata": {},
   "outputs": [],
   "source": [
    "import os\n",
    "import numpy as np\n",
    "import matplotlib.pyplot as plt\n",
    "import pandas as pd\n",
    "import seaborn as sns\n",
    "import json\n",
    "from scipy.cluster.hierarchy import dendrogram, linkage\n",
    "\n",
    "from tbp.monty.frameworks.utils.logging_utils import load_stats, deserialize_json_chunks\n",
    "from tbp.monty.frameworks.utils.plot_utils import plot_graph"
   ]
  },
  {
   "cell_type": "code",
   "execution_count": null,
   "id": "10b8955a",
   "metadata": {},
   "outputs": [],
   "source": [
    "%matplotlib notebook"
   ]
  },
  {
   "cell_type": "code",
   "execution_count": null,
   "id": "3e95489a",
   "metadata": {},
   "outputs": [],
   "source": [
    "pretrain_path = os.path.expanduser(\"~/tbp/results/monty/pretrained_models/\")\n",
    "pretrained_dict = pretrain_path + \"pretrained_ycb/supervised_pre_training_all_objects/pretrained/\"\n",
    "log_path = os.path.expanduser(\"~/tbp/results/monty/projects/evidence_eval_runs/logs/\")\n",
    "exp_name = \"all_objects_1_rotation_elm/\"\n",
    "# exp_name = \"base_config_all_objects_1rot_elm/\"\n",
    "# log_path = os.path.expanduser(\"~/tbp/results/monty/projects/evidence_eval_runs/logs/\")\n",
    "# exp_name = \"sampling_learns5_infs6_all_objects_1rot_elm/\"\n",
    "exp_path = log_path + exp_name\n",
    "save_path = exp_path + '/figures/'\n",
    "figure_path = os.path.expanduser(\"~/tbp/results/monty/figures/\")\n",
    "# save_path = os.path.expanduser(\"~/tbp/results/monty/figures/evidenceLM/stepwise_examples/\"+exp_name)\n",
    "_, eval_stats, detailed_stats, models = load_stats(exp_path,\n",
    "                                                load_train=False,\n",
    "                                                load_eval=True,\n",
    "                                                load_detailed=True,\n",
    "                                                pretrained_dict=pretrained_dict,\n",
    "                                               )"
   ]
  },
  {
   "cell_type": "code",
   "execution_count": null,
   "id": "f43166c5",
   "metadata": {},
   "outputs": [],
   "source": [
    "eval_stats"
   ]
  },
  {
   "cell_type": "code",
   "execution_count": null,
   "id": "e9bb2789",
   "metadata": {},
   "outputs": [],
   "source": [
    "detailed_stats.keys()"
   ]
  },
  {
   "cell_type": "code",
   "execution_count": null,
   "id": "8e6a9e23",
   "metadata": {},
   "outputs": [],
   "source": [
    "print('STATS KEYS:')\n",
    "for key in detailed_stats['0']['LM_0'].keys():\n",
    "    print(key)"
   ]
  },
  {
   "cell_type": "code",
   "execution_count": null,
   "id": "5e49ffbf",
   "metadata": {},
   "outputs": [],
   "source": [
    "ycb_object_views = dict()\n",
    "plt.figure(figsize=(20,15))\n",
    "for episode in detailed_stats.keys():\n",
    "    obj_name = eval_stats['target_object'][int(episode)]\n",
    "    ycb_object_views[obj_name] = detailed_stats[episode]['SM_1']['rgba']\n",
    "    plt.subplot(8,10,int(episode)+1)\n",
    "    plt.imshow(detailed_stats[episode]['SM_1']['rgba'])\n",
    "    plt.title(obj_name)\n",
    "    plt.axis('off')\n",
    "# plt.show()\n",
    "plt.savefig(figure_path + 'ycb_objects.png')"
   ]
  },
  {
   "cell_type": "code",
   "execution_count": null,
   "id": "ccfd722d",
   "metadata": {},
   "outputs": [],
   "source": [
    "plt.figure(figsize=(7,7))\n",
    "for episode in list(detailed_stats.keys()):\n",
    "    obj_name = eval_stats['target_object'][int(episode)]\n",
    "    plt.imshow(detailed_stats[episode]['SM_1']['rgba'])\n",
    "    plt.title(obj_name,fontsize=40)\n",
    "    plt.axis('off')\n",
    "    plt.savefig(figure_path + f'objects/{obj_name}.png')"
   ]
  },
  {
   "cell_type": "code",
   "execution_count": null,
   "id": "cead1962",
   "metadata": {},
   "outputs": [],
   "source": [
    "all_objects = list(detailed_stats['0']['LM_0']['evidences_ls'].keys())\n",
    "num_obj = len(all_objects)\n",
    "rel_obj_evidence_matrix = np.zeros((num_obj, num_obj))\n",
    "for episode in list(detailed_stats.keys()):#[:-1]:\n",
    "#     target_object = eval_stats['target_object'][int(episode)]\n",
    "    detected_object = detailed_stats[str(episode)]['LM_0']['current_mlh'][-1]['graph_id']\n",
    "    detected_evidence = np.max(detailed_stats[str(episode)]['LM_0']['evidences_ls'][detected_object])\n",
    "    for object_id, object_name in enumerate(all_objects):\n",
    "        rel_obj_evidence_matrix[int(episode), object_id] = np.max(\n",
    "            detailed_stats[str(episode)]['LM_0']['evidences_ls'][object_name]) - detected_evidence\n"
   ]
  },
  {
   "cell_type": "code",
   "execution_count": null,
   "id": "b43c2852",
   "metadata": {},
   "outputs": [],
   "source": [
    "max_evs = [np.max(detailed_stats[str(39)]['LM_0']['evidences_ls'][key]) for key in all_objects]"
   ]
  },
  {
   "cell_type": "code",
   "execution_count": null,
   "id": "253f96e3",
   "metadata": {},
   "outputs": [],
   "source": [
    "plt.figure()\n",
    "plt.hist(max_evs, bins=1000)\n",
    "plt.show()"
   ]
  },
  {
   "cell_type": "code",
   "execution_count": null,
   "id": "b11283e2",
   "metadata": {},
   "outputs": [],
   "source": [
    "plt.figure()\n",
    "plt.hist(max_evs)\n",
    "plt.show()"
   ]
  },
  {
   "cell_type": "code",
   "execution_count": null,
   "id": "36e576fc",
   "metadata": {},
   "outputs": [],
   "source": [
    "sums = rel_obj_evidence_matrix.sum(axis=1,keepdims=1)\n",
    "sums[sums==0] = 1\n",
    "rel_obj_evidence_matrix_normed = rel_obj_evidence_matrix/sums"
   ]
  },
  {
   "cell_type": "code",
   "execution_count": null,
   "id": "79d87a21",
   "metadata": {},
   "outputs": [],
   "source": [
    "rel_obj_evidence_matrix_normed"
   ]
  },
  {
   "cell_type": "code",
   "execution_count": null,
   "id": "d9fb7b82",
   "metadata": {},
   "outputs": [],
   "source": [
    "rel_obj_evidence_df = pd.DataFrame(rel_obj_evidence_matrix_normed, columns=all_objects)"
   ]
  },
  {
   "cell_type": "code",
   "execution_count": null,
   "id": "fb2cb71e",
   "metadata": {},
   "outputs": [],
   "source": [
    "rel_obj_evidence_df"
   ]
  },
  {
   "cell_type": "code",
   "execution_count": null,
   "id": "e368fd70",
   "metadata": {
    "scrolled": false
   },
   "outputs": [],
   "source": [
    "f, ax = plt.subplots(figsize=(18, 15))\n",
    "# sns.heatmap(rel_obj_evidence_df, linewidths=.5, ax=ax,vmin=0,vmax=1,annot=False, linecolor='black', annot_kws={\"size\": 15})\n",
    "sns.heatmap(rel_obj_evidence_df,ax=ax)\n",
    "ax.set_xticks(np.linspace(0,76,77),all_objects)\n",
    "ax.set_yticks(np.linspace(0,76,77),all_objects)\n",
    "# ax.set_yticklabels(all_objects)\n",
    "# ax.set_xticklabels(all_objects)\n",
    "#plt.xticks(rotation=90)\n",
    "plt.yticks(rotation=0)\n",
    "\n",
    "cbar = ax.collections[0].colorbar\n",
    "cbar.ax.tick_params(labelsize=15)\n",
    "cbar.set_label('Evidence rel. Target (Normalized)', rotation=270,labelpad=20,fontsize=18)\n",
    "#plt.title(\"Correlation Between Fixations on Artsyles\",fontsize=20)\n",
    "plt.tight_layout()\n",
    "plt.show()"
   ]
  },
  {
   "cell_type": "code",
   "execution_count": null,
   "id": "b9525c4d",
   "metadata": {
    "scrolled": false
   },
   "outputs": [],
   "source": [
    "Z = linkage(rel_obj_evidence_matrix_normed, 'average')\n",
    "f, ax = plt.subplots(figsize=(9, 6))\n",
    "# plt.rcParams['lines.linewidth'] = 5\n",
    "\n",
    "dn = dendrogram(Z, labels=all_objects)#,orientation='top',leaf_font_size=15)\n",
    "# plt.xticks(rotation=30,fontsize=13)\n",
    "plt.ylabel('Cluster Distance', fontsize=15)\n",
    "sns.despine(left=False, bottom=False, right=True)\n",
    "plt.tight_layout()\n",
    "plt.show()"
   ]
  },
  {
   "cell_type": "markdown",
   "id": "779d4c7b",
   "metadata": {},
   "source": [
    "### Generalization to New Objects"
   ]
  },
  {
   "cell_type": "code",
   "execution_count": null,
   "id": "294d565f",
   "metadata": {},
   "outputs": [],
   "source": [
    "a_file = open(figure_path+\"ycb_object_views.json\", \"r\")\n",
    "ycb_object_views = json.load(a_file)\n",
    "print(ycb_object_views.keys())"
   ]
  },
  {
   "cell_type": "code",
   "execution_count": null,
   "id": "67405a0d",
   "metadata": {},
   "outputs": [],
   "source": [
    "exp_path = log_path + \"evidence_generalization_maxS100\"\n",
    "_, eval_stats, _, _ = load_stats(exp_path,\n",
    "                                        load_train=False,\n",
    "                                        load_eval=True,\n",
    "                                        load_detailed=False,\n",
    "                                       )"
   ]
  },
  {
   "cell_type": "code",
   "execution_count": null,
   "id": "61de64bf",
   "metadata": {
    "scrolled": true
   },
   "outputs": [],
   "source": [
    "for i, target_obj in enumerate(eval_stats['target_object']):\n",
    "    most_likely_obj = eval_stats['most_likely_object'][i]\n",
    "    plt.figure()\n",
    "    plt.subplot(1,2,1)\n",
    "    plt.imshow(ycb_object_views[target_obj])\n",
    "    plt.title(f'New Object:\\n{target_obj}')\n",
    "    plt.axis('off')\n",
    "    plt.subplot(1,2,2)\n",
    "    plt.imshow(ycb_object_views[most_likely_obj])\n",
    "    plt.title(f'Most Likely Object:\\n{most_likely_obj}')\n",
    "    plt.axis('off')\n",
    "#     plt.show()\n",
    "    plt.savefig(figure_path + 'new_objects/' + str(target_obj) + '.png', bbox_inches='tight')"
   ]
  },
  {
   "cell_type": "markdown",
   "id": "e3bff36d",
   "metadata": {},
   "source": [
    "## MISC Analysis"
   ]
  },
  {
   "cell_type": "code",
   "execution_count": null,
   "id": "7f26713a",
   "metadata": {},
   "outputs": [],
   "source": [
    "detailed_stats = deserialize_json_chunks(json_file=exp_path + 'detailed_run_stats.json', episodes=[0])"
   ]
  },
  {
   "cell_type": "code",
   "execution_count": null,
   "id": "9c824d0c",
   "metadata": {},
   "outputs": [],
   "source": [
    "max_evs = []\n",
    "all_objects = []\n",
    "plt.figure()\n",
    "for key in detailed_stats['0']['LM_0']['evidences_ls'].keys():\n",
    "    evs = detailed_stats['0']['LM_0']['evidences_ls'][key]\n",
    "    max_evs.append(np.max(evs))\n",
    "    all_objects.append(key)\n",
    "    plt.hist(evs)\n",
    "plt.show()"
   ]
  },
  {
   "cell_type": "code",
   "execution_count": null,
   "id": "fcedeb83",
   "metadata": {},
   "outputs": [],
   "source": [
    "print(f\"max: {np.max(np.array(max_evs))}\")\n",
    "print(f\"mean: {np.mean(np.array(max_evs))}\")\n",
    "print(f\"median: {np.median(np.array(max_evs))}\")\n",
    "print(f\"std: {np.std(np.array(max_evs))}\")"
   ]
  },
  {
   "cell_type": "code",
   "execution_count": null,
   "id": "41051567",
   "metadata": {},
   "outputs": [],
   "source": [
    "for stepstats in detailed_stats['0']['LM_0']['current_mlh']:\n",
    "    print(stepstats['graph_id'])"
   ]
  },
  {
   "cell_type": "code",
   "execution_count": null,
   "id": "69595da7",
   "metadata": {},
   "outputs": [],
   "source": [
    "plt.figure(figsize=(15,7))\n",
    "plt.scatter(np.linspace(0,76,77),max_evs)\n",
    "for i in range(77):\n",
    "    plt.text(i, max_evs[i], all_objects[i])\n",
    "plt.show()"
   ]
  },
  {
   "cell_type": "code",
   "execution_count": null,
   "id": "a2ebc0f3",
   "metadata": {},
   "outputs": [],
   "source": []
  }
 ],
 "metadata": {
  "kernelspec": {
   "display_name": "Python 3 (ipykernel)",
   "language": "python",
   "name": "python3"
  },
  "language_info": {
   "codemirror_mode": {
    "name": "ipython",
    "version": 3
   },
   "file_extension": ".py",
   "mimetype": "text/x-python",
   "name": "python",
   "nbconvert_exporter": "python",
   "pygments_lexer": "ipython3",
   "version": "3.8.13"
  }
 },
 "nbformat": 4,
 "nbformat_minor": 5
}
