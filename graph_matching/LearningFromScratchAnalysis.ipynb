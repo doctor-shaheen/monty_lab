{
 "cells": [
  {
   "cell_type": "markdown",
   "id": "71ef35ae",
   "metadata": {},
   "source": [
    "# Learning From Scratch Analysis"
   ]
  },
  {
   "cell_type": "code",
   "execution_count": null,
   "id": "6986bd36",
   "metadata": {},
   "outputs": [],
   "source": [
    "import os\n",
    "import numpy as np\n",
    "import pandas as pd\n",
    "import seaborn as sns\n",
    "import matplotlib.pyplot as plt\n",
    "\n",
    "from tbp.monty.frameworks.utils.logging_utils import (load_stats,\n",
    "                                                        check_rotation_accuracy,\n",
    "                                                        get_time_stats)\n",
    "from tbp.monty.frameworks.utils.plot_utils import (\n",
    "    plot_graph, \n",
    "    plot_feature_matching_animation,\n",
    "    show_one_step,\n",
    "    plot_rotation_stat_animation,\n",
    "    plot_detection_stat_animation)"
   ]
  },
  {
   "cell_type": "code",
   "execution_count": null,
   "id": "c2988aa6",
   "metadata": {},
   "outputs": [],
   "source": [
    "%matplotlib notebook"
   ]
  },
  {
   "cell_type": "code",
   "execution_count": null,
   "id": "5b5599a0",
   "metadata": {},
   "outputs": [],
   "source": [
    "# log_path = '../monty_runs/logs/'\n",
    "log_path = os.path.expanduser(\"~/tbp/results/monty/\")\n"
   ]
  },
  {
   "cell_type": "code",
   "execution_count": null,
   "id": "173c8fd7",
   "metadata": {},
   "outputs": [],
   "source": [
    "lfs_stats, _, detailed_stats, models = load_stats(log_path + 'feature_pred_test_from_scratch', load_eval=False,)"
   ]
  },
  {
   "cell_type": "code",
   "execution_count": null,
   "id": "5fdebb47",
   "metadata": {},
   "outputs": [],
   "source": [
    "lfs_stats"
   ]
  },
  {
   "cell_type": "code",
   "execution_count": null,
   "id": "698d5951",
   "metadata": {},
   "outputs": [],
   "source": [
    "plt.figure(figsize=(15,5))\n",
    "epochs = list(models.keys())\n",
    "max_models = len(models[epochs[-1]].keys())\n",
    "\n",
    "i = 1\n",
    "for epoch in epochs:\n",
    "    epoch_models = models[epoch].keys()\n",
    "    for model in epoch_models:\n",
    "        ax = plt.subplot(len(epochs), max_models,i,projection='3d')\n",
    "        graph = models[epoch][model]\n",
    "        model_pos = graph.pos\n",
    "#         feat_ids = graph.feature_mapping['gaussian_curvature_sc']\n",
    "        feat_ids = graph.feature_mapping['mean_curvature_sc']\n",
    "        colors = graph.x[:,feat_ids[0]:feat_ids[1]]\n",
    "        s = ax.scatter(\n",
    "            model_pos[:, 0],\n",
    "            model_pos[:, 1],\n",
    "            model_pos[:, 2],\n",
    "            s=5,\n",
    "            vmin=-16,\n",
    "            vmax=16,\n",
    "            cmap='seismic',\n",
    "            c=colors\n",
    "        )\n",
    "        ax.set_xticks([]), ax.set_yticks([]), ax.set_zticks([])\n",
    "#         ax.set_title(f'{object_name}')\n",
    "#         ax_range = 0.05\n",
    "#         ax.set_xlim(0-ax_range, 0+ax_range)\n",
    "#         ax.set_ylim(0-ax_range,0+ax_range)\n",
    "#         # ax.set_ylim(0-ax_range,0+ax_range)\n",
    "#         ax.set_zlim(0-ax_range, 0+ax_range)\n",
    "        plt.title(model)\n",
    "        i += 1\n",
    "    i += max_models-len(epoch_models)\n",
    "plt.show()\n"
   ]
  },
  {
   "cell_type": "code",
   "execution_count": null,
   "id": "41f163d8",
   "metadata": {},
   "outputs": [],
   "source": []
  }
 ],
 "metadata": {
  "kernelspec": {
   "display_name": "Python 3 (ipykernel)",
   "language": "python",
   "name": "python3"
  },
  "language_info": {
   "codemirror_mode": {
    "name": "ipython",
    "version": 3
   },
   "file_extension": ".py",
   "mimetype": "text/x-python",
   "name": "python",
   "nbconvert_exporter": "python",
   "pygments_lexer": "ipython3",
   "version": "3.8.13"
  }
 },
 "nbformat": 4,
 "nbformat_minor": 5
}
