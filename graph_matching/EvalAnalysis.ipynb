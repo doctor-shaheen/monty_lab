{
 "cells": [
  {
   "cell_type": "markdown",
   "id": "99f1ccb4",
   "metadata": {},
   "source": [
    "# Feature at Location Matching with Graphs\n",
    "Script to analyze runs from `feature_matching_evaluation.py` First, run all experiments in this file to generate the data analyzed here.\n",
    "\n",
    "Run `python ./projects/monty_runs/run.py -e supervised_pre_training_base supervised_pre_training_small_steps supervised_pre_training_on_mesh` to generate the pretrained models.\n",
    "\n",
    "Run `python ./projects/monty_runs/run.py -e full_rotation_eval partial_rotation_eval_base partial_rotation_eval_on_mesh unseen_rotations untested_rotations sampling_learns3_infs3 sampling_learns3_infs5 sampling_learns3_infs6 sampling_learns5_infs3 sampling_learns5_infs6 translation_left_right translation_up_down translation_closer translation_further_away max_match_dist01 max_match_dist001 no_hue unscaled_curvature principal_curvatures low_res_sensor_patch` to evaluate the detection performance under different conditions."
   ]
  },
  {
   "cell_type": "code",
   "execution_count": 1,
   "id": "00113a93",
   "metadata": {},
   "outputs": [],
   "source": [
    "import os\n",
    "import numpy as np\n",
    "import pandas as pd\n",
    "import seaborn as sns\n",
    "import matplotlib.pyplot as plt\n",
    "import json\n",
    "\n",
    "from tbp.monty.frameworks.utils.logging_utils import (load_stats,\n",
    "                                                        check_rotation_accuracy,\n",
    "                                                        get_time_stats,\n",
    "                                                        print_overall_stats,\n",
    "                                                        get_overall_pose_error)\n",
    "from tbp.monty.frameworks.utils.plot_utils import (\n",
    "    plot_graph, \n",
    "    plot_feature_matching_animation,\n",
    "    show_one_step,\n",
    "    plot_rotation_stat_animation,\n",
    "    plot_detection_stat_animation)\n",
    "from tbp.monty.frameworks.utils.logging_utils import deserialize_json_chunks"
   ]
  },
  {
   "cell_type": "code",
   "execution_count": 2,
   "id": "4fc4ec7a",
   "metadata": {},
   "outputs": [],
   "source": [
    "log_path = os.path.expanduser('~/tbp/results/monty/projects/feature_eval_runs/logs/')\n",
    "\n",
    "pretrained_path = os.path.expanduser(\"~/tbp/results/monty/pretrained_models/feature_eval_runs_xyz/\")\n",
    "\n",
    "pretrained_5S = pretrained_path + 'pretrained_ycb4_stepsize5/supervised_pre_training_base/pretrained/'\n",
    "pretrained_5S_77Obj = pretrained_path + 'pretrained_ycb78_stepsize5/supervised_pre_training_all_objects/pretrained/'\n",
    "pretrained_fc = pretrained_path + 'ycb_feature_change_S5_spiral/supervised_pre_training_feature_change_eval/pretrained/'\n",
    "pretrained_3S = pretrained_path + 'pretrained_ycb4_stepsize3/supervised_pre_training_small_steps/pretrained/'\n",
    "pretrained_rand_r_4 = pretrained_path + \"pretrained_ycb4_steps5_rand_rot/supervised_pre_training_random_rot/pretrained/\"\n",
    "pretrained_rand_r_77 = pretrained_path + \"pretrained_ycb77_steps5_rand_rot/supervised_pre_training_random_rot_all_obj/pretrained/\"\n",
    "pretrained_mesh = pretrained_path + 'pretrained_models_from_mesh/ycb4_3000p/'\n"
   ]
  },
  {
   "cell_type": "code",
   "execution_count": null,
   "id": "ad163469",
   "metadata": {},
   "outputs": [],
   "source": [
    "pretrained_3S_001mindist = pretrained_path + 'pretrained_ycb4_stepsize3_001mindist/supervised_pre_training_small_steps/pretrained/'"
   ]
  },
  {
   "cell_type": "code",
   "execution_count": null,
   "id": "2b9c73cd",
   "metadata": {},
   "outputs": [],
   "source": [
    "_,_,_,m = load_stats(log_path + 'full_rotation_eval', load_train=False,load_eval=False,load_models=True,\n",
    "                                                                load_detailed=False,\n",
    "                     pretrained_dict=pretrained_3S)"
   ]
  },
  {
   "cell_type": "code",
   "execution_count": null,
   "id": "e7b42c92",
   "metadata": {},
   "outputs": [],
   "source": [
    "num_points = 0\n",
    "num_obj = 0\n",
    "for obj in m['pretrained'][0].keys():\n",
    "    num_points = num_points + m['pretrained'][0][obj].x.shape[0]\n",
    "    num_obj += 1\n",
    "print(f\"{num_obj} objects with an average of {np.round(num_points/num_obj)} points each.\")"
   ]
  },
  {
   "cell_type": "markdown",
   "id": "10c78334",
   "metadata": {},
   "source": [
    "## Analyze Full Run in Detail"
   ]
  },
  {
   "cell_type": "code",
   "execution_count": null,
   "id": "66c6affc",
   "metadata": {},
   "outputs": [],
   "source": [
    "_, full_rotation_eval_stats, ds, m = load_stats(log_path + 'full_rotation_eval', load_train=False,\n",
    "                                                                pretrained_dict=pretrained_5S)"
   ]
  },
  {
   "cell_type": "code",
   "execution_count": 6,
   "id": "2e7aeb65",
   "metadata": {},
   "outputs": [],
   "source": [
    "# save_name = 'full_rotation_eval_nosem'\n",
    "save_name = 'full_rotation_eval_inf_pose_testing'\n",
    "SAVE_FIGS = True\n",
    "if SAVE_FIGS:\n",
    "    save_path = './figures/' + save_name\n",
    "    if not os.path.exists(save_path):\n",
    "        os.mkdir(save_path)"
   ]
  },
  {
   "cell_type": "markdown",
   "id": "049f23c8",
   "metadata": {},
   "source": [
    "### Overall Performance"
   ]
  },
  {
   "cell_type": "code",
   "execution_count": null,
   "id": "41f1555f",
   "metadata": {},
   "outputs": [],
   "source": [
    "stats_to_plot = full_rotation_eval_stats\n",
    "detailed_stats_to_plot = ds"
   ]
  },
  {
   "cell_type": "code",
   "execution_count": null,
   "id": "194fbf19",
   "metadata": {},
   "outputs": [],
   "source": [
    "print_overall_stats(stats_to_plot)\n",
    "pe = get_overall_pose_error(detailed_stats_to_plot)\n",
    "print(f\"poses error (radians): {pe}\")"
   ]
  },
  {
   "cell_type": "code",
   "execution_count": null,
   "id": "150b4026",
   "metadata": {},
   "outputs": [],
   "source": [
    "plt.figure(figsize=(10,7))\n",
    "sns.set(font_scale = 1.5)\n",
    "sns.histplot(data=stats_to_plot, x=\"performance\", hue='target_object', multiple=\"stack\", palette='pastel')\n",
    "# sns.histplot(data=stats_to_plot.sort_values(by=\"performance\"), x=\"performance\", hue='target_object', multiple=\"stack\")\n",
    "plt.savefig(\n",
    "    \"./figures/\"+save_name+\"/feature_pred_rotated.png\", bbox_inches=\"tight\", dpi=200\n",
    ") if SAVE_FIGS else plt.show()"
   ]
  },
  {
   "cell_type": "code",
   "execution_count": null,
   "id": "3571cd21",
   "metadata": {},
   "outputs": [],
   "source": [
    "stats_to_plot[stats_to_plot['performance']!='correct']"
   ]
  },
  {
   "cell_type": "code",
   "execution_count": null,
   "id": "dbf883c6",
   "metadata": {},
   "outputs": [],
   "source": [
    "plot_detection_stat_animation(detailed_stats_to_plot, 10)"
   ]
  },
  {
   "cell_type": "markdown",
   "id": "dcaf93ca",
   "metadata": {},
   "source": [
    "### Number of Steps until Recognition\n",
    "The time outs that are below max_steps (here 50) are because max steps counts all observations, also those that went off the object. Here we only show the number of matching steps which are only performed when we are on the object."
   ]
  },
  {
   "cell_type": "code",
   "execution_count": null,
   "id": "002af0d3",
   "metadata": {},
   "outputs": [],
   "source": [
    "plt.figure(figsize=(10,7))\n",
    "stats_to_plot.loc[stats_to_plot[\"performance\"]==\"patch_off_object\", \"Num Steps\"] = 1.0\n",
    "ax = sns.barplot(x='performance', y='num_steps', hue='target_object', data=stats_to_plot, palette='pastel')\n",
    "plt.xlabel('')\n",
    "plt.xticks(fontsize=15)\n",
    "plt.ylabel('Number of Saccades', fontsize=15)\n",
    "plt.yticks(fontsize=15)\n",
    "plt.savefig(\n",
    "    \"./figures/\"+save_name+\"/feature_obj_rotated.png\", bbox_inches=\"tight\", dpi=200\n",
    ") if SAVE_FIGS else plt.show()"
   ]
  },
  {
   "cell_type": "markdown",
   "id": "e20e18f3",
   "metadata": {},
   "source": [
    "### Performance for Different Rotations"
   ]
  },
  {
   "cell_type": "code",
   "execution_count": null,
   "id": "6819ff1c",
   "metadata": {},
   "outputs": [],
   "source": [
    "plt.figure(figsize=(10,7))\n",
    "sns.set(font_scale = 1.5)\n",
    "g = sns.histplot(data=stats_to_plot, x=\"performance\", hue=\"target_rotation_euler\", \n",
    "                 multiple=\"dodge\", shrink=.8, palette='twilight')\n",
    "plt.savefig(\n",
    "    \"./figures/\"+save_name+\"/feature_performance_rotated.png\", bbox_inches=\"tight\", dpi=200\n",
    ") if SAVE_FIGS else plt.show()"
   ]
  },
  {
   "cell_type": "markdown",
   "id": "06df1f45",
   "metadata": {},
   "source": [
    "### Runtime for each Step"
   ]
  },
  {
   "cell_type": "code",
   "execution_count": null,
   "id": "d81f5d1c",
   "metadata": {},
   "outputs": [],
   "source": [
    "plt.figure()\n",
    "for episode in detailed_stats_to_plot:\n",
    "    times = detailed_stats_to_plot[episode]['LM_0']['relative_time']\n",
    "    plt.plot(times)\n",
    "plt.xlabel(\"steps\")\n",
    "plt.ylabel(\"time (s)\")\n",
    "plt.savefig(\n",
    "    \"./figures/\"+save_name+\"/runtime.png\", bbox_inches=\"tight\", dpi=200\n",
    ") if SAVE_FIGS else plt.show()"
   ]
  },
  {
   "cell_type": "markdown",
   "id": "edd2d85b",
   "metadata": {},
   "source": [
    "### Accuracy of Rotation Estimation"
   ]
  },
  {
   "cell_type": "code",
   "execution_count": null,
   "id": "0f52a893",
   "metadata": {},
   "outputs": [],
   "source": [
    "rotation_stats = check_rotation_accuracy(detailed_stats_to_plot, last_n_step=1)\n",
    "\n",
    "plt.figure(figsize=(15,7))\n",
    "sns.set(font_scale = 1.5)\n",
    "sns.histplot(data=rotation_stats, x=\"performance\", hue='object', multiple=\"stack\", palette='pastel')\n",
    "# sns.histplot(data=stats_to_plot.sort_values(by=\"performance\"), x=\"performance\", hue='target_object', multiple=\"stack\")\n",
    "plt.savefig(\n",
    "    \"./figures/\"+save_name+\"/feature_rotation_perf.png\", bbox_inches=\"tight\", dpi=200\n",
    ") if SAVE_FIGS else plt.show()"
   ]
  },
  {
   "cell_type": "code",
   "execution_count": null,
   "id": "e98aedd8",
   "metadata": {},
   "outputs": [],
   "source": [
    "rotation_stats['detected_rotation'][23]"
   ]
  },
  {
   "cell_type": "markdown",
   "id": "b3b904ab",
   "metadata": {},
   "source": [
    "### Accuracy of Rotation Estimation for each Rotation"
   ]
  },
  {
   "cell_type": "code",
   "execution_count": null,
   "id": "cd830402",
   "metadata": {},
   "outputs": [],
   "source": [
    "plt.figure(figsize=(17,5))\n",
    "sns.set(font_scale = 1.5)\n",
    "g = sns.histplot(data=rotation_stats, x=\"performance\", hue=\"target_rotation\", \n",
    "                 multiple=\"dodge\", shrink=.8, palette='twilight')\n",
    "plt.savefig(\n",
    "    \"./figures/\"+save_name+\"/feature_rotation_perf_detailed.png\", bbox_inches=\"tight\", dpi=200\n",
    ") if SAVE_FIGS else plt.show()"
   ]
  },
  {
   "cell_type": "markdown",
   "id": "c2a80bb7",
   "metadata": {},
   "source": [
    "### Rotation Estimates over Time"
   ]
  },
  {
   "cell_type": "code",
   "execution_count": null,
   "id": "411c7c51",
   "metadata": {},
   "outputs": [],
   "source": [
    "plot_rotation_stat_animation(detailed_stats_to_plot, 10)"
   ]
  },
  {
   "cell_type": "markdown",
   "id": "c1237f80",
   "metadata": {},
   "source": [
    "## Parameter Comparisons"
   ]
  },
  {
   "cell_type": "code",
   "execution_count": 7,
   "id": "119bc2cc",
   "metadata": {},
   "outputs": [
    {
     "name": "stdout",
     "output_type": "stream",
     "text": [
      "...loading and checking eval statistics...\n"
     ]
    }
   ],
   "source": [
    "_, partial_rotation_eval_stats, base_detailed_stats, m = load_stats(log_path + 'partial_rotation_eval_base', load_train=False,\n",
    "                                                                load_detailed=True, load_models=True,pretrained_dict=pretrained_5S)\n",
    "sns.set(font_scale = 1.5)"
   ]
  },
  {
   "cell_type": "code",
   "execution_count": null,
   "id": "e8e5f236",
   "metadata": {},
   "outputs": [],
   "source": [
    "plot_feature_matching_animation(base_detailed_stats, \n",
    "                                m,  \n",
    "                                episode = 0, \n",
    "                                objects=['mug'],\n",
    "                                show_num_pos=None,\n",
    "                                show_path=True,\n",
    "                                ax_range=0.05)"
   ]
  },
  {
   "cell_type": "code",
   "execution_count": null,
   "id": "8e1c1bcd",
   "metadata": {},
   "outputs": [],
   "source": [
    "print_overall_stats(partial_rotation_eval_stats)\n",
    "pe = get_overall_pose_error(base_detailed_stats)\n",
    "print(f\"poses error (radins): {pe}\")"
   ]
  },
  {
   "cell_type": "code",
   "execution_count": null,
   "id": "38bbc3e7",
   "metadata": {},
   "outputs": [],
   "source": [
    "base_detailed_stats['0'].keys()"
   ]
  },
  {
   "cell_type": "code",
   "execution_count": null,
   "id": "ceaf40be",
   "metadata": {},
   "outputs": [],
   "source": [
    "_, rr_stats, _, rr_m = load_stats(log_path + 'random_same_rotations_all_obj', load_train=False,\n",
    "                                load_detailed=False, load_models=True,pretrained_dict=pretrained_rand_r_77)"
   ]
  },
  {
   "cell_type": "code",
   "execution_count": null,
   "id": "b1d7f2e5",
   "metadata": {},
   "outputs": [],
   "source": [
    "print_overall_stats(rr_stats)\n",
    "# pe = get_overall_pose_error(rrd_stats)\n",
    "# print(f\"poses error (radins): {pe}\")"
   ]
  },
  {
   "cell_type": "code",
   "execution_count": null,
   "id": "1e79faa4",
   "metadata": {},
   "outputs": [],
   "source": [
    "rr_stats[rr_stats['performance']!='correct']"
   ]
  },
  {
   "cell_type": "code",
   "execution_count": null,
   "id": "f6522ca8",
   "metadata": {},
   "outputs": [],
   "source": [
    "det_path = log_path + 'random_same_rotations_all_obj' + '/detailed_run_stats.json'\n",
    "# data = deserialize_json_chunks(json_file=det_path, start=0, stop=4)\n",
    "data = deserialize_json_chunks(json_file=det_path, episodes=[44])"
   ]
  },
  {
   "cell_type": "code",
   "execution_count": null,
   "id": "814001f3",
   "metadata": {},
   "outputs": [],
   "source": [
    "data['44'].keys()"
   ]
  },
  {
   "cell_type": "code",
   "execution_count": null,
   "id": "a77e2a14",
   "metadata": {},
   "outputs": [],
   "source": [
    "plot_feature_matching_animation(data, \n",
    "                                rr_m,  \n",
    "                                episode = 44, \n",
    "                                objects=['softball', 'lemon', 'pear', 'tennis_ball'],\n",
    "                                show_num_pos=None,\n",
    "                                show_path=True,\n",
    "                                ax_range=0.05)"
   ]
  },
  {
   "cell_type": "code",
   "execution_count": null,
   "id": "9fb4ab6f",
   "metadata": {},
   "outputs": [],
   "source": [
    "%matplotlib notebook"
   ]
  },
  {
   "cell_type": "code",
   "execution_count": null,
   "id": "bf479cd9",
   "metadata": {},
   "outputs": [],
   "source": [
    "plot_graph(rr_m['0']['bowl'])\n",
    "plt.show()"
   ]
  },
  {
   "cell_type": "code",
   "execution_count": null,
   "id": "1da00b5f",
   "metadata": {},
   "outputs": [],
   "source": [
    "_, rr_stats_4, _, rr_m_4 = load_stats(log_path + 'random_same_rotations', load_train=False,\n",
    "                                load_detailed=False, load_models=True,pretrained_dict=pretrained_rand_r_4)"
   ]
  },
  {
   "cell_type": "code",
   "execution_count": null,
   "id": "88ce076e",
   "metadata": {},
   "outputs": [],
   "source": [
    "print_overall_stats(rr_stats_4)"
   ]
  },
  {
   "cell_type": "code",
   "execution_count": null,
   "id": "053c95c8",
   "metadata": {},
   "outputs": [],
   "source": [
    "_, rrnew_stats_4, _, rr_m_4 = load_stats(log_path + 'random_new_rotations', load_train=False,\n",
    "                                load_detailed=False, load_models=True,pretrained_dict=pretrained_rand_r_4)"
   ]
  },
  {
   "cell_type": "code",
   "execution_count": null,
   "id": "2de36e8b",
   "metadata": {},
   "outputs": [],
   "source": [
    "print_overall_stats(rrnew_stats_4)"
   ]
  },
  {
   "cell_type": "markdown",
   "id": "3f1cade9",
   "metadata": {},
   "source": [
    "### Effect of Sampling (Tested by using different action amounts)"
   ]
  },
  {
   "cell_type": "code",
   "execution_count": null,
   "id": "fcf82ddf",
   "metadata": {},
   "outputs": [],
   "source": [
    "_, sampling_learnS3_infS3_stats, _, _ = load_stats(log_path + 'sampling_learnS3_infS3', load_train=False,\n",
    "                                                                load_detailed=False, load_models=False,)\n",
    "_, sampling_learnS3_infS5_stats, s_3_5_det, s_3_5_m = load_stats(log_path + 'sampling_learnS3_infS5', load_train=False,\n",
    "                                                                load_detailed=True, load_models=True,)\n",
    "_, sampling_learnS3_infS5_all_rot_stats, s_3_5_ar_det, _ = load_stats(log_path + 'sampling_learnS3_infS5_all_rot', load_train=False,\n",
    "                                                                load_detailed=True, load_models=False,)\n",
    "_, sampling_learnS3_infS6_stats, _, _ = load_stats(log_path + 'sampling_learnS3_infS6', load_train=False,\n",
    "                                                                load_detailed=False, load_models=False,)\n",
    "_, sampling_learnS5_infS3_stats, _, _ = load_stats(log_path + 'sampling_learnS5_infS3', load_train=False,\n",
    "                                                                load_detailed=False, load_models=False,)\n",
    "_, sampling_learnS5_infS6_stats, _, _ = load_stats(log_path + 'sampling_learnS5_infS6', load_train=False,\n",
    "                                                                load_detailed=False, load_models=False,)\n"
   ]
  },
  {
   "cell_type": "code",
   "execution_count": null,
   "id": "9c2ba0d7",
   "metadata": {},
   "outputs": [],
   "source": [
    "_, sampling_learnS3_infS5_stats, s_3_5_det, s_3_5_m = load_stats(log_path + 'sampling_learnS3_infS5', load_train=False,\n",
    "                                                                load_detailed=True, load_models=True,)"
   ]
  },
  {
   "cell_type": "code",
   "execution_count": null,
   "id": "a3cc7838",
   "metadata": {},
   "outputs": [],
   "source": [
    "_, sampling_learnfc3_infs5_stats, s_fc3_5_det, s_fc3_5_m = load_stats(log_path + 'sampling_learnfc3_infs5', load_train=False,\n",
    "                                                                load_detailed=True, load_models=True,)\n"
   ]
  },
  {
   "cell_type": "code",
   "execution_count": null,
   "id": "09256761",
   "metadata": {},
   "outputs": [],
   "source": [
    "%matplotlib notebook"
   ]
  },
  {
   "cell_type": "code",
   "execution_count": null,
   "id": "5e9eccb8",
   "metadata": {},
   "outputs": [],
   "source": [
    "plot_graph(s_fc3_5_m['0']['mug'])\n",
    "plt.show()"
   ]
  },
  {
   "cell_type": "code",
   "execution_count": null,
   "id": "1e08a5c1",
   "metadata": {},
   "outputs": [],
   "source": [
    "s_fc3_5_m['0']['mug']"
   ]
  },
  {
   "cell_type": "code",
   "execution_count": null,
   "id": "ccc85ce0",
   "metadata": {},
   "outputs": [],
   "source": [
    "print_overall_stats(sampling_learnS3_infS5_stats)\n",
    "print(f\"poses error (radians): {get_overall_pose_error(s_3_5_det)}\")"
   ]
  },
  {
   "cell_type": "code",
   "execution_count": null,
   "id": "714d911a",
   "metadata": {},
   "outputs": [],
   "source": [
    "print_overall_stats(sampling_learnfc3_infs5_stats)\n",
    "print(f\"poses error (radians): {get_overall_pose_error(s_fc3_5_det)}\")"
   ]
  },
  {
   "cell_type": "code",
   "execution_count": null,
   "id": "5ae1f3b9",
   "metadata": {},
   "outputs": [],
   "source": [
    "_, sampling_learnS3_infS5_all_rot_stats, s_3_5_ar_det, _ = load_stats(log_path + 'sampling_learnS3_infS5_all_rot', load_train=False,\n",
    "                                                                load_detailed=True, load_models=False,)"
   ]
  },
  {
   "cell_type": "code",
   "execution_count": null,
   "id": "d702e5e8",
   "metadata": {},
   "outputs": [],
   "source": [
    "print_overall_stats(sampling_learnS3_infS5_all_rot_stats)\n",
    "print(f\"poses error (radians): {get_overall_pose_error(s_3_5_ar_det)}\")"
   ]
  },
  {
   "cell_type": "code",
   "execution_count": null,
   "id": "7e327b18",
   "metadata": {},
   "outputs": [],
   "source": [
    "# _, sampling_3_5_no_pose_stats, _, _ = load_stats(log_path + 'sampling_3_5_no_pose', load_train=False,\n",
    "#                                                                 load_detailed=False, load_models=False,)\n",
    "# _, sampling_3_5_no_pose_all_rot_stats, _, _ = load_stats(log_path + 'sampling_3_5_no_pose_all_rot', load_train=False,\n",
    "#                                                                 load_detailed=False, load_models=False,)\n",
    "_, sampling_3_5_no_curv_dir_stats, s_3_5_nocurv_det, _ = load_stats(log_path + 'sampling_3_5_no_curv_dir', load_train=False,\n",
    "                                                                load_detailed=True, load_models=False,)"
   ]
  },
  {
   "cell_type": "code",
   "execution_count": null,
   "id": "1e0552d4",
   "metadata": {},
   "outputs": [],
   "source": [
    "print_overall_stats(sampling_3_5_no_pose_stats)\n",
    "# print(f\"poses error (radians): {get_overall_pose_error(s_3_5_nopose_det)}\")\n",
    "print_overall_stats(sampling_3_5_no_pose_all_rot_stats)\n",
    "# print(f\"poses error (radians): {get_overall_pose_error(s_3_5_ar_nopose_det)}\")\n",
    "print_overall_stats(sampling_3_5_no_curv_dir_stats)\n",
    "print(f\"poses error (radians): {get_overall_pose_error(s_3_5_nocurv_det)}\")"
   ]
  },
  {
   "cell_type": "code",
   "execution_count": null,
   "id": "9ff76597",
   "metadata": {},
   "outputs": [],
   "source": [
    "sampling_dfs = [partial_rotation_eval_stats,\n",
    "                sampling_learnS3_infS3_stats,\n",
    "               sampling_learnS3_infS5_stats,\n",
    "               sampling_learnS3_infS6_stats,\n",
    "               sampling_learnS5_infS3_stats,\n",
    "               sampling_learnS5_infS6_stats,]\n",
    "sampling_results = pd.concat(sampling_dfs, keys=['5:5', '3:3', '3:5', '3:6', '5:3', '5:6'])\n",
    "sampling_results.index.names = ['experiment', 'index']"
   ]
  },
  {
   "cell_type": "code",
   "execution_count": null,
   "id": "ea72413b",
   "metadata": {},
   "outputs": [],
   "source": [
    "plt.figure(figsize=(10,7))\n",
    "g = sns.histplot(data=sampling_results, x=\"performance\", hue=\"experiment\", \n",
    "                 multiple=\"dodge\", shrink=.8, stat='percent', common_norm=False,\n",
    "                palette=['royalblue','springgreen','darkgreen','limegreen','teal','mediumturquoise'])\n",
    "legend = g.get_legend()\n",
    "legend.set_title('   Action Amount\\nTraining:Inference')\n",
    "plt.ylim([0,100])\n",
    "plt.savefig(\n",
    "    \"./figures/\"+save_name+\"/sampling_effect.png\", bbox_inches=\"tight\", dpi=200\n",
    ") if SAVE_FIGS else plt.show()"
   ]
  },
  {
   "cell_type": "markdown",
   "id": "f5e9245d",
   "metadata": {},
   "source": [
    "#### Different Parameters"
   ]
  },
  {
   "cell_type": "code",
   "execution_count": null,
   "id": "16e2bc4e",
   "metadata": {},
   "outputs": [],
   "source": [
    "# _, sampling_learnS5_infS6_param_tests_stats_tol4, dp, _ = load_stats(log_path + 'sampling_learnS5_infS6_param_tests', load_train=False,\n",
    "#                                                                 load_detailed=True, load_models=False,)\n"
   ]
  },
  {
   "cell_type": "code",
   "execution_count": null,
   "id": "d2100be0",
   "metadata": {},
   "outputs": [],
   "source": [
    "# sampling_param_dfs = [sampling_learnS5_infS6_stats,\n",
    "#                 sampling_learnS5_infS6_param_tests_stats,\n",
    "#                      sampling_learnS5_infS6_param_tests_stats_md,# still no hue\n",
    "#                      sampling_learnS5_infS6_param_tests_stats_nogc,# stiil no hue but md back at 005\n",
    "#                       sampling_learnS5_infS6_param_tests_stats_pn5, #like previous but pn tol = 0.5\n",
    "#                       sampling_learnS5_infS6_param_tests_stats_tol4,# like previous but mc tol = 4\n",
    "#                      ]\n",
    "# sampling_param_results = pd.concat(sampling_param_dfs, \n",
    "#                                    keys=['5:6 default', 'no hue', 'md 0.01', 'no hue and gc', \n",
    "#                                          'pn angle<0.5', 'mc tolerance=4'])\n",
    "# sampling_param_results.index.names = ['experiment', 'index']"
   ]
  },
  {
   "cell_type": "code",
   "execution_count": null,
   "id": "32726c66",
   "metadata": {
    "scrolled": false
   },
   "outputs": [],
   "source": [
    "# plt.figure(figsize=(10,7))\n",
    "# g = sns.histplot(data=sampling_param_results, x=\"performance\", hue=\"experiment\", \n",
    "#                  multiple=\"dodge\", shrink=.8, stat='percent', common_norm=False,\n",
    "#                 palette=['mediumturquoise', 'darkcyan', 'blue', 'darkblue','dodgerblue', 'cornflowerblue'])\n",
    "# legend = g.get_legend()\n",
    "# legend.set_title('   Action Amount\\nTraining:Inference')\n",
    "# plt.savefig(\n",
    "#     \"./figures/\"+save_name+\"/sampling_effect_no_hue_no_gc_pn05_tol4.png\", bbox_inches=\"tight\", dpi=200\n",
    "# ) if SAVE_FIGS else plt.show()"
   ]
  },
  {
   "cell_type": "code",
   "execution_count": null,
   "id": "a64149ce",
   "metadata": {},
   "outputs": [],
   "source": [
    "# The above stats are not in experiment configs, load this file instead to plot\n",
    "\n",
    "# sampling_param_results.to_csv('sampling56_param_result.csv')"
   ]
  },
  {
   "cell_type": "code",
   "execution_count": null,
   "id": "bbe788b7",
   "metadata": {},
   "outputs": [],
   "source": [
    "# plot_detection_stat_animation(dp, 10)"
   ]
  },
  {
   "cell_type": "markdown",
   "id": "91d29f72",
   "metadata": {},
   "source": [
    "#### Sampling with Feature Change Models"
   ]
  },
  {
   "cell_type": "code",
   "execution_count": null,
   "id": "835773ac",
   "metadata": {},
   "outputs": [],
   "source": [
    "_, sampling_learnfc_inffc_stats, _, _ = load_stats(log_path + 'sampling_learnfc_inffc', load_train=False,\n",
    "                                                                load_detailed=False, load_models=False,)\n",
    "_, sampling_learnfc_infs3_stats, _, _ = load_stats(log_path + 'sampling_learnfc_infs3', load_train=False,\n",
    "                                                                load_detailed=False, load_models=False,)\n",
    "_, sampling_learnfc_infs5_stats, _, _ = load_stats(log_path + 'sampling_learnfc_infs5', load_train=False,\n",
    "                                                                load_detailed=False, load_models=False,)\n",
    "_, sampling_learnfc3_infs5_stats, _, _ = load_stats(log_path + 'sampling_learnfc3_infs5', load_train=False,\n",
    "                                                                load_detailed=False, load_models=False,)\n",
    "_, sampling_learnfc_infs6_stats, _, _ = load_stats(log_path + 'sampling_learnfc_infs6', load_train=False,\n",
    "                                                                load_detailed=False, load_models=False,)\n",
    "_, sampling_learns5_inffc_stats, _, _ = load_stats(log_path + 'sampling_learns5_inffc', load_train=False,\n",
    "                                                                load_detailed=False, load_models=False,)\n"
   ]
  },
  {
   "cell_type": "code",
   "execution_count": null,
   "id": "cd73172d",
   "metadata": {},
   "outputs": [],
   "source": [
    "sampling_fc_dfs = [sampling_learnfc_inffc_stats,\n",
    "                sampling_learnfc_infs3_stats,\n",
    "               sampling_learnfc_infs5_stats,\n",
    "                sampling_learnfc3_infs5_stats,\n",
    "               sampling_learnfc_infs6_stats,\n",
    "               sampling_learns5_inffc_stats,]\n",
    "sampling_fc_dfs = pd.concat(sampling_fc_dfs, keys=['fc5:fc5', 'fc5:3', 'fc5:5','fc3:5', 'fc5:6', '5:fc5'])\n",
    "sampling_fc_dfs.index.names = ['experiment', 'index']"
   ]
  },
  {
   "cell_type": "code",
   "execution_count": null,
   "id": "9d703d59",
   "metadata": {},
   "outputs": [],
   "source": [
    "plt.figure(figsize=(10,7))\n",
    "g = sns.histplot(data=sampling_fc_dfs, x=\"performance\", hue=\"experiment\", \n",
    "                 multiple=\"dodge\", shrink=.8, stat='percent', common_norm=False,\n",
    "                palette=['royalblue','teal','darkblue','lightgreen','mediumturquoise','lightblue'])\n",
    "legend = g.get_legend()\n",
    "legend.set_title('   Action Amount\\nTraining:Inference')\n",
    "plt.ylim([0,100])\n",
    "plt.savefig(\n",
    "    \"./figures/\"+save_name+\"/sampling_fc_effect.png\", bbox_inches=\"tight\", dpi=200\n",
    ") if SAVE_FIGS else plt.show()"
   ]
  },
  {
   "cell_type": "code",
   "execution_count": null,
   "id": "a19dfdf1",
   "metadata": {},
   "outputs": [],
   "source": [
    "_, alternative_tolerances_stats, _, _ = load_stats(log_path + 'alternative_tolerances_default_setup', load_train=False,\n",
    "                                                                load_detailed=False, load_models=False,)"
   ]
  },
  {
   "cell_type": "code",
   "execution_count": null,
   "id": "3039465f",
   "metadata": {},
   "outputs": [],
   "source": [
    "policy_fc_dfs = [alternative_tolerances_stats,\n",
    "               sampling_learns5_inffc_stats,\n",
    "                sampling_learnfc_inffc_stats,]\n",
    "policy_fc_dfs = pd.concat(policy_fc_dfs, keys=['5:5','5:fc','fc:fc'])\n",
    "policy_fc_dfs.index.names = ['experiment', 'index']\n",
    "policy_fc_dfs.reset_index(inplace=True)"
   ]
  },
  {
   "cell_type": "code",
   "execution_count": null,
   "id": "fa301f2f",
   "metadata": {},
   "outputs": [],
   "source": [
    "plt.figure(figsize=(10,7))\n",
    "g = sns.barplot(x='performance', y='num_steps', hue='experiment', \n",
    "                 data=policy_fc_dfs, palette=['royalblue','darkblue','purple'])\n",
    "legend = g.get_legend()\n",
    "legend.set_title('Policy')\n",
    "# legend.remove()\n",
    "plt.savefig(\n",
    "    \"./figures/\"+save_name+\"/policy_num_steps.png\", bbox_inches=\"tight\", dpi=200\n",
    ") if SAVE_FIGS else plt.show()"
   ]
  },
  {
   "cell_type": "markdown",
   "id": "ac575bf1",
   "metadata": {},
   "source": [
    "### Effect of Object Translation in Space"
   ]
  },
  {
   "cell_type": "code",
   "execution_count": null,
   "id": "a5ce07a6",
   "metadata": {},
   "outputs": [],
   "source": [
    "_, translation_left_right_stats, _, _ = load_stats(log_path + 'translation_left_right', load_train=False,\n",
    "                                                                load_detailed=False, load_models=False,)\n",
    "_, translation_up_down_stats, _, _ = load_stats(log_path + 'translation_up_down', load_train=False,\n",
    "                                                                load_detailed=False, load_models=False,)\n",
    "_, translation_closer_stats, _, _ = load_stats(log_path + 'translation_closer', load_train=False,\n",
    "                                                                load_detailed=False, load_models=False,)\n",
    "_, translation_further_away_stats, _, _ = load_stats(log_path + 'translation_further_away', load_train=False,\n",
    "                                                                load_detailed=False, load_models=False,)"
   ]
  },
  {
   "cell_type": "code",
   "execution_count": null,
   "id": "fa6d3b89",
   "metadata": {},
   "outputs": [],
   "source": [
    "translation_dfs = [partial_rotation_eval_stats,\n",
    "                   translation_left_right_stats, \n",
    "                   translation_up_down_stats, \n",
    "                   translation_closer_stats, \n",
    "                   translation_further_away_stats]\n",
    "translation_results = pd.concat(translation_dfs, \n",
    "                                keys=['no translation', 'left-right', 'up-down', 'closer','further away'])\n",
    "translation_results.index.names = ['experiment', 'index']\n",
    "# translation_results.reset_index(inplace=True)"
   ]
  },
  {
   "cell_type": "code",
   "execution_count": null,
   "id": "e2a14638",
   "metadata": {},
   "outputs": [],
   "source": [
    "plt.figure(figsize=(10,7))\n",
    "g = sns.histplot(data=translation_results, x=\"performance\", hue=\"experiment\", \n",
    "                 multiple=\"dodge\", shrink=.8, stat='percent', common_norm=False,\n",
    "                palette=['royalblue','mediumpurple','violet','darkblue','lightblue'])\n",
    "legend = g.get_legend()\n",
    "legend.set_title('Object Position')\n",
    "plt.savefig(\n",
    "    \"./figures/\"+save_name+\"/object_position.png\", bbox_inches=\"tight\", dpi=200\n",
    ") if SAVE_FIGS else plt.show()"
   ]
  },
  {
   "cell_type": "code",
   "execution_count": null,
   "id": "6c0f4eba",
   "metadata": {
    "scrolled": false
   },
   "outputs": [],
   "source": [
    "plt.figure(figsize=(10,7))\n",
    "g = sns.histplot(data=translation_left_right_stats, x=\"performance\", hue=\"target_position\", \n",
    "                 multiple=\"dodge\", shrink=.8, stat='percent', common_norm=False,\n",
    "                palette=['indigo','rebeccapurple','mediumpurple','rebeccapurple','indigo'])\n",
    "legend = g.get_legend()\n",
    "legend.set_title('Translation left-right')\n",
    "plt.savefig(\n",
    "    \"./figures/\"+save_name+\"/object_position_left_right.png\", bbox_inches=\"tight\", dpi=200\n",
    ") if SAVE_FIGS else plt.show()"
   ]
  },
  {
   "cell_type": "code",
   "execution_count": null,
   "id": "a693a7ff",
   "metadata": {
    "scrolled": false
   },
   "outputs": [],
   "source": [
    "plt.figure(figsize=(10,7))\n",
    "g = sns.histplot(data=translation_up_down_stats, x=\"performance\", hue=\"target_position\", \n",
    "                 multiple=\"dodge\", shrink=.8, stat='percent', common_norm=False,\n",
    "                palette=['thistle','plum','violet','plum','thistle'])\n",
    "legend = g.get_legend()\n",
    "legend.set_title('Translation up-down')\n",
    "plt.savefig(\n",
    "    \"./figures/\"+save_name+\"/object_position_up_down.png\", bbox_inches=\"tight\", dpi=200\n",
    ") if SAVE_FIGS else plt.show()"
   ]
  },
  {
   "cell_type": "markdown",
   "id": "6084ac6c",
   "metadata": {},
   "source": [
    "### Effect of using Informed Poses"
   ]
  },
  {
   "cell_type": "code",
   "execution_count": null,
   "id": "6482d9f1",
   "metadata": {},
   "outputs": [],
   "source": [
    "_, non_informed_stats, detailed_stats_uniform, _ = load_stats(log_path + 'uniform_tested_rotations', load_train=False,\n",
    "                                                                load_detailed=True, load_models=False,)\n"
   ]
  },
  {
   "cell_type": "code",
   "execution_count": null,
   "id": "8aa2cb7c",
   "metadata": {},
   "outputs": [],
   "source": [
    "informed_pose_dfs = [partial_rotation_eval_stats,\n",
    "               non_informed_stats,]\n",
    "informed_pose_results = pd.concat(informed_pose_dfs, keys=['informed', 'uniform'])\n",
    "informed_pose_results.index.names = ['experiment', 'index']\n",
    "informed_pose_results.reset_index(inplace=True)"
   ]
  },
  {
   "cell_type": "code",
   "execution_count": null,
   "id": "d1152c91",
   "metadata": {},
   "outputs": [],
   "source": [
    "plt.figure(figsize=(10,7))\n",
    "g = sns.barplot(x='performance', y='num_steps', hue='experiment', \n",
    "                 data=informed_pose_results, palette=['royalblue','green'])\n",
    "legend = g.get_legend()\n",
    "legend.set_title('Tested Poses')\n",
    "plt.savefig(\n",
    "    \"./figures/\"+save_name+\"/informed_pose_testing.png\", bbox_inches=\"tight\", dpi=200\n",
    ") if SAVE_FIGS else plt.show()"
   ]
  },
  {
   "cell_type": "code",
   "execution_count": null,
   "id": "96d04d03",
   "metadata": {},
   "outputs": [],
   "source": [
    "all_ds = [detailed_stats_uniform, base_detailed_stats]\n",
    "all_conditions = ['uniform', 'informed']\n",
    "time_stats = get_time_stats(all_ds, all_conditions)\n",
    "\n",
    "sns.set(font_scale = 1.5)\n",
    "plt.figure(figsize=(10,5))\n",
    "g = sns.lineplot(data=time_stats, x=\"step\", y=\"time\", hue=\"model_type\",\n",
    "                palette=['royalblue','green'])\n",
    "legend = g.get_legend()\n",
    "legend.set_title('Tested Poses')\n",
    "plt.ylabel(\"time (s)\")\n",
    "plt.xlim([0,10])\n",
    "plt.savefig(\n",
    "    \"./figures/\"+save_name+\"/informed_pose_testing_run_time.png\", bbox_inches=\"tight\", dpi=200\n",
    ") if SAVE_FIGS else plt.show()"
   ]
  },
  {
   "cell_type": "markdown",
   "id": "c72397f3",
   "metadata": {},
   "source": [
    "### Effect of Untested Rotations"
   ]
  },
  {
   "cell_type": "code",
   "execution_count": null,
   "id": "0052362b",
   "metadata": {},
   "outputs": [],
   "source": [
    "_, unseen_rotations_stats, detailed_stats_unseen_rot, _ = load_stats(log_path + 'unseen_rotations', load_train=False,\n",
    "                                                                load_detailed=True, load_models=False,)\n",
    "_, untested_rotations_stats, _, _ = load_stats(log_path + 'untested_rotations', load_train=False,\n",
    "                                                                load_detailed=False, load_models=False,)\n"
   ]
  },
  {
   "cell_type": "code",
   "execution_count": null,
   "id": "00ff84a3",
   "metadata": {},
   "outputs": [],
   "source": [
    "untested_rotations_results = pd.concat([partial_rotation_eval_stats, \n",
    "                                        unseen_rotations_stats,\n",
    "                                        untested_rotations_stats], \n",
    "                                   keys=['yes', 'yes but previously unseen', 'no (shifted by 10)'])\n",
    "untested_rotations_results.index.names = ['experiment', 'index']"
   ]
  },
  {
   "cell_type": "code",
   "execution_count": null,
   "id": "09c13a40",
   "metadata": {},
   "outputs": [],
   "source": [
    "plt.figure(figsize=(10,7))\n",
    "g = sns.histplot(data=untested_rotations_results, x=\"performance\", hue=\"experiment\", \n",
    "                 multiple=\"dodge\", shrink=.8, stat='percent', common_norm=False,\n",
    "                palette=['royalblue','chocolate','brown'])\n",
    "legend = g.get_legend()\n",
    "legend.set_title('Tested rotation in possible poses')\n",
    "plt.savefig(\n",
    "    \"./figures/\"+save_name+\"/untested_rotation.png\", bbox_inches=\"tight\", dpi=200\n",
    ") if SAVE_FIGS else plt.show()"
   ]
  },
  {
   "cell_type": "code",
   "execution_count": null,
   "id": "c2647f4a",
   "metadata": {},
   "outputs": [],
   "source": [
    "rotation_stats = check_rotation_accuracy(detailed_stats_unseen_rot, last_n_step=1)\n",
    "\n",
    "plt.figure(figsize=(10,7))\n",
    "sns.set(font_scale = 1.5)\n",
    "g = sns.histplot(data=rotation_stats, x=\"performance\", hue='target_rotation', multiple=\"stack\", \n",
    "             palette='twilight')\n",
    "plt.title('Rotation Performance for Previously Unseen Rotations')\n",
    "legend = g.get_legend()\n",
    "legend.set_title('Target Rotation')\n",
    "plt.savefig(\n",
    "    \"./figures/\"+save_name+\"/feature_rotation_perf_unseen_rot.png\", bbox_inches=\"tight\", dpi=200\n",
    ") if SAVE_FIGS else plt.show()"
   ]
  },
  {
   "cell_type": "markdown",
   "id": "6dcf3050",
   "metadata": {},
   "source": [
    "## Effect of Different Object Scales\n",
    "This should not work yet"
   ]
  },
  {
   "cell_type": "code",
   "execution_count": null,
   "id": "18e352bf",
   "metadata": {},
   "outputs": [],
   "source": [
    "_, different_scales_stats, _, _ = load_stats(log_path + 'different_scales', load_train=False,\n",
    "                                                                load_detailed=False, load_models=False,)\n"
   ]
  },
  {
   "cell_type": "code",
   "execution_count": null,
   "id": "34dad3f4",
   "metadata": {},
   "outputs": [],
   "source": [
    "plt.figure(figsize=(10,7))\n",
    "g = sns.histplot(data=different_scales_stats, x=\"performance\", hue=\"target_scale\", \n",
    "                 multiple=\"dodge\", shrink=.8, stat='percent', common_norm=False,\n",
    "                palette=['lightsteelblue','royalblue','mediumblue','navy'])\n",
    "legend = g.get_legend()\n",
    "legend.set_title('Object Scale')\n",
    "plt.savefig(\n",
    "    \"./figures/\"+save_name+\"/object_scale.png\", bbox_inches=\"tight\", dpi=200\n",
    ") if SAVE_FIGS else plt.show()"
   ]
  },
  {
   "cell_type": "code",
   "execution_count": null,
   "id": "29f1efa9",
   "metadata": {},
   "outputs": [],
   "source": [
    "scale2stats = different_scales_stats[different_scales_stats['target_scale']==2]\n",
    "plt.figure(figsize=(10,7))\n",
    "sns.set(font_scale = 1.5)\n",
    "g = sns.histplot(data=scale2stats, x=\"performance\", hue='detected_rotation', multiple=\"stack\", \n",
    "             palette='twilight')\n",
    "plt.title('Rotation Performance for Different Scales\\nTarget Rotation = [0, 0, 0]')\n",
    "legend = g.get_legend()\n",
    "legend.set_title('Detected Rotation')\n",
    "plt.savefig(\n",
    "    \"./figures/\"+save_name+\"/scale2_rotation_acc.png\", bbox_inches=\"tight\", dpi=200\n",
    ") if SAVE_FIGS else plt.show()"
   ]
  },
  {
   "cell_type": "markdown",
   "id": "70820ae2",
   "metadata": {},
   "source": [
    "### Effect of Match Distance Parameter"
   ]
  },
  {
   "cell_type": "code",
   "execution_count": null,
   "id": "9574ae9a",
   "metadata": {},
   "outputs": [],
   "source": [
    "_, max_match_dist01_stats, _, _ = load_stats(log_path + 'max_match_dist01', load_train=False,\n",
    "                                                                load_detailed=False, load_models=False,)\n",
    "_, max_match_dist001_stats, _, _ = load_stats(log_path + 'max_match_dist001', load_train=False,\n",
    "                                                                load_detailed=False, load_models=False,)\n"
   ]
  },
  {
   "cell_type": "code",
   "execution_count": null,
   "id": "87887f88",
   "metadata": {},
   "outputs": [],
   "source": [
    "match_dist_dfs = [max_match_dist001_stats,\n",
    "                partial_rotation_eval_stats,\n",
    "               max_match_dist01_stats,]\n",
    "match_dist_results = pd.concat(match_dist_dfs, keys=['0.001', '0.005', '0.01'])\n",
    "match_dist_results.index.names = ['experiment', 'index']\n",
    "match_dist_results.reset_index(inplace=True)"
   ]
  },
  {
   "cell_type": "code",
   "execution_count": null,
   "id": "5f0bf3fa",
   "metadata": {},
   "outputs": [],
   "source": [
    "plt.figure(figsize=(10,7))\n",
    "sns.set(font_scale = 1.5)\n",
    "g = sns.histplot(data=match_dist_results, x=\"performance\", hue=\"experiment\", \n",
    "                 multiple=\"dodge\", shrink=.8, stat='percent', common_norm=False,\n",
    "                palette=['steelblue','royalblue','lightsteelblue'])\n",
    "legend = g.get_legend()\n",
    "legend.set_title('max_match_distance')\n",
    "plt.savefig(\n",
    "    \"./figures/\"+save_name+\"/max_match_distance.png\", bbox_inches=\"tight\", dpi=200\n",
    ") if SAVE_FIGS else plt.show()"
   ]
  },
  {
   "cell_type": "code",
   "execution_count": null,
   "id": "19e3f5ac",
   "metadata": {},
   "outputs": [],
   "source": [
    "plt.figure(figsize=(10,7))\n",
    "g = sns.barplot(x='performance', y='num_steps', hue='experiment', \n",
    "                 data=match_dist_results, palette=['steelblue','royalblue','lightsteelblue'])\n",
    "legend = g.get_legend()\n",
    "legend.set_title('max_match_distance')\n",
    "plt.savefig(\n",
    "    \"./figures/\"+save_name+\"/max_match_distance_num_steps.png\", bbox_inches=\"tight\", dpi=200\n",
    ") if SAVE_FIGS else plt.show()"
   ]
  },
  {
   "cell_type": "markdown",
   "id": "7f5c2f6d",
   "metadata": {},
   "source": [
    "### Effect of Using Different Features for Matching"
   ]
  },
  {
   "cell_type": "code",
   "execution_count": null,
   "id": "a6c75595",
   "metadata": {},
   "outputs": [],
   "source": [
    "_, no_hue_stats, _, _ = load_stats(log_path + 'no_hue', load_train=False,\n",
    "                                                                load_detailed=False, load_models=False,)\n",
    "_, sc_tolerance_4_2_stats, _, _ = load_stats(log_path + 'scaled_curve_low_tolerance', load_train=False,\n",
    "                                                                load_detailed=False, load_models=False,)\n",
    "_, unscaled_curvature_stats, _, _ = load_stats(log_path + 'unscaled_curvature', load_train=False,\n",
    "                                                                load_detailed=False, load_models=False,)\n",
    "_, principal_curvatures_stats, _, _ = load_stats(log_path + 'principal_curvatures', load_train=False,\n",
    "                                                                load_detailed=False, load_models=False,)\n",
    "_, principal_curvatures_log_stats, _, _ = load_stats(log_path + 'scaled_pc_high_tol', load_train=False,\n",
    "                                                                load_detailed=False, load_models=False,)\n",
    "_, point_norm_05_stats, _, _ = load_stats(log_path + 'point_norm_angle_05', load_train=False,\n",
    "                                                                load_detailed=False, load_models=False,)"
   ]
  },
  {
   "cell_type": "code",
   "execution_count": null,
   "id": "605f418a",
   "metadata": {},
   "outputs": [],
   "source": [
    "feature_dfs = [partial_rotation_eval_stats,\n",
    "                no_hue_stats,\n",
    "               sc_tolerance_4_2_stats,\n",
    "               unscaled_curvature_stats,\n",
    "               principal_curvatures_stats,\n",
    "               principal_curvatures_log_stats,\n",
    "              point_norm_05_stats,]\n",
    "feature_results = pd.concat(feature_dfs, \n",
    "                            keys=['default (scaled c, \\ntolerance (16,8),\\npn angle <1.57)', \n",
    "                                  'no hue', 'scaled gm curvature\\nlow tolerance (4,2)',\n",
    "                                  'unscaled gm curvature', 'principal curvature', \n",
    "                                  'log pc high tol', 'point norm angle < 0.5'])\n",
    "feature_results.index.names = ['experiment', 'index']\n",
    "feature_results.reset_index(inplace=True)"
   ]
  },
  {
   "cell_type": "code",
   "execution_count": null,
   "id": "d6ad761a",
   "metadata": {},
   "outputs": [],
   "source": [
    "plt.figure(figsize=(10,7))\n",
    "sns.set(font_scale = 1.2)\n",
    "g = sns.histplot(data=feature_results, x=\"performance\", hue=\"experiment\", \n",
    "                 multiple=\"dodge\", shrink=.8, stat='percent', common_norm=False,\n",
    "                palette=['royalblue','slategrey','gold','darkorange', 'wheat', 'tan','purple'])\n",
    "legend = g.get_legend()\n",
    "legend.set_title('Features')\n",
    "plt.savefig(\n",
    "    \"./figures/\"+save_name+\"/feature_comparison.png\", bbox_inches=\"tight\", dpi=200\n",
    ") if SAVE_FIGS else plt.show()"
   ]
  },
  {
   "cell_type": "code",
   "execution_count": null,
   "id": "13b3be31",
   "metadata": {},
   "outputs": [],
   "source": [
    "plt.figure(figsize=(10,7))\n",
    "g = sns.barplot(x='performance', y='num_steps', hue='experiment', \n",
    "                 data=feature_results, palette=['royalblue','slategrey','gold','darkorange', \n",
    "                                                'wheat', 'tan', 'purple'])\n",
    "legend = g.get_legend()\n",
    "legend.set_title('Features')\n",
    "# legend.remove()\n",
    "plt.savefig(\n",
    "    \"./figures/\"+save_name+\"/feature_comparison_num_steps.png\", bbox_inches=\"tight\", dpi=200\n",
    ") if SAVE_FIGS else plt.show()"
   ]
  },
  {
   "cell_type": "markdown",
   "id": "76b534ed",
   "metadata": {},
   "source": [
    "### Effect of Different Sensor Resolution"
   ]
  },
  {
   "cell_type": "code",
   "execution_count": null,
   "id": "59fcdae5",
   "metadata": {},
   "outputs": [],
   "source": [
    "_, low_res_sensor_patch_stats, _, _ = load_stats(log_path + 'low_res_sensor_patch', load_train=False,\n",
    "                                                                load_detailed=False, load_models=False,)"
   ]
  },
  {
   "cell_type": "code",
   "execution_count": null,
   "id": "99ce0a05",
   "metadata": {},
   "outputs": [],
   "source": [
    "low_res_sensor_results = pd.concat([partial_rotation_eval_stats, low_res_sensor_patch_stats], \n",
    "                                   keys=['64x64', '5x5'])\n",
    "low_res_sensor_results.index.names = ['experiment', 'index']"
   ]
  },
  {
   "cell_type": "code",
   "execution_count": null,
   "id": "6f3cb69d",
   "metadata": {},
   "outputs": [],
   "source": [
    "plt.figure(figsize=(10,7))\n",
    "g = sns.histplot(data=low_res_sensor_results, x=\"performance\", hue=\"experiment\", \n",
    "                 multiple=\"dodge\", shrink=.8, stat='percent', common_norm=False,\n",
    "                palette=['royalblue','coral'])\n",
    "legend = g.get_legend()\n",
    "legend.set_title('Inference Sensor Resolution')\n",
    "plt.savefig(\n",
    "    \"./figures/\"+save_name+\"/low_res_sensor.png\", bbox_inches=\"tight\", dpi=200\n",
    ") if SAVE_FIGS else plt.show()"
   ]
  },
  {
   "cell_type": "markdown",
   "id": "9014c80e",
   "metadata": {},
   "source": [
    "### Effect of Model Build from Mesh"
   ]
  },
  {
   "cell_type": "code",
   "execution_count": null,
   "id": "5447bc84",
   "metadata": {},
   "outputs": [],
   "source": [
    "_, partial_rotation_eval_on_mesh_stats, _, _ = load_stats(log_path + 'partial_rotation_eval_on_mesh', load_train=False,\n",
    "                                                                load_detailed=False, load_models=False,)\n",
    "_, partial_rotation_eval_on_mesh_detailed_stats, _, _ = load_stats(log_path + 'partial_rotation_eval_on_mesh_detailed', load_train=False,\n",
    "                                                                load_detailed=False, load_models=False,)\n",
    "_, partial_rotation_eval_on_mesh_high_tol_stats, _, _ = load_stats(log_path + 'partial_rotation_eval_on_mesh_high_tol', load_train=False,\n",
    "                                                                load_detailed=False, load_models=False,)"
   ]
  },
  {
   "cell_type": "code",
   "execution_count": null,
   "id": "6c792844",
   "metadata": {},
   "outputs": [],
   "source": [
    "mesh_vs_sensor_results = pd.concat([partial_rotation_eval_stats, \n",
    "                                    partial_rotation_eval_on_mesh_stats,\n",
    "                                   partial_rotation_eval_on_mesh_detailed_stats, \n",
    "                                   partial_rotation_eval_on_mesh_high_tol_stats], \n",
    "                                   keys=['Sensor', 'Mesh - Simplified', 'Mesh - Detailed', 'Mesh - High Tol'])\n",
    "mesh_vs_sensor_results.index.names = ['experiment', 'index']\n",
    "mesh_vs_sensor_results.reset_index(inplace=True)"
   ]
  },
  {
   "cell_type": "code",
   "execution_count": null,
   "id": "92bc538e",
   "metadata": {},
   "outputs": [],
   "source": [
    "plt.figure(figsize=(10,7))\n",
    "g = sns.histplot(data=mesh_vs_sensor_results, x=\"performance\", hue=\"experiment\", \n",
    "                 multiple=\"dodge\", shrink=.8, stat='percent', common_norm=False,\n",
    "                palette=['royalblue','hotpink', 'orchid', 'purple'])\n",
    "legend = g.get_legend()\n",
    "legend.set_title('Pretraining with')\n",
    "# plt.savefig(\n",
    "#     \"./figures/\"+save_name+\"/mesh_vs_sensor.png\", bbox_inches=\"tight\", dpi=200\n",
    "# ) if SAVE_FIGS else \n",
    "plt.show()"
   ]
  },
  {
   "cell_type": "code",
   "execution_count": null,
   "id": "2b136734",
   "metadata": {},
   "outputs": [],
   "source": [
    "plt.figure(figsize=(10,7))\n",
    "g = sns.barplot(x='performance', y='num_steps', hue='experiment', \n",
    "                 data=mesh_vs_sensor_results, palette=['royalblue','hotpink', 'orchid', 'purple'])\n",
    "legend = g.get_legend()\n",
    "legend.set_title('Pretraining with')\n",
    "plt.savefig(\n",
    "    \"./figures/\"+save_name+\"/mesh_vs_sensor_num_steps.png\", bbox_inches=\"tight\", dpi=200\n",
    ") if SAVE_FIGS else plt.show()"
   ]
  },
  {
   "cell_type": "code",
   "execution_count": null,
   "id": "b59a6282",
   "metadata": {},
   "outputs": [],
   "source": [
    "plt.figure(figsize=(10,7))\n",
    "sns.set(font_scale = 1.5)\n",
    "sns.histplot(data=partial_rotation_eval_on_mesh_stats, x=\"performance\", hue='target_object', multiple=\"stack\", palette='pastel')\n",
    "# sns.histplot(data=stats_to_plot.sort_values(by=\"performance\"), x=\"performance\", hue='target_object', multiple=\"stack\")\n",
    "plt.savefig(\n",
    "    \"./figures/\"+save_name+\"/feature_pred_mesh.png\", bbox_inches=\"tight\", dpi=200\n",
    ") if SAVE_FIGS else plt.show()"
   ]
  },
  {
   "cell_type": "markdown",
   "id": "ecf12915",
   "metadata": {},
   "source": [
    "### Effect of More Models in Memory"
   ]
  },
  {
   "cell_type": "code",
   "execution_count": null,
   "id": "503e4b43",
   "metadata": {},
   "outputs": [],
   "source": [
    "_, all_obj_in_memory_stats, all_obj_in_memory_detailed, _ = load_stats(log_path + 'partial_rotation_eval_all_obj_in_memory', load_train=False,\n",
    "                                                                load_detailed=True, load_models=False,)"
   ]
  },
  {
   "cell_type": "code",
   "execution_count": null,
   "id": "5a82768e",
   "metadata": {},
   "outputs": [],
   "source": [
    "obj_in_memory_results = pd.concat([partial_rotation_eval_stats, all_obj_in_memory_stats], \n",
    "                                   keys=['4', '71'])\n",
    "obj_in_memory_results.index.names = ['experiment', 'index']\n",
    "obj_in_memory_results.reset_index(inplace=True)"
   ]
  },
  {
   "cell_type": "code",
   "execution_count": null,
   "id": "8c80b45d",
   "metadata": {},
   "outputs": [],
   "source": [
    "plt.figure(figsize=(10,7))\n",
    "g = sns.histplot(data=obj_in_memory_results, x=\"performance\", hue=\"experiment\", \n",
    "                 multiple=\"dodge\", shrink=.8, stat='percent', common_norm=False,\n",
    "                palette=['royalblue','lightgreen'])\n",
    "legend = g.get_legend()\n",
    "legend.set_title('Number of Objects in memory')\n",
    "plt.savefig(\n",
    "    \"./figures/\"+save_name+\"/num_objects_in_memory.png\", bbox_inches=\"tight\", dpi=200\n",
    ") if SAVE_FIGS else plt.show()"
   ]
  },
  {
   "cell_type": "code",
   "execution_count": null,
   "id": "beb73351",
   "metadata": {},
   "outputs": [],
   "source": [
    "plt.figure(figsize=(10,7))\n",
    "g = sns.barplot(x='performance', y='num_steps', hue='experiment', \n",
    "                 data=obj_in_memory_results, palette=['royalblue','lightgreen'])\n",
    "legend = g.get_legend()\n",
    "legend.set_title('Number of Objects in memory')\n",
    "plt.savefig(\n",
    "    \"./figures/\"+save_name+\"/num_objects_num_steps.png\", bbox_inches=\"tight\", dpi=200\n",
    ") if SAVE_FIGS else plt.show()"
   ]
  },
  {
   "cell_type": "code",
   "execution_count": null,
   "id": "d52f3ace",
   "metadata": {},
   "outputs": [],
   "source": [
    "all_ds = [base_detailed_stats, all_obj_in_memory_detailed]\n",
    "all_conditions = ['4', '71']\n",
    "time_stats = get_time_stats(all_ds, all_conditions)\n",
    "\n",
    "sns.set(font_scale = 1.5)\n",
    "plt.figure(figsize=(10,5))\n",
    "g = sns.lineplot(data=time_stats, x=\"step\", y=\"time\", hue=\"model_type\",\n",
    "                palette=['royalblue','lightgreen'])\n",
    "legend = g.get_legend()\n",
    "legend.set_title('Number of Objects in Memory')\n",
    "plt.ylabel(\"time (s)\")\n",
    "plt.xlim([0,10])\n",
    "plt.savefig(\n",
    "    \"./figures/\"+save_name+\"/num_obj_in_mem_run_time.png\", bbox_inches=\"tight\", dpi=200\n",
    ") if SAVE_FIGS else plt.show()"
   ]
  },
  {
   "cell_type": "markdown",
   "id": "ab9ddce0",
   "metadata": {},
   "source": [
    "### Testing More Objects"
   ]
  },
  {
   "cell_type": "code",
   "execution_count": null,
   "id": "7692a260",
   "metadata": {},
   "outputs": [],
   "source": [
    "_, all_obj_eval_stats, detailed_all, models_all= load_stats(log_path + 'full_rotation_eval_all_objects', load_train=False,\n",
    "                                              load_detailed=False, load_models=True,\n",
    "                                                                pretrained_dict=pretrained_5S_77Obj)"
   ]
  },
  {
   "cell_type": "code",
   "execution_count": null,
   "id": "848953f7",
   "metadata": {},
   "outputs": [],
   "source": [
    "num_points = 0\n",
    "num_obj = 0\n",
    "for obj in models_all['pretrained'][0].keys():\n",
    "    num_points = num_points + models_all['pretrained'][0][obj].x.shape[0]\n",
    "    num_obj += 1\n",
    "print(f\"{num_obj} objects with an average of {np.round(num_points/num_obj)} points each.\")"
   ]
  },
  {
   "cell_type": "code",
   "execution_count": null,
   "id": "a497ea52",
   "metadata": {},
   "outputs": [],
   "source": [
    "print_overall_stats(all_obj_eval_stats)"
   ]
  },
  {
   "cell_type": "code",
   "execution_count": null,
   "id": "fc804499",
   "metadata": {},
   "outputs": [],
   "source": [
    "all_obj_eval_stats[all_obj_eval_stats['performance']!='correct']"
   ]
  },
  {
   "cell_type": "markdown",
   "id": "feee60be",
   "metadata": {},
   "source": [
    "#### Load Detailed Stats from Specific Episode & Visualize"
   ]
  },
  {
   "cell_type": "code",
   "execution_count": null,
   "id": "b247ef7d",
   "metadata": {},
   "outputs": [],
   "source": [
    "det_path = log_path + 'full_rotation_eval_all_objects' + '/detailed_run_stats.json'\n",
    "# data = deserialize_json_chunks(json_file=det_path, start=0, stop=4)\n",
    "data = deserialize_json_chunks(json_file=det_path, episodes=[85])"
   ]
  },
  {
   "cell_type": "code",
   "execution_count": null,
   "id": "a42f999b",
   "metadata": {},
   "outputs": [],
   "source": [
    "sns.set(font_scale = 1.0)"
   ]
  },
  {
   "cell_type": "code",
   "execution_count": null,
   "id": "b8cadf19",
   "metadata": {},
   "outputs": [],
   "source": [
    "plot_feature_matching_animation(data, \n",
    "                                models_all,  \n",
    "                                episode = 85, \n",
    "                                objects=['knife'],\n",
    "                                show_num_pos=None,\n",
    "                                show_path=True,\n",
    "                                ax_range=0.05)"
   ]
  },
  {
   "cell_type": "code",
   "execution_count": null,
   "id": "b00dfc55",
   "metadata": {},
   "outputs": [],
   "source": [
    "all_obj_eval_stats[all_obj_eval_stats['target_object']=='apple']"
   ]
  },
  {
   "cell_type": "code",
   "execution_count": null,
   "id": "870e6225",
   "metadata": {},
   "outputs": [],
   "source": [
    "episode = 140\n",
    "plt.figure()\n",
    "plt.imshow(detailed_all[str(episode)]['SM_1']['raw_observations'][0]['rgba'])\n",
    "target_o = detailed_all[str(episode)]['LM_0']['target']['object']\n",
    "target_r = int(detailed_all[str(episode)]['LM_0']['target']['euler_rotation'][1])\n",
    "plt.title(f\"{target_o} - {target_r} deg\")\n",
    "plt.axis('off')\n",
    "plt.savefig(\n",
    "    \"./figures/\"+save_name+\"/objects/\"+target_o+\"_\"+str(target_r)+\".png\", bbox_inches=\"tight\", dpi=200\n",
    ") if SAVE_FIGS else plt.show()"
   ]
  },
  {
   "cell_type": "code",
   "execution_count": null,
   "id": "f7311273",
   "metadata": {},
   "outputs": [],
   "source": [
    "plot_feature_matching_animation(detailed_all, \n",
    "                                models_all,  \n",
    "                                episode = 181, \n",
    "                                objects=['nine_hole_peg_test', 'sugar_box', 'wood_block'],\n",
    "                                show_num_pos=None,\n",
    "                                show_path=True,\n",
    "                                ax_range=0.05)"
   ]
  },
  {
   "cell_type": "code",
   "execution_count": null,
   "id": "3e3a1428",
   "metadata": {},
   "outputs": [],
   "source": [
    "show_one_step(detailed_all, \n",
    "                models_all,  \n",
    "                episode = 102, # overall (epochs * episodes_per_epoch)\n",
    "                step=183,\n",
    "                object_to_inspect=\"apple\",\n",
    "                target_rotation = [0,45,0],\n",
    "                show_full_path=False,\n",
    "#                 show_point_normals=True,\n",
    "                color_by_curvature=True,\n",
    "                ax_range=0.04)"
   ]
  },
  {
   "cell_type": "code",
   "execution_count": null,
   "id": "a62d3ef0",
   "metadata": {},
   "outputs": [],
   "source": [
    "plt.figure(figsize=(10,7))\n",
    "sns.set(font_scale = 1.5)\n",
    "g = sns.histplot(data=all_obj_eval_stats, x=\"performance\", hue='target_object', multiple=\"stack\", palette='pastel')\n",
    "plt.legend([],[], frameon=False)\n",
    "# sns.histplot(data=stats_to_plot.sort_values(by=\"performance\"), x=\"performance\", hue='target_object', multiple=\"stack\")\n",
    "plt.savefig(\n",
    "    \"./figures/\"+save_name+\"/feature_pred_78_obj.png\", bbox_inches=\"tight\", dpi=200\n",
    ") if SAVE_FIGS else plt.show()"
   ]
  },
  {
   "cell_type": "code",
   "execution_count": null,
   "id": "2d58e43d",
   "metadata": {},
   "outputs": [],
   "source": [
    "num_obj_tested = pd.concat([partial_rotation_eval_stats, all_obj_eval_stats], \n",
    "                                   keys=['4', '78'])\n",
    "num_obj_tested.index.names = ['experiment', 'index']\n",
    "num_obj_tested.reset_index(inplace=True)"
   ]
  },
  {
   "cell_type": "code",
   "execution_count": null,
   "id": "77371d7e",
   "metadata": {},
   "outputs": [],
   "source": [
    "plt.figure(figsize=(10,7))\n",
    "g = sns.histplot(data=num_obj_tested, x=\"performance\", hue=\"experiment\", \n",
    "                 multiple=\"dodge\", shrink=.8, stat='percent', common_norm=False,\n",
    "                palette=['royalblue','lightgreen'])\n",
    "legend = g.get_legend()\n",
    "legend.set_title('Number of Objects Tested')\n",
    "plt.savefig(\n",
    "    \"./figures/\"+save_name+\"/num_objects_tested.png\", bbox_inches=\"tight\", dpi=200\n",
    ") if SAVE_FIGS else plt.show()"
   ]
  },
  {
   "cell_type": "markdown",
   "id": "c0633555",
   "metadata": {},
   "source": [
    "## Look at Detailed Stats and Models"
   ]
  },
  {
   "cell_type": "code",
   "execution_count": null,
   "id": "06f17cfe",
   "metadata": {},
   "outputs": [],
   "source": [
    "_, _, ds5, s5_models = load_stats(log_path + 'partial_rotation_eval_base', load_train=False, load_eval=False,\n",
    "                                load_detailed=True, pretrained_dict=pretrained_5S)\n",
    "_, _, ds5_71obj, s5_71obj_models = load_stats(log_path + 'partial_rotation_eval_all_obj_in_memory', load_train=False, load_eval=False,\n",
    "                                load_detailed=True, pretrained_dict=pretrained_5S_71Obj)\n",
    "_, _, ds3, s3_models = load_stats(log_path + 'sampling_learnS3_infS3', load_train=False, load_eval=False,\n",
    "                                load_detailed=True, pretrained_dict=pretrained_3S)\n",
    "_, _, dsfc, fc_models = load_stats(log_path + 'sampling_learnfc_inffc', load_train=False, load_eval=False,\n",
    "                                load_detailed=True, pretrained_dict=pretrained_fc)\n",
    "_, _, dsm, mesh_models = load_stats(log_path + 'partial_rotation_eval_on_mesh', load_train=False, load_eval=False,\n",
    "                                load_detailed=True, pretrained_dict=pretrained_mesh)"
   ]
  },
  {
   "cell_type": "code",
   "execution_count": null,
   "id": "1f069d06",
   "metadata": {},
   "outputs": [],
   "source": [
    "%matplotlib notebook"
   ]
  },
  {
   "cell_type": "code",
   "execution_count": null,
   "id": "d76cf646",
   "metadata": {},
   "outputs": [],
   "source": [
    "fc_models['pretrained']['mug'].x.shape"
   ]
  },
  {
   "cell_type": "code",
   "execution_count": null,
   "id": "9ce1b34f",
   "metadata": {},
   "outputs": [],
   "source": [
    "plot_graph(s5_models['pretrained']['mug'], show_edges=False)\n",
    "plt.show()"
   ]
  },
  {
   "cell_type": "code",
   "execution_count": null,
   "id": "88cc4635",
   "metadata": {},
   "outputs": [],
   "source": [
    "plot_graph(fc_models['pretrained']['mug'], show_edges=False)\n",
    "plt.show()"
   ]
  },
  {
   "cell_type": "code",
   "execution_count": null,
   "id": "dcd273d8",
   "metadata": {},
   "outputs": [],
   "source": [
    "s5_71obj_models['pretrained'].keys()"
   ]
  },
  {
   "cell_type": "markdown",
   "id": "eadd868b",
   "metadata": {},
   "source": [
    "### Inspect Specific Model"
   ]
  },
  {
   "cell_type": "code",
   "execution_count": null,
   "id": "5d7b05f7",
   "metadata": {},
   "outputs": [],
   "source": [
    "sns.set(font_scale = 1.2)\n",
    "object_name = 'potted_meat_can'\n",
    "models_source = mesh_models\n",
    "\n",
    "graph = models_source['pretrained'][object_name]\n",
    "model_pos = graph.pos\n",
    "\n",
    "fig = plt.figure(figsize=(15,5))\n",
    "\n",
    "ax = plt.subplot(1,1,1,projection='3d')\n",
    "feat_ids = graph.feature_mapping['gaussian_curvature_sc']\n",
    "# feat_ids = graph.feature_mapping['mean_curvature_sc']\n",
    "colors = graph.x[:,feat_ids[0]:feat_ids[1]]\n",
    "s = ax.scatter(\n",
    "    model_pos[:, 0],\n",
    "    model_pos[:, 1],\n",
    "    model_pos[:, 2],\n",
    "    s=5,\n",
    "    vmin=-64,\n",
    "    vmax=64,\n",
    "    cmap='seismic',\n",
    "    c=colors\n",
    ")\n",
    "ax.set_xticks([]), ax.set_yticks([]), ax.set_zticks([])\n",
    "ax.set_title(f'{object_name}')\n",
    "ax_range = 0.05\n",
    "ax.set_xlim(0-ax_range, 0+ax_range)\n",
    "# ax.set_ylim(1.5-ax_range,1.5+ax_range)\n",
    "ax.set_ylim(0-ax_range,0+ax_range)\n",
    "ax.set_zlim(0-ax_range, 0+ax_range)\n",
    "# plt.savefig(\n",
    "#     \"./figures/\"+save_name+\"/graph_of_\"+object_name +\".png\", bbox_inches=\"tight\", dpi=200\n",
    "# ) if SAVE_FIGS else \n",
    "plt.show()"
   ]
  },
  {
   "cell_type": "markdown",
   "id": "c7d601fb",
   "metadata": {},
   "source": [
    "### Compare Models Build from Different Sources"
   ]
  },
  {
   "cell_type": "code",
   "execution_count": null,
   "id": "8c17d42c",
   "metadata": {},
   "outputs": [],
   "source": [
    "pretrained_mesh_detailed = '../feature_eval_runs/pretrained_models_from_mesh/ycb4_allp/'\n",
    "_, _, dsmd, mesh_models_detailed = load_stats(log_path + 'partial_rotation_eval_on_mesh_detailed', load_train=False, load_eval=False,\n",
    "                                load_detailed=True, pretrained_dict=pretrained_mesh_detailed)"
   ]
  },
  {
   "cell_type": "code",
   "execution_count": null,
   "id": "cf865197",
   "metadata": {
    "scrolled": false
   },
   "outputs": [],
   "source": [
    "sns.set(font_scale = 1.2)\n",
    "object_name = 'master_chef_can'\n",
    "color_feature = 'gaussian_curvature_sc'\n",
    "# color_feature = 'principal_curvatures_log'\n",
    "\n",
    "graph_sensor_s5 = s5_models['pretrained'][object_name]\n",
    "model_pos_sensor_s5 = graph_sensor_s5.pos\n",
    "graph_sensor_s3 = s3_models['pretrained'][object_name]\n",
    "model_pos_sensor_s3 = graph_sensor_s3.pos\n",
    "graph_mesh = mesh_models['pretrained'][object_name]\n",
    "model_pos_mesh = graph_mesh.pos\n",
    "graph_mesh_detailed = mesh_models_detailed['pretrained'][object_name]\n",
    "model_pos_mesh_detailed = graph_mesh_detailed.pos\n",
    "\n",
    "fig = plt.figure(figsize=(10,10))\n",
    "\n",
    "ax = plt.subplot(2,2,1,projection='3d')\n",
    "feat_ids = s5_models['pretrained'][object_name].feature_mapping[color_feature]\n",
    "colors = graph_sensor_s5.x[:,feat_ids[0]:feat_ids[0]+1]\n",
    "s = ax.scatter(\n",
    "    model_pos_sensor_s5[:, 0],\n",
    "    model_pos_sensor_s5[:, 1],\n",
    "    model_pos_sensor_s5[:, 2],\n",
    "    s=5,\n",
    "    vmin=-64,\n",
    "    vmax=64,\n",
    "    cmap='seismic',\n",
    "    c=colors\n",
    ")\n",
    "ax.set_box_aspect([1,1,1])\n",
    "ax.set_xticks([]), ax.set_yticks([]), ax.set_zticks([])\n",
    "ax.set_title(f'Sensor (Action Amount 5)\\n{graph_sensor_s5.x.shape[0]} points')\n",
    "\n",
    "ax = plt.subplot(2,2,2,projection='3d')\n",
    "feat_ids = s3_models['pretrained'][object_name].feature_mapping[color_feature]\n",
    "colors = graph_sensor_s3.x[:,feat_ids[0]:feat_ids[0]+1]\n",
    "s = ax.scatter(\n",
    "    model_pos_sensor_s3[:, 0],\n",
    "    model_pos_sensor_s3[:, 1],\n",
    "    model_pos_sensor_s3[:, 2],\n",
    "    s=5,\n",
    "    vmin=-64,\n",
    "    vmax=64,\n",
    "    cmap='seismic',\n",
    "    c=colors\n",
    ")\n",
    "ax.set_box_aspect([1,1,1])\n",
    "ax.set_xticks([]), ax.set_yticks([]), ax.set_zticks([])\n",
    "ax.set_title(f'Sensor (Action Amount 3)\\n{graph_sensor_s3.x.shape[0]} points')\n",
    "\n",
    "ax = plt.subplot(2,2,3,projection='3d')\n",
    "feat_ids = mesh_models['pretrained'][object_name].feature_mapping[color_feature]\n",
    "colors = graph_mesh.x[:,feat_ids[0]:feat_ids[0]+1]\n",
    "s = ax.scatter(\n",
    "    model_pos_mesh[:, 0],\n",
    "    model_pos_mesh[:, 1],\n",
    "    model_pos_mesh[:, 2],\n",
    "    s=5,\n",
    "    vmin=-64,\n",
    "    vmax=64,\n",
    "    cmap='seismic',\n",
    "    c=colors\n",
    ")\n",
    "ax.set_box_aspect([1,1,1])\n",
    "ax.set_xticks([]), ax.set_yticks([]), ax.set_zticks([])\n",
    "ax.set_title(f'Mesh\\n{graph_mesh.x.shape[0]} points')\n",
    "\n",
    "ax = plt.subplot(2,2,4,projection='3d')\n",
    "feat_ids = mesh_models_detailed['pretrained'][object_name].feature_mapping[color_feature]\n",
    "colors = graph_mesh_detailed.x[:,feat_ids[0]:feat_ids[0]+1]\n",
    "s = ax.scatter(\n",
    "    model_pos_mesh_detailed[:, 0],\n",
    "    model_pos_mesh_detailed[:, 1],\n",
    "    model_pos_mesh_detailed[:, 2],\n",
    "    s=5,\n",
    "    vmin=-64,\n",
    "    vmax=64,\n",
    "    cmap='seismic',\n",
    "    c=colors\n",
    ")\n",
    "ax.set_box_aspect([1,1,1])\n",
    "ax.set_xticks([]), ax.set_yticks([]), ax.set_zticks([])\n",
    "ax.set_title(f'Detailed Mesh\\n{graph_mesh_detailed.x.shape[0]} points')\n",
    "\n",
    "plt.suptitle('Graph Learned with', fontsize=15)\n",
    "plt.savefig(\n",
    "    \"./figures/\"+save_name+\"/model_comparison_\"+object_name +\".png\", bbox_inches=\"tight\", dpi=200\n",
    ") if SAVE_FIGS else plt.show()"
   ]
  },
  {
   "cell_type": "code",
   "execution_count": null,
   "id": "cfe41fc0",
   "metadata": {},
   "outputs": [],
   "source": [
    "%matplotlib notebook"
   ]
  },
  {
   "cell_type": "markdown",
   "id": "fd66ab8d",
   "metadata": {},
   "source": [
    "### Visualize Distances in Graph"
   ]
  },
  {
   "cell_type": "code",
   "execution_count": null,
   "id": "7fee408e",
   "metadata": {},
   "outputs": [],
   "source": [
    "fig = plt.figure(figsize=(5,5))\n",
    "sns.set(font_scale = 1.0)\n",
    "model = mesh_models\n",
    "center_point_id = 100\n",
    "max_dist = 0.005\n",
    "object_name = 'mug'\n",
    "graph = model['pretrained'][object_name]\n",
    "model_pos = graph.pos\n",
    "\n",
    "\n",
    "ax = plt.subplot(1,1,1,projection='3d')\n",
    "center_p = model_pos[center_point_id]\n",
    "for i, p in enumerate(model_pos):\n",
    "    if np.linalg.norm(center_p - p) <= max_dist:\n",
    "        color = 'red'\n",
    "    else:\n",
    "        color = 'grey'\n",
    "    s = ax.scatter(\n",
    "        p[0],\n",
    "        p[1],\n",
    "        p[2],\n",
    "        s=5,\n",
    "        c=color\n",
    "    )\n",
    "ax.set_xticks([]), ax.set_yticks([]), ax.set_zticks([])\n",
    "ax.set_title(f'Max Distance = {max_dist}')\n",
    "plt.show()"
   ]
  },
  {
   "cell_type": "markdown",
   "id": "b767282e",
   "metadata": {},
   "source": [
    "### Look at Runtime"
   ]
  },
  {
   "cell_type": "code",
   "execution_count": null,
   "id": "93328ec9",
   "metadata": {},
   "outputs": [],
   "source": [
    "all_ds = [ds5, ds3, dsm, dsmd]\n",
    "all_conditions = ['Sensor Default', 'Sensor Detailed', 'Mesh - Simplified', 'Mesh - Detailed']\n",
    "time_stats = get_time_stats(all_ds, all_conditions)"
   ]
  },
  {
   "cell_type": "code",
   "execution_count": null,
   "id": "79adb273",
   "metadata": {},
   "outputs": [],
   "source": [
    "sns.set(font_scale = 1.5)\n",
    "plt.figure(figsize=(10,5))\n",
    "g = sns.lineplot(data=time_stats, x=\"step\", y=\"time\", hue=\"model_type\",\n",
    "                palette=['royalblue','springgreen','hotpink', 'orchid'])\n",
    "legend = g.get_legend()\n",
    "legend.set_title('Model Type')\n",
    "plt.ylabel(\"time (s)\")\n",
    "plt.xlim([0,10])\n",
    "plt.savefig(\n",
    "    \"./figures/\"+save_name+\"/runtime_model_detail_with_kd_search.png\", bbox_inches=\"tight\", dpi=200\n",
    ") if SAVE_FIGS else plt.show()"
   ]
  },
  {
   "cell_type": "code",
   "execution_count": null,
   "id": "a5deb6bb",
   "metadata": {},
   "outputs": [],
   "source": [
    "all_ds = [ds5, ds5_71obj]\n",
    "all_conditions = ['4 Objects', '71 Objects']\n",
    "time_stats_num_obj = get_time_stats(all_ds, all_conditions)"
   ]
  },
  {
   "cell_type": "code",
   "execution_count": null,
   "id": "5db3c070",
   "metadata": {},
   "outputs": [],
   "source": [
    "sns.set(font_scale = 1.5)\n",
    "plt.figure(figsize=(10,5))\n",
    "g = sns.lineplot(data=time_stats_num_obj, x=\"step\", y=\"time\", hue=\"model_type\",\n",
    "                palette=['royalblue','lightgreen'])\n",
    "legend = g.get_legend()\n",
    "legend.set_title('Number of Objects in Memory')\n",
    "plt.ylabel(\"time (s)\")\n",
    "plt.xlim([0,10])\n",
    "plt.savefig(\n",
    "    \"./figures/\"+save_name+\"/runtime_num_objects.png\", bbox_inches=\"tight\", dpi=200\n",
    ") if SAVE_FIGS else plt.show()"
   ]
  },
  {
   "cell_type": "markdown",
   "id": "bb0d4f08",
   "metadata": {},
   "source": [
    "### Show Observations from Different Angles"
   ]
  },
  {
   "cell_type": "code",
   "execution_count": null,
   "id": "83f3f238",
   "metadata": {},
   "outputs": [],
   "source": [
    "object_name = 'potted_meat_can'\n",
    "plt.figure(figsize=(15,30))\n",
    "row_num = 0\n",
    "for i in range(32):\n",
    "    plt.subplot(8,4,i+1)\n",
    "    while ds[str(row_num)]['LM_0']['target']['object'] != object_name:\n",
    "        row_num +=1\n",
    "    plt.imshow(ds[str(row_num)]['SM_1']['raw_observations'][0]['rgba'])\n",
    "    plt.title(ds[str(row_num)]['LM_0']['target']['euler_rotation'])\n",
    "    plt.axis('off')\n",
    "    row_num +=1\n",
    "plt.suptitle(object_name)\n",
    "plt.subplots_adjust(top=0.95)\n",
    "plt.savefig(\n",
    "    \"./figures/\"+save_name+\"/views_of_\"+object_name+\".png\", bbox_inches=\"tight\", dpi=200\n",
    ") if SAVE_FIGS else plt.show()"
   ]
  },
  {
   "cell_type": "markdown",
   "id": "7efb00d5",
   "metadata": {},
   "source": [
    "## More Detailed Analysis of Runs"
   ]
  },
  {
   "cell_type": "code",
   "execution_count": null,
   "id": "138f351d",
   "metadata": {},
   "outputs": [],
   "source": [
    "plot_detection_stat_animation(ds3, 5)"
   ]
  },
  {
   "cell_type": "code",
   "execution_count": null,
   "id": "bdaf3ca5",
   "metadata": {},
   "outputs": [],
   "source": [
    "sns.set(font_scale = 1.0)"
   ]
  },
  {
   "cell_type": "code",
   "execution_count": null,
   "id": "68a051bb",
   "metadata": {},
   "outputs": [],
   "source": [
    "plot_feature_matching_animation(ds5, \n",
    "                                s5_models,  \n",
    "                                episode = 5, # overall (epochs * episodes_per_epoch)\n",
    "                                objects=[\"mug\", \"bowl\"],\n",
    "                                show_num_pos=None,\n",
    "                                show_path=True,\n",
    "                                ax_range=0.05)"
   ]
  },
  {
   "cell_type": "code",
   "execution_count": null,
   "id": "d115da64",
   "metadata": {},
   "outputs": [],
   "source": [
    "plot_feature_matching_animation(ds5, \n",
    "                                s5_models,  \n",
    "                                episode = 7, # overall (epochs * episodes_per_epoch)\n",
    "                                objects=[\"mug\", \"bowl\", \"potted_meat_can\", \"master_chef_can\"],\n",
    "                                show_num_pos=None,\n",
    "                                show_path=True,\n",
    "                                ax_range=0.05)"
   ]
  },
  {
   "cell_type": "code",
   "execution_count": null,
   "id": "714483a4",
   "metadata": {},
   "outputs": [],
   "source": [
    "plot_feature_matching_animation(dsm, \n",
    "                                mesh_models,  \n",
    "                                episode = 10, # overall (epochs * episodes_per_epoch)\n",
    "                                objects=[\"potted_meat_can\", \"mug\"],\n",
    "                                show_num_pos=None,\n",
    "                                show_path=True,\n",
    "                                ax_range=0.05)"
   ]
  },
  {
   "cell_type": "code",
   "execution_count": null,
   "id": "c56bc686",
   "metadata": {},
   "outputs": [],
   "source": [
    "dsm['10']['LM_0']['gaussian_curvature_sc']"
   ]
  },
  {
   "cell_type": "code",
   "execution_count": null,
   "id": "0c559929",
   "metadata": {},
   "outputs": [],
   "source": [
    "dsm['10']['LM_0']['principal_curvatures']"
   ]
  },
  {
   "cell_type": "code",
   "execution_count": null,
   "id": "cfaab10e",
   "metadata": {},
   "outputs": [],
   "source": [
    "plt.figure()\n",
    "plt.imshow(dsm['6']['SM_1']['raw_observations'][5]['rgba'])\n",
    "plt.show()"
   ]
  },
  {
   "cell_type": "code",
   "execution_count": null,
   "id": "41cbaeae",
   "metadata": {},
   "outputs": [],
   "source": [
    "idx = 5\n",
    "episode = 6\n",
    "obs_3d = np.array(dsm[str(episode)]['SM_0']['raw_observations'][idx]['semantic_3d'])\n",
    "obs_3d[:,3] = np.linspace(1,obs_3d.shape[0],obs_3d.shape[0])\n",
    "image = dsm[str(episode)]['SM_0']['raw_observations'][idx]['rgba']\n",
    "\n",
    "obs_dim = int(np.sqrt(obs_3d.shape[0]))\n",
    "half_obs_dim = obs_dim // 2\n",
    "center_id = half_obs_dim + obs_dim * half_obs_dim\n",
    "\n",
    "p = obs_3d[center_id]\n",
    "pn = dsm['10']['LM_0']['point_normal'][idx]\n",
    "norm_len=0.01\n",
    "\n",
    "radius = 0.003\n",
    "distances_to_point = np.linalg.norm(\n",
    "    np.array(obs_3d[:,:3]) - p[:3], axis=1\n",
    ")\n",
    "radius_ids = np.where(distances_to_point <= radius)[0]\n",
    "radius_point_cloud = obs_3d[radius_ids]\n",
    "radius_point_cloud_center = np.argmin(np.linalg.norm(radius_point_cloud[:,:3]-p[:3],axis=1))"
   ]
  },
  {
   "cell_type": "code",
   "execution_count": null,
   "id": "70925aa3",
   "metadata": {},
   "outputs": [],
   "source": [
    "from tbp.monty.frameworks.environment_utils.graph_utils import get_curvature_at_point\n",
    "k1, k2, dir1, dir2 = get_curvature_at_point(\n",
    "                obs_3d, center_id, pn\n",
    "            )\n",
    "k1r, k2r, dir1r, dir2r = get_curvature_at_point(\n",
    "                radius_point_cloud, radius_point_cloud_center, pn\n",
    "            )\n",
    "print(f\"squared - k1: {k1}, k2: {k2}\")\n",
    "print(f\"circular - k1: {k1r}, k2: {k2r}\")"
   ]
  },
  {
   "cell_type": "code",
   "execution_count": null,
   "id": "56b7eb4f",
   "metadata": {},
   "outputs": [],
   "source": [
    "plt.figure(figsize=(10,5))\n",
    "ax = plt.subplot(1,3,1,projection='3d')\n",
    "ax.scatter(obs_3d[:,0], obs_3d[:,1], obs_3d[:,2], alpha=0.5, s=1, \n",
    "           c=obs_3d[:,3], vmin=0,vmax=max(obs_3d[:,3]))\n",
    "# plt.scatter(obs_3d[center_id,0], obs_3d[center_id,1], obs_3d[center_id,2],c='red')\n",
    "ax.scatter(p[0], p[1], p[2],c='red',s=10)\n",
    "# plt.plot([obs_3d[center_id,0], pn[0]], [obs_3d[center_id,1],pn[1]], [obs_3d[center_id,2],pn[2]])\n",
    "\n",
    "ax.plot([p[0], p[0] + pn[0] * norm_len],\n",
    "        [p[1], p[1] + pn[1] * norm_len],\n",
    "        [p[2], p[2] + pn[2] * norm_len],\n",
    "        c='lightgreen',\n",
    "       )\n",
    "ax.plot([p[0], p[0] + dir1[0] * norm_len],\n",
    "        [p[1], p[1] + dir1[1] * norm_len],\n",
    "        [p[2], p[2] + dir1[2] * norm_len],\n",
    "        c='red',\n",
    "       )\n",
    "ax.plot([p[0], p[0] + dir2[0] * norm_len],\n",
    "        [p[1], p[1] + dir2[1] * norm_len],\n",
    "        [p[2], p[2] + dir2[2] * norm_len],\n",
    "        c='orange',\n",
    "       )\n",
    "ax.set_box_aspect([1,1,1])\n",
    "ax.view_init(30)\n",
    "plt.axis('off')\n",
    "plt.title(f\"k1: {np.round(k1,2)}, k2: {np.round(k2,2)}\")\n",
    "\n",
    "ax2 = plt.subplot(1,3,2,projection='3d')\n",
    "ax2.scatter(radius_point_cloud[:,0], radius_point_cloud[:,1], radius_point_cloud[:,2], \n",
    "            alpha=0.5, s=1, c=radius_point_cloud[:,3], vmin=0,vmax=max(obs_3d[:,3]))\n",
    "# plt.scatter(obs_3d[center_id,0], obs_3d[center_id,1], obs_3d[center_id,2],c='red')\n",
    "pr = radius_point_cloud[radius_point_cloud_center]\n",
    "ax2.scatter(pr[0], pr[1], pr[2],c='red',s=10)\n",
    "# plt.plot([obs_3d[center_id,0], pn[0]], [obs_3d[center_id,1],pn[1]], [obs_3d[center_id,2],pn[2]])\n",
    "\n",
    "ax2.plot([pr[0], pr[0] + pn[0] * norm_len],\n",
    "        [pr[1], pr[1] + pn[1] * norm_len],\n",
    "        [pr[2], pr[2] + pn[2] * norm_len],\n",
    "        c='lightgreen',\n",
    "       )\n",
    "ax2.plot([pr[0], pr[0] + dir1r[0] * norm_len],\n",
    "        [pr[1], pr[1] + dir1r[1] * norm_len],\n",
    "        [pr[2], pr[2] + dir1r[2] * norm_len],\n",
    "        c='red',\n",
    "       )\n",
    "ax2.plot([pr[0], pr[0] + dir2r[0] * norm_len],\n",
    "        [pr[1], pr[1] + dir2r[1] * norm_len],\n",
    "        [pr[2], pr[2] + dir2r[2] * norm_len],\n",
    "        c='orange',\n",
    "       )\n",
    "ax2.view_init(30)\n",
    "plt.title(f\"k1: {np.round(k1r,2)}, k2: {np.round(k2r,2)}\")\n",
    "ax.set_box_aspect([1,1,1])\n",
    "plt.axis('off')\n",
    "plt.subplot(1,3,3)\n",
    "plt.imshow(image)\n",
    "plt.axis('off')\n",
    "plt.show()"
   ]
  },
  {
   "cell_type": "code",
   "execution_count": null,
   "id": "e72c2daa",
   "metadata": {},
   "outputs": [],
   "source": [
    "mesh_models['pretrained']['mug']['feature_mapping']"
   ]
  },
  {
   "cell_type": "code",
   "execution_count": null,
   "id": "a169d2dc",
   "metadata": {},
   "outputs": [],
   "source": [
    "plt.figure()\n",
    "plt.hist(np.array(mesh_models['pretrained']['mug'].x[6]),bins=500)\n",
    "plt.xlim([0,500])\n",
    "plt.show()"
   ]
  },
  {
   "cell_type": "code",
   "execution_count": null,
   "id": "33d20dbc",
   "metadata": {},
   "outputs": [],
   "source": [
    "plot_feature_matching_animation(dsm, \n",
    "                                mesh_models,  \n",
    "                                episode = 1, # overall (epochs * episodes_per_epoch)\n",
    "                                objects=[\"mug\", \"bowl\"],\n",
    "                                show_num_pos=None,\n",
    "                                show_path=True,\n",
    "                                ax_range=0.05)"
   ]
  },
  {
   "cell_type": "code",
   "execution_count": null,
   "id": "8e5e2c06",
   "metadata": {},
   "outputs": [],
   "source": [
    "plot_feature_matching_animation(dsm, \n",
    "                                mesh_models,  \n",
    "                                episode = 4, # overall (epochs * episodes_per_epoch)\n",
    "                                objects=[\"mug\", \"bowl\"],\n",
    "                                show_num_pos=None,\n",
    "                                show_path=True,\n",
    "                                ax_range=0.05)"
   ]
  },
  {
   "cell_type": "code",
   "execution_count": null,
   "id": "b11d6b20",
   "metadata": {},
   "outputs": [],
   "source": [
    "plot_feature_matching_animation(dsmd, \n",
    "                                mesh_models_detailed,  \n",
    "                                episode = 9, # overall (epochs * episodes_per_epoch)\n",
    "                                objects=[\"mug\", \"bowl\"],\n",
    "                                show_num_pos=None,\n",
    "                                show_path=True,\n",
    "                                ax_range=0.05)"
   ]
  },
  {
   "cell_type": "code",
   "execution_count": null,
   "id": "2336e992",
   "metadata": {
    "scrolled": false
   },
   "outputs": [],
   "source": [
    "show_one_step(dsmd, \n",
    "                mesh_models_detailed,  \n",
    "                episode = 0, # overall (epochs * episodes_per_epoch)\n",
    "                step=1,\n",
    "                object_to_inspect=\"mug\",\n",
    "                target_rotation = [0,0,0],\n",
    "              show_full_path=True,\n",
    "              color_by_curvature=True,\n",
    "                ax_range=0.04)"
   ]
  },
  {
   "cell_type": "code",
   "execution_count": null,
   "id": "4d8034d3",
   "metadata": {},
   "outputs": [],
   "source": []
  }
 ],
 "metadata": {
  "interpreter": {
   "hash": "f0ad11be121d98e73fe98d434a6e7b5428449b783f32e7e39610688921d18d5e"
  },
  "kernelspec": {
   "display_name": "Python 3 (ipykernel)",
   "language": "python",
   "name": "python3"
  },
  "language_info": {
   "codemirror_mode": {
    "name": "ipython",
    "version": 3
   },
   "file_extension": ".py",
   "mimetype": "text/x-python",
   "name": "python",
   "nbconvert_exporter": "python",
   "pygments_lexer": "ipython3",
   "version": "3.8.13"
  }
 },
 "nbformat": 4,
 "nbformat_minor": 5
}
