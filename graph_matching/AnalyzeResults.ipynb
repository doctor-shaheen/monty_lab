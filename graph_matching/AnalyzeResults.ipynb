{
 "cells": [
  {
   "cell_type": "markdown",
   "id": "8802c852",
   "metadata": {},
   "source": [
    "# Analyze Statistics from Monty Expriment\n",
    "Run experiment with `python run.py -e PPF_pred_tests` for matching using point pair features, `python run.py -e displacement_pred_tests` for displacements, or `python run.py -e feature_pred_tests` for feature matching (guided by displacements)."
   ]
  },
  {
   "cell_type": "code",
   "execution_count": null,
   "id": "8ed2ab7d",
   "metadata": {},
   "outputs": [],
   "source": [
    "import os\n",
    "import numpy as np\n",
    "import pandas as pd\n",
    "import seaborn as sns\n",
    "import matplotlib.pyplot as plt\n",
    "\n",
    "from tbp.monty.frameworks.utils.logging_utils import (load_stats, \n",
    "                                                        check_rotation_accuracy,print_unsupervised_stats
    "from tbp.monty.frameworks.utils.plot_utils import (\n",
    "    plot_graph, \n",
    "    plot_feature_matching_animation,\n",
    "    show_one_step,\n",
    "plot_rotation_stat_animation,\n",
    "plot_detection_stat_animation,)"
   ]
  },
  {
   "cell_type": "code",
   "execution_count": null,
   "id": "5c3b7930",
   "metadata": {},
   "outputs": [],
   "source": [
    "# General paths:\n",
    "pretrain_path = os.path.expanduser(\"~/tbp/results/monty/pretrained_models/\")\n",
    "log_path = os.path.expanduser(\"~/tbp/results/monty/projects/monty_runs/\")\n",
    "# log_path = os.path.expanduser(\"~/tbp/results/monty/projects/feature_eval_runs/logs/\")\n",
    "\n",
    "# Specific experiment paths:\n",
    "exp_path = log_path + \"feature_pred_tests/\"\n",
    "# exp_path = log_path + \"partial_rotation_eval_on_mesh/\"\n",
    "# pretrained_dict = pretrain_path + \"feature_eval_runs_xyz/pretrained_ycb4_stepsize5/supervised_pre_training_base/pretrained/\"\n",
    "pretrained_dict = pretrain_path + \"feature_eval_runs_xyz/pretrained_models_from_mesh/ycb4_3000p/\"\n",
    "\n",
    "train_stats, eval_stats, detailed_stats, lm_models = load_stats(exp_path,\n",
    "                                                                load_train=False,\n",
    "                                                                load_eval=True,\n",
    "                                                                load_detailed=True,\n",
    "                                                                pretrained_dict=pretrained_dict,\n",
    "                                                               )"
   ]
  },
  {
   "cell_type": "code",
   "execution_count": null,
   "id": "fd951972",
   "metadata": {},
   "outputs": [],
   "source": [
    "sns.set(font_scale = 1.0)\n",
    "plot_feature_matching_animation(detailed_stats, \n",
    "                                lm_models,  \n",
    "                                episode = 4, \n",
    "                                objects=['mug', 'potted_meat_can'],\n",
    "                                show_num_pos=None,\n",
    "                                show_path=True,\n",
    "                                ax_range=0.05)"
   ]
  },
  {
   "cell_type": "markdown",
   "id": "96290c6b",
   "metadata": {},
   "source": [
    "### Load from multiple LMs"
   ]
  },
  {
   "cell_type": "code",
   "execution_count": null,
   "id": "4f0ef7b1",
   "metadata": {},
   "outputs": [],
   "source": [
    "pretrain_path = os.path.expanduser(\"~/tbp/results/monty/pretrained_models/\")\n",
    "exp_path = log_path + \"multi_lm_feature_pred_tests/\"\n",
    "pretrained_dict = pretrain_path + \"multi_lm_training/pretrained/\"\n",
    "\n",
    "train_stats, eval_stats, detailed_stats, lm_models = load_stats(exp_path,\n",
    "                                                                load_train=False,\n",
    "                                                                load_eval=True,\n",
    "                                                                load_detailed=True,\n",
    "                                                                pretrained_dict=pretrained_dict,\n",
    "                                                               )"
   ]print_unsupervised_stats
  },
  {
   "cell_type": "code",
   "execution_count": null,
   "id": "a864e1a5",
   "metadata": {},
   "outputs": [],
   "source": [
    "%matplotlib notebook"
   ]
  },
  {
   "cell_type": "code",
   "execution_count": null,
   "id": "bbac464b",
   "metadata": {},
   "outputs": [],
   "source": [
    "plot_graph(lm_models['pretrained'][0]['mug'], show_edges=False)\n",
    "plt.show()"
   ]
  },
  {
   "cell_type": "code",
   "execution_count": null,
   "id": "dac93b01",
   "metadata": {},
   "outputs": [],
   "source": [
    "plt.figure()\n",
    "plt.subplot(1,2,1)\n",
    "plt.imshow(detailed_stats['0']['SM_0']['raw_observations'][2]['rgba'])\n",
    "plt.title(\"patch 1\")\n",
    "plt.axis('off')\n",
    "plt.subplot(1,2,2)\n",
    "plt.imshow(detailed_stats['0']['SM_1']['raw_observations'][2]['rgba'])\n",
    "plt.title(\"patch 2\")\n",
    "plt.axis('off')\n",
    "plt.show()"
   ]
  },
  {
   "cell_type": "code",
   "execution_count": null,
   "id": "2a126056",
   "metadata": {},
   "outputs": [],
   "source": [
    "import os\n",
    "save_name = 'feature_pred_from_sensor_high_curv_tolerance_low_md'\n",
    "SAVE_FIGS = False\n",
    "if SAVE_FIGS:\n",
    "    os.mkdir('./figures/' + save_name)"
   ]
  },
  {
   "cell_type": "code",
   "execution_count": null,
   "id": "c9538cb2",
   "metadata": {},
   "outputs": [],
   "source": [
    "stats_to_plot = eval_stats\n",
    "# stats_to_plot"
   ]
  },
  {
   "cell_type": "code",
   "execution_count": null,
   "id": "9015985c",
   "metadata": {
    "scrolled": false
   },
   "outputs": [],
   "source": [
    "plt.figure(figsize=(10,7))\n",
    "sns.set(font_scale = 1.5)\n",
    "sns.histplot(data=stats_to_plot, x=\"performance\", hue='target_object', multiple=\"stack\")\n",
    "# sns.histplot(data=stats_to_plot.sort_values(by=\"performance\"), x=\"performance\", hue='target_object', multiple=\"stack\")\n",
    "plt.savefig(\n",
    "    \"./figures/\"+save_name+\"/feature_pred_rotated.png\", bbox_inches=\"tight\", dpi=200\n",
    ") if SAVE_FIGS else plt.show()"
   ]
  },
  {
   "cell_type": "code",
   "execution_count": null,
   "id": "e6a33d94",
   "metadata": {},
   "outputs": [],
   "source": [
    "plt.figure(figsize=(10,7))\n",
    "stats_to_plot.loc[stats_to_plot[\"performance\"]==\"Patch Off Object\", \"Num Steps\"] = 1.0\n",
    "ax = sns.barplot(x='performance', y='num_steps', hue='target_object', data=stats_to_plot)\n",
    "# ax = sns.barplot(x='performance', y='num_steps', hue='target_object', data=stats_to_plot.sort_values(by=\"performance\"))\n",
    "# ax.get_legend().remove()\n",
    "plt.xlabel('')\n",
    "plt.xticks(fontsize=15)\n",
    "plt.ylabel('Number of Saccades', fontsize=15)\n",
    "plt.yticks(fontsize=15)\n",
    "plt.savefig(\n",
    "    \"./figures/\"+save_name+\"/feature_obj_rotated.png\", bbox_inches=\"tight\", dpi=200\n",
    ") if SAVE_FIGS else plt.show()"
   ]
  },
  {
   "cell_type": "code",
   "execution_count": null,
   "id": "ff0605e8",
   "metadata": {},
   "outputs": [],
   "source": [
    "plt.figure(figsize=(10,7))\n",
    "sns.set(font_scale = 1.5)\n",
    "g = sns.histplot(data=stats_to_plot, x=\"performance\", hue=\"target_rotation_euler\", multiple=\"dodge\", shrink=.8)\n",
    "#g.set_yscale(\"log\")\n",
    "plt.savefig(\n",
    "    \"./figures/\"+save_name+\"/feature_performance_rotated.png\", bbox_inches=\"tight\", dpi=200\n",
    ") if SAVE_FIGS else plt.show()"
   ]
  },
  {
   "cell_type": "code",
   "execution_count": null,
   "id": "ba3fef94",
   "metadata": {},
   "outputs": [],
   "source": [
    "plt.figure(figsize=(10,3))\n",
    "plt.hist(stats_to_plot[stats_to_plot[\"detected_scale\"].notna()][\"detected_scale\"], bins = 100)# np.linspace(0, 7, 29))\n",
    "#plt.ylim([0,10])\n",
    "plt.show()"
   ]
  },
  {
   "cell_type": "code",
   "execution_count": null,
   "id": "51674831",
   "metadata": {},
   "outputs": [],
   "source": [
    "plt.figure()\n",
    "sns.scatterplot(stats_to_plot[\"time\"], stats_to_plot[\"num_steps\"], hue=stats_to_plot[\"target_object\"])\n",
    "plt.savefig(\n",
    "    \"./figures/\"+save_name+\"/runtime_numsteps.png\", bbox_inches=\"tight\", dpi=200\n",
    ") if SAVE_FIGS else plt.show()"
   ]
  },
  {
   "cell_type": "code",
   "execution_count": null,
   "id": "9bf7c04a",
   "metadata": {},
   "outputs": [],
   "source": [
    "plt.figure()\n",
    "for episode in detailed_stats:\n",
    "    times = detailed_stats[episode]['LM_0']['relative_time']\n",
    "    plt.plot(times)\n",
    "plt.xlabel(\"steps\")\n",
    "plt.ylabel(\"time (s)\")\n",
    "plt.savefig(\n",
    "    \"./figures/\"+save_name+\"/runtime.png\", bbox_inches=\"tight\", dpi=200\n",
    ") if SAVE_FIGS else plt.show()\n",
    "# The runs where the first step is fast are runs where already the first feature before \n",
    "# moving narrows down the possible locations a lot (i.e. starting on edge of cup handle)"
   ]
  },
  {
   "cell_type": "markdown",
   "id": "722d9932",
   "metadata": {},
   "source": [
    "## Analyze Detailed Stats"
   ]
  },
  {
   "cell_type": "code",
   "execution_count": null,
   "id": "0032d448",
   "metadata": {},
   "outputs": [],
   "source": [
    "rotation_stats = check_rotation_accuracy(detailed_stats, last_n_step=1)\n",
    "plt.figure(figsize=(20,7))\n",
    "sns.set(font_scale = 1.5)\n",
    "sns.histplot(data=rotation_stats, x=\"performance\", hue='object', multiple=\"stack\")\n",
    "# sns.histplot(data=stats_to_plot.sort_values(by=\"performance\"), x=\"performance\", hue='target_object', multiple=\"stack\")\n",
    "plt.savefig(\n",
    "    \"./figures/\"+save_name+\"/feature_rotation_perf.png\", bbox_inches=\"tight\", dpi=200\n",
    ") if SAVE_FIGS else plt.show()"
   ]
  },
  {
   "cell_type": "code",
   "execution_count": null,
   "id": "3ed70cfa",
   "metadata": {},
   "outputs": [],
   "source": [
    "plt.figure(figsize=(17,5))\n",
    "sns.set(font_scale = 1.5)\n",
    "g = sns.histplot(data=rotation_stats, x=\"performance\", hue=\"target_rotation\", multiple=\"dodge\", shrink=.8)\n",
    "#g.set_yscale(\"log\")\n",
    "plt.savefig(\n",
    "    \"./figures/\"+save_name+\"/feature_rotation_perf_detailed.png\", bbox_inches=\"tight\", dpi=200\n",
    ") if SAVE_FIGS else plt.show()"
   ]
  },
  {
   "cell_type": "code",
   "execution_count": null,
   "id": "795d9b5b",
   "metadata": {
    "scrolled": false
   },
   "outputs": [],
   "source": [
    "plot_rotation_stat_animation(detailed_stats, 5)"
   ]
  },
  {
   "cell_type": "code",
   "execution_count": null,
   "id": "c69b4224",
   "metadata": {},
   "outputs": [],
   "source": [
    "plot_detection_stat_animation(detailed_stats,5)"
   ]
  },
  {
   "cell_type": "markdown",
   "id": "4162c8f8",
   "metadata": {},
   "source": [
    "## Look at Models"
   ]
  },
  {
   "cell_type": "code",
   "execution_count": null,
   "id": "73a72498",
   "metadata": {},
   "outputs": [],
   "source": [
    "mug_graph = lm_models['pretrained']['mug']\n",
    "bowl_graph = lm_models['pretrained']['bowl']"
   ]
  },
  {
   "cell_type": "code",
   "execution_count": null,
   "id": "8aeb17fa",
   "metadata": {},
   "outputs": [],
   "source": [
    "mug_graph.x.shape"
   ]
  },
  {
   "cell_type": "code",
   "execution_count": null,
   "id": "49ff1494",
   "metadata": {},
   "outputs": [],
   "source": [
    "plot_graph(mug_graph, show_edges=False, rotation=20)\n",
    "plt.show()"
   ]
  },
  {
   "cell_type": "code",
   "execution_count": null,
   "id": "cab583c7",
   "metadata": {},
   "outputs": [],
   "source": [
    "plot_graph(bowl_graph, show_edges=True, rotation=20)\n",
    "plt.show()"
   ]
  },
  {
   "cell_type": "markdown",
   "id": "dfdfb17b",
   "metadata": {},
   "source": [
    "## Inspect Specific Episode"
   ]
  },
  {
   "cell_type": "code",
   "execution_count": null,
   "id": "5346d9ea",
   "metadata": {},
   "outputs": [],
   "source": [
    "sns.set(font_scale = 1.0)"
   ]
  },
  {
   "cell_type": "code",
   "execution_count": null,
   "id": "ddf005d2",
   "metadata": {},
   "outputs": [],
   "source": [
    "plot_feature_matching_animation(detailed_stats, \n",
    "                                lm_models,  \n",
    "                                episode = 0, # overall (epochs * episodes_per_epoch)\n",
    "                                objects=[\"mug\", \"bowl\"],\n",
    "                                show_num_pos=None,\n",
    "                                show_path=True,\n",
    "                                ax_range=0.05)"
   ]
  },
  {
   "cell_type": "code",
   "execution_count": null,
   "id": "e2d0b3e0",
   "metadata": {},
   "outputs": [],
   "source": [
    "plot_feature_matching_animation(detailed_stats, \n",
    "                                lm_models,  \n",
    "                                episode = 2, # overall (epochs * episodes_per_epoch)\n",
    "                                objects=[\"master_chef_can\", \"potted_meat_can\"],\n",
    "                                show_num_pos=None,\n",
    "                                show_path=True,\n",
    "                                ax_range=0.05)"
   ]
  },
  {
   "cell_type": "code",
   "execution_count": null,
   "id": "ca9af46e",
   "metadata": {},
   "outputs": [],
   "source": [
    "%matplotlib notebook"
   ]
  },
  {
   "cell_type": "code",
   "execution_count": null,
   "id": "3d1e4a33",
   "metadata": {},
   "outputs": [],
   "source": [
    "plt.figure()\n",
    "ax = plt.subplot(1,1,1,projection='3d')\n",
    "pos = np.array(detailed_stats['1']['SM_0']['raw_observations'][9]['semantic_3d'])\n",
    "on_obj = np.where(pos[:,3] > 0)\n",
    "pos = pos[on_obj]\n",
    "ax.scatter(pos[:,0], pos[:,1], pos[:,2])\n",
    "plt.show()"
   ]
  },
  {
   "cell_type": "code",
   "execution_count": null,
   "id": "6559f1e4",
   "metadata": {},
   "outputs": [],
   "source": [
    "plot_feature_matching_animation(detailed_stats, \n",
    "                                lm_models,  \n",
    "                                episode = 0, # overall (epochs * episodes_per_epoch)\n",
    "                                objects=[\"mug\", \"bowl\"],\n",
    "                                show_num_pos=None,\n",
    "                                show_path=True,\n",
    "                                ax_range=0.05)"
   ]
  },
  {
   "cell_type": "code",
   "execution_count": null,
   "id": "a2dc249d",
   "metadata": {},
   "outputs": [],
   "source": [
    "plot_feature_matching_animation(detailed_stats, \n",
    "                                lm_models,  \n",
    "                                episode = 2, # overall (epochs * episodes_per_epoch)\n",
    "                                objects=[\"mug\", \"bowl\"],\n",
    "                                show_num_pos=None,\n",
    "                                show_path=True,\n",
    "                                ax_range=0.05)"
   ]
  },
  {
   "cell_type": "code",
   "execution_count": null,
   "id": "0be9adaf",
   "metadata": {},
   "outputs": [],
   "source": [
    "plot_feature_matching_animation(detailed_stats, \n",
    "                                lm_models,  \n",
    "                                episode = 3, # overall (epochs * episodes_per_epoch)\n",
    "                                objects=[\"potted_meat_can\", \"master_chef_can\"],#,\"mug\", \"bowl\"], \n",
    "                                ax_range=0.03)"
   ]
  },
  {
   "cell_type": "code",
   "execution_count": null,
   "id": "74d95a34",
   "metadata": {},
   "outputs": [],
   "source": [
    "plot_feature_matching_animation(detailed_stats, \n",
    "                                lm_models,  \n",
    "                                episode = 29, # overall (epochs * episodes_per_epoch)\n",
    "                                objects=[\"mug\", \"bowl\"],\n",
    "                                show_num_pos=None,\n",
    "                                show_path=True,\n",
    "                                ax_range=0.05)"
   ]
  },
  {
   "cell_type": "code",
   "execution_count": null,
   "id": "bc674496",
   "metadata": {},
   "outputs": [],
   "source": [
    "plot_feature_matching_animation(detailed_stats, \n",
    "                                lm_models,  \n",
    "                                episode = 3, # overall (epochs * episodes_per_epoch)\n",
    "                                objects=[\"potted_meat_can\", \"master_chef_can\",\"mug\", \"bowl\"], \n",
    "                                ax_range=0.05)"
   ]
  },
  {
   "cell_type": "code",
   "execution_count": null,
   "id": "66f2bcb2",
   "metadata": {},
   "outputs": [],
   "source": [
    "plot_feature_matching_animation(detailed_stats, \n",
    "                                lm_models,  \n",
    "                                episode = 11, # overall (epochs * episodes_per_epoch)\n",
    "                                objects=[\"potted_meat_can\", \"master_chef_can\",\"mug\", \"bowl\"], \n",
    "                                ax_range=0.05)"
   ]
  },
  {
   "cell_type": "code",
   "execution_count": null,
   "id": "cf1ce2c1",
   "metadata": {},
   "outputs": [],
   "source": [
    "%matplotlib notebook"
   ]
  },
  {
   "cell_type": "code",
   "execution_count": null,
   "id": "137feaa0",
   "metadata": {
    "scrolled": false
   },
   "outputs": [],
   "source": [
    "show_one_step(detailed_stats, \n",
    "                lm_models,  \n",
    "                episode = 5, # overall (epochs * episodes_per_epoch)\n",
    "                step=16,\n",
    "                object_to_inspect=\"bowl\",\n",
    "                target_rotation = [0,315,0],\n",
    "              show_full_path=True,\n",
    "              color_by_curvature=True,\n",
    "                ax_range=0.04)"
   ]
  },
  {
   "cell_type": "markdown",
   "id": "f0626e06",
   "metadata": {},
   "source": [
    "### Customized show_one_step Method\n",
    "\n",
    "Just for improving and testing here. Stable function can also be imported from `plot_log_utils.py`."
   ]
  },
  {
   "cell_type": "code",
   "execution_count": null,
   "id": "8ee43b34",
   "metadata": {},
   "outputs": [],
   "source": [
    "from scipy.spatial.transform import Rotation\n",
    "from tbp.monty.frameworks.utils.spatial_arithmetics import get_angle\n",
    "from tbp.monty.frameworks.utils.plot_utils import (get_model_id, \n",
    "                                                    plot_previous_path, \n",
    "                                                         plot_normal,\n",
    "                                                        plot_search_displacements,\n",
    "                                                        format_ax)"
   ]
  },
  {
   "cell_type": "code",
   "execution_count": null,
   "id": "c52cce9d",
   "metadata": {},
   "outputs": [],
   "source": [
    "def show_one_step(\n",
    "    stats,\n",
    "    lm_models,\n",
    "    episode,\n",
    "    step,\n",
    "    target_rotation,\n",
    "    object_to_inspect,\n",
    "    lm_id=\"LM_0\",\n",
    "    lm_num=0,\n",
    "    object_name=None,\n",
    "    show_num_pos=None,\n",
    "    show_full_path=False,\n",
    "    color_by_curvature=False,\n",
    "    show_point_normals=False,\n",
    "    norm_len=0.01,\n",
    "    ax_range=0.05,\n",
    "):\n",
    "    \"\"\"\n",
    "    Shows matching procedure for one specific time step. Best used in a notebook with\n",
    "    `%matplotlib notebook` to rotate and zoom on the 3d plot.\n",
    "    \"\"\"\n",
    "\n",
    "    epoch = stats[str(episode)][lm_id][\"train_epochs\"]\n",
    "    model_id = get_model_id(epoch, stats[str(episode)][lm_id][\"mode\"])\n",
    "    if object_name is None:\n",
    "        object_name = object_to_inspect\n",
    "    model_pos = lm_models[model_id][lm_num][object_to_inspect].pos.numpy()\n",
    "    model_features = lm_models[model_id][lm_num][object_to_inspect].x.numpy()\n",
    "    model_normals = lm_models[model_id][lm_num][object_to_inspect].norm.numpy()\n",
    "    model_f_mapping = lm_models[model_id][lm_num][object_to_inspect].feature_mapping\n",
    "\n",
    "    fig = plt.figure(figsize=(7, 7))\n",
    "    fig.tight_layout()\n",
    "    ax = fig.add_subplot(1, 1, 1, projection=\"3d\")\n",
    "    ax.axis(\"off\")\n",
    "    \n",
    "    displacement = stats[str(episode)][lm_id][\"displacement\"][step + 1]\n",
    "    observed_curvature = [stats[str(episode)][lm_id]['gaussian_curvature_sc'][step + 1],\n",
    "                          stats[str(episode)][lm_id]['mean_curvature_sc'][step + 1]]\n",
    "    print(\n",
    "        f\"query curvature: {observed_curvature}\"\n",
    "    )\n",
    "    observed_pn = stats[str(episode)][lm_id][\"point_normal\"][step + 1]\n",
    "\n",
    "    num_possible_paths = len(\n",
    "        stats[str(episode)][lm_id][\"possible_poses\"][step][object_to_inspect]\n",
    "    )\n",
    "    # would be right node I think\n",
    "#     ax.scatter(\n",
    "#             model_pos[709, 0],\n",
    "#             model_pos[709, 1],\n",
    "#             model_pos[709, 2],\n",
    "#             alpha=0.7,\n",
    "#             s=60,\n",
    "#             c=\"purple\",\n",
    "#         )\n",
    "    curvature_ids = model_f_mapping[\"gaussian_curvature_sc\"]\n",
    "    if color_by_curvature:\n",
    "        model_curvatures = model_features[\n",
    "            :, curvature_ids[0] : curvature_ids[1]\n",
    "        ]\n",
    "        for p_id, p in enumerate(model_pos):\n",
    "            # Only for 0,0,0 orientation\n",
    "            graph_pn = model_normals[p_id].copy()\n",
    "            angle = get_angle(graph_pn, observed_pn)\n",
    "            angle = (angle - np.pi) % np.pi\n",
    "            on_same_surface_side = True#angle < np.pi / 2\n",
    "            if on_same_surface_side:\n",
    "                ax.scatter(\n",
    "                model_pos[p_id, 0],\n",
    "                model_pos[p_id, 1],\n",
    "                model_pos[p_id, 2],\n",
    "                alpha=0.7,\n",
    "                s=5,\n",
    "                vmin=-64,\n",
    "                vmax=64,\n",
    "                cmap=\"seismic\",\n",
    "                c=model_curvatures[p_id]# * model_curvatures[:, 1],\n",
    "            )\n",
    "#         ax.scatter(\n",
    "#             model_pos[:, 0],\n",
    "#             model_pos[:, 1],\n",
    "#             model_pos[:, 2],\n",
    "#             alpha=0.7,\n",
    "#             s=5,\n",
    "#             vmin=-50,\n",
    "#             vmax=50,\n",
    "#             cmap=\"seismic\",\n",
    "#             c=model_curvatures[:, 0]# * model_curvatures[:, 1],\n",
    "#         )\n",
    "    else:\n",
    "        ax.scatter(\n",
    "            model_pos[:, 0],\n",
    "            model_pos[:, 1],\n",
    "            model_pos[:, 2],\n",
    "            alpha=0.7,\n",
    "            s=5,\n",
    "            c=\"grey\",\n",
    "        )\n",
    "    for path in range(num_possible_paths):\n",
    "        current_path = stats[str(episode)][lm_id][\"possible_paths\"][step][\n",
    "            object_to_inspect\n",
    "        ][path]\n",
    "        possible_poses = stats[str(episode)][lm_id][\"possible_poses\"][step][\n",
    "            object_to_inspect\n",
    "        ][path]\n",
    "        start_node = current_path[-1]\n",
    "#         if show_full_path:\n",
    "#             plot_previous_path(ax, current_path, step)\n",
    "#         ax.scatter(\n",
    "#             start_node[0],\n",
    "#             start_node[1],\n",
    "#             start_node[2],\n",
    "#             s=40,\n",
    "#             c=\"green\",\n",
    "#             vmin=0,\n",
    "#         )\n",
    "\n",
    "        search_positions = []\n",
    "\n",
    "        for pose in possible_poses[:show_num_pos]:\n",
    "            ref_frame_rot = Rotation.from_euler(\"xyz\", pose, degrees=True)\n",
    "\n",
    "            search_pos = start_node + ref_frame_rot.apply(displacement)\n",
    "\n",
    "            search_positions.append(search_pos)\n",
    "\n",
    "            node_distances = np.linalg.norm(\n",
    "                model_pos - search_pos,\n",
    "                axis=1,\n",
    "            )\n",
    "            on_same_surface_side = False\n",
    "            while not on_same_surface_side:\n",
    "                closest_node_id = node_distances.argmin()\n",
    "                graph_pn = model_normals[closest_node_id].copy()\n",
    "                graph_pn = ref_frame_rot.apply(graph_pn)\n",
    "#                 observed_pn = ref_frame_rot.apply(observed_pn.copy())\n",
    "                angle = get_angle(graph_pn, observed_pn)\n",
    "                angle = (angle - np.pi) % np.pi\n",
    "                on_same_surface_side = angle < np.pi / 2\n",
    "                if not on_same_surface_side:\n",
    "                    wrong_side_node = model_pos[closest_node_id]\n",
    "#                     ax.scatter(\n",
    "#                         wrong_side_node[0],\n",
    "#                         wrong_side_node[1],\n",
    "#                         wrong_side_node[2],\n",
    "#                         c=\"red\",\n",
    "#                         s=30,\n",
    "#                     )\n",
    "                    print(f\"nearest point not on right surface side for pose {pose}\")\n",
    "                    node_distances[closest_node_id] = 1000000000\n",
    "                    if np.min(node_distances) == 1000000000:\n",
    "                        print(\"no point on right surface side found\")\n",
    "                        break\n",
    "            closest_node_position = model_pos[closest_node_id]\n",
    "\n",
    "            if pose == target_rotation:\n",
    "                print(\n",
    "                    f\"---\\npose {pose} with closest node {closest_node_id} \\n\"\n",
    "                    f\"at position {closest_node_position} \\n\"\n",
    "                    f\"with distance {node_distances[closest_node_id]} \\n\"\n",
    "                    f\"has curvature {model_features[closest_node_id][curvature_ids[0]:curvature_ids[1]+1]}\"\n",
    "                )\n",
    "                color = \"limegreen\"\n",
    "                size = 40\n",
    "                ax.scatter(\n",
    "                    closest_node_position[0],\n",
    "                    closest_node_position[1],\n",
    "                    closest_node_position[2],\n",
    "                    edgecolor=color,\n",
    "                    c=observed_curvature[0],\n",
    "                    s=size,\n",
    "                    vmin=-64,\n",
    "                    vmax=64,\n",
    "                    cmap=\"seismic\",\n",
    "                )\n",
    "#             else:\n",
    "#                 color = \"pink\"\n",
    "#                 size = 10\n",
    "#                 ax.scatter(\n",
    "#                     closest_node_position[0],\n",
    "#                     closest_node_position[1],\n",
    "#                     closest_node_position[2],\n",
    "#                     c=color,\n",
    "#                     s=size,\n",
    "#                 )\n",
    "            if show_point_normals and pose == target_rotation:\n",
    "                norm = model_normals[closest_node_id]\n",
    "                print(\"norm at closest node (black): \" + str(norm))\n",
    "                print(\n",
    "                    \"rotated norm (pink): \"\n",
    "                    + str(graph_pn)\n",
    "                    + \" for pose \"\n",
    "                    + str(pose)\n",
    "                )\n",
    "                print(\"observed norm (olive): \" + str(observed_pn))\n",
    "                print(\"angle between rotated and observed: \" + str(angle))\n",
    "                plot_normal(ax, closest_node_position, norm, norm_len*2, \"black\")\n",
    "                plot_normal(\n",
    "                    ax, closest_node_position, graph_pn, norm_len*3, \"pink\"\n",
    "                )\n",
    "                plot_normal(ax, closest_node_position, observed_pn, norm_len*2, \"olive\")\n",
    "        \n",
    "        search_positions = np.array(search_positions)\n",
    "        plot_search_displacements(ax, search_positions, start_node)\n",
    "\n",
    "        ax.set_title(f\"Step {step} - {object_name}\")\n",
    "        format_ax(ax, model_pos, ax_range, rotate=False, step=step)"
   ]
  },
  {
   "cell_type": "code",
   "execution_count": null,
   "id": "07765f9c",
   "metadata": {},
   "outputs": [],
   "source": [
    "%matplotlib notebook"
   ]
  },
  {
   "cell_type": "code",
   "execution_count": null,
   "id": "1dfb0b1c",
   "metadata": {
    "scrolled": false
   },
   "outputs": [],
   "source": [
    "show_one_step(detailed_stats, \n",
    "                lm_models,  \n",
    "                episode = 0, # overall (epochs * episodes_per_epoch)\n",
    "                step=0,\n",
    "                object_to_inspect=\"mug\",\n",
    "                target_rotation = [0,0,0],\n",
    "                show_full_path=True,\n",
    "                show_point_normals=True,\n",
    "                color_by_curvature=True,\n",
    "                ax_range=0.04)"
   ]
  },
  {
   "cell_type": "markdown",
   "id": "7cb55f46",
   "metadata": {},
   "source": [
    "### Misc Visualizations"
   ]
  },
  {
   "cell_type": "code",
   "execution_count": null,
   "id": "d3fe0021",
   "metadata": {},
   "outputs": [],
   "source": [
    "def get_on_surface_th(depth_patch, min_depth_range):\n",
    "    depths = np.array(depth_patch).flatten()\n",
    "    flip_sign = False\n",
    "    th = 1000  # just high value\n",
    "    if (max(depths) - min(depths)) > min_depth_range:\n",
    "        # only check for bimodal distribution if we have a large enough\n",
    "        # range in depth values\n",
    "        height, bins = np.histogram(\n",
    "            np.array(depth_patch).flatten(), bins=8, density=False\n",
    "        )\n",
    "        gap = np.where(height == 0)[0]\n",
    "        if len(gap) > 0:\n",
    "            gap_center = len(gap) // 2\n",
    "            th_id = gap[gap_center]\n",
    "            th = bins[th_id]\n",
    "            # print(height)\n",
    "            if np.sum(height[:th_id]) < np.sum(height[th_id:]):\n",
    "                # more points in the patch are on the further away surface\n",
    "                # print(bins[-1] - bins[0])\n",
    "                if (bins[-1] - bins[0]) < 0.1:\n",
    "                    # not too large distance between depth values -> avoid\n",
    "                    # flipping sign when off object\n",
    "                    flip_sign = True\n",
    "    return th, flip_sign\n",
    "\n",
    "def get_semantic_from_depth(depth_patch):\n",
    "    # empty void has depth 0 for some reason when it should actually have\n",
    "    # the highest depth.\n",
    "    depth_patch[depth_patch == 0] = 1.0\n",
    "    # avoid large range when seeing the table (goes up to almost 100 and then\n",
    "    # just using 8 bins will not work anymore)\n",
    "    depth_patch[depth_patch > 1] = 1.0\n",
    "    th, flip_sign = get_on_surface_th(\n",
    "        depth_patch, min_depth_range=0.01\n",
    "    )\n",
    "    # print(f\"th: {th}, flip sign = {flip_sign}\")\n",
    "    if flip_sign is False:\n",
    "        semantic_patch = depth_patch < th\n",
    "    else:\n",
    "        semantic_patch = depth_patch > th\n",
    "    return semantic_patch"
   ]
  },
  {
   "cell_type": "code",
   "execution_count": null,
   "id": "387f9b34",
   "metadata": {},
   "outputs": [],
   "source": [
    "ds = detailed_stats\n",
    "episode = 0\n",
    "step = 2\n",
    "plt.figure(figsize=(12,2))\n",
    "plt.subplot(1,5,1)\n",
    "plt.title('view finder')\n",
    "plt.imshow(ds[str(episode)]['SM_1']['raw_observations'][step]['rgba'])\n",
    "plt.axis('off')\n",
    "plt.subplot(1,5,2)\n",
    "plt.title('patch (rgba)')\n",
    "plt.imshow(ds[str(episode)]['SM_0']['raw_observations'][step]['rgba'])\n",
    "plt.axis('off')\n",
    "plt.subplot(1,5,3)\n",
    "plt.title('patch (depth)')\n",
    "plt.imshow(ds[str(episode)]['SM_0']['raw_observations'][step]['depth'])\n",
    "plt.axis('off')\n",
    "plt.colorbar()\n",
    "plt.subplot(1,5,4)\n",
    "plt.title('depth distribution')\n",
    "depth_patch = np.array(ds[str(episode)]['SM_0']['raw_observations'][step]['depth'])\n",
    "\n",
    "depths = depth_patch.flatten()\n",
    "height, bins = np.histogram(depths, bins=8, density=False)\n",
    "plt.bar(bins[:-1], height, width=(max(depths)-min(depths))/8)\n",
    "\n",
    "th, _ = get_on_surface_th(depth_patch, min_depth_range=0.01)\n",
    "if th<100:\n",
    "    plt.plot([th,th],[0,max(height)], c='red')\n",
    "plt.yticks([])\n",
    "\n",
    "plt.subplot(1,5,5)\n",
    "plt.title('on surface')\n",
    "plt.imshow(get_semantic_from_depth(depth_patch), cmap='RdYlGn', vmin=0, vmax=1)\n",
    "# plt.colorbar()\n",
    "plt.axis('off')\n",
    "plt.show()"
   ]
  },
  {
   "cell_type": "code",
   "execution_count": null,
   "id": "0ff8d934",
   "metadata": {},
   "outputs": [],
   "source": []
  }
 ],
 "metadata": {
  "kernelspec": {
   "display_name": "Python 3 (ipykernel)",
   "language": "python",
   "name": "python3"
  },
  "language_info": {
   "codemirror_mode": {
    "name": "ipython",
    "version": 3
   },
   "file_extension": ".py",
   "mimetype": "text/x-python",
   "name": "python",
   "nbconvert_exporter": "python",
   "pygments_lexer": "ipython3",
   "version": "3.8.13"
  }
 },
 "nbformat": 4,
 "nbformat_minor": 5
}
