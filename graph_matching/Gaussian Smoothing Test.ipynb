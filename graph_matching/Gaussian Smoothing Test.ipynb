{
 "cells": [
  {
   "cell_type": "code",
   "execution_count": null,
   "id": "b7629b61",
   "metadata": {},
   "outputs": [],
   "source": [
    "import os\n",
    "import numpy as np\n",
    "import matplotlib.pyplot as plt\n",
    "from matplotlib import cm\n",
    "%matplotlib notebook\n",
    "\n",
    "from tbp.monty.frameworks.utils.logging_utils import (load_stats,\n",
    "                                                         print_overall_stats,\n",
    "                                                         print_unsupervised_stats)\n",
    "from tbp.monty.frameworks.utils.plot_utils import (plot_graph,\n",
    "                                                         show_initial_hypotheses, \n",
    "                                                         plot_evidence_at_step)"
   ]
  },
  {
   "cell_type": "code",
   "execution_count": null,
   "id": "d1fd0aa4",
   "metadata": {},
   "outputs": [],
   "source": [
    "pretrain_path = os.path.expanduser(\"~/tbp/results/monty/pretrained_models/\")\n",
    "pretrained_dict = pretrain_path + \"pretrained_ycb_v3/supervised_pre_training_base/pretrained/\"\n",
    "\n",
    "log_path = os.path.expanduser(\"~/tbp/results/monty/projects/evidence_eval_runs/logs/\")\n",
    "\n",
    "exp_name = \"randomrot_rawnoise_10distobj_touch/\"\n",
    "exp_path = log_path + exp_name\n",
    "\n",
    "save_path = exp_path + '/stepwise_examples/'\n",
    "\n",
    "train_stats, eval_stats, detailed_stats, lm_models = load_stats(exp_path,\n",
    "                                                                load_train=False,\n",
    "                                                                load_eval=False,\n",
    "                                                                load_detailed=True,\n",
    "                                                                load_models=False,\n",
    "                                                                pretrained_dict=pretrained_dict,\n",
    "                                                               )"
   ]
  },
  {
   "cell_type": "code",
   "execution_count": null,
   "id": "2d2b5ca4",
   "metadata": {},
   "outputs": [],
   "source": [
    "print(len(detailed_stats['0']['SM_0']['raw_observations'][10]['depth'][0]))\n",
    "#['SM_1']['raw_observations'][0]['depth'])"
   ]
  },
  {
   "cell_type": "code",
   "execution_count": null,
   "id": "1ad56bf2",
   "metadata": {},
   "outputs": [],
   "source": []
  },
  {
   "cell_type": "code",
   "execution_count": null,
   "id": "2a18ad79",
   "metadata": {},
   "outputs": [],
   "source": [
    "def plot_image_grid(images, ncols=None, cmap='gray'):\n",
    "    '''Plot a grid of images'''\n",
    "    if not ncols:\n",
    "        factors = [i for i in range(1, len(images)+1) if len(images) % i == 0]\n",
    "        ncols = factors[len(factors) // 2] if len(factors) else len(images) // 4 + 1\n",
    "    nrows = int(len(images) / ncols) + int(len(images) % ncols)\n",
    "    imgs = [images[i] if len(images) > i else None for i in range(nrows * ncols)]\n",
    "    f, axes = plt.subplots(nrows, ncols, figsize=(3*ncols, 2*nrows))\n",
    "    axes = axes.flatten()[:len(imgs)]\n",
    "    for img, ax in zip(imgs, axes.flatten()): \n",
    "        if np.any(img):\n",
    "            if len(img.shape) > 2 and img.shape[2] == 1:\n",
    "                img = img.squeeze()\n",
    "            ax.imshow(img, cmap=cmap)"
   ]
  },
  {
   "cell_type": "code",
   "execution_count": null,
   "id": "dd479f92",
   "metadata": {},
   "outputs": [],
   "source": [
    "idx_array = [10, 23, 56, 73, 68, 95, 123, 300]\n",
    "\n",
    "img_list = []\n",
    "for idx in idx_array:\n",
    "    img_list.append(np.array(detailed_stats['0']['SM_0']['raw_observations'][idx]['rgba']))\n",
    "\n",
    "plot_image_grid(img_list, ncols=None, cmap='gray')"
   ]
  },
  {
   "cell_type": "code",
   "execution_count": null,
   "id": "cd329d1c",
   "metadata": {},
   "outputs": [],
   "source": [
    "depth_image = np.array(detailed_stats['1']['SM_0']['raw_observations'][1]['depth'])\n",
    "print(depth_image)\n",
    "X = np.arange(64)\n",
    "Y = np.arange(64)\n",
    "X, Y = np.meshgrid(X, Y)\n",
    "\n",
    "fig, ax = plt.subplots(subplot_kw={\"projection\": \"3d\"})                      \n",
    "surf = ax.plot_surface(X, Y, depth_image, cmap=cm.coolwarm,\n",
    "                       linewidth=0, antialiased=False)\n",
    "ax.set_zlim(0.0245, 0.0270)"
   ]
  },
  {
   "cell_type": "code",
   "execution_count": null,
   "id": "c5b1de52",
   "metadata": {},
   "outputs": [],
   "source": []
  }
 ],
 "metadata": {
  "kernelspec": {
   "display_name": "Python 3 (ipykernel)",
   "language": "python",
   "name": "python3"
  },
  "language_info": {
   "codemirror_mode": {
    "name": "ipython",
    "version": 3
   },
   "file_extension": ".py",
   "mimetype": "text/x-python",
   "name": "python",
   "nbconvert_exporter": "python",
   "pygments_lexer": "ipython3",
   "version": "3.8.15 (default, Nov 24 2022, 09:04:07) \n[Clang 14.0.6 ]"
  },
  "vscode": {
   "interpreter": {
    "hash": "ad1996a45de551d39cc2ff3f6af9f6b1a3795c305755b3082c19e72b8cb1b772"
   }
  }
 },
 "nbformat": 4,
 "nbformat_minor": 5
}
