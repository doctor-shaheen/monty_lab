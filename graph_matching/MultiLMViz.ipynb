{
 "cells": [
  {
   "cell_type": "markdown",
   "id": "6632281d",
   "metadata": {},
   "source": [
    "# Analyze Experiments with Multiple LMs"
   ]
  },
  {
   "cell_type": "code",
   "execution_count": null,
   "id": "35767dc9",
   "metadata": {},
   "outputs": [],
   "source": [
    "import os\n",
    "import numpy as np\n",
    "import pandas as pd\n",
    "import seaborn as sns\n",
    "import matplotlib.pyplot as plt\n",
    "\n",
    "from tbp.monty.frameworks.utils.logging_utils import load_stats\n",
    "from tbp.monty.frameworks.utils.plot_utils import (\n",
    "    plot_graph, \n",
    "    plot_feature_matching_animation,\n",
    "plot_detection_stat_animation,)"
   ]
  },
  {
   "cell_type": "code",
   "execution_count": null,
   "id": "a80f567e",
   "metadata": {},
   "outputs": [],
   "source": [
    "log_path = os.path.expanduser(\"~/tbp/results/monty/projects/monty_runs/\")\n",
    "pretrain_path = os.path.expanduser(\"~/tbp/results/monty/pretrained_models/\")\n",
    "exp_path = log_path + \"five_LMs_loc_vote_min5done/\"#five_lm_feature_matching\n",
    "pretrained_dict = pretrain_path + \"five_lm_training/pretrained/\"\n",
    "\n",
    "train_stats, eval_stats, detailed_stats, lm_models = load_stats(exp_path,\n",
    "                                                                load_train=False,\n",
    "                                                                load_eval=True,\n",
    "                                                                load_detailed=True,\n",
    "                                                                pretrained_dict=pretrained_dict,\n",
    "                                                               )"
   ]
  },
  {
   "cell_type": "code",
   "execution_count": null,
   "id": "0aa55945",
   "metadata": {},
   "outputs": [],
   "source": [
    "eval_stats"
   ]
  },
  {
   "cell_type": "code",
   "execution_count": null,
   "id": "111743d6",
   "metadata": {},
   "outputs": [],
   "source": [
    "lms = ['LM_0', 'LM_1', 'LM_2', 'LM_3', 'LM_4']\n",
    "for lm in lms:\n",
    "    print(lm)\n",
    "    for i, pm in enumerate(detailed_stats['1'][lm]['possible_matches']):\n",
    "        print(pm)\n",
    "        if len(pm) == 1:\n",
    "            print(f\"    {detailed_stats['1'][lm]['possible_poses'][i][pm[0]]}\")"
   ]
  },
  {
   "cell_type": "code",
   "execution_count": null,
   "id": "6addc0dc",
   "metadata": {},
   "outputs": [],
   "source": [
    "%matplotlib notebook"
   ]
  },
  {
   "cell_type": "code",
   "execution_count": null,
   "id": "de322f1f",
   "metadata": {},
   "outputs": [],
   "source": [
    "plt.figure()\n",
    "ax = plt.subplot(1,1,1, projection='3d')\n",
    "for i in range(5):\n",
    "    pos = np.array(lm_models['pretrained'][i]['mug'].pos)\n",
    "    s = ax.scatter(\n",
    "        pos[:, 0],\n",
    "        pos[:, 1],\n",
    "        pos[:, 2],\n",
    "        s=5,\n",
    "    )\n",
    "plt.legend(['LM_0','LM_1','LM_2','LM_3','LM_4'])\n",
    "plt.show()"
   ]
  },
  {
   "cell_type": "code",
   "execution_count": null,
   "id": "6aeddd53",
   "metadata": {},
   "outputs": [],
   "source": [
    "episode = 0\n",
    "step = 0\n",
    "\n",
    "plt.figure()\n",
    "plt.subplot(2,3,1)\n",
    "plt.imshow(detailed_stats[str(episode)]['SM_5']['raw_observations'][step]['rgba'])\n",
    "plt.title(\"view finder\")\n",
    "plt.axis('off')\n",
    "plt.subplot(2,3,2)\n",
    "plt.imshow(detailed_stats[str(episode)]['SM_0']['raw_observations'][step]['rgba'])\n",
    "plt.title(\"patch 0\")\n",
    "plt.axis('off')\n",
    "plt.subplot(2,3,3)\n",
    "plt.imshow(detailed_stats[str(episode)]['SM_1']['raw_observations'][step]['rgba'])\n",
    "plt.title(\"patch 1\")\n",
    "plt.axis('off')\n",
    "plt.subplot(2,3,4)\n",
    "plt.imshow(detailed_stats[str(episode)]['SM_2']['raw_observations'][step]['rgba'])\n",
    "plt.title(\"patch 2\")\n",
    "plt.axis('off')\n",
    "plt.subplot(2,3,5)\n",
    "plt.imshow(detailed_stats[str(episode)]['SM_3']['raw_observations'][step]['rgba'])\n",
    "plt.title(\"patch 3\")\n",
    "plt.axis('off')\n",
    "plt.subplot(2,3,6)\n",
    "plt.imshow(detailed_stats[str(episode)]['SM_4']['raw_observations'][step]['rgba'])\n",
    "plt.title(\"patch 4\")\n",
    "plt.axis('off')\n",
    "plt.show()"
   ]
  },
  {
   "cell_type": "code",
   "execution_count": null,
   "id": "c97c4c61",
   "metadata": {},
   "outputs": [],
   "source": [
    "sns.set(font_scale = 1.0)\n",
    "plot_feature_matching_animation(detailed_stats, \n",
    "                                lm_models,\n",
    "                                lm_id=\"LM_0\",\n",
    "                                lm_num=0,\n",
    "                                sm_id_patch=\"SM_0\",\n",
    "                                sm_id_vis=\"SM_5\",\n",
    "                                episode = 1, \n",
    "                                objects=['bowl'],\n",
    "                                show_num_pos=None,\n",
    "                                show_path=True,\n",
    "                                ax_range=0.05)"
   ]
  },
  {
   "cell_type": "code",
   "execution_count": null,
   "id": "9e20a457",
   "metadata": {},
   "outputs": [],
   "source": [
    "detailed_stats['1']['LM_0'].keys()"
   ]
  },
  {
   "cell_type": "code",
   "execution_count": null,
   "id": "df4f5d36",
   "metadata": {},
   "outputs": [],
   "source": [
    "%matplotlib notebook"
   ]
  },
  {
   "cell_type": "code",
   "execution_count": null,
   "id": "b9edf108",
   "metadata": {},
   "outputs": [],
   "source": [
    "lms = ['LM_0', 'LM_1', 'LM_2', 'LM_3', 'LM_4']\n",
    "lm_id = 1\n",
    "obj_id = 'mug'\n",
    "episode = 0\n",
    "step = 0\n",
    "\n",
    "model = lm_models['pretrained'][lm_id][obj_id]\n",
    "model_pos = np.array(model.pos)\n",
    "vote_pos = np.array(detailed_stats[str(episode)][lms[lm_id]]['incoming_location_votes'][step][obj_id])\n",
    "own_pos = np.array(detailed_stats[str(episode)][lms[lm_id]]['possible_paths'][step][obj_id])[:,-1]\n",
    "removed_locations = np.array(detailed_stats[str(episode)][lms[lm_id]]['removed_locations'][step][obj_id])\n"
   ]
  },
  {
   "cell_type": "code",
   "execution_count": null,
   "id": "bf42be58",
   "metadata": {},
   "outputs": [],
   "source": [
    "plt.figure()\n",
    "ax = plt.subplot(1, 1, 1, projection=\"3d\")\n",
    "ax.scatter(\n",
    "    model_pos[:, 0],\n",
    "    model_pos[:, 1],\n",
    "    model_pos[:, 2],\n",
    "    s=1,\n",
    "    color=\"black\",\n",
    "    alpha=0.5,\n",
    ")\n",
    "ax.scatter(\n",
    "    vote_pos[:, 0],\n",
    "    vote_pos[:, 1],\n",
    "    vote_pos[:, 2],\n",
    "    s=1,\n",
    "    color=\"grey\",\n",
    "    alpha=0.5,\n",
    ")\n",
    "\n",
    "ax.scatter(\n",
    "    own_pos[:, 0],\n",
    "    own_pos[:, 1],\n",
    "    own_pos[:, 2],\n",
    "    s=20,\n",
    "    color=\"green\",\n",
    ")\n",
    "if len(removed_locations) > 0:\n",
    "    ax.scatter(\n",
    "        removed_locations[:, 0],\n",
    "        removed_locations[:, 1],\n",
    "        removed_locations[:, 2],\n",
    "        s=30,\n",
    "        color=\"red\",\n",
    "    )\n",
    "plt.title(f\"{lms[lm_id]} - {obj_id}\")\n",
    "# ax.set_xlim([-0.06, 0.06])\n",
    "# ax.set_ylim([-0.06, 0.06])\n",
    "# ax.set_zlim([-0.06, 0.06])\n",
    "ax.axis(\"off\")\n",
    "plt.show()"
   ]
  },
  {
   "cell_type": "code",
   "execution_count": null,
   "id": "e8194e4d",
   "metadata": {},
   "outputs": [],
   "source": []
  }
 ],
 "metadata": {
  "kernelspec": {
   "display_name": "Python 3 (ipykernel)",
   "language": "python",
   "name": "python3"
  },
  "language_info": {
   "codemirror_mode": {
    "name": "ipython",
    "version": 3
   },
   "file_extension": ".py",
   "mimetype": "text/x-python",
   "name": "python",
   "nbconvert_exporter": "python",
   "pygments_lexer": "ipython3",
   "version": "3.8.13"
  }
 },
 "nbformat": 4,
 "nbformat_minor": 5
}
