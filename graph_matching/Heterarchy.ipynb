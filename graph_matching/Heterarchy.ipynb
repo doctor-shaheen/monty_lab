{
 "cells": [
  {
   "cell_type": "code",
   "execution_count": null,
   "id": "36bac83c",
   "metadata": {},
   "outputs": [],
   "source": [
    "import os\n",
    "import numpy as np\n",
    "import matplotlib.pyplot as plt\n",
    "\n",
    "from tbp.monty.frameworks.utils.logging_utils import (load_stats,\n",
    "                                                        print_overall_stats,\n",
    "                                                        print_unsupervised_stats)\n",
    "from tbp.monty.frameworks.utils.plot_utils import (plot_graph,\n",
    "                                                         show_initial_hypotheses, \n",
    "                                                         plot_evidence_at_step)\n",
    "from tbp.monty.frameworks.models.object_model import GridObjectModel, GridTooSmallError"
   ]
  },
  {
   "cell_type": "code",
   "execution_count": null,
   "id": "7e2fd6a9",
   "metadata": {},
   "outputs": [],
   "source": [
    "%matplotlib notebook"
   ]
  },
  {
   "cell_type": "code",
   "execution_count": null,
   "id": "14b41cfb",
   "metadata": {},
   "outputs": [],
   "source": [
    "pretrain_path = os.path.expanduser(\"~/tbp/results/monty/pretrained_models/\")\n",
    "pretrained_dict = pretrain_path + \"pretrained_ycb_v7/supervised_pre_training_base/pretrained/\"\n",
    "log_path = os.path.expanduser(\"~/tbp/results/monty/projects/monty_runs/\")\n",
    "exp_name = \"two_lm_surface_heterarchy/\"\n",
    "# exp_name = \"two_lm_surface_heterarchy_all_objects/\"\n",
    "exp_path = log_path + exp_name\n",
    "save_path = exp_path + '/stepwise_examples/'\n",
    "# save_path = os.path.expanduser(\"~/tbp/results/monty/figures/evidenceLM/stepwise_examples/\"+exp_name)\n",
    "train_stats, eval_stats, detailed_stats, lm_models = load_stats(exp_path,\n",
    "                                                                load_train=True,\n",
    "                                                                load_eval=False,\n",
    "                                                                load_detailed=False,\n",
    "#                                                                 pretrained_dict=pretrained_dict,\n",
    "                                                               )"
   ]
  },
  {
   "cell_type": "code",
   "execution_count": null,
   "id": "3ac3e6c2",
   "metadata": {},
   "outputs": [],
   "source": [
    "lm_models.keys()"
   ]
  },
  {
   "cell_type": "code",
   "execution_count": null,
   "id": "68f98896",
   "metadata": {},
   "outputs": [],
   "source": [
    "lm_models['0']['LM_1']['new_object0'].keys()"
   ]
  },
  {
   "cell_type": "code",
   "execution_count": null,
   "id": "ef5dd0c0",
   "metadata": {},
   "outputs": [],
   "source": [
    "plot_graph(lm_models['0']['LM_0']['new_object0']['patch_0'])\n",
    "plt.show()"
   ]
  },
  {
   "cell_type": "code",
   "execution_count": null,
   "id": "3a9c8b76",
   "metadata": {},
   "outputs": [],
   "source": [
    "plot_graph(lm_models['1']['LM_1']['new_object1']['patch_1'])\n",
    "plt.show()"
   ]
  },
  {
   "cell_type": "code",
   "execution_count": null,
   "id": "14fffd62",
   "metadata": {},
   "outputs": [],
   "source": [
    "plot_graph(lm_models['1']['LM_1']['new_object1']['learning_module_0'])\n",
    "plt.show()"
   ]
  },
  {
   "cell_type": "code",
   "execution_count": null,
   "id": "59b23f57",
   "metadata": {},
   "outputs": [],
   "source": [
    "lm_models['1']['LM_1']['new_object1']['learning_module_0']"
   ]
  },
  {
   "cell_type": "code",
   "execution_count": null,
   "id": "7be40529",
   "metadata": {},
   "outputs": [],
   "source": [
    "lm_models['1']['LM_1']['new_object1']['patch_1']"
   ]
  },
  {
   "cell_type": "code",
   "execution_count": null,
   "id": "4eefc0f3",
   "metadata": {},
   "outputs": [],
   "source": [
    "lm_models['pretrained'][0].keys()"
   ]
  },
  {
   "cell_type": "code",
   "execution_count": null,
   "id": "270264e1",
   "metadata": {},
   "outputs": [],
   "source": [
    "object_id = 'mug'\n",
    "graph = lm_models['pretrained'][0][object_id]\n",
    "plot_graph(graph)\n",
    "plt.show()"
   ]
  },
  {
   "cell_type": "code",
   "execution_count": null,
   "id": "fb6d444b",
   "metadata": {},
   "outputs": [],
   "source": [
    "model = GridObjectModel(\n",
    "    object_id=object_id,\n",
    "    max_nodes=2000,\n",
    "    max_size=0.2,\n",
    "    num_voxels_per_dim=50,\n",
    ")\n",
    "# Keep benchmark results constant by still using orginal graph for\n",
    "# matching when loading pretrained models.\n",
    "# model.use_orginal_graph = True\n",
    "try:\n",
    "    model.set_graph(graph._graph)\n",
    "except GridTooSmallError:\n",
    "    print(\"Grid too small for given locations. Not building a model.\")"
   ]
  },
  {
   "cell_type": "code",
   "execution_count": null,
   "id": "c3550d91",
   "metadata": {},
   "outputs": [],
   "source": [
    "model"
   ]
  },
  {
   "cell_type": "code",
   "execution_count": null,
   "id": "e824c02f",
   "metadata": {},
   "outputs": [],
   "source": [
    "plot_graph(model)\n",
    "plt.show()"
   ]
  },
  {
   "cell_type": "code",
   "execution_count": null,
   "id": "e77d3109",
   "metadata": {},
   "outputs": [],
   "source": [
    "train_stats"
   ]
  },
  {
   "cell_type": "code",
   "execution_count": null,
   "id": "d9ae3867",
   "metadata": {},
   "outputs": [],
   "source": [
    "plt.figure()\n",
    "plt.subplot(1,3,1)\n",
    "plt.imshow(detailed_stats['0']['SM_0']['raw_observations'][0]['rgba'])\n",
    "plt.axis('off')\n",
    "plt.title('SM 0')\n",
    "plt.subplot(1,3,2)\n",
    "plt.imshow(detailed_stats['0']['SM_1']['raw_observations'][0]['rgba'])\n",
    "plt.axis('off')\n",
    "plt.title('SM 1')\n",
    "plt.subplot(1,3,3)\n",
    "plt.imshow(detailed_stats['0']['SM_2']['raw_observations'][0]['rgba'])\n",
    "plt.axis('off')\n",
    "plt.title('View Finder')\n",
    "plt.show()"
   ]
  },
  {
   "cell_type": "code",
   "execution_count": null,
   "id": "51222e35",
   "metadata": {},
   "outputs": [],
   "source": [
    "sum(detailed_stats['0']['LM_0']['lm_processed_steps'])"
   ]
  },
  {
   "cell_type": "code",
   "execution_count": null,
   "id": "bd46db66",
   "metadata": {},
   "outputs": [],
   "source": [
    "detailed_stats['0']['SM_0']['processed_observations'][0]['use_state']"
   ]
  },
  {
   "cell_type": "code",
   "execution_count": null,
   "id": "925f569d",
   "metadata": {},
   "outputs": [],
   "source": [
    "lm_models['0']['LM_1'].keys()"
   ]
  },
  {
   "cell_type": "code",
   "execution_count": null,
   "id": "f657b8e7",
   "metadata": {},
   "outputs": [],
   "source": [
    "plot_graph(lm_models['1']['LM_0']['new_object0'])\n",
    "plt.show()"
   ]
  },
  {
   "cell_type": "code",
   "execution_count": null,
   "id": "fe1b8547",
   "metadata": {},
   "outputs": [],
   "source": [
    "lm_models['1']['LM_1']['new_object0']"
   ]
  },
  {
   "cell_type": "code",
   "execution_count": null,
   "id": "142945e6",
   "metadata": {},
   "outputs": [],
   "source": [
    "plot_graph(lm_models['0']['LM_1']['new_object0'])\n",
    "plt.show()"
   ]
  },
  {
   "cell_type": "code",
   "execution_count": null,
   "id": "acbde11f",
   "metadata": {},
   "outputs": [],
   "source": [
    "np.where(lm_models['0']['LM_0']['new_object0']._observation_count>1)"
   ]
  },
  {
   "cell_type": "code",
   "execution_count": null,
   "id": "aa555c7f",
   "metadata": {},
   "outputs": [],
   "source": [
    "lm_models['0']['LM_0']['new_object0']._observation_count.shape"
   ]
  },
  {
   "cell_type": "code",
   "execution_count": null,
   "id": "3b094954",
   "metadata": {},
   "outputs": [],
   "source": [
    "model = lm_models['0']['LM_0']['new_object1']\n",
    "fig = plt.figure()\n",
    "ax = plt.subplot(1,1,1,projection='3d')\n",
    "locs = model._location_grid\n",
    "loc_ids = np.where((locs!=0).all(axis=3))\n",
    "locs_to_use = locs[loc_ids]\n",
    "s = ax.scatter(locs_to_use[:,0],\n",
    "           locs_to_use[:,1],\n",
    "           locs_to_use[:,2],)\n",
    "#           c=obs_count[exists[0], exists[1], exists[2]])\n",
    "ax.set_aspect(\"equal\")\n",
    "fig.colorbar(s)\n",
    "plt.show()"
   ]
  },
  {
   "cell_type": "code",
   "execution_count": null,
   "id": "f0b372f4",
   "metadata": {},
   "outputs": [],
   "source": []
  },
  {
   "cell_type": "code",
   "execution_count": null,
   "id": "9fe01774",
   "metadata": {},
   "outputs": [],
   "source": [
    "feature_to_show = 'object_id'\n",
    "lm_id = 'LM_1'\n",
    "object_id = 'new_object0'\n",
    "epoch = '1'\n",
    "\n",
    "indices = lm_models[epoch][lm_id][object_id].feature_mapping['learning_module_0'][feature_to_show]\n",
    "obj_ids = np.array(lm_models[epoch][lm_id][object_id].x[:,indices[0]:indices[1]])\n",
    "model_pos = np.array(lm_models[epoch][lm_id][object_id].pos)\n",
    "fig = plt.figure()\n",
    "ax = plt.subplot(1,1,1,projection=\"3d\")\n",
    "s = ax.scatter(model_pos[:,0],\n",
    "          model_pos[:,1],\n",
    "          model_pos[:,2],\n",
    "          c=obj_ids)\n",
    "ax.set_aspect(\"equal\")\n",
    "ax.set_xticks([]), ax.set_yticks([]), ax.set_zticks([])\n",
    "fig.colorbar(s)\n",
    "plt.show()"
   ]
  },
  {
   "cell_type": "code",
   "execution_count": null,
   "id": "c8153090",
   "metadata": {},
   "outputs": [],
   "source": [
    "lm_id = 'LM_0'\n",
    "object_id = 'mug'\n",
    "epoch = '0'\n",
    "\n",
    "model_pos = np.array(lm_models[epoch][lm_id][object_id].pos)\n",
    "# Take target rotation & turn into rotation object\n",
    "# apply to model_pos (something like:\n",
    "# target_pos = target_rot.apply(model_pos)\n",
    "fig = plt.figure()\n",
    "ax = plt.subplot(1,1,1,projection=\"3d\")\n",
    "s = ax.scatter(target_pos[:,0],\n",
    "          target_pos[:,1],\n",
    "          target_pos[:,2],\n",
    "          c='green')\n",
    "# Turn detected rotation into rotation object and apply to model_pos\n",
    "# detected_pos = detected_rot.apply(model_pos)\n",
    "s2 = ax.scatter(detected_pos[:,0],\n",
    "          detected_pos[:,1],\n",
    "          detected_pos[:,2],\n",
    "          c='orange')\n",
    "ax.set_aspect(\"equal\")\n",
    "ax.set_xticks([]), ax.set_yticks([]), ax.set_zticks([])\n",
    "plt.show()"
   ]
  },
  {
   "cell_type": "code",
   "execution_count": null,
   "id": "81ae3671",
   "metadata": {},
   "outputs": [],
   "source": [
    "lm_models['1']['LM_0']['new_object1'].x.shape"
   ]
  },
  {
   "cell_type": "code",
   "execution_count": null,
   "id": "c6e403e9",
   "metadata": {},
   "outputs": [],
   "source": [
    "lm_models['1']['LM_1']['new_object1'].x.shape"
   ]
  },
  {
   "cell_type": "code",
   "execution_count": null,
   "id": "63d86ec2",
   "metadata": {},
   "outputs": [],
   "source": [
    "detailed_stats['2']['LM_1'].keys()"
   ]
  },
  {
   "cell_type": "code",
   "execution_count": null,
   "id": "4a57488f",
   "metadata": {},
   "outputs": [],
   "source": [
    "locs = []\n",
    "for mlh in detailed_stats['2']['LM_1']['current_mlh']:\n",
    "    locs.append(mlh['location'])"
   ]
  },
  {
   "cell_type": "code",
   "execution_count": null,
   "id": "d9496b78",
   "metadata": {},
   "outputs": [],
   "source": [
    "plt.figure()\n",
    "plt.plot(locs)\n",
    "plt.show()"
   ]
  },
  {
   "cell_type": "code",
   "execution_count": null,
   "id": "37ce1a43",
   "metadata": {},
   "outputs": [],
   "source": [
    "show_initial_hypotheses(detailed_stats, 3, 'new_object0', save_fig=False, \n",
    "                        save_path=save_path)"
   ]
  },
  {
   "cell_type": "code",
   "execution_count": null,
   "id": "ab184510",
   "metadata": {},
   "outputs": [],
   "source": [
    "objects = ['new_object0','new_object1']\n",
    "\n",
    "episode = 2\n",
    "step = 12\n",
    "lm = 'LM_0'\n",
    "current_evidence_update_th = -1\n",
    "save_fig = False"
   ]
  },
  {
   "cell_type": "code",
   "execution_count": null,
   "id": "64ed9727",
   "metadata": {
    "scrolled": true
   },
   "outputs": [],
   "source": [
    "plot_evidence_at_step(detailed_stats,\n",
    "                      lm_models,\n",
    "                              episode,\n",
    "                              objects=objects,\n",
    "                              step=step,\n",
    "                              input_feature_channel=\"patch_0\",\n",
    "                              is_touch_sensor=True,\n",
    "                              save_fig=False, \n",
    "                              save_path=save_path)"
   ]
  },
  {
   "cell_type": "code",
   "execution_count": null,
   "id": "2c911882",
   "metadata": {
    "scrolled": true
   },
   "outputs": [],
   "source": [
    "episode = 2\n",
    "for step in range(train_stats['monty_matching_steps'][episode]):\n",
    "    plot_evidence_at_step(detailed_stats,\n",
    "                          lm_models,\n",
    "                              episode, \n",
    "                              step,\n",
    "                              objects,\n",
    "                              view_finder=\"SM_2\",\n",
    "                              input_feature_channel=\"patch_0\",\n",
    "                              lm=\"LM_0\",\n",
    "                              is_touch_sensor=True,\n",
    "                              save_fig=True, \n",
    "                              save_path=save_path)"
   ]
  },
  {
   "cell_type": "code",
   "execution_count": null,
   "id": "19cd9003",
   "metadata": {},
   "outputs": [],
   "source": []
  }
 ],
 "metadata": {
  "kernelspec": {
   "display_name": "Python 3 (ipykernel)",
   "language": "python",
   "name": "python3"
  },
  "language_info": {
   "codemirror_mode": {
    "name": "ipython",
    "version": 3
   },
   "file_extension": ".py",
   "mimetype": "text/x-python",
   "name": "python",
   "nbconvert_exporter": "python",
   "pygments_lexer": "ipython3",
   "version": "3.8.16"
  }
 },
 "nbformat": 4,
 "nbformat_minor": 5
}
