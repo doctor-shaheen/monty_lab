{
 "cells": [
  {
   "cell_type": "markdown",
   "id": "c9614881",
   "metadata": {},
   "source": [
    "# Evidence Based LM"
   ]
  },
  {
   "cell_type": "code",
   "execution_count": null,
   "id": "0e5b8eaa",
   "metadata": {},
   "outputs": [],
   "source": [
    "import os\n",
    "import numpy as np\n",
    "import matplotlib.pyplot as plt\n",
    "\n",
    "from tbp.monty.frameworks.utils.logging_utils import (load_stats,\n",
    "                                                        print_overall_stats,\n",
    "                                                        print_unsupervised_stats)\n",
    "from tbp.monty.frameworks.utils.plot_utils import (plot_graph,\n",
    "                                                         show_initial_hypotheses, \n",
    "                                                         plot_evidence_at_step)"
   ]
  },
  {
   "cell_type": "code",
   "execution_count": null,
   "id": "c6be8e1d",
   "metadata": {},
   "outputs": [],
   "source": [
    "pretrain_path = os.path.expanduser(\"~/tbp/results/monty/pretrained_models/\")\n",
    "# pretrained_dict = pretrain_path + \"pretrained_ycb_v4_test/surf_agent_1lm_10distinctobj/pretrained/\"\n",
    "pretrained_dict = pretrain_path + \"pretrained_ycb_v7/surf_agent_1lm_10distinctobj/pretrained/\"\n",
    "# pretrained_dict = pretrain_path + \"pretrained_ycb/supervised_pre_training_location_noise005/pretrained/\"\n",
    "log_path = os.path.expanduser(\"~/tbp/results/monty/projects/monty_runs/\")\n",
    "# log_path = os.path.expanduser(\"~/tbp/results/monty/projects/evidence_eval_runs/logs/\")\n",
    "exp_name = \"evidence_tests_nomt/\"\n",
    "exp_path = log_path + exp_name\n",
    "# exp_path = os.path.expanduser(\"/private/var/folders/g2/tbt9tg416wjbn478nv98kt6c0000gp/T/tmpyx51cdv3/\")\n",
    "\n",
    "save_path = exp_path + '/stepwise_examples/'\n",
    "# save_path = os.path.expanduser(\"~/tbp/results/monty/figures/evidenceLM/stepwise_examples/\"+exp_name)\n",
    "train_stats, eval_stats, detailed_stats, lm_models = load_stats(exp_path,\n",
    "                                                                load_train=False,\n",
    "                                                                load_eval=True,\n",
    "                                                                load_detailed=False,\n",
    "                                                                pretrained_dict=pretrained_dict,\n",
    "                                                               )"
   ]
  },
  {
   "cell_type": "code",
   "execution_count": null,
   "id": "bd67e93a",
   "metadata": {},
   "outputs": [],
   "source": [
    "%matplotlib notebook"
   ]
  },
  {
   "cell_type": "code",
   "execution_count": null,
   "id": "2d995cbb",
   "metadata": {},
   "outputs": [],
   "source": [
    "# Load and analyze unsupervised learning experiments\n",
    "log_path = os.path.expanduser(\"~/tbp/results/monty/projects/monty_runs/\")\n",
    "pretrained_dict = pretrain_path + \"pretrained_ycb_v4/surf_agent_1lm_10distinctobj/pretrained/\"\n",
    "\n",
    "exp_name = \"surf_agent_unsupervised_10distinctobj_pt/\"\n",
    "exp_path = log_path + exp_name\n",
    "save_path = exp_path + '/stepwise_examples/'\n",
    "train_stats, eval_stats, detailed_stats, lm_models = load_stats(exp_path,\n",
    "                                                                load_train=True,\n",
    "                                                                load_eval=False,\n",
    "                                                                load_detailed=False,\n",
    "                                                                pretrained_dict=pretrained_dict,\n",
    "                                                               )"
   ]
  },
  {
   "cell_type": "code",
   "execution_count": null,
   "id": "23d84f37",
   "metadata": {
    "scrolled": true
   },
   "outputs": [],
   "source": [
    "epoch = '0'\n",
    "for graph in lm_models[epoch]['LM_0'].keys():\n",
    "    plot_graph(lm_models[epoch]['LM_0'][graph])\n",
    "    plt.show()"
   ]
  },
  {
   "cell_type": "code",
   "execution_count": null,
   "id": "7425340c",
   "metadata": {},
   "outputs": [],
   "source": [
    "print_unsupervised_stats(train_stats, epoch_len=10)"
   ]
  },
  {
   "cell_type": "code",
   "execution_count": null,
   "id": "1b0af727",
   "metadata": {},
   "outputs": [],
   "source": [
    "# Load unit test stats (for debugging)\n",
    "exp_path = os.path.expanduser(\"/private/var/folders/g2/tbt9tg416wjbn478nv98kt6c0000gp/T/tmpm61wy18k\")\n",
    "\n",
    "save_path = exp_path + '/stepwise_examples/'\n",
    "# save_path = os.path.expanduser(\"~/tbp/results/monty/figures/evidenceLM/stepwise_examples/\"+exp_name)\n",
    "train_stats, eval_stats, detailed_stats, lm_models = load_stats(exp_path,\n",
    "                                                                load_train=True,\n",
    "                                                                load_eval=False,\n",
    "                                                                load_detailed=True,\n",
    "                                                               )"
   ]
  },
  {
   "cell_type": "code",
   "execution_count": null,
   "id": "ccc9d401",
   "metadata": {},
   "outputs": [],
   "source": [
    "plot_graph(lm_models['3']['LM_0']['new_object0'])\n",
    "plt.show()"
   ]
  },
  {
   "cell_type": "code",
   "execution_count": null,
   "id": "bca15ee2",
   "metadata": {},
   "outputs": [],
   "source": [
    "plt.figure()\n",
    "plt.imshow(detailed_stats['0']['SM_1']['raw_observations'][1]['rgba'])\n",
    "# plt.title('mug')\n",
    "plt.axis('off')\n",
    "plt.show()"
   ]
  },
  {
   "cell_type": "code",
   "execution_count": null,
   "id": "f19c54b6",
   "metadata": {},
   "outputs": [],
   "source": [
    "eval_stats"
   ]
  },
  {
   "cell_type": "code",
   "execution_count": null,
   "id": "48e3645a",
   "metadata": {},
   "outputs": [],
   "source": [
    "train_stats"
   ]
  },
  {
   "cell_type": "code",
   "execution_count": null,
   "id": "b0f3e12b",
   "metadata": {},
   "outputs": [],
   "source": [
    "lm_models.keys()"
   ]
  },
  {
   "cell_type": "code",
   "execution_count": null,
   "id": "ffb8f6ed",
   "metadata": {},
   "outputs": [],
   "source": [
    "graph = lm_models['0']['new_object0']\n",
    "color_id = graph.feature_mapping['principal_curvatures_log'][0]\n",
    "curv_dir_ids = graph.feature_mapping['curvature_directions']\n",
    "norm_len = 0.02\n",
    "\n",
    "fig = plt.figure()\n",
    "ax = plt.subplot(1,2,1,projection='3d')\n",
    "s = ax.scatter(\n",
    "    graph.pos[:, 0],\n",
    "    graph.pos[:, 1],\n",
    "    graph.pos[:, 2],\n",
    "    s=10,\n",
    "#     alpha=0.5,\n",
    "    c='grey'#np.arctan(np.array(graph.x[:,color_id])/100)\n",
    ")\n",
    "\n",
    "ax.set_xticks([]), ax.set_yticks([]), ax.set_zticks([])\n",
    "ax.set_aspect(\"equal\")\n",
    "\n",
    "graph = lm_models['1']['new_object0']\n",
    "color_id = graph.feature_mapping['principal_curvatures_log'][0]\n",
    "curv_dir_ids = graph.feature_mapping['curvature_directions']\n",
    "norm_len = 0.02\n",
    "ax = plt.subplot(1,2,2,projection='3d')\n",
    "s = ax.scatter(\n",
    "    graph.pos[:, 0],\n",
    "    graph.pos[:, 1],\n",
    "    graph.pos[:, 2],\n",
    "    s=10,\n",
    "#     alpha=0.5,\n",
    "    c='grey'#np.arctan(np.array(graph.x[:,color_id])/100)\n",
    ")\n",
    "\n",
    "ax.set_xticks([]), ax.set_yticks([]), ax.set_zticks([])\n",
    "ax.set_aspect(\"equal\")\n",
    "# ax.set_title(\"Learned Model with Location Noise Std=0.002 \\n mug\")"
   ]
  },
  {
   "cell_type": "code",
   "execution_count": null,
   "id": "47c4051e",
   "metadata": {
    "scrolled": false
   },
   "outputs": [],
   "source": [
    "objects = ['new_object0']\n",
    "\n",
    "episode = 1\n",
    "step = 2\n",
    "lm = 'LM_0'\n",
    "current_evidence_update_th = -1\n",
    "save_fig = False\n",
    "for step in range(train_stats['monty_matching_steps'][episode]):\n",
    "    plot_evidence_at_step(detailed_stats,\n",
    "                          lm_models,\n",
    "                              episode, \n",
    "                              step,\n",
    "                              objects,\n",
    "                              save_fig=save_fig)"
   ]
  },
  {
   "cell_type": "code",
   "execution_count": null,
   "id": "1d83e920",
   "metadata": {},
   "outputs": [],
   "source": [
    "len(detailed_stats[str(1)][\"SM_0\"][\"raw_observations\"])"
   ]
  },
  {
   "cell_type": "markdown",
   "id": "4c7d9df8",
   "metadata": {},
   "source": [
    "### Show Pose Feaures"
   ]
  },
  {
   "cell_type": "code",
   "execution_count": null,
   "id": "c6816d9b",
   "metadata": {
    "scrolled": false
   },
   "outputs": [],
   "source": [
    "obj = 'mug'\n",
    "graph = lm_models['pretrained'][0][obj]\n",
    "# graph = lm_models['3']['LM_0']['new_object1']\n",
    "pc1ispc2 = graph.feature_mapping['patch']['pose_fully_defined']\n",
    "posev_ids = graph.feature_mapping['patch']['pose_vectors']\n",
    "pcdir_ids = graph.feature_mapping['patch']['principal_curvatures']\n",
    "norm_len = 0.01\n",
    "fig = plt.figure()\n",
    "ax = plt.subplot(1,1,1,projection='3d')\n",
    "s = ax.scatter(\n",
    "    graph.pos[:, 0],\n",
    "    graph.pos[:, 1],\n",
    "    graph.pos[:, 2],\n",
    "    s=5,\n",
    "    c=graph.x[:,pcdir_ids[0]],\n",
    "    cmap='coolwarm',\n",
    "    vmin=-50,\n",
    "    vmax=50,\n",
    ")\n",
    "\n",
    "ax.set_xticks([]), ax.set_yticks([]), ax.set_zticks([])\n",
    "# ax_range = 0.07\n",
    "# ax.set_xlim(0-ax_range, 0+ax_range)\n",
    "# ax.set_ylim(0.05-ax_range,0.05+ax_range)\n",
    "# ax.set_zlim(0-ax_range, 0+ax_range)\n",
    "ax.set_title(\"PC1 and its direction\")\n",
    "fig.colorbar(s)\n",
    "\n",
    "for p_id, p in enumerate(np.array(graph.pos)):\n",
    "    if p[0] < 0.1 and p[1] >1.52:# and p[2] < -0.1:\n",
    "        norm = graph.x[p_id][posev_ids[0]:posev_ids[0]+3]\n",
    "        ax.plot([p[0], p[0] + norm[0] * norm_len],\n",
    "                    [p[1], p[1] + norm[1] * norm_len],\n",
    "                    [p[2], p[2] + norm[2] * norm_len],\n",
    "                    c=color,\n",
    "                   )\n",
    "        if graph.x[p_id, pc1ispc2[0]]:\n",
    "            cd1 = graph.x[p_id][posev_ids[0]+3:posev_ids[0]+6]\n",
    "            cd2 = graph.x[p_id][posev_ids[0]+6:posev_ids[0]+9]\n",
    "            ax.plot([p[0], p[0] + cd1[0] * norm_len],\n",
    "                    [p[1], p[1] + cd1[1] * norm_len],\n",
    "                    [p[2], p[2] + cd1[2] * norm_len],\n",
    "                    c=[int(graph.x[p_id][13]>=graph.x[p_id][14]),0,0]#'red',\n",
    "                   )\n",
    "            ax.plot([p[0], p[0] + cd2[0] * norm_len * 0.5],\n",
    "                    [p[1], p[1] + cd2[1] * norm_len * 0.5],\n",
    "                    [p[2], p[2] + cd2[2] * norm_len * 0.5],\n",
    "                    c='orange',\n",
    "                   )\n",
    "plt.show()"
   ]
  },
  {
   "cell_type": "markdown",
   "id": "b349d286",
   "metadata": {},
   "source": [
    "## Show Features and Angles in Search Radius"
   ]
  },
  {
   "cell_type": "code",
   "execution_count": null,
   "id": "cddbb8ff",
   "metadata": {},
   "outputs": [],
   "source": [
    "max_match_distance = 0.01\n",
    "graph = lm_models['pretrained'][0]['mug']\n",
    "ids = np.where(np.linalg.norm(graph.pos - graph.pos[1],axis=1)<max_match_distance)\n",
    "color_id = graph.feature_mapping['principal_curvatures_log'][0]\n",
    "curv_dir_ids = graph.feature_mapping['curvature_directions']\n",
    "norm_len = 0.02\n",
    "\n",
    "def get_angles_for_all_hypotheses(hyp_f, query_f):\n",
    "    dot_product = np.einsum(\"ijk,ik->ij\", hyp_f, query_f)\n",
    "    angle = np.arccos(np.clip(dot_product, -1, 1))\n",
    "    return angle\n",
    "\n",
    "fig = plt.figure()\n",
    "ax = plt.subplot(1,1,1,projection='3d')\n",
    "s = ax.scatter(\n",
    "    graph.pos[:, 0],\n",
    "    graph.pos[:, 1],\n",
    "    graph.pos[:, 2],\n",
    "    s=5,\n",
    "    alpha=0.5,\n",
    "    c='grey'#np.arctan(np.array(graph.x[:,color_id])/100)\n",
    ")\n",
    "s2 = ax.scatter(\n",
    "    graph.pos[ids, 0],\n",
    "    graph.pos[ids, 1],\n",
    "    graph.pos[ids, 2],\n",
    "    s=15,\n",
    "    alpha=0.5,\n",
    "    c='red'#np.arctan(np.array(graph.x[:,color_id])/100)\n",
    ")\n",
    "\n",
    "ax.set_xticks([]), ax.set_yticks([]), ax.set_zticks([])\n",
    "# ax.set_title(\"Learned Locations and Norm\")\n",
    "ax.set_aspect(\"equal\")\n",
    "\n",
    "p = np.array(graph.pos)[1]\n",
    "norm = np.array(graph.norm[1])\n",
    "all_norms = np.array([np.array(graph.norm)[ids]])\n",
    "colors = get_angles_for_all_hypotheses(all_norms, np.array([norm]))/np.pi\n",
    "for c_id, p_id in enumerate(ids[0]):\n",
    "    p = np.array(graph.pos)[p_id]\n",
    "    norm = np.array(graph.norm[p_id])\n",
    "    \n",
    "    ax.plot([p[0], p[0] + norm[0] * norm_len],\n",
    "            [p[1], p[1] + norm[1] * norm_len],\n",
    "            [p[2], p[2] + norm[2] * norm_len],\n",
    "            color=[colors[0,c_id],1-colors[0,c_id],colors[0,c_id]],\n",
    "           )\n",
    "plt.xlabel('x')\n",
    "plt.ylabel('y')\n",
    "plt.show()"
   ]
  },
  {
   "cell_type": "markdown",
   "id": "d53a3c09",
   "metadata": {},
   "source": [
    "## Show Evidences"
   ]
  },
  {
   "cell_type": "code",
   "execution_count": null,
   "id": "eb0fecc1",
   "metadata": {},
   "outputs": [],
   "source": [
    "show_initial_hypotheses(detailed_stats, 0, 'mug', save_fig=False, \n",
    "                        save_path=save_path)"
   ]
  },
  {
   "cell_type": "code",
   "execution_count": null,
   "id": "8987cfe0",
   "metadata": {},
   "outputs": [],
   "source": [
    "objects = ['mug','bowl','dice','banana']\n",
    "\n",
    "episode = 0\n",
    "step = 2\n",
    "lm = 'LM_0'\n",
    "current_evidence_update_th = -1\n",
    "save_fig = True"
   ]
  },
  {
   "cell_type": "code",
   "execution_count": null,
   "id": "52fb5b5d",
   "metadata": {
    "scrolled": false
   },
   "outputs": [],
   "source": [
    "plot_evidence_at_step(detailed_stats,\n",
    "                      lm_models,\n",
    "                              episode,\n",
    "                              objects=objects,\n",
    "                              step=5,\n",
    "                              save_fig=False, \n",
    "                              save_path=save_path)"
   ]
  },
  {
   "cell_type": "code",
   "execution_count": null,
   "id": "11d6c968",
   "metadata": {
    "scrolled": false
   },
   "outputs": [],
   "source": [
    "episode = 8\n",
    "objects = [\"new_object0\", \"new_object1\"]\n",
    "for step in range(eval_stats['monty_matching_steps'][2]):\n",
    "    plot_evidence_at_step(detailed_stats,\n",
    "                          lm_models,\n",
    "                              episode, \n",
    "                              step,\n",
    "                              objects,\n",
    "#                               is_touch_sensor=True,\n",
    "                              save_fig=True, \n",
    "                              save_path=save_path)"
   ]
  },
  {
   "cell_type": "code",
   "execution_count": null,
   "id": "e13056d5",
   "metadata": {},
   "outputs": [],
   "source": [
    "detailed_stats[str(5)]['LM_0']['evidences'][0].keys()"
   ]
  },
  {
   "cell_type": "markdown",
   "id": "a31f601e",
   "metadata": {},
   "source": [
    "## Plot Observations"
   ]
  },
  {
   "cell_type": "code",
   "execution_count": null,
   "id": "a6009bc1",
   "metadata": {},
   "outputs": [],
   "source": [
    "episode = '0'\n",
    "toshow='rgba'\n",
    "obj='mug'\n",
    "viz_path = os.path.expanduser(\"~/tbp/results/monty/figures/vizanimations/visionLM/\")\n",
    "\n",
    "for step in range(len(detailed_stats[episode]['SM_0']['raw_observations'])):\n",
    "    plt.figure()\n",
    "    plt.subplot(1,2,1)\n",
    "    plt.imshow(detailed_stats[episode]['SM_1']['raw_observations'][step][toshow])\n",
    "    plt.axis('off')\n",
    "    plt.title(\"View Finder\")\n",
    "    plt.subplot(1,2,2)\n",
    "    plt.imshow(detailed_stats[episode]['SM_0']['raw_observations'][step][toshow])\n",
    "    plt.axis('off')\n",
    "    plt.title(\"Patch 0\")\n",
    "    plt.savefig(\n",
    "            viz_path + f\"visionLMObs_{obj}_{step}.png\",\n",
    "            bbox_inches=\"tight\",\n",
    "        )"
   ]
  },
  {
   "cell_type": "markdown",
   "id": "33555fb1",
   "metadata": {},
   "source": [
    "## 5LMs"
   ]
  },
  {
   "cell_type": "code",
   "execution_count": null,
   "id": "5cb740d4",
   "metadata": {},
   "outputs": [],
   "source": [
    "episode = '0'\n",
    "# step = 40\n",
    "toshow='rgba'\n",
    "viz_path = os.path.expanduser(\"~/tbp/results/monty/figures/vizanimations/fiveLMs/\")\n",
    "\n",
    "for step in range(len(detailed_stats[episode]['SM_5']['raw_observations'])):\n",
    "    plt.figure()\n",
    "    plt.subplot(2,3,1)\n",
    "    plt.imshow(detailed_stats[episode]['SM_5']['raw_observations'][step][toshow])\n",
    "    plt.axis('off')\n",
    "    plt.title(\"View Finder\")\n",
    "    plt.subplot(2,3,2)\n",
    "    plt.imshow(detailed_stats[episode]['SM_0']['raw_observations'][step][toshow])\n",
    "    plt.axis('off')\n",
    "    plt.title(\"Patch 0\")\n",
    "    plt.subplot(2,3,3)\n",
    "    plt.imshow(detailed_stats[episode]['SM_1']['raw_observations'][step][toshow])\n",
    "    plt.axis('off')\n",
    "    plt.title(\"Patch 1\")\n",
    "    plt.subplot(2,3,4)\n",
    "    plt.imshow(detailed_stats[episode]['SM_2']['raw_observations'][step][toshow])\n",
    "    plt.axis('off')\n",
    "    plt.title(\"Patch 2\")\n",
    "    plt.subplot(2,3,5)\n",
    "    plt.imshow(detailed_stats[episode]['SM_3']['raw_observations'][step][toshow])\n",
    "    plt.axis('off')\n",
    "    plt.title(\"Patch 3\")\n",
    "    plt.subplot(2,3,6)\n",
    "    plt.imshow(detailed_stats[episode]['SM_4']['raw_observations'][step][toshow])\n",
    "    plt.axis('off')\n",
    "    plt.title(\"Patch 4\")\n",
    "    plt.savefig(\n",
    "            viz_path + f\"fiveLMObs_{obj}_{step}.png\",\n",
    "            bbox_inches=\"tight\",\n",
    "        )"
   ]
  },
  {
   "cell_type": "code",
   "execution_count": null,
   "id": "0438abe1",
   "metadata": {},
   "outputs": [],
   "source": [
    "detailed_stats.keys()"
   ]
  },
  {
   "cell_type": "markdown",
   "id": "027ba3d8",
   "metadata": {},
   "source": [
    "## YCB Objects"
   ]
  },
  {
   "cell_type": "code",
   "execution_count": null,
   "id": "0f39193b",
   "metadata": {},
   "outputs": [],
   "source": [
    "from tbp.monty.frameworks.environments.ycb import YCB_OBJECTS_LIST\n",
    "path_to_images = os.path.expanduser(\"~/tbp/results/monty/figures/all_object_views/\")"
   ]
  },
  {
   "cell_type": "code",
   "execution_count": null,
   "id": "58918208",
   "metadata": {},
   "outputs": [],
   "source": [
    "# rotation_to_show = '0_0_0'\n",
    "rotation_to_show = '90_180_270'\n",
    "plt.figure(figsize=(25,15))\n",
    "for i, obj_name in enumerate(YCB_OBJECTS_LIST):\n",
    "    img_path = path_to_images + obj_name + '_' + rotation_to_show + '.png'\n",
    "    img = plt.imread(img_path)\n",
    "    plt.subplot(8, 12, i+1)\n",
    "    plt.imshow(img[28:]) # Don't show title from image\n",
    "    plt.axis('off')\n",
    "    plt.title(obj_name)\n",
    "# plt.suptitle('All YCB objects in rotation ' + rotation_to_show.replace('_',', '), fontsize=20)\n",
    "plt.show()"
   ]
  },
  {
   "cell_type": "code",
   "execution_count": null,
   "id": "c78740f3",
   "metadata": {
    "scrolled": false
   },
   "outputs": [],
   "source": [
    "obj_to_show = 'potted_meat_can'\n",
    "plt.figure(figsize=(7,15))\n",
    "i = 1\n",
    "for file in os.listdir(path_to_images):\n",
    "    if file.startswith(obj_to_show):\n",
    "        img_path = path_to_images + file\n",
    "        img = plt.imread(img_path)\n",
    "        plt.subplot(8, 4, i)\n",
    "        plt.imshow(img[28:]) # Don't show title from image\n",
    "        plt.axis('off')\n",
    "        plt.title(file[len(obj_to_show) + 1:-4].replace('_', ', '))\n",
    "        i += 1\n",
    "plt.show()"
   ]
  },
  {
   "cell_type": "markdown",
   "id": "c6bfe1ee",
   "metadata": {},
   "source": [
    "# Experimenting with stuff (delete eventually)"
   ]
  },
  {
   "cell_type": "code",
   "execution_count": null,
   "id": "53e9623d",
   "metadata": {},
   "outputs": [],
   "source": [
    "def get_angle(vec1, vec2):\n",
    "#     unit_vector_1 = vec1 / np.linalg.norm(vec1)\n",
    "#     unit_vector_2 = vec2 / np.linalg.norm(vec2)\n",
    "    dot_product = np.dot(vec1, vec2)\n",
    "    angle = np.arccos(np.clip(dot_product, -1, 1))\n",
    "    return angle\n",
    "\n",
    "def get_pose_error(query_features, node_features, weights=[1, 1, 1]):\n",
    "\n",
    "    pn_error = get_angle(\n",
    "        query_features[\"point_normal\"],\n",
    "        node_features[\"point_normal\"],\n",
    "    )\n",
    "    print(pn_error)\n",
    "    cd1_error = get_angle(\n",
    "        query_features[\"curvature_directions\"][:3],\n",
    "        node_features[\"curvature_directions\"][:3],\n",
    "    )\n",
    "    cd2_error = get_angle(\n",
    "        query_features[\"curvature_directions\"][3:],\n",
    "        node_features[\"curvature_directions\"][3:],\n",
    "    )\n",
    "    overall_error = np.array([pn_error, cd1_error, cd2_error]) * weights\n",
    "\n",
    "    return np.sum(overall_error)\n",
    "\n",
    "def get_node_features(graph, node_id, feature_keys):\n",
    "    node_features = {}\n",
    "    for key in feature_keys:\n",
    "        key_ids = graph.feature_mapping[key]\n",
    "        feature = graph.x[node_id, key_ids[0] : key_ids[1]].clone()\n",
    "        node_features[key] = feature\n",
    "    return node_features"
   ]
  },
  {
   "cell_type": "code",
   "execution_count": null,
   "id": "c3bb9bb5",
   "metadata": {},
   "outputs": [],
   "source": [
    "dir1 = np.array([-0.07582931, -0.99661191, -0.03185299])\n",
    "dir2 = np.array([0.996991  , -0.07531361,-0.01835211])"
   ]
  },
  {
   "cell_type": "code",
   "execution_count": null,
   "id": "61bdc499",
   "metadata": {},
   "outputs": [],
   "source": [
    "import math"
   ]
  },
  {
   "cell_type": "code",
   "execution_count": null,
   "id": "ed263c5f",
   "metadata": {},
   "outputs": [],
   "source": [
    "math.degrees(get_angle(dir1, dir2))"
   ]
  },
  {
   "cell_type": "code",
   "execution_count": null,
   "id": "32b0d440",
   "metadata": {},
   "outputs": [],
   "source": [
    "pn = detailed_stats['0']['LM_0']['point_normal'][0]\n",
    "cds = detailed_stats['0']['LM_0']['curvature_directions'][0]\n",
    "qf = [pn, cds[:3], cds[3:]]\n",
    "qff = {'point_normal':pn, 'curvature_directions':cds}"
   ]
  },
  {
   "cell_type": "code",
   "execution_count": null,
   "id": "1097b901",
   "metadata": {},
   "outputs": [],
   "source": [
    "nfs = get_node_features(graph, np.linspace(0,19,20), ['point_normal','curvature_directions'])\n",
    "nfsm = np.hstack([nfs['point_normal'], \n",
    "                  nfs['curvature_directions'][:,:3], \n",
    "                  nfs['curvature_directions'][:,3:]])"
   ]
  },
  {
   "cell_type": "code",
   "execution_count": null,
   "id": "db46efec",
   "metadata": {},
   "outputs": [],
   "source": [
    "all_pe = []\n",
    "for i in range(nfs['point_normal'].shape[0]):\n",
    "    nff = {'point_normal': nfs['point_normal'][i],\n",
    "           'curvature_directions': nfs['curvature_directions'][i]}\n",
    "    pe = get_pose_error(qff,nff)\n",
    "    all_pe.append(pe)\n",
    "print(all_pe)"
   ]
  },
  {
   "cell_type": "code",
   "execution_count": null,
   "id": "7f94989f",
   "metadata": {},
   "outputs": [],
   "source": [
    "def get_pose_error_matrix(query_features, node_features):\n",
    "    # node features shape: [n, 3]\n",
    "    # query features shape: [3]\n",
    "    angles = get_angle(node_features, query_features)\n",
    "    return angles"
   ]
  },
  {
   "cell_type": "code",
   "execution_count": null,
   "id": "9508bb4f",
   "metadata": {},
   "outputs": [],
   "source": [
    "from scipy.spatial.transform import Rotation"
   ]
  },
  {
   "cell_type": "code",
   "execution_count": null,
   "id": "db30615e",
   "metadata": {},
   "outputs": [],
   "source": [
    "qf_o = np.array(qf)\n",
    "qf_o"
   ]
  },
  {
   "cell_type": "code",
   "execution_count": null,
   "id": "3c8c9a85",
   "metadata": {},
   "outputs": [],
   "source": [
    "rotation = Rotation.from_euler('xyz', [50,10,0],degrees=True)\n",
    "qf_t = rotation.apply(qf_o)\n",
    "qf_t"
   ]
  },
  {
   "cell_type": "code",
   "execution_count": null,
   "id": "fcded2f0",
   "metadata": {},
   "outputs": [],
   "source": [
    "r_scipy, err =  Rotation.align_vectors(qf_o, qf_t)\n",
    "print(np.round(r_scipy.as_euler('xyz', degrees=True),2))\n",
    "print(r_scipy.as_quat())\n",
    "print(np.round(r_scipy.as_matrix(),2))"
   ]
  },
  {
   "cell_type": "code",
   "execution_count": null,
   "id": "ac6b0b9c",
   "metadata": {},
   "outputs": [],
   "source": [
    "def check_orthonormal(matrix):\n",
    "    is_orthogonal = np.mean(np.abs((np.linalg.inv(matrix) - matrix.T))) < 0.01\n",
    "    if not is_orthogonal:\n",
    "        print(\n",
    "            f\"not orthogonal. Error: {np.mean(np.abs((np.linalg.inv(matrix) - matrix.T)))}\"\n",
    "        )\n",
    "    is_normal = (\n",
    "        np.mean(np.abs(np.linalg.norm(matrix, axis=1) - [1, 1, 1])) < 0.01\n",
    "    )\n",
    "    if not is_normal:\n",
    "        print(\n",
    "            f\"not normal. Error: {np.mean(np.abs(np.linalg.norm(matrix, axis=1) - [1, 1, 1]))}\"\n",
    "        )\n",
    "    return is_orthogonal and is_normal\n",
    "\n",
    "print(check_orthonormal(qf_o))\n",
    "print(check_orthonormal(qf_t))"
   ]
  },
  {
   "cell_type": "code",
   "execution_count": null,
   "id": "ad71e957",
   "metadata": {},
   "outputs": [],
   "source": [
    "nfs = get_node_features(graph, np.linspace(0,199,200), ['point_normal','curvature_directions'])\n",
    "nfsm = np.hstack([nfs['point_normal'], \n",
    "              nfs['curvature_directions'][:,:3], \n",
    "              nfs['curvature_directions'][:,3:]])"
   ]
  },
  {
   "cell_type": "code",
   "execution_count": null,
   "id": "0f091e3b",
   "metadata": {},
   "outputs": [],
   "source": [
    "for i, nf in enumerate(nfsm):\n",
    "    nf_rs = nf.reshape((3,3))\n",
    "    if not check_orthonormal(nf_rs):\n",
    "        print(i)\n",
    "        print(nf_rs)"
   ]
  },
  {
   "cell_type": "code",
   "execution_count": null,
   "id": "4fb9863a",
   "metadata": {},
   "outputs": [],
   "source": [
    "def get_right_hand_angle(v1, v2, pn):\n",
    "    rha = np.arctan2(np.dot(np.cross(v1, v2), pn), np.dot(v1, v2))\n",
    "    return rha"
   ]
  },
  {
   "cell_type": "code",
   "execution_count": null,
   "id": "9b90144e",
   "metadata": {},
   "outputs": [],
   "source": [
    "get_right_hand_angle(nf_rs[1], nf_rs[2], nf_rs[0])"
   ]
  },
  {
   "cell_type": "code",
   "execution_count": null,
   "id": "dda7fc67",
   "metadata": {},
   "outputs": [],
   "source": [
    "get_right_hand_angle([1,0,0], [0,0,-1], [0,1,0])"
   ]
  },
  {
   "cell_type": "code",
   "execution_count": null,
   "id": "40e344a9",
   "metadata": {},
   "outputs": [],
   "source": [
    "def align_orthonormal_vectors(m1, m2):\n",
    "    assert check_orthonormal(m1), \"m1 is not orthonormal\"\n",
    "    assert check_orthonormal(m2), \"m2 is not orthonormal\"\n",
    "    # to get rotation matrix between m1 and m2 calculate\n",
    "    # m1*m2.T (can do m2.T instead of m2.inv because vectors\n",
    "    # are orthogonal). Since vectors here are rows instead\n",
    "    # of columns we apply T to m1 instead of m2.\n",
    "    rot_mat = np.matmul(m1.T, m2)\n",
    "    rotation = Rotation.from_matrix(rot_mat).inv()\n",
    "    error = np.mean(np.abs(rotation.apply(m1) - m2))\n",
    "    return rotation, error\n",
    "\n",
    "def align_multiple_orthonormal_vectors(ms1, ms2, as_scipy=True):\n",
    "    transpose_mts1 = np.transpose(ms1, axes=[0, 2, 1])\n",
    "    rot_mats = np.matmul(transpose_mts1, ms2)\n",
    "    if as_scipy:\n",
    "        all_rotations = []\n",
    "        for rot_mat in rot_mats:\n",
    "            all_rotations.append(Rotation.from_matrix(rot_mat))\n",
    "        return all_rotations\n",
    "    else:\n",
    "        return rot_mats"
   ]
  },
  {
   "cell_type": "code",
   "execution_count": null,
   "id": "9123800b",
   "metadata": {},
   "outputs": [],
   "source": [
    "r_alt, err = align_orthonormal_vectors(qf_o, qf_t)"
   ]
  },
  {
   "cell_type": "code",
   "execution_count": null,
   "id": "6e459269",
   "metadata": {},
   "outputs": [],
   "source": [
    "nodefs = nfsm.reshape((nfsm.shape[0], 3, 3))\n",
    "first_v = nodefs[0]\n",
    "nodefs[0]"
   ]
  },
  {
   "cell_type": "code",
   "execution_count": null,
   "id": "cabc4cd7",
   "metadata": {},
   "outputs": [],
   "source": [
    "rot_mats = align_multiple_orthonormal_vectors(nodefs, first_v, as_scipy=False)"
   ]
  },
  {
   "cell_type": "code",
   "execution_count": null,
   "id": "23378022",
   "metadata": {},
   "outputs": [],
   "source": [
    "np.round(rot_mats.dot(first_v[0]) - nodefs[:,0],2)"
   ]
  },
  {
   "cell_type": "code",
   "execution_count": null,
   "id": "bb51d014",
   "metadata": {},
   "outputs": [],
   "source": [
    "nf = nodefs[:,:2,:]\n",
    "qf = nodefs[:,2,:]\n",
    "print(nf.shape)\n",
    "print(qf.shape)"
   ]
  },
  {
   "cell_type": "code",
   "execution_count": null,
   "id": "fc62a643",
   "metadata": {},
   "outputs": [],
   "source": [
    "def get_angles_for_all_hypotheses(hyp_f, query_f):\n",
    "    \"\"\"\n",
    "    hyp_f shape = (num_hyp, num_nn, 3)\n",
    "    query_f shape = (num_hyp, 3)\n",
    "        for each hypothesis we want to get num_nn angles.\n",
    "    return shape = (num_hyp, num_nn)\n",
    "    \"\"\"\n",
    "    dot_product = np.einsum(\"ijk,ik->ij\",hyp_f, query_f)\n",
    "    angle = np.arccos(np.clip(dot_product, -1, 1))\n",
    "    return angle"
   ]
  },
  {
   "cell_type": "code",
   "execution_count": null,
   "id": "67923193",
   "metadata": {},
   "outputs": [],
   "source": [
    "get_angles_for_all_hypotheses(nf, qf)"
   ]
  },
  {
   "cell_type": "code",
   "execution_count": null,
   "id": "82c90b04",
   "metadata": {},
   "outputs": [],
   "source": [
    "angle_err = np.linspace(0,np.pi/2,100)"
   ]
  },
  {
   "cell_type": "code",
   "execution_count": null,
   "id": "33807a5b",
   "metadata": {},
   "outputs": [],
   "source": [
    "angle_err"
   ]
  },
  {
   "cell_type": "code",
   "execution_count": null,
   "id": "c555583c",
   "metadata": {},
   "outputs": [],
   "source": [
    "plt.figure()\n",
    "plt.plot(angle_err, -(np.sin(angle_err)-0.5))\n",
    "plt.xlabel('angle error (radians)')\n",
    "plt.ylabel('evidence')\n",
    "plt.show()"
   ]
  },
  {
   "cell_type": "code",
   "execution_count": null,
   "id": "28857202",
   "metadata": {},
   "outputs": [],
   "source": [
    "a = np.random.normal(0,0.1,100)"
   ]
  },
  {
   "cell_type": "code",
   "execution_count": null,
   "id": "a03523b0",
   "metadata": {},
   "outputs": [],
   "source": [
    "plt.figure()\n",
    "plt.hist(a)\n",
    "plt.title(\"standard deviation = 0.1\")\n",
    "plt.show()"
   ]
  },
  {
   "cell_type": "markdown",
   "id": "16b0f60b",
   "metadata": {},
   "source": [
    "#### Point Normal Calculation"
   ]
  },
  {
   "cell_type": "code",
   "execution_count": null,
   "id": "b84bb2cc",
   "metadata": {},
   "outputs": [],
   "source": [
    "plt.figure()\n",
    "plt.imshow(detailed_stats['3']['SM_0']['raw_observations'][0]['depth'])\n",
    "plt.title('mug')\n",
    "plt.axis('off')\n",
    "plt.show()"
   ]
  },
  {
   "cell_type": "code",
   "execution_count": null,
   "id": "7b59b191",
   "metadata": {},
   "outputs": [],
   "source": [
    "detailed_stats['0']['SM_0'].keys()"
   ]
  },
  {
   "cell_type": "code",
   "execution_count": null,
   "id": "703b2183",
   "metadata": {},
   "outputs": [],
   "source": [
    "from tbp.monty.frameworks.environment_utils.transforms import DepthTo3DLocations\n",
    "from tbp.monty.frameworks.environment_utils.graph_utils import get_point_normal, get_center_point_normal\n",
    "import quaternion as qt"
   ]
  },
  {
   "cell_type": "code",
   "execution_count": null,
   "id": "f59abd71",
   "metadata": {},
   "outputs": [],
   "source": [
    "transform = DepthTo3DLocations(\n",
    "                agent_id=\"agent_id_0\",\n",
    "                sensor_ids=[\"patch\"],\n",
    "                resolutions=[[64,64]],\n",
    "                world_coord=True,\n",
    "                zooms=[10],\n",
    "                get_all_points=True,\n",
    "                use_semantic_sensor=True,\n",
    "            )"
   ]
  },
  {
   "cell_type": "code",
   "execution_count": null,
   "id": "29cc05e6",
   "metadata": {},
   "outputs": [],
   "source": [
    "pc = np.array(detailed_stats['3']['SM_0']['raw_observations'][0]['semantic_3d'])\n",
    "pc.shape"
   ]
  },
  {
   "cell_type": "code",
   "execution_count": null,
   "id": "77e1dc1f",
   "metadata": {},
   "outputs": [],
   "source": [
    "obs_dim = int(np.sqrt(pc.shape[0]))\n",
    "half_obs_dim = obs_dim // 2\n",
    "center_id = half_obs_dim + obs_dim * half_obs_dim\n",
    "on_obj = pc[:, 3] > 0\n",
    "adjusted_center_id = sum(on_obj[:center_id])\n",
    "oopc = pc[on_obj, :3]"
   ]
  },
  {
   "cell_type": "code",
   "execution_count": null,
   "id": "b96caa89",
   "metadata": {},
   "outputs": [],
   "source": [
    "norm = detailed_stats['3']['SM_0']['processed_observations'][0]['features']['point_normal']\n",
    "cd1 = detailed_stats['3']['SM_0']['processed_observations'][0]['features']['curvature_directions'][:3]"
   ]
  },
  {
   "cell_type": "code",
   "execution_count": null,
   "id": "74a79a4e",
   "metadata": {},
   "outputs": [],
   "source": [
    "plt.figure()\n",
    "ax = plt.subplot(1,1,1,projection='3d')\n",
    "s = ax.scatter(\n",
    "    pc[:, 0],\n",
    "    pc[:, 1],\n",
    "    pc[:, 2],\n",
    "    c=pc[:, 3],\n",
    "    alpha=0.05\n",
    ")\n",
    "s = ax.scatter(\n",
    "    pc[center_id, 0],\n",
    "    pc[center_id, 1],\n",
    "    pc[center_id, 2],\n",
    "    s=50,\n",
    "    c='red'\n",
    ")\n",
    "cp = pc[center_id]\n",
    "norm_len = 0.01\n",
    "ax.plot([cp[0], cp[0] + norm[0] * norm_len],\n",
    "            [cp[1], cp[1] + norm[1] * norm_len],\n",
    "            [cp[2], cp[2] + norm[2] * norm_len],\n",
    "            c='blue',\n",
    "           )\n",
    "ax.plot([cp[0], cp[0] + cd1[0] * norm_len],\n",
    "        [cp[1], cp[1] + cd1[1] * norm_len],\n",
    "        [cp[2], cp[2] + cd1[2] * norm_len],\n",
    "        c='red',\n",
    "       )\n",
    "\n",
    "plt.show()"
   ]
  },
  {
   "cell_type": "code",
   "execution_count": null,
   "id": "bb3f8bfd",
   "metadata": {},
   "outputs": [],
   "source": [
    "obs_dim = int(np.sqrt(pc.shape[0]))\n",
    "half_obs_dim = obs_dim // 2\n",
    "center_id = half_obs_dim + obs_dim * half_obs_dim"
   ]
  },
  {
   "cell_type": "code",
   "execution_count": null,
   "id": "86393f57",
   "metadata": {},
   "outputs": [],
   "source": [
    "obs_dim*0.156"
   ]
  },
  {
   "cell_type": "code",
   "execution_count": null,
   "id": "a2f4eeb5",
   "metadata": {},
   "outputs": [],
   "source": [
    "64//1"
   ]
  },
  {
   "cell_type": "code",
   "execution_count": null,
   "id": "55341d23",
   "metadata": {},
   "outputs": [],
   "source": [
    "10/64"
   ]
  },
  {
   "cell_type": "code",
   "execution_count": null,
   "id": "a4300f91",
   "metadata": {},
   "outputs": [],
   "source": [
    "center_id_1up = half_obs_dim + obs_dim * (half_obs_dim - 1)\n",
    "center_id_1down = half_obs_dim + obs_dim * (half_obs_dim + 1)"
   ]
  },
  {
   "cell_type": "code",
   "execution_count": null,
   "id": "52c5666d",
   "metadata": {},
   "outputs": [],
   "source": [
    "def get_center_point_normal(point_cloud, patch_radius_frac=5):\n",
    "    obs_dim = int(np.sqrt(point_cloud.shape[0]))\n",
    "    half_obs_dim = obs_dim // 2\n",
    "    center_id = half_obs_dim + obs_dim * half_obs_dim\n",
    "    tan_len = obs_dim // patch_radius_frac\n",
    "    center_id_up = half_obs_dim + obs_dim * (half_obs_dim - tan_len)\n",
    "    center_id_down = half_obs_dim + obs_dim * (half_obs_dim + tan_len)\n",
    "\n",
    "    vecup = point_cloud[center_id_up, :3] - point_cloud[center_id, :3]\n",
    "    vecdown = point_cloud[center_id_down, :3] - point_cloud[center_id, :3]\n",
    "    vecright = point_cloud[center_id + tan_len, :3] - point_cloud[center_id, :3]\n",
    "    vecleft = point_cloud[center_id - tan_len, :3] - point_cloud[center_id, :3]\n",
    "\n",
    "    vecup_norm = vecup / np.linalg.norm(vecup)\n",
    "    vecdown_norm = vecdown / np.linalg.norm(vecdown)\n",
    "    vecright_norm = vecright / np.linalg.norm(vecright)\n",
    "    vecleft_norm = vecleft / np.linalg.norm(vecleft)\n",
    "\n",
    "    cp = lambda v1, v2: np.cross(\n",
    "        v1, v2\n",
    "    )  # comment in to avoid annoying pylance bug\n",
    "    norm1, norm2 = None, None\n",
    "    if (point_cloud[center_id_up, 3] > 0) and (\n",
    "        point_cloud[center_id + tan_len, 3] > 0\n",
    "    ):\n",
    "        norm1 = -cp(vecup_norm, vecright_norm)\n",
    "    else:\n",
    "        print(\"first off\")\n",
    "    if (point_cloud[center_id_down, 3] > 0) and (\n",
    "        point_cloud[center_id - tan_len, 3] > 0\n",
    "    ):\n",
    "        norm2 = -cp(vecdown_norm, vecleft_norm)\n",
    "    else:\n",
    "        print(\"second off\")\n",
    "    if norm1 is None:\n",
    "        norm1 = norm2\n",
    "    if norm2 is None:\n",
    "        norm2 = norm1\n",
    "    if norm1 is None and norm2 is None:\n",
    "        print(\"Too many off object points around center\")\n",
    "        norm1 = norm2 = [0, 0, 1]\n",
    "    print(norm1)\n",
    "    print(norm2)\n",
    "    norm = np.mean([norm1, norm2], axis=0)\n",
    "    # norm = np.cross(vec1_norm, vec2_norm)\n",
    "    norm = norm / np.linalg.norm(norm)\n",
    "    return vecdown_norm, vecleft_norm, norm, norm1, norm2"
   ]
  },
  {
   "cell_type": "code",
   "execution_count": null,
   "id": "f3f721f5",
   "metadata": {},
   "outputs": [],
   "source": [
    "vec1_norm, vec2_norm, norm_alt, norm1, norm2 = get_center_point_normal(pc)"
   ]
  },
  {
   "cell_type": "code",
   "execution_count": null,
   "id": "657ba892",
   "metadata": {},
   "outputs": [],
   "source": [
    "plt.figure()\n",
    "to_plot = np.array([center_id-2, center_id, center_id +2, center_id_1up, center_id_1down])\n",
    "ax = plt.subplot(1,1,1,projection='3d')\n",
    "s = ax.scatter(\n",
    "    pc[to_plot, 0],\n",
    "    pc[to_plot, 1],\n",
    "    pc[to_plot, 2],\n",
    "    c=pc[to_plot, 3],\n",
    ")\n",
    "s = ax.scatter(\n",
    "    pc[center_id, 0],\n",
    "    pc[center_id, 1],\n",
    "    pc[center_id, 2],\n",
    "    s=5,\n",
    "    c='red'\n",
    ")\n",
    "cp = pc[center_id]\n",
    "norm_len = 0.0001\n",
    "\n",
    "ax.plot([cp[0], cp[0] + vec1_norm[0] * norm_len],\n",
    "        [cp[1], cp[1] + vec1_norm[1] * norm_len],\n",
    "        [cp[2], cp[2] + vec1_norm[2] * norm_len],\n",
    "        c='red',\n",
    "       )\n",
    "ax.plot([cp[0], cp[0] + vec2_norm[0] * norm_len],\n",
    "        [cp[1], cp[1] + vec2_norm[1] * norm_len],\n",
    "        [cp[2], cp[2] + vec2_norm[2] * norm_len],\n",
    "        c='red',\n",
    "       )\n",
    "ax.plot([cp[0], cp[0] + norm_alt[0] * norm_len*2],\n",
    "        [cp[1], cp[1] + norm_alt[1] * norm_len*2],\n",
    "        [cp[2], cp[2] + norm_alt[2] * norm_len*2],\n",
    "        c='green',\n",
    "       )\n",
    "ax.plot([cp[0], cp[0] + norm[0] * norm_len],\n",
    "            [cp[1], cp[1] + norm[1] * norm_len],\n",
    "            [cp[2], cp[2] + norm[2] * norm_len],\n",
    "            c='blue',\n",
    "           )\n",
    "ax.plot([cp[0], cp[0] + norm1[0] * norm_len],\n",
    "            [cp[1], cp[1] + norm1[1] * norm_len],\n",
    "            [cp[2], cp[2] + norm1[2] * norm_len],\n",
    "            c='pink',\n",
    "           )\n",
    "ax.plot([cp[0], cp[0] + norm2[0] * norm_len],\n",
    "            [cp[1], cp[1] + norm2[1] * norm_len],\n",
    "            [cp[2], cp[2] + norm2[2] * norm_len],\n",
    "            c='yellow',\n",
    "           )\n",
    "ax.set_aspect('equal')\n",
    "plt.show()"
   ]
  }
 ],
 "metadata": {
  "kernelspec": {
   "display_name": "Python 3 (ipykernel)",
   "language": "python",
   "name": "python3"
  },
  "language_info": {
   "codemirror_mode": {
    "name": "ipython",
    "version": 3
   },
   "file_extension": ".py",
   "mimetype": "text/x-python",
   "name": "python",
   "nbconvert_exporter": "python",
   "pygments_lexer": "ipython3",
   "version": "3.8.16"
  }
 },
 "nbformat": 4,
 "nbformat_minor": 5
}
