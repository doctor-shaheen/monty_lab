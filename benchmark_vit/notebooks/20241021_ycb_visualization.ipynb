{
 "cells": [
  {
   "cell_type": "markdown",
   "metadata": {},
   "source": [
    "# 2024-10-21 YCB Visualization\n",
    "\n",
    "The purpose of this notebook is to make **organized** visualizations of the YCB dataset (77 objects, 32 rotations).\n",
    "\n",
    "It would be nice to create the following visualizations for reference:\n",
    "- For each object, show all 32 rotations in a 4 x 8 grid.\n",
    "- For all objects, show 4 x 77 grid of 4 selected rotations each. "
   ]
  },
  {
   "cell_type": "code",
   "execution_count": 1,
   "metadata": {},
   "outputs": [],
   "source": [
    "import os\n",
    "import json\n",
    "import matplotlib.pyplot as plt\n",
    "import numpy as np\n",
    "import tqdm\n",
    "\n",
    "data_dir = \"../data/view_finder_224/eval/view_finder_rgbd\"\n",
    "visualization_dir = \"../data/view_finder_224/eval/view_finder_rgbd/visualizations\"\n",
    "os.makedirs(visualization_dir, exist_ok=True)"
   ]
  },
  {
   "cell_type": "code",
   "execution_count": 2,
   "metadata": {},
   "outputs": [
    {
     "name": "stdout",
     "output_type": "stream",
     "text": [
      "[(0, 'mug', [0, 0, 0]), (1, 'bowl', [0, 0, 0]), (2, 'potted_meat_can', [0, 0, 0])]\n"
     ]
    }
   ],
   "source": [
    "# Load episodes.json to get object ids and rotations\n",
    "episodes = []\n",
    "with open(os.path.join(data_dir, \"episodes.json\"), \"r\") as f:\n",
    "    for line in f:\n",
    "        episode = json.loads(line)\n",
    "        episode_num = episode[\"episode\"]\n",
    "        object = episode[\"object\"]\n",
    "        rotation = episode[\"rotation\"]\n",
    "        episodes.append((episode_num, object, rotation))\n",
    "\n",
    "print(episodes[:3])\n"
   ]
  },
  {
   "cell_type": "code",
   "execution_count": 3,
   "metadata": {},
   "outputs": [
    {
     "name": "stdout",
     "output_type": "stream",
     "text": [
      "{(0, 0, 270), (0, 0, 90), (0, 90, 90), (0, 90, 270), (90, 180, 90), (90, 180, 270), (90, 270, 90), (90, 270, 270), (0, 180, 90), (0, 270, 90), (0, 180, 270), (0, 270, 270), (90, 90, 270), (90, 0, 0), (90, 0, 180), (90, 90, 0), (90, 90, 180), (0, 0, 180), (0, 90, 0), (0, 0, 0), (0, 90, 180), (90, 180, 0), (90, 180, 180), (90, 90, 90), (90, 270, 0), (90, 270, 180), (0, 180, 0), (0, 180, 180), (0, 270, 0), (0, 270, 180), (90, 0, 90), (90, 0, 270)}\n",
      "32\n"
     ]
    }
   ],
   "source": [
    "# Let's see unique rotations\n",
    "rotations = [tuple(episode[2]) for episode in episodes]\n",
    "unique_rotations = set(rotations)\n",
    "print(unique_rotations)\n",
    "print(len(unique_rotations))\n"
   ]
  },
  {
   "cell_type": "code",
   "execution_count": 4,
   "metadata": {},
   "outputs": [
    {
     "name": "stdout",
     "output_type": "stream",
     "text": [
      "{'f_lego_duplo', 'nine_hole_peg_test', 'b_lego_duplo', 'mug', 'd_toy_airplane', 'mustard_bottle', 'b_cups', 'e_toy_airplane', 'pear', 'hammer', 'h_cups', 'a_toy_airplane', 'pudding_box', 'knife', 'apple', 'wood_block', 'c_cups', 'gelatin_box', 'e_cups', 'd_cups', 'b_marbles', 'foam_brick', 'a_colored_wood_blocks', 'plate', 'g_cups', 'padlock', 'orange', 'skillet_lid', 'racquetball', 'sponge', 'banana', 'phillips_screwdriver', 'f_cups', 'sugar_box', 'lemon', 'mini_soccer_ball', 'plum', 'd_lego_duplo', 'b_colored_wood_blocks', 'tennis_ball', 'medium_clamp', 'c_toy_airplane', 'tuna_fish_can', 'scissors', 'a_cups', 'cracker_box', 'bowl', 'flat_screwdriver', 'large_marker', 'dice', 'a_marbles', 'b_toy_airplane', 'i_cups', 'a_lego_duplo', 'strawberry', 'peach', 'pitcher_base', 'adjustable_wrench', 'chain', 'potted_meat_can', 'c_lego_duplo', 'rubiks_cube', 'e_lego_duplo', 'extra_large_clamp', 'fork', 'baseball', 'spatula', 'tomato_soup_can', 'g_lego_duplo', 'j_cups', 'softball', 'master_chef_can', 'bleach_cleanser', 'large_clamp', 'spoon', 'power_drill', 'golf_ball'}\n",
      "77\n"
     ]
    }
   ],
   "source": [
    "# Let's get unique objects so we can create 4 x 8 grids for each object.\n",
    "objects = [episode[1] for episode in episodes]\n",
    "unique_objects = set(objects)\n",
    "print(unique_objects)\n",
    "print(len(unique_objects))\n"
   ]
  },
  {
   "cell_type": "code",
   "execution_count": 5,
   "metadata": {},
   "outputs": [
    {
     "data": {
      "text/plain": [
       "[(0, 0, 0),\n",
       " (0, 0, 90),\n",
       " (0, 0, 180),\n",
       " (0, 0, 270),\n",
       " (0, 90, 0),\n",
       " (0, 90, 90),\n",
       " (0, 90, 180),\n",
       " (0, 90, 270),\n",
       " (0, 180, 0),\n",
       " (0, 180, 90),\n",
       " (0, 180, 180),\n",
       " (0, 180, 270),\n",
       " (0, 270, 0),\n",
       " (0, 270, 90),\n",
       " (0, 270, 180),\n",
       " (0, 270, 270),\n",
       " (90, 0, 0),\n",
       " (90, 0, 90),\n",
       " (90, 0, 180),\n",
       " (90, 0, 270),\n",
       " (90, 90, 0),\n",
       " (90, 90, 90),\n",
       " (90, 90, 180),\n",
       " (90, 90, 270),\n",
       " (90, 180, 0),\n",
       " (90, 180, 90),\n",
       " (90, 180, 180),\n",
       " (90, 180, 270),\n",
       " (90, 270, 0),\n",
       " (90, 270, 90),\n",
       " (90, 270, 180),\n",
       " (90, 270, 270)]"
      ]
     },
     "execution_count": 5,
     "metadata": {},
     "output_type": "execute_result"
    }
   ],
   "source": [
    "sorted(unique_rotations)"
   ]
  },
  {
   "cell_type": "code",
   "execution_count": 6,
   "metadata": {},
   "outputs": [],
   "source": [
    "def _get_episodes_for_object(object_name, episodes):\n",
    "    # get all episodes for the given object\n",
    "    episodes = [episode for episode in episodes if episode[1] == object_name]\n",
    "    # sort the episodes by rotations\n",
    "    episodes = sorted(episodes, key=lambda x: x[2])\n",
    "    return episodes\n",
    "    "
   ]
  },
  {
   "cell_type": "code",
   "execution_count": 7,
   "metadata": {},
   "outputs": [],
   "source": [
    "def _plot_all_rotations_for_object(object_name, episodes, visualization_dir):\n",
    "    # 8 x 4 grid\n",
    "    fig, axs = plt.subplots(8, 4, figsize=(8, 16))\n",
    "    for i, episode in enumerate(episodes):\n",
    "        episode_number = episode[0]\n",
    "        rotation = episode[2]\n",
    "        image_rgbd = np.load(os.path.join(data_dir, f\"images/{episode_number}.npy\"))\n",
    "        image_rgb = image_rgbd[:, :, :3]\n",
    "        axs[i // 4, i % 4].imshow(image_rgb)\n",
    "        # Title with the rotation\n",
    "        axs[i // 4, i % 4].set_title(f\"{rotation}\")\n",
    "        # remove ticks\n",
    "        axs[i // 4, i % 4].set_xticks([])\n",
    "        axs[i // 4, i % 4].set_yticks([])\n",
    "\n",
    "    plt.savefig(os.path.join(visualization_dir, f\"{object_name}_8x4.png\"), bbox_inches=\"tight\", dpi=300)\n",
    "    plt.close()\n"
   ]
  },
  {
   "cell_type": "code",
   "execution_count": 8,
   "metadata": {},
   "outputs": [
    {
     "name": "stderr",
     "output_type": "stream",
     "text": [
      "100%|██████████| 77/77 [01:14<00:00,  1.03it/s]\n"
     ]
    }
   ],
   "source": [
    "for object in tqdm.tqdm(unique_objects):\n",
    "    object_episodes = _get_episodes_for_object(object, episodes)\n",
    "    _plot_all_rotations_for_object(object, object_episodes, visualization_dir)\n"
   ]
  },
  {
   "cell_type": "markdown",
   "metadata": {},
   "source": [
    "## 4 x 77 grid"
   ]
  },
  {
   "cell_type": "code",
   "execution_count": null,
   "metadata": {},
   "outputs": [],
   "source": []
  }
 ],
 "metadata": {
  "kernelspec": {
   "display_name": "vit",
   "language": "python",
   "name": "python3"
  },
  "language_info": {
   "codemirror_mode": {
    "name": "ipython",
    "version": 3
   },
   "file_extension": ".py",
   "mimetype": "text/x-python",
   "name": "python",
   "nbconvert_exporter": "python",
   "pygments_lexer": "ipython3",
   "version": "3.12.7"
  }
 },
 "nbformat": 4,
 "nbformat_minor": 2
}
