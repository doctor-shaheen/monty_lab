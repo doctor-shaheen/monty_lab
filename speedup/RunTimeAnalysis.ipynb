{
 "cells": [
  {
   "cell_type": "code",
   "execution_count": null,
   "id": "7b42dc65",
   "metadata": {},
   "outputs": [],
   "source": [
    "import matplotlib.pyplot as plt\n",
    "import pandas as pd\n",
    "import os\n",
    "import numpy as np"
   ]
  },
  {
   "cell_type": "code",
   "execution_count": null,
   "id": "1e784235",
   "metadata": {},
   "outputs": [],
   "source": [
    "%matplotlib notebook"
   ]
  },
  {
   "cell_type": "markdown",
   "id": "a75a45da",
   "metadata": {},
   "source": [
    "## Laptop vs. Cloud Infrastructure"
   ]
  },
  {
   "cell_type": "code",
   "execution_count": null,
   "id": "a6a5e33c",
   "metadata": {},
   "outputs": [],
   "source": [
    "laptop_path = os.path.expanduser(\"~/tbp/results/monty/projects/monty_runs/evidence_profiled/\")\n",
    "lambda_path = os.path.expanduser(\"~/tbp/results/monty/projects/monty_runs/evidence_profiled_lambda/\")\n",
    "\n",
    "laptop_Pexp_path = os.path.join(laptop_path, \"profile/profile-evaluate.csv\")\n",
    "laptop_Pepisode_path = os.path.join(laptop_path, \"profile/profile-eval_epoch_0_episode_0.csv\")\n",
    "laptop_stats_path = os.path.join(laptop_path, \"eval_stats.csv\")\n",
    "\n",
    "lambda_Pexp_path = os.path.join(lambda_path, \"profile/profile-evaluate.csv\")\n",
    "lambda_Pepisode_path = os.path.join(lambda_path, \"profile/profile-eval_epoch_0_episode_0.csv\")\n",
    "lambda_stats_path = os.path.join(lambda_path, \"eval_stats.csv\")"
   ]
  },
  {
   "cell_type": "code",
   "execution_count": null,
   "id": "bc15abe8",
   "metadata": {},
   "outputs": [],
   "source": [
    "eval_exp_laptop = pd.read_csv(laptop_Pexp_path)\n",
    "eval_episode_laptop = pd.read_csv(laptop_Pepisode_path)\n",
    "eval_stats_laptop = pd.read_csv(laptop_stats_path)\n",
    "\n",
    "eval_exp_lambda = pd.read_csv(lambda_Pexp_path)\n",
    "eval_episode_lambda = pd.read_csv(lambda_Pepisode_path)\n",
    "eval_stats_lambda = pd.read_csv(lambda_stats_path)"
   ]
  },
  {
   "cell_type": "code",
   "execution_count": null,
   "id": "3c8844d0",
   "metadata": {},
   "outputs": [],
   "source": [
    "plt.figure()\n",
    "plt.title(\"Run Time Per Step\")\n",
    "plt.plot(eval_stats_laptop['time']/eval_stats_laptop['num_steps'],c='green')\n",
    "plt.plot(eval_stats_lambda['time']/eval_stats_lambda['num_steps'],c='blue')\n",
    "plt.plot(eval_stats_lambda_nocopy['time']/eval_stats_lambda_nocopy['num_steps'],c='purple')\n",
    "plt.legend(['laptop','lambda', 'lambda - no torch clone'])\n",
    "plt.show()"
   ]
  },
  {
   "cell_type": "code",
   "execution_count": null,
   "id": "e324744a",
   "metadata": {},
   "outputs": [],
   "source": [
    "print(\"LAPTOP EPISODE STATS:\")\n",
    "for i in range(20):\n",
    "    print(f\"spent {np.round(eval_episode_laptop['cumtime'][i],2)}s on\\n {eval_episode_laptop['func'][i]}\")"
   ]
  },
  {
   "cell_type": "code",
   "execution_count": null,
   "id": "9754cf99",
   "metadata": {},
   "outputs": [],
   "source": [
    "print(\"LAMBDA EPISODE STATS:\")\n",
    "for i in range(20):\n",
    "    print(f\"spent {np.round(eval_episode_lambda['cumtime'][i],2)}s on\\n {eval_episode_lambda['func'][i]}\")"
   ]
  },
  {
   "cell_type": "code",
   "execution_count": null,
   "id": "49c90077",
   "metadata": {},
   "outputs": [],
   "source": [
    "print(\"LAPTOP EXPERIMENT STATS:\")\n",
    "for i in range(10):\n",
    "    print(f\"spent {np.round(eval_exp_laptop['cumtime'][i],3)}s on\\n {eval_exp_laptop['func'][i]}\")"
   ]
  },
  {
   "cell_type": "code",
   "execution_count": null,
   "id": "a8e7e7a8",
   "metadata": {},
   "outputs": [],
   "source": [
    "print(\"LAMBDA EXPERIMENT STATS:\")\n",
    "for i in range(10):\n",
    "    print(f\"spent {np.round(eval_exp_lambda['cumtime'][i],3)}s on\\n {eval_exp_lambda['func'][i]}\")"
   ]
  },
  {
   "cell_type": "markdown",
   "id": "b3ef7b8c",
   "metadata": {},
   "source": [
    "### Use Numpy Arrays in Graphs"
   ]
  },
  {
   "cell_type": "code",
   "execution_count": null,
   "id": "df8ea335",
   "metadata": {},
   "outputs": [],
   "source": [
    "laptop_path = os.path.expanduser(\"~/tbp/results/monty/projects/monty_runs/evidence_LM_numpy_laptop_no_json/\")\n",
    "lambda_path = os.path.expanduser(\"~/tbp/results/monty/projects/monty_runs/evidence_LM_numpy_lambda_no_json/\")\n",
    "\n",
    "laptop_Pexp_path = os.path.join(laptop_path, \"profile/profile-evaluate.csv\")\n",
    "laptop_Pepisode_path = os.path.join(laptop_path, \"profile/profile-eval_epoch_0_episode_0.csv\")\n",
    "laptop_stats_path = os.path.join(laptop_path, \"eval_stats.csv\")\n",
    "\n",
    "lambda_Pexp_path = os.path.join(lambda_path, \"profile/profile-evaluate.csv\")\n",
    "lambda_Pepisode_path = os.path.join(lambda_path, \"profile/profile-eval_epoch_0_episode_0.csv\")\n",
    "lambda_stats_path = os.path.join(lambda_path, \"eval_stats.csv\")"
   ]
  },
  {
   "cell_type": "code",
   "execution_count": null,
   "id": "8c7a8c05",
   "metadata": {},
   "outputs": [],
   "source": [
    "# eval_exp_laptop_nn = pd.read_csv(laptop_Pexp_path)\n",
    "eval_episode_laptop_nn = pd.read_csv(laptop_Pepisode_path)\n",
    "eval_stats_laptop_nn = pd.read_csv(laptop_stats_path)\n",
    "\n",
    "# eval_exp_lambda_nn = pd.read_csv(lambda_Pexp_path)\n",
    "eval_episode_lambda_nn = pd.read_csv(lambda_Pepisode_path)\n",
    "eval_stats_lambda_nn = pd.read_csv(lambda_stats_path)"
   ]
  },
  {
   "cell_type": "code",
   "execution_count": null,
   "id": "86e7a457",
   "metadata": {},
   "outputs": [],
   "source": [
    "plt.figure()\n",
    "plt.title(\"Effect of Numpy-Torch Conversion on Run Time\")\n",
    "plt.plot(eval_stats_laptop['time']/eval_stats_laptop['num_steps'],c='green')\n",
    "plt.plot(eval_stats_lambda['time']/eval_stats_lambda['num_steps'],c='blue')\n",
    "plt.plot(eval_stats_laptop_nn['time']/eval_stats_laptop_nn['num_steps'],c='darkgreen')\n",
    "plt.plot(eval_stats_lambda_nn['time']/eval_stats_lambda_nn['num_steps'],c='darkblue')\n",
    "plt.legend(['laptop','lambda', 'laptop - no torch', 'lambda - no torch'])\n",
    "plt.xlabel(\"Episode\")\n",
    "plt.ylabel(\"Run Time Per Step (s)\")\n",
    "plt.show()"
   ]
  },
  {
   "cell_type": "code",
   "execution_count": null,
   "id": "b7441dab",
   "metadata": {},
   "outputs": [],
   "source": [
    "np.array(eval_stats_laptop['time']/eval_stats_laptop['num_steps'])"
   ]
  },
  {
   "cell_type": "code",
   "execution_count": null,
   "id": "7a886872",
   "metadata": {
    "scrolled": false
   },
   "outputs": [],
   "source": [
    "plt.figure()\n",
    "plt.title(\"Effect of Numpy-Torch Conversion on Run Time\")\n",
    "laptop_rts = np.array(eval_stats_laptop['time']/eval_stats_laptop['num_steps'])\n",
    "lambda_rts = np.array(eval_stats_lambda['time']/eval_stats_lambda['num_steps'])\n",
    "laptop_rts_nn = np.array(eval_stats_laptop_nn['time']/eval_stats_laptop_nn['num_steps'])\n",
    "lambda_rts_nn = np.array(eval_stats_lambda_nn['time']/eval_stats_lambda_nn['num_steps'])\n",
    "plt.bar(0,np.mean(laptop_rts),color='green')\n",
    "plt.bar(1,np.mean(lambda_rts),color='blue')\n",
    "plt.bar(2,np.mean(laptop_rts_nn),color='darkgreen')\n",
    "plt.bar(3,np.mean(lambda_rts_nn),color='darkblue')\n",
    "plt.legend(['laptop','lambda', 'laptop - no torch', 'lambda - no torch'])\n",
    "# plt.xlabel(\"Episode\")\n",
    "plt.xticks([])\n",
    "plt.ylabel(\"Avg. Run Time Per Step (s)\")\n",
    "plt.show()"
   ]
  },
  {
   "cell_type": "code",
   "execution_count": null,
   "id": "444dfd95",
   "metadata": {},
   "outputs": [],
   "source": [
    "print(\"LAPTOP EPISODE STATS:\")\n",
    "for i in range(20):\n",
    "    print(f\"spent {np.round(eval_episode_laptop_nn['cumtime'][i],2)}s on\\n {eval_episode_laptop_nn['func'][i]}\")"
   ]
  },
  {
   "cell_type": "code",
   "execution_count": null,
   "id": "fb140172",
   "metadata": {},
   "outputs": [],
   "source": [
    "print(\"LAMBDA EPISODE STATS:\")\n",
    "for i in range(20):\n",
    "    print(f\"spent {np.round(eval_episode_lambda_nn['cumtime'][i],2)}s on\\n {eval_episode_lambda_nn['func'][i]}\")"
   ]
  },
  {
   "cell_type": "markdown",
   "id": "d985aaa6",
   "metadata": {},
   "source": [
    "## 5LMs"
   ]
  },
  {
   "cell_type": "code",
   "execution_count": null,
   "id": "41a9d790",
   "metadata": {},
   "outputs": [],
   "source": [
    "laptop_path = os.path.expanduser(\"~/tbp/results/monty/projects/evidence_eval_runs/logs/five_lm_evidence_profiled/\")\n",
    "lambda_path = os.path.expanduser(\"~/tbp/results/monty/projects/evidence_eval_runs/logs/five_lm_evidence_profiled_lambda/\")\n",
    "\n",
    "laptop_Pexp_path = os.path.join(laptop_path, \"profile/profile-evaluate.csv\")\n",
    "laptop_Pepisode_path = os.path.join(laptop_path, \"profile/profile-eval_epoch_0_episode_0.csv\")\n",
    "laptop_stats_path = os.path.join(laptop_path, \"eval_stats.csv\")\n",
    "\n",
    "lambda_Pexp_path = os.path.join(lambda_path, \"profile/profile-evaluate.csv\")\n",
    "lambda_Pepisode_path = os.path.join(lambda_path, \"profile/profile-eval_epoch_0_episode_0.csv\")\n",
    "lambda_stats_path = os.path.join(lambda_path, \"eval_stats.csv\")"
   ]
  },
  {
   "cell_type": "code",
   "execution_count": null,
   "id": "deffb2e7",
   "metadata": {},
   "outputs": [],
   "source": [
    "eval_exp_5lm_laptop = pd.read_csv(laptop_Pexp_path)\n",
    "eval_episode_5lm_laptop = pd.read_csv(laptop_Pepisode_path)\n",
    "eval_stats_5lm_laptop = pd.read_csv(laptop_stats_path)\n",
    "\n",
    "eval_exp_5lm_lambda = pd.read_csv(lambda_Pexp_path)\n",
    "eval_episode_5lm_lambda = pd.read_csv(lambda_Pepisode_path)\n",
    "eval_stats_5lm_lambda = pd.read_csv(lambda_stats_path)"
   ]
  },
  {
   "cell_type": "code",
   "execution_count": null,
   "id": "f2c43dd7",
   "metadata": {
    "scrolled": false
   },
   "outputs": [],
   "source": [
    "print(\"LAPTOP EPISODE STATS:\")\n",
    "for i in range(20):\n",
    "    print(f\"spent {np.round(eval_episode_5lm_laptop['cumtime'][i],2)}s on\\n {eval_episode_5lm_laptop['func'][i]}\")"
   ]
  },
  {
   "cell_type": "code",
   "execution_count": null,
   "id": "e4f0e906",
   "metadata": {},
   "outputs": [],
   "source": [
    "print(\"LAMBDA EPISODE STATS:\")\n",
    "for i in range(20):\n",
    "    print(f\"spent {np.round(eval_episode_5lm_lambda['cumtime'][i],2)}s on\\n {eval_episode_5lm_lambda['func'][i]}\")"
   ]
  },
  {
   "cell_type": "code",
   "execution_count": null,
   "id": "6ea78d3f",
   "metadata": {},
   "outputs": [],
   "source": [
    "plt.figure()\n",
    "plt.title(\"Run Time Per LM Step - 5LMs\")\n",
    "plt.plot(eval_stats_5lm_laptop['time']/eval_stats_5lm_laptop['num_steps']/5,c='green')\n",
    "plt.plot(eval_stats_5lm_lambda['time']/eval_stats_5lm_lambda['num_steps']/5,c='blue')\n",
    "\n",
    "for i, time in enumerate(eval_stats_laptop['time']):\n",
    "    plt.scatter(i*5, time/eval_stats_laptop['num_steps'][i],c='green')\n",
    "for i, time in enumerate(eval_stats_lambda['time']):\n",
    "    plt.scatter(i*5, time/eval_stats_lambda['num_steps'][i],c='blue')\n",
    "plt.legend(['laptop','lambda','1 LM'])\n",
    "plt.show()"
   ]
  },
  {
   "cell_type": "code",
   "execution_count": null,
   "id": "669dbf6c",
   "metadata": {},
   "outputs": [],
   "source": [
    "laptop_5lm_step_times = np.zeros(12)\n",
    "lambda_5lm_step_times = np.zeros(12)\n",
    "episode = 0\n",
    "episode_times = []\n",
    "episode_times_l = []\n",
    "for i, time in enumerate(eval_stats_5lm_laptop['time']):\n",
    "    episode_times.append(time/eval_stats_5lm_laptop['num_steps'][i])\n",
    "    episode_times_l.append(eval_stats_5lm_lambda['time'][i]/eval_stats_5lm_lambda['num_steps'][i])\n",
    "    if (i+1)%5 == 0:\n",
    "        laptop_5lm_step_times[episode] = np.max(episode_times)\n",
    "        lambda_5lm_step_times[episode] = np.max(episode_times_l)\n",
    "        episode_times = []\n",
    "        episode_times_l = []\n",
    "        episode +=1"
   ]
  },
  {
   "cell_type": "code",
   "execution_count": null,
   "id": "821a735a",
   "metadata": {},
   "outputs": [],
   "source": [
    "lambda_5lm_step_times"
   ]
  },
  {
   "cell_type": "code",
   "execution_count": null,
   "id": "b7263158",
   "metadata": {},
   "outputs": [],
   "source": [
    "plt.figure()\n",
    "plt.title(\"Run Time Per Episode Step - 5LMs\")\n",
    "plt.plot(eval_stats_laptop[\"time\"]/eval_stats_laptop[\"num_steps\"],c='lightgreen')\n",
    "plt.plot(eval_stats_lambda[\"time\"]/eval_stats_lambda[\"num_steps\"],c='lightblue')\n",
    "plt.plot(laptop_5lm_step_times,c='green')\n",
    "plt.plot(lambda_5lm_step_times,c='blue')\n",
    "\n",
    "plt.legend(['laptop - 1LM','lambda - 1LM','laptop - 5LMs','lambda - 5LMs'])\n",
    "plt.show()"
   ]
  },
  {
   "cell_type": "code",
   "execution_count": null,
   "id": "f5eb703f",
   "metadata": {},
   "outputs": [],
   "source": [
    "eval_stats_5lm_laptop_novote = pd.read_csv(os.path.expanduser(\"~/tbp/results/monty/projects/evidence_eval_runs/logs/five_lm_evidence_profiled_novote/eval_stats.csv\"))"
   ]
  },
  {
   "cell_type": "code",
   "execution_count": null,
   "id": "965a7405",
   "metadata": {},
   "outputs": [],
   "source": [
    "plt.figure()\n",
    "plt.title(\"Run Time Per LM Step - Laptop\")\n",
    "plt.plot(eval_stats_5lm_laptop['time']/eval_stats_5lm_laptop['num_steps']/5,c='darkgreen')\n",
    "plt.plot(eval_stats_5lm_laptop_novote['time']/eval_stats_5lm_laptop_novote['num_steps']/5,c='lightgreen')\n",
    "for i, time in enumerate(eval_stats_laptop['time']):\n",
    "    plt.scatter(i*5, time/eval_stats_laptop['num_steps'][i],c='green')\n",
    "plt.legend(['5 LM','5 LM - no vote', '1 LM'])\n",
    "plt.show()"
   ]
  },
  {
   "cell_type": "code",
   "execution_count": null,
   "id": "7045d756",
   "metadata": {},
   "outputs": [],
   "source": [
    "laptop_5lm_novote_step_times = np.zeros(12)\n",
    "episode = 0\n",
    "episode_times = []\n",
    "for i, time in enumerate(eval_stats_5lm_laptop_novote['time']):\n",
    "    episode_times.append(time/eval_stats_5lm_laptop_novote['num_steps'][i])\n",
    "    if (i+1)%5 == 0:\n",
    "        laptop_5lm_novote_step_times[episode] = np.max(episode_times)\n",
    "        episode_times = []\n",
    "        episode +=1"
   ]
  },
  {
   "cell_type": "code",
   "execution_count": null,
   "id": "f9fb684a",
   "metadata": {},
   "outputs": [],
   "source": [
    "plt.figure()\n",
    "plt.title(\"Run Time Per Episode Step - Laptop\")\n",
    "plt.plot(eval_stats_laptop[\"time\"]/eval_stats_laptop[\"num_steps\"],c='green')\n",
    "plt.plot(laptop_5lm_step_times/25,c='darkgreen')\n",
    "plt.plot(laptop_5lm_novote_step_times/5,c='lightgreen')\n",
    "\n",
    "plt.legend(['1 LM','5 LMs (%25)','5 LMs - no vote (%5)'])\n",
    "plt.show()"
   ]
  },
  {
   "cell_type": "markdown",
   "id": "9c8ee42e",
   "metadata": {},
   "source": [
    "### Other Speedups"
   ]
  },
  {
   "cell_type": "code",
   "execution_count": null,
   "id": "92e5ee31",
   "metadata": {},
   "outputs": [],
   "source": [
    "eval_stats_laptop = pd.read_csv(laptop_stats_path)\n",
    "scipy_query_stats_path = os.path.expanduser(\"~/tbp/results/monty/projects/monty_runs/evidence_profiled_scipy/eval_stats.csv\")\n",
    "eval_stats_laptop_scipy_query = pd.read_csv(scipy_query_stats_path)\n",
    "scipy_query2_stats_path = os.path.expanduser(\"~/tbp/results/monty/projects/monty_runs/evidence_profiled_scipy2/eval_stats.csv\")\n",
    "eval_stats_laptop_scipy2_query = pd.read_csv(scipy_query2_stats_path)"
   ]
  },
  {
   "cell_type": "code",
   "execution_count": null,
   "id": "caa639c7",
   "metadata": {},
   "outputs": [],
   "source": [
    "plt.figure()\n",
    "plt.title(\"Episode Run Time (s)\")\n",
    "plt.plot(eval_stats_laptop[\"time\"],c='blue')\n",
    "plt.plot(eval_stats_laptop_scipy_query[\"time\"],c='green')\n",
    "plt.plot(eval_stats_laptop_scipy2_query[\"time\"],c='lightgreen')\n",
    "\n",
    "plt.legend(['sklearn query','scipy query, workers=all','scipy query, workers=1'], fontsize=15)\n",
    "plt.show()"
   ]
  },
  {
   "cell_type": "code",
   "execution_count": null,
   "id": "4ab54736",
   "metadata": {},
   "outputs": [],
   "source": [
    "plt.figure()\n",
    "plt.title(\"Episode Run Time (s) - Laptop\")\n",
    "plt.plot(eval_stats_laptop[\"time\"],c='blue')\n",
    "plt.plot(eval_stats_laptop_scipy_query[\"time\"],c='green')\n",
    "plt.plot(eval_stats_laptop_scipy2_query[\"time\"],c='lightgreen')\n",
    "\n",
    "plt.legend(['sklearn query','scipy 1.7','scipy 1.9'], fontsize=15)\n",
    "plt.show()"
   ]
  },
  {
   "cell_type": "code",
   "execution_count": null,
   "id": "d1daf21b",
   "metadata": {},
   "outputs": [],
   "source": [
    "scipy_query_lambda_stats_path = os.path.expanduser(\"~/tbp/results/monty/projects/monty_runs/evidence_profiled_scipy_lambda/eval_stats.csv\")\n",
    "eval_stats_lambda_scipy_query = pd.read_csv(scipy_query_lambda_stats_path)"
   ]
  },
  {
   "cell_type": "code",
   "execution_count": null,
   "id": "ca923317",
   "metadata": {},
   "outputs": [],
   "source": [
    "plt.figure()\n",
    "plt.title(\"Episode Run Time (s)\")\n",
    "plt.plot(eval_stats_lambda[\"time\"],c='blue')\n",
    "plt.plot(eval_stats_lambda_scipy_query[\"time\"],c='green')\n",
    "\n",
    "plt.legend(['sklearn query, lambda','scipy query, lambda'], fontsize=15)\n",
    "plt.show()"
   ]
  },
  {
   "cell_type": "code",
   "execution_count": null,
   "id": "a270bc60",
   "metadata": {},
   "outputs": [],
   "source": [
    "scipy2_query_lambda_stats_path = os.path.expanduser(\"~/tbp/results/monty/projects/monty_runs/evidence_profiled_lambda_scipy3/eval_stats.csv\")\n",
    "eval_stats_lambda_scipy2_query = pd.read_csv(scipy2_query_lambda_stats_path)"
   ]
  },
  {
   "cell_type": "code",
   "execution_count": null,
   "id": "43eddcfa",
   "metadata": {},
   "outputs": [],
   "source": [
    "plt.figure()\n",
    "plt.title(\"Episode Run Time (s) - Lambda\")\n",
    "plt.plot(eval_stats_lambda_scipy_query[\"time\"],c='blue')\n",
    "plt.plot(eval_stats_lambda_scipy2_query[\"time\"],c='green')\n",
    "plt.plot(eval_stats_lambda_scipy3_query[\"time\"],c='lightgreen')\n",
    "\n",
    "plt.legend(['scipy 1.7','scipy 1.9 - 1 worker','scipy 1.9 - 1 worker'], fontsize=15)\n",
    "plt.show()"
   ]
  },
  {
   "cell_type": "code",
   "execution_count": null,
   "id": "120debcb",
   "metadata": {},
   "outputs": [],
   "source": [
    "with_open3d_lambda_stats_path = os.path.expanduser(\"~/tbp/results/monty/projects/monty_runs/evidence_profiled_lambda_witho3d/eval_stats.csv\")\n",
    "eval_stats_lambda_with_open3d = pd.read_csv(with_open3d_lambda_stats_path)\n",
    "no_open3d_lambda_stats_path = os.path.expanduser(\"~/tbp/results/monty/projects/monty_runs/evidence_profiled_lambda_noo3d/eval_stats.csv\")\n",
    "eval_stats_lambda_no_open3d = pd.read_csv(no_open3d_lambda_stats_path)"
   ]
  },
  {
   "cell_type": "code",
   "execution_count": null,
   "id": "2b79b9e9",
   "metadata": {},
   "outputs": [],
   "source": [
    "plt.figure()\n",
    "plt.title(\"Episode Run Time (s) - Lambda\")\n",
    "plt.plot(eval_stats_lambda_with_open3d[\"time\"],c='blue')\n",
    "plt.plot(eval_stats_lambda_no_open3d[\"time\"],c='green')\n",
    "\n",
    "plt.legend(['open3d','own'], fontsize=15)\n",
    "plt.show()"
   ]
  },
  {
   "cell_type": "code",
   "execution_count": null,
   "id": "804947c9",
   "metadata": {},
   "outputs": [],
   "source": []
  }
 ],
 "metadata": {
  "kernelspec": {
   "display_name": "Python 3 (ipykernel)",
   "language": "python",
   "name": "python3"
  },
  "language_info": {
   "codemirror_mode": {
    "name": "ipython",
    "version": 3
   },
   "file_extension": ".py",
   "mimetype": "text/x-python",
   "name": "python",
   "nbconvert_exporter": "python",
   "pygments_lexer": "ipython3",
   "version": "3.8.13"
  }
 },
 "nbformat": 4,
 "nbformat_minor": 5
}
