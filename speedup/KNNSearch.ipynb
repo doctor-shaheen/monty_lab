{
 "cells": [
  {
   "cell_type": "markdown",
   "id": "6df3c1d9",
   "metadata": {},
   "source": [
    "# Speed Tests for KNN Search"
   ]
  },
  {
   "cell_type": "code",
   "execution_count": null,
   "id": "fd0f1128",
   "metadata": {},
   "outputs": [],
   "source": [
    "import os\n",
    "import numpy as np\n",
    "import matplotlib.pyplot as plt\n",
    "\n",
    "from tbp.monty.frameworks.utils.logging_utils import load_stats"
   ]
  },
  {
   "cell_type": "code",
   "execution_count": null,
   "id": "0a6336d6",
   "metadata": {},
   "outputs": [],
   "source": [
    "%matplotlib notebook"
   ]
  },
  {
   "cell_type": "code",
   "execution_count": null,
   "id": "8ee562e4",
   "metadata": {},
   "outputs": [],
   "source": [
    "pretrain_path = os.path.expanduser(\"~/tbp/results/monty/pretrained_models/\")\n",
    "pretrained_dict = pretrain_path + \"pretrained_ycb_v3/touch_1lm_10distinctobj/pretrained/\"\n",
    "log_path = os.path.expanduser(\"~/tbp/results/monty/projects/monty_runs/\")\n",
    "exp_name = \"base_config_10distobj_touch/\"\n",
    "exp_path = log_path + exp_name\n",
    "train_stats, eval_stats, detailed_stats, lm_models = load_stats(exp_path,\n",
    "                                                                load_train=False,\n",
    "                                                                load_eval=True,\n",
    "                                                                load_detailed=True,\n",
    "                                                                pretrained_dict=pretrained_dict,\n",
    "                                                               )"
   ]
  },
  {
   "cell_type": "code",
   "execution_count": null,
   "id": "5dd87b4e",
   "metadata": {},
   "outputs": [],
   "source": [
    "model_locs = np.array(lm_models['pretrained'][0]['mug'].pos, dtype=np.float64)"
   ]
  },
  {
   "cell_type": "code",
   "execution_count": null,
   "id": "98f44d0b",
   "metadata": {},
   "outputs": [],
   "source": [
    "search_locations = np.array(model_locs + 0.001, dtype=np.float64)"
   ]
  },
  {
   "cell_type": "markdown",
   "id": "32171a81",
   "metadata": {},
   "source": [
    "## KD Tree Search"
   ]
  },
  {
   "cell_type": "code",
   "execution_count": null,
   "id": "7acab222",
   "metadata": {},
   "outputs": [],
   "source": [
    "import time\n",
    "from scipy.spatial import KDTree"
   ]
  },
  {
   "cell_type": "code",
   "execution_count": null,
   "id": "f42c376b",
   "metadata": {},
   "outputs": [],
   "source": [
    "start_time = time.time()\n",
    "kd_tree = KDTree(model_locs,leafsize=40)\n",
    "end_time = time.time()\n",
    "print(f\"building KD Tree took {end_time-start_time}s\")"
   ]
  },
  {
   "cell_type": "code",
   "execution_count": null,
   "id": "4959607c",
   "metadata": {},
   "outputs": [],
   "source": [
    "start_time = time.time()\n",
    "for i in range(1000):\n",
    "    (_, nearest_node_ids_kd) = kd_tree.query(\n",
    "                search_locations,\n",
    "                k=10,\n",
    "                p=2,  # eucledian distance\n",
    "                workers=1,  # using more than 1 worker slows down run on lambda.\n",
    "            )\n",
    "end_time = time.time()\n",
    "print(f\"querying 1000x KD Tree took {np.round(end_time-start_time,3)}s\")"
   ]
  },
  {
   "cell_type": "code",
   "execution_count": null,
   "id": "cf5bbfde",
   "metadata": {},
   "outputs": [],
   "source": [
    "nearest_node_ids_kd"
   ]
  },
  {
   "cell_type": "markdown",
   "id": "9a3f8767",
   "metadata": {},
   "source": [
    "## Lookup Table (Built from KD Tree)"
   ]
  },
  {
   "cell_type": "code",
   "execution_count": null,
   "id": "d92888e2",
   "metadata": {},
   "outputs": [],
   "source": [
    "mins = np.min(model_locs,axis=0)\n",
    "maxs = np.max(model_locs,axis=0)\n",
    "print(f\"mins: {mins}, maxs: {maxs}\")\n",
    "# make mins and maxes round to 3 decimal points\n",
    "mins = [-0.06,-0.06,-0.06]\n",
    "maxs = [0.06,0.06,0.06]\n",
    "print(f\"new mins: {mins}, maxs: {maxs}\")"
   ]
  },
  {
   "cell_type": "code",
   "execution_count": null,
   "id": "3c06dac5",
   "metadata": {},
   "outputs": [],
   "source": [
    "num_bins = 121\n",
    "x_range = np.linspace(mins[0], maxs[0], num_bins)\n",
    "y_range = np.linspace(mins[1], maxs[1], num_bins)\n",
    "z_range = np.linspace(mins[2], maxs[2], num_bins)\n",
    "\n",
    "print(f\"using ranges {x_range}\")"
   ]
  },
  {
   "cell_type": "code",
   "execution_count": null,
   "id": "310c2cf6",
   "metadata": {},
   "outputs": [],
   "source": [
    "# Generate grid for lookup table\n",
    "xs, ys, zs = np.meshgrid(x_range, y_range, z_range) # each of shape (num_bins, num_bins, num_bins)\n",
    "grid_locs = np.stack([xs, ys, zs], axis=-1) # shape=(num_bins, num_bins, num_bins, 3)\n",
    "grid_locs = grid_locs.reshape((num_bins * num_bins * num_bins,3))# shape=(num_bins * num_bins * num_bins, 3)\n",
    "# grid_locs = np.round(grid_locs,2)"
   ]
  },
  {
   "cell_type": "code",
   "execution_count": null,
   "id": "9229b9d9",
   "metadata": {},
   "outputs": [],
   "source": [
    "plt.figure()\n",
    "ax = plt.subplot(1,1,1,projection='3d')\n",
    "# ax.scatter(grid_locs[:,0], grid_locs[:,1], grid_locs[:,2])\n",
    "ax.scatter(model_locs[:,0], model_locs[:,1], model_locs[:,2])\n",
    "ax.scatter(search_locs[:,0], search_locs[:,1], search_locs[:,2])\n",
    "plt.show()"
   ]
  },
  {
   "cell_type": "markdown",
   "id": "e831984e",
   "metadata": {},
   "source": [
    "### Using String as Keys"
   ]
  },
  {
   "cell_type": "code",
   "execution_count": null,
   "id": "a477cb4b",
   "metadata": {},
   "outputs": [],
   "source": [
    "def coords_to_keys(coords, rounding_factor=3):\n",
    "#     t1 = time.time()\n",
    "    rounded_locs = np.round(coords,rounding_factor)\n",
    "#     t2 = time.time()\n",
    "    rounded_locs = rounded_locs.astype(str).tolist()\n",
    "#     t3 = time.time()\n",
    "#     search_keys = [row[0] + ',' + row[1] + ',' + row[2] for row in rounded_locs]\n",
    "    search_keys = [','.join(row) for row in rounded_locs]\n",
    "#     t4 = time.time()\n",
    "#     print(f\"{t2-t1}, {t3-t2}, {t4-t3}\")\n",
    "    return search_keys"
   ]
  },
  {
   "cell_type": "code",
   "execution_count": null,
   "id": "5a8c1487",
   "metadata": {},
   "outputs": [],
   "source": [
    "start_time = time.time()\n",
    "kd_tree = KDTree(model_locs,leafsize=40)\n",
    "imt = time.time()\n",
    "print(f\"built tree in {imt - start_time}s\")\n",
    "(_, nearest_node_ids) = kd_tree.query(\n",
    "                grid_locs,\n",
    "                k=10,\n",
    "                p=2,  # eucledian distance\n",
    "                workers=1,  # using more than 1 worker slows down run on lambda.\n",
    "            )\n",
    "imt2 = time.time()\n",
    "print(f\"queried tree after {imt2 - imt}s\")\n",
    "grid_locs_keys = coords_to_keys(grid_locs, 3)\n",
    "imt3 = time.time()\n",
    "print(f\"turned locs to str in {imt3-imt2}s\")\n",
    "hash_table = dict(zip(grid_locs_keys, nearest_node_ids))\n",
    "end_time = time.time()\n",
    "imt4 = time.time()\n",
    "print(f\"building hash table took {np.round(imt4-imt3,3)}s\")\n",
    "print(f\"overall time: {np.round(end_time-start_time,3)}\")"
   ]
  },
  {
   "cell_type": "code",
   "execution_count": null,
   "id": "53b82a79",
   "metadata": {},
   "outputs": [],
   "source": [
    "start_time = time.time()\n",
    "for i in range(1000):\n",
    "    search_keys = coords_to_keys(search_locations, 3)\n",
    "    nearest_nodes = [hash_table[key] if key in hash_table.keys() else np.zeros(10) for key in search_keys]\n",
    "end_time = time.time()\n",
    "print(f\"querying 1000x hash table took {np.round(end_time-start_time,3)}s\")"
   ]
  },
  {
   "cell_type": "code",
   "execution_count": null,
   "id": "448f1a46",
   "metadata": {},
   "outputs": [],
   "source": [
    "correct_set = [len(set(nearest_node_ids_kd[i]).intersection(set(nearest_nodes[i])))/10 for i in range(len(nearest_nodes))]\n",
    "print(f\"{np.round(np.mean(correct_set),3)}% correct items in set (ignoring order)\")"
   ]
  },
  {
   "cell_type": "code",
   "execution_count": null,
   "id": "c12f773a",
   "metadata": {},
   "outputs": [],
   "source": [
    "start_time = time.time()\n",
    "for i in range(1000):\n",
    "    nearest_nodes = [hash_table[key] if key in hash_table else np.zeros(10) for key in search_keys]\n",
    "end_time = time.time()\n",
    "print(f\"querying 1000x hash table without key conversion took {np.round(end_time-start_time,3)}s\")"
   ]
  },
  {
   "cell_type": "markdown",
   "id": "b4e245ed",
   "metadata": {},
   "source": [
    "### Using Tuple as Keys"
   ]
  },
  {
   "cell_type": "code",
   "execution_count": null,
   "id": "2bcfe926",
   "metadata": {},
   "outputs": [],
   "source": [
    "def coords_to_keys2(coords, rounding_factor=3):\n",
    "#     t1 = time.time()\n",
    "    rounded_locs = np.round(coords,rounding_factor)\n",
    "#     t2 = time.time()\n",
    "#     search_keys = map(tuple, rounded_locs)\n",
    "#     t3 = time.time()\n",
    "    search_keys = [(row[0], row[1], row[2]) for row in rounded_locs]\n",
    "#     t4 = time.time()\n",
    "#     print(f\"{t2-t1}, {t3-t2}, {t4-t3}\")\n",
    "    return search_keys"
   ]
  },
  {
   "cell_type": "code",
   "execution_count": null,
   "id": "227d8644",
   "metadata": {},
   "outputs": [],
   "source": [
    "grid_locs_keys = coords_to_keys2(grid_locs, 3)"
   ]
  },
  {
   "cell_type": "code",
   "execution_count": null,
   "id": "aa74ca34",
   "metadata": {},
   "outputs": [],
   "source": [
    "hash_table = dict(zip(grid_locs_keys, nearest_node_ids))"
   ]
  },
  {
   "cell_type": "code",
   "execution_count": null,
   "id": "14667287",
   "metadata": {},
   "outputs": [],
   "source": [
    "hash_table"
   ]
  },
  {
   "cell_type": "code",
   "execution_count": null,
   "id": "ad56b599",
   "metadata": {},
   "outputs": [],
   "source": [
    "start_time = time.time()\n",
    "kd_tree = KDTree(model_locs,leafsize=40)\n",
    "imt = time.time()\n",
    "print(f\"built tree in {imt - start_time}s\")\n",
    "(_, nearest_node_ids) = kd_tree.query(\n",
    "                grid_locs,\n",
    "                k=10,\n",
    "                p=2,  # eucledian distance\n",
    "                workers=1,  # using more than 1 worker slows down run on lambda.\n",
    "            )\n",
    "imt2 = time.time()\n",
    "print(f\"queried tree after {imt2 - imt}s\")\n",
    "grid_locs_keys = coords_to_keys2(grid_locs, 3)\n",
    "imt3 = time.time()\n",
    "print(f\"turned locs to tuples in {imt3-imt2}s\")\n",
    "hash_table = dict(zip(grid_locs_keys, nearest_node_ids))\n",
    "\n",
    "end_time = time.time()\n",
    "imt4 = time.time()\n",
    "print(f\"building hash table took {np.round(imt4-imt3,3)}s\")\n",
    "print(f\"overall time: {np.round(end_time-start_time,3)}\")"
   ]
  },
  {
   "cell_type": "code",
   "execution_count": null,
   "id": "652e0d34",
   "metadata": {},
   "outputs": [],
   "source": [
    "start_time = time.time()\n",
    "kd_tree = KDTree(model_locs,leafsize=40)\n",
    "imt = time.time()\n",
    "print(f\"built tree in {imt - start_time}s\")\n",
    "(_, nearest_node_ids) = kd_tree.query(\n",
    "                grid_locs,\n",
    "                k=10,\n",
    "                p=2,  # eucledian distance\n",
    "                workers=1,  # using more than 1 worker slows down run on lambda.\n",
    "            )\n",
    "imt2 = time.time()\n",
    "print(f\"queried tree after {imt2 - imt}s\")\n",
    "grid_locs_keys = coords_to_keys2(grid_locs, 3)\n",
    "imt3 = time.time()\n",
    "print(f\"turned locs to tuples in {imt3-imt2}s\")\n",
    "hash_table = dict(zip(grid_locs_keys, nearest_node_ids))\n",
    "\n",
    "end_time = time.time()\n",
    "imt4 = time.time()\n",
    "print(f\"building hash table took {np.round(imt4-imt3,3)}s\")\n",
    "print(f\"overall time: {np.round(end_time-start_time,3)}\")"
   ]
  },
  {
   "cell_type": "code",
   "execution_count": null,
   "id": "b8c8d5fb",
   "metadata": {},
   "outputs": [],
   "source": [
    "start_time = time.time()\n",
    "for i in range(1000):\n",
    "    search_keys = coords_to_keys2(search_locations, 3)\n",
    "    nearest_nodes = [hash_table[key] if key in hash_table.keys() else np.zeros(10) for key in search_keys]\n",
    "end_time = time.time()\n",
    "print(f\"querying 1000x hash table took {np.round(end_time-start_time,3)}s\")"
   ]
  },
  {
   "cell_type": "code",
   "execution_count": null,
   "id": "f8fc7c0d",
   "metadata": {},
   "outputs": [],
   "source": [
    "correct_set = [len(set(nearest_node_ids_kd[i]).intersection(set(nearest_nodes[i])))/10 for i in range(len(nearest_nodes))]\n",
    "print(f\"{np.round(np.mean(correct_set),3)}% correct items in set (ignoring order)\")"
   ]
  },
  {
   "cell_type": "code",
   "execution_count": null,
   "id": "bdc428a4",
   "metadata": {},
   "outputs": [],
   "source": [
    "num_results = np.array(nearest_nodes).shape[0]*np.array(nearest_nodes).shape[1]\n",
    "print(f\"{np.round(np.sum(nearest_node_ids_kd == nearest_nodes) /num_results, 3)}% correct\")\n",
    "print(f\"{np.round(np.sum(nearest_node_ids_kd != nearest_nodes) /num_results, 3)}% wrong (including order)\")"
   ]
  },
  {
   "cell_type": "code",
   "execution_count": null,
   "id": "b70eabe0",
   "metadata": {},
   "outputs": [],
   "source": [
    "start_time = time.time()\n",
    "for i in range(1000):\n",
    "    nearest_nodes = [hash_table[key] if key in hash_table else np.zeros(10) for key in search_keys]\n",
    "end_time = time.time()\n",
    "print(f\"querying 1000x hash table without key conversion took {np.round(end_time-start_time,3)}s\")"
   ]
  },
  {
   "cell_type": "markdown",
   "id": "c3366b07",
   "metadata": {},
   "source": [
    "## LSH"
   ]
  },
  {
   "cell_type": "code",
   "execution_count": null,
   "id": "7d37c327",
   "metadata": {},
   "outputs": [],
   "source": [
    "from lshashpy3 import LSHash"
   ]
  },
  {
   "cell_type": "code",
   "execution_count": null,
   "id": "88bb4144",
   "metadata": {},
   "outputs": [],
   "source": [
    "# create 32-bit hashes for input data of 3 dimensions:\n",
    "lsh = LSHash(32, 3)\n",
    "\n",
    "# index vector\n",
    "for i, loc in enumerate(model_locs):\n",
    "    lsh.index(loc, extra_data=i)"
   ]
  },
  {
   "cell_type": "code",
   "execution_count": null,
   "id": "3aa79a07",
   "metadata": {},
   "outputs": [],
   "source": [
    "lsh.hash_tables[0].keys()"
   ]
  },
  {
   "cell_type": "code",
   "execution_count": null,
   "id": "7ac011e0",
   "metadata": {},
   "outputs": [],
   "source": [
    "start_time = time.time()\n",
    "nn = np.zeros((search_locations.shape[0],10))\n",
    "for i in range(search_locations.shape[0]):\n",
    "    result = lsh.query(search_locations[i], num_results=10, distance_func=\"euclidean\")\n",
    "    try:\n",
    "        nn[i] = [result[i][0][1] for i in range(len(result))]\n",
    "    except:\n",
    "        print([result[i][0][1] for i in range(len(result))])\n",
    "end_time = time.time()\n",
    "print(f\"querying LSH took {end_time-start_time}s\")"
   ]
  }
 ],
 "metadata": {
  "kernelspec": {
   "display_name": "Python 3 (ipykernel)",
   "language": "python",
   "name": "python3"
  },
  "language_info": {
   "codemirror_mode": {
    "name": "ipython",
    "version": 3
   },
   "file_extension": ".py",
   "mimetype": "text/x-python",
   "name": "python",
   "nbconvert_exporter": "python",
   "pygments_lexer": "ipython3",
   "version": "3.8.13"
  }
 },
 "nbformat": 4,
 "nbformat_minor": 5
}
