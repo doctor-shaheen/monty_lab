{
 "cells": [
  {
   "cell_type": "code",
   "execution_count": null,
   "id": "97748744",
   "metadata": {},
   "outputs": [],
   "source": [
    "import os\n",
    "import numpy as np\n",
    "import matplotlib.pyplot as plt\n",
    "import pandas as pd\n",
    "\n",
    "from tbp.monty.frameworks.utils.logging_utils import (load_stats,\n",
    "                                                        print_overall_stats,)"
   ]
  },
  {
   "cell_type": "code",
   "execution_count": null,
   "id": "534816ee",
   "metadata": {},
   "outputs": [],
   "source": [
    "pretrain_path = os.path.expanduser(\"~/tbp/results/monty/pretrained_models/pretrained_ycb_v3/\")\n",
    "pretrained_dict = pretrain_path + \"touch_1lm_10distinctobj/pretrained/\"\n",
    "pretrained_dict_5lms = pretrain_path + \"supervised_pre_training_5lms_10distobj/pretrained/\"\n",
    "\n",
    "log_path = os.path.expanduser(\"~/tbp/results/monty/projects/evidence_eval_runs/logs/\")\n",
    "log_path_lambda = os.path.expanduser(\"~/tbp/results/monty/projects/evidence_eval_runs/lambda/\")\n",
    "\n",
    "exp_name_5lms_77obj = \"five_lm_77obj_evidence_profiled/\"\n",
    "# exp_name_5lms_77obj = \"randrot_noise_77obj_5lms_vision\"\n",
    "exp_name_5lms = \"randrot_noise_10distobj_5lms_vision\"\n",
    "exp_name_1lm = \"randrot_noise_10distobj_touch\"\n"
   ]
  },
  {
   "cell_type": "code",
   "execution_count": null,
   "id": "9df062a0",
   "metadata": {},
   "outputs": [],
   "source": [
    "_, eval_stats_5lms_77obj, _, lm_models_5lms = load_stats(log_path + exp_name_5lms_77obj,\n",
    "                                                                load_train=False,\n",
    "                                                                load_eval=True,\n",
    "                                                                load_detailed=False,\n",
    "                                                               load_models=False,\n",
    "                                                                pretrained_dict=pretrained_dict_5lms,\n",
    "                                                               )\n",
    "\n",
    "_, eval_stats_5lms_77obj_lambda, _, lm_models_5lms = load_stats(log_path_lambda + exp_name_5lms_77obj,\n",
    "                                                                load_train=False,\n",
    "                                                                load_eval=True,\n",
    "                                                                load_detailed=False,\n",
    "                                                              load_models=False,\n",
    "                                                                pretrained_dict=pretrained_dict_5lms,\n",
    "                                                               )\n",
    "_, eval_stats_5lms, _, lm_models_5lms = load_stats(log_path + exp_name_5lms,\n",
    "                                                                load_train=False,\n",
    "                                                                load_eval=True,\n",
    "                                                                load_detailed=False,\n",
    "                                                               load_models=False,\n",
    "                                                                pretrained_dict=pretrained_dict_5lms,\n",
    "                                                               )\n",
    "\n",
    "_, eval_stats_5lms_lambda, _, lm_models_5lms = load_stats(log_path_lambda + exp_name_5lms,\n",
    "                                                                load_train=False,\n",
    "                                                                load_eval=True,\n",
    "                                                                load_detailed=False,\n",
    "                                                              load_models=False,\n",
    "                                                                pretrained_dict=pretrained_dict_5lms,\n",
    "                                                               )"
   ]
  },
  {
   "cell_type": "code",
   "execution_count": null,
   "id": "691c37b0",
   "metadata": {},
   "outputs": [],
   "source": [
    "def print_5lm_stats(stats):\n",
    "    majority_correct = 0\n",
    "    step_times = []\n",
    "    num_steps = []\n",
    "    for episode in range(len(stats) // 5):\n",
    "        episode_performance = stats['performance'][episode * 5:(episode+1) *5]\n",
    "        if sum((episode_performance == 'correct') +\n",
    "              (episode_performance == 'correct_mlh')) >= 3:\n",
    "            majority_correct += 1\n",
    "        episode_time = stats['time'][episode * 5]\n",
    "        steps = stats['monty_matching_steps'][episode * 5]\n",
    "        num_steps.append(steps)\n",
    "        step_times.append(episode_time/steps)\n",
    "\n",
    "\n",
    "    print(f\"Percent Correct Episodes: {np.round(majority_correct/(len(stats) // 5)*100,3)}\")\n",
    "    print(f\"Average time per step: {np.round(np.mean(step_times),2)}s with {np.round(np.mean(num_steps),2)} avg steps per episode\")"
   ]
  },
  {
   "cell_type": "code",
   "execution_count": null,
   "id": "e901f3b4",
   "metadata": {},
   "outputs": [],
   "source": [
    "print(\"Laptop:\")\n",
    "print_5lm_stats(eval_stats_5lms)\n",
    "print(\"Lambda:\")\n",
    "print_5lm_stats(eval_stats_5lms_lambda)\n",
    "print(\"--77 obj--\")\n",
    "print(\"Laptop:\")\n",
    "print_5lm_stats(eval_stats_5lms_77obj)\n",
    "print(\"Lambda:\")\n",
    "print_5lm_stats(eval_stats_5lms_77obj_lambda)"
   ]
  },
  {
   "cell_type": "code",
   "execution_count": null,
   "id": "39d3226d",
   "metadata": {},
   "outputs": [],
   "source": [
    "_, eval_stats, _, _ = load_stats(log_path + exp_name_1lm,\n",
    "                                                                load_train=False,\n",
    "                                                                load_eval=True,\n",
    "                                                                load_detailed=False,\n",
    "                                                               load_models=False,\n",
    "                                                                pretrained_dict=pretrained_dict_5lms,\n",
    "                                                               )\n",
    "\n",
    "_, eval_stats_lambda, _, lm_models_5lms = load_stats(log_path_lambda + exp_name_1lm,\n",
    "                                                                load_train=False,\n",
    "                                                                load_eval=True,\n",
    "                                                                load_detailed=False,\n",
    "                                                              load_models=False,\n",
    "                                                                pretrained_dict=pretrained_dict_5lms,\n",
    "                                                               )"
   ]
  },
  {
   "cell_type": "code",
   "execution_count": null,
   "id": "0ff57311",
   "metadata": {},
   "outputs": [],
   "source": [
    "print(\"Laptop:\")\n",
    "print_overall_stats(eval_stats)\n",
    "print(\"Lambda:\")\n",
    "print_overall_stats(eval_stats_lambda)"
   ]
  },
  {
   "cell_type": "code",
   "execution_count": null,
   "id": "90984d5c",
   "metadata": {},
   "outputs": [],
   "source": [
    "eval_stats"
   ]
  },
  {
   "cell_type": "markdown",
   "id": "847ae58b",
   "metadata": {},
   "source": [
    "## Profiles"
   ]
  },
  {
   "cell_type": "code",
   "execution_count": null,
   "id": "ebfb2800",
   "metadata": {},
   "outputs": [],
   "source": [
    "laptop_5lm_77obj_profile = pd.read_csv(log_path + \"five_lm_77obj_evidence_profiled/profile/profile-eval_epoch_0_episode_0.csv\")\n",
    "lambda_5lm_77obj_profile = pd.read_csv(log_path_lambda + \"five_lm_77obj_evidence_profiled/profile/profile-eval_epoch_0_episode_0.csv\")\n",
    "lambda_5lm_77obj_nomt_profile = pd.read_csv(log_path_lambda + \"randrot_noise_10distobj_5lms_vision_nomt_profiled/profile/profile-eval_epoch_0_episode_0.csv\")"
   ]
  },
  {
   "cell_type": "code",
   "execution_count": null,
   "id": "25c7fcf7",
   "metadata": {},
   "outputs": [],
   "source": [
    "lambda_5lm_77obj_nomt_profile"
   ]
  },
  {
   "cell_type": "code",
   "execution_count": null,
   "id": "acd8c7aa",
   "metadata": {},
   "outputs": [],
   "source": [
    "laptop_5lm_77obj_profile"
   ]
  },
  {
   "cell_type": "code",
   "execution_count": null,
   "id": "727698c3",
   "metadata": {},
   "outputs": [],
   "source": [
    "print(\"LAMBDA - NO MULTITHREADING EPISODE STATS:\")\n",
    "for i in range(20):\n",
    "    print(f\"spent {np.round(lambda_5lm_77obj_nomt_profile['cumtime'][i],2)}s on\\n {lambda_5lm_77obj_nomt_profile['func'][i]}\")"
   ]
  },
  {
   "cell_type": "code",
   "execution_count": null,
   "id": "0538491a",
   "metadata": {},
   "outputs": [],
   "source": [
    "from tbp.monty.frameworks.utils.profile_utils import (\n",
    "    bar_chart_cumtime,\n",
    "    bar_chart_tottime,\n",
    "    get_data_from_df,\n",
    "    print_top_k_functions,\n",
    "    sort_by_cumtime,\n",
    "    sort_by_tottime\n",
    ")"
   ]
  },
  {
   "cell_type": "code",
   "execution_count": null,
   "id": "ed1e570e",
   "metadata": {},
   "outputs": [],
   "source": [
    "%matplotlib notebook"
   ]
  },
  {
   "cell_type": "code",
   "execution_count": null,
   "id": "cc5be2e1",
   "metadata": {},
   "outputs": [],
   "source": [
    "\n",
    "bar_chart_cumtime(lambda_5lm_77obj_nomt_profile, n_functions=15)"
   ]
  },
  {
   "cell_type": "code",
   "execution_count": null,
   "id": "90ee8a52",
   "metadata": {},
   "outputs": [],
   "source": [
    "lambda_5lm_77obj_nomt_profile"
   ]
  },
  {
   "cell_type": "code",
   "execution_count": null,
   "id": "ba50d83e",
   "metadata": {},
   "outputs": [],
   "source": [
    "list(lambda_5lm_77obj_nomt_profile['func'][:15])"
   ]
  },
  {
   "cell_type": "code",
   "execution_count": null,
   "id": "1274b841",
   "metadata": {},
   "outputs": [],
   "source": [
    "top_15_func_names = [\n",
    "    'KDTree.query',\n",
    "    'einsum',\n",
    "    'get_node_features',\n",
    "    'get_pose_evidence_matrix',\n",
    "    'get_angles_for_all_hypotheses',\n",
    "    'calculate_evidence_for_new_locations',\n",
    "    'numpy reduce',\n",
    "    'np.dot',\n",
    "    'get_custom_distances',\n",
    "    'draw_observation',\n",
    "    'get_feature_evidence_for_all_nodes',\n",
    "    'numpy _clip_dep_invoke_with_casting',\n",
    "    'numpy implement_array_function',\n",
    "    'linalg.norm',\n",
    "    'add_object'\n",
    "]"
   ]
  },
  {
   "cell_type": "code",
   "execution_count": null,
   "id": "aefc1e6a",
   "metadata": {},
   "outputs": [],
   "source": [
    "plt.figure()\n",
    "ax = plt.subplot(1,1,1)\n",
    "plt.bar(np.linspace(0,14,15),lambda_5lm_77obj_nomt_profile['cumtime'][:15])\n",
    "ax.spines[['right', 'top']].set_visible(False)\n",
    "plt.xticks(np.linspace(0,14,15),top_15_func_names,rotation = 90)\n",
    "plt.ylabel('cumtime (s)')\n",
    "plt.title('Time Taken by Top 15 Functions')\n",
    "plt.tight_layout()\n",
    "plt.show()"
   ]
  },
  {
   "cell_type": "code",
   "execution_count": null,
   "id": "69ddb597",
   "metadata": {},
   "outputs": [],
   "source": []
  },
  {
   "cell_type": "code",
   "execution_count": null,
   "id": "0fb3461a",
   "metadata": {},
   "outputs": [],
   "source": [
    "list(lambda_5lm_77obj_nomt_profile['func'][:15])"
   ]
  },
  {
   "cell_type": "code",
   "execution_count": null,
   "id": "e4acd102",
   "metadata": {},
   "outputs": [],
   "source": [
    "lambda_5lm_77obj_nomt_profile_sort = lambda_5lm_77obj_nomt_profile.sort_values('tottime', ascending=False)"
   ]
  },
  {
   "cell_type": "code",
   "execution_count": null,
   "id": "70f98a0c",
   "metadata": {},
   "outputs": [],
   "source": [
    "lambda_5lm_77obj_nomt_profile_sort['func'][:25]"
   ]
  },
  {
   "cell_type": "code",
   "execution_count": null,
   "id": "3c5b4524",
   "metadata": {},
   "outputs": [],
   "source": [
    "top_25_tottime_func_names = [\n",
    "    'run_episode',\n",
    "    'run_episode_steps',\n",
    "    'step',\n",
    "    'matching_step',\n",
    "    'step_learning_modules',\n",
    "    'matching_step',\n",
    "    'compute_possible_matches',\n",
    "    'update_possible_matches',\n",
    "    'update_evidence',\n",
    "    'calculate_evidence_for_new_locations',\n",
    "    'query',\n",
    "    'KDTree.query',\n",
    "    'get_pose_evidence_matrix',\n",
    "    'numpy implement_array_function',\n",
    "    'get_angles_for_all_hypotheses',\n",
    "    'einsum',\n",
    "    'einsum',\n",
    "    'umath c_einsum',\n",
    "    'get_node_features',\n",
    "    'get_custom_distances',\n",
    "    'vote',\n",
    "    'numpy reduce',\n",
    "    'np.dot',\n",
    "    'norm',\n",
    "    'linalg.norm'\n",
    "]"
   ]
  },
  {
   "cell_type": "code",
   "execution_count": null,
   "id": "fe016e95",
   "metadata": {},
   "outputs": [],
   "source": [
    "plt.figure()\n",
    "ax = plt.subplot(1,1,1)\n",
    "plt.bar(np.linspace(0,24,25),lambda_5lm_77obj_nomt_profile_sort['tottime'][:25])\n",
    "ax.spines[['right', 'top']].set_visible(False)\n",
    "plt.xticks(np.linspace(0,24,25),top_25_tottime_func_names,rotation = 90)\n",
    "plt.ylabel('cumtime (s)')\n",
    "plt.title('Total Time Taken by Top 25 Functions')\n",
    "plt.tight_layout()\n",
    "plt.show()"
   ]
  },
  {
   "cell_type": "code",
   "execution_count": null,
   "id": "7af682f8",
   "metadata": {},
   "outputs": [],
   "source": []
  }
 ],
 "metadata": {
  "kernelspec": {
   "display_name": "Python 3 (ipykernel)",
   "language": "python",
   "name": "python3"
  },
  "language_info": {
   "codemirror_mode": {
    "name": "ipython",
    "version": 3
   },
   "file_extension": ".py",
   "mimetype": "text/x-python",
   "name": "python",
   "nbconvert_exporter": "python",
   "pygments_lexer": "ipython3",
   "version": "3.8.13"
  }
 },
 "nbformat": 4,
 "nbformat_minor": 5
}
