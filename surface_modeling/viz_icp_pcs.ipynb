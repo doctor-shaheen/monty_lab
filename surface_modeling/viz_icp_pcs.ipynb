{
 "cells": [
  {
   "cell_type": "code",
   "execution_count": null,
   "metadata": {},
   "outputs": [],
   "source": [
    "import pickle\n",
    "import matplotlib.animation as animation\n",
    "import matplotlib.pyplot as plt"
   ]
  },
  {
   "cell_type": "code",
   "execution_count": null,
   "metadata": {},
   "outputs": [],
   "source": [
    "with open(\"icp_pointclouds.pkl\", \"rb\") as f:\n",
    "    result = pickle.load(f)"
   ]
  },
  {
   "cell_type": "code",
   "execution_count": null,
   "metadata": {},
   "outputs": [],
   "source": [
    "\n",
    "# Unpack some variables\n",
    "n_steps = len(result[\"sources_good\"])\n",
    "dst = result[\"dst\"]\n",
    "src = result[\"sources_good\"][0]\n",
    "src2 = result[\"sources_bad\"][0]\n",
    "label = result[\"label\"]"
   ]
  },
  {
   "cell_type": "code",
   "execution_count": null,
   "metadata": {},
   "outputs": [],
   "source": [
    "fig = plt.figure(figsize=(10, 5))\n",
    "\n",
    "ax = fig.add_subplot(121, projection=\"3d\")\n",
    "graph, = ax.plot(src[:, 0], src[:, 1], src[:, 2], \".\", color=\"g\")\n",
    "ax.plot(dst[:, 0], dst[:, 1], dst[:, 2], \".\", color=\"r\")\n",
    "title = ax.set_title(\"3D Test\")\n",
    "\n",
    "\n",
    "ax2d = fig.add_subplot(122)\n",
    "\n",
    "ax2d.set_ylim(-10, 200)\n",
    "ax2d.set_xlim(0, n_steps)\n",
    "line, = ax2d.plot([], [], \"-.\", linewidth=2)\n",
    "ax2d.set_ylabel(\"Error\")\n",
    "ax2d.set_xlabel(\"Time step\")"
   ]
  },
  {
   "cell_type": "code",
   "execution_count": null,
   "metadata": {},
   "outputs": [],
   "source": [
    "def update_graph(step, rot_srcs, errors):\n",
    "    pc = rot_srcs[step]\n",
    "\n",
    "    # graph is defined outside function scope above\n",
    "    graph.set_data(pc[:, 0], pc[:, 1])\n",
    "    graph.set_3d_properties(pc[:, 2])\n",
    "\n",
    "    # title is defined outside function scope above\n",
    "    title.set_text(f\"Point cloud at time {step}\\nLabel = {label}\")\n",
    "    # Rotation={angles[step]}\")\n",
    "\n",
    "    xdata = list(range(1, step + 1))\n",
    "    ydata = errors[:step]\n",
    "    line.set_data(xdata, ydata)\n",
    "\n",
    "    return title, graph, line"
   ]
  },
  {
   "cell_type": "code",
   "execution_count": null,
   "metadata": {},
   "outputs": [],
   "source": [
    "ani = animation.FuncAnimation(\n",
    "    fig,\n",
    "    func=update_graph,\n",
    "    frames=range(n_steps),\n",
    "    fargs=(result[\"sources_good\"], result[\"errors_good\"]),\n",
    ")"
   ]
  },
  {
   "cell_type": "code",
   "execution_count": null,
   "metadata": {},
   "outputs": [],
   "source": [
    "plt.show()"
   ]
  },
  {
   "cell_type": "code",
   "execution_count": null,
   "metadata": {},
   "outputs": [],
   "source": [
    "fig = plt.figure(figsize=(10, 5))\n",
    "\n",
    "ax = fig.add_subplot(121, projection=\"3d\")\n",
    "graph, = ax.plot(src[:, 0], src[:, 1], src[:, 2], \".\", color=\"g\")\n",
    "ax.plot(dst[:, 0], dst[:, 1], dst[:, 2], \".\", color=\"r\")\n",
    "title = ax.set_title(\"3D Test\")\n",
    "\n",
    "\n",
    "ax2d = fig.add_subplot(122)\n",
    "\n",
    "ax2d.set_ylim(-10, 200)\n",
    "ax2d.set_xlim(0, n_steps)\n",
    "line, = ax2d.plot([], [], \"-.\", linewidth=2)\n",
    "ax2d.set_ylabel(\"Error\")\n",
    "ax2d.set_xlabel(\"Time step\")\n",
    "\n",
    "ani = animation.FuncAnimation(\n",
    "    fig,\n",
    "    func=update_graph,\n",
    "    frames=range(n_steps),\n",
    "    fargs=(result[\"sources_good\"], result[\"errors_good\"]),\n",
    ")\n",
    "\n",
    "plt.show()"
   ]
  },
  {
   "cell_type": "code",
   "execution_count": null,
   "metadata": {},
   "outputs": [],
   "source": []
  }
 ],
 "metadata": {
  "interpreter": {
   "hash": "e42730066b49ca1d95ba877038964852b5521ccd6e26d6efa2696bc44d289fd9"
  },
  "kernelspec": {
   "display_name": "nupic.research",
   "language": "python",
   "name": "nupic.research"
  },
  "language_info": {
   "codemirror_mode": {
    "name": "ipython",
    "version": 3
   },
   "file_extension": ".py",
   "mimetype": "text/x-python",
   "name": "python",
   "nbconvert_exporter": "python",
   "pygments_lexer": "ipython3",
   "version": "3.8.11"
  }
 },
 "nbformat": 4,
 "nbformat_minor": 2
}
