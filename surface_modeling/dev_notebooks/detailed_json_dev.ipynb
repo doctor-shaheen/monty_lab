{
 "cells": [
  {
   "cell_type": "code",
   "execution_count": null,
   "metadata": {},
   "outputs": [],
   "source": [
    "import json\n",
    "import os\n",
    "import torch\n",
    "import numpy as np\n",
    "import matplotlib.pyplot as plt\n"
   ]
  },
  {
   "cell_type": "code",
   "execution_count": null,
   "metadata": {},
   "outputs": [],
   "source": [
    "path = os.path.expanduser(\"~/tbp/tbp.monty/projects/monty_runs/logs\")\n",
    "cpmo_path = os.path.join(path, \"camera_patch_multi_object\", \"detailed_run_stats.json\")\n",
    "\n",
    "with open(cpmo_path, \"r\") as f:\n",
    "    data = json.load(f)"
   ]
  },
  {
   "cell_type": "code",
   "execution_count": null,
   "metadata": {},
   "outputs": [],
   "source": [
    "len(data)"
   ]
  },
  {
   "cell_type": "code",
   "execution_count": null,
   "metadata": {},
   "outputs": [],
   "source": [
    "data.keys()"
   ]
  },
  {
   "cell_type": "code",
   "execution_count": null,
   "metadata": {},
   "outputs": [],
   "source": [
    "data[\"0\"].keys()"
   ]
  },
  {
   "cell_type": "code",
   "execution_count": null,
   "metadata": {},
   "outputs": [],
   "source": [
    "len(data['5']['LM_0']['locations'])"
   ]
  },
  {
   "cell_type": "code",
   "execution_count": null,
   "metadata": {},
   "outputs": [],
   "source": [
    "type(data['5']['LM_0']['locations'])"
   ]
  },
  {
   "cell_type": "code",
   "execution_count": null,
   "metadata": {},
   "outputs": [],
   "source": [
    "data['5']['LM_0'].keys()"
   ]
  },
  {
   "cell_type": "code",
   "execution_count": null,
   "metadata": {},
   "outputs": [],
   "source": [
    "data['5']['LM_0'][\"target\"]"
   ]
  },
  {
   "cell_type": "code",
   "execution_count": null,
   "metadata": {},
   "outputs": [],
   "source": [
    "torch.tensor(data['5']['LM_0']['locations'])"
   ]
  },
  {
   "cell_type": "code",
   "execution_count": null,
   "metadata": {},
   "outputs": [],
   "source": [
    "pc = np.array(data['5']['LM_0']['locations'])"
   ]
  },
  {
   "cell_type": "code",
   "execution_count": null,
   "metadata": {},
   "outputs": [],
   "source": [
    "fig = plt.figure()\n",
    "\n",
    "ax_dst = fig.add_subplot(131, projection=\"3d\")\n",
    "ax_dst.scatter(pc[:, 1], pc[:, 0], pc[:, 2], c=\"b\", s=2., alpha=0.3)\n",
    "ax_dst.set_title(\"Original\")"
   ]
  },
  {
   "cell_type": "code",
   "execution_count": null,
   "metadata": {},
   "outputs": [],
   "source": [
    "from tbp.monty.frameworks.config_utils.config_args import (\n",
    "    PatchAndViewMontyConfig,\n",
    "    MontyGraphRunArgs,\n",
    ")\n",
    "from tbp.monty.frameworks.config_utils.monty_parser import create_monty_instance"
   ]
  },
  {
   "cell_type": "code",
   "execution_count": null,
   "metadata": {},
   "outputs": [],
   "source": [
    "monty_config=PatchAndViewMontyConfig(run_args=MontyGraphRunArgs(num_exploratory_steps=20))"
   ]
  },
  {
   "cell_type": "code",
   "execution_count": null,
   "metadata": {},
   "outputs": [],
   "source": [
    "model = create_monty_instance(monty_config)"
   ]
  },
  {
   "cell_type": "code",
   "execution_count": null,
   "metadata": {},
   "outputs": [],
   "source": [
    "class A:\n",
    "\n",
    "    def __init__(self, a, b, **kwargs):\n",
    "\n",
    "        self.a = a\n",
    "        self.b = b\n",
    "\n",
    "\n",
    "class B:\n",
    "\n",
    "    def __init__(self, **kwargs):\n",
    "\n",
    "        self.src_transform = kwargs.get(\"src_transform\", None)\n",
    "        self.dst_transform = kwargs.get(\"dst_transform\", None)\n",
    "    \n",
    "    def __getitem__(self, idx):\n",
    "\n",
    "        if idx % 2 == 0:\n",
    "            return self.c * idx * self.a\n",
    "        \n",
    "        else:\n",
    "            return self.d * idx * self.b\n",
    "        \n",
    "\n"
   ]
  },
  {
   "cell_type": "code",
   "execution_count": null,
   "metadata": {},
   "outputs": [],
   "source": [
    "class ABMix(A, B):\n",
    "    pass\n",
    "\n",
    "class BAMix(B, A):\n",
    "    pass"
   ]
  },
  {
   "cell_type": "code",
   "execution_count": null,
   "metadata": {},
   "outputs": [],
   "source": [
    "print(ABMix.__mro__)\n",
    "print(BAMix.__mro__)"
   ]
  },
  {
   "cell_type": "code",
   "execution_count": null,
   "metadata": {},
   "outputs": [],
   "source": [
    "abm = ABMix(1, 2)\n",
    "bam = BAMix(1, 2)"
   ]
  },
  {
   "cell_type": "code",
   "execution_count": null,
   "metadata": {},
   "outputs": [],
   "source": [
    "print(abm.a)\n",
    "print(abm.b)\n",
    "print(bam.c)\n",
    "print(bam.d)"
   ]
  },
  {
   "cell_type": "code",
   "execution_count": null,
   "metadata": {},
   "outputs": [],
   "source": [
    "print(abm[0])"
   ]
  },
  {
   "cell_type": "code",
   "execution_count": null,
   "metadata": {},
   "outputs": [],
   "source": [
    "print(bam[0])"
   ]
  },
  {
   "cell_type": "code",
   "execution_count": null,
   "metadata": {},
   "outputs": [],
   "source": [
    "class A:\n",
    "\n",
    "    def __init__(self, a, b, **kwargs):\n",
    "\n",
    "        print(\"class A being intialized, calling super init\")\n",
    "        self.a = a\n",
    "        self.b = b\n",
    "\n",
    "\n",
    "class B:\n",
    "\n",
    "    def __init__(self, **kwargs):\n",
    "        print(\"class B being intialized, calling super init\")\n",
    "        super().__init__(**kwargs)\n",
    "        print(\"class B settin other instance attrs\")\n",
    "        self.src_transform = kwargs.get(\"src_transform\", None)\n",
    "        self.dst_transform = kwargs.get(\"dst_transform\", None)\n",
    "\n",
    "    def __getitem__(self, idx):\n",
    "\n",
    "        if idx % 2 == 0:\n",
    "            return self.src_transform * idx * self.a\n",
    "        \n",
    "        else:\n",
    "            return self.dst_transform * idx * self.b"
   ]
  },
  {
   "cell_type": "code",
   "execution_count": null,
   "metadata": {},
   "outputs": [],
   "source": [
    "class ABMix(A, B):\n",
    "    pass\n",
    "\n",
    "class BAMix(B, A):\n",
    "    pass"
   ]
  },
  {
   "cell_type": "code",
   "execution_count": null,
   "metadata": {},
   "outputs": [],
   "source": [
    "kwargs = dict(a=2, b=3, src_transform=True, dst_transform=False)\n",
    "abm = ABMix(**kwargs)"
   ]
  },
  {
   "cell_type": "code",
   "execution_count": null,
   "metadata": {},
   "outputs": [],
   "source": [
    "print(abm.a)\n",
    "print(abm.b)\n",
    "# print(abm.src_transform)  # does not work"
   ]
  },
  {
   "cell_type": "code",
   "execution_count": null,
   "metadata": {},
   "outputs": [],
   "source": [
    "bam = BAMix(**kwargs)"
   ]
  },
  {
   "cell_type": "code",
   "execution_count": null,
   "metadata": {},
   "outputs": [],
   "source": [
    "print(bam.a)\n",
    "print(bam.b)\n",
    "print(bam.src_transform)  # does not work"
   ]
  },
  {
   "cell_type": "code",
   "execution_count": null,
   "metadata": {},
   "outputs": [],
   "source": [
    "BAMix.__mro__"
   ]
  },
  {
   "cell_type": "code",
   "execution_count": null,
   "metadata": {},
   "outputs": [],
   "source": []
  }
 ],
 "metadata": {
  "interpreter": {
   "hash": "c58d2ad1eef270dd28e8febff09dccc29cd6c14ad8ae8485c3c8d4e991b6e982"
  },
  "kernelspec": {
   "display_name": "Python 3.8.13 ('tbp.monty')",
   "language": "python",
   "name": "python3"
  },
  "language_info": {
   "codemirror_mode": {
    "name": "ipython",
    "version": 3
   },
   "file_extension": ".py",
   "mimetype": "text/x-python",
   "name": "python",
   "nbconvert_exporter": "python",
   "pygments_lexer": "ipython3",
   "version": "3.8.13"
  },
  "orig_nbformat": 4
 },
 "nbformat": 4,
 "nbformat_minor": 2
}
