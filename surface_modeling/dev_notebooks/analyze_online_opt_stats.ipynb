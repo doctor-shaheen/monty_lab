{
 "cells": [
  {
   "cell_type": "code",
   "execution_count": null,
   "metadata": {},
   "outputs": [],
   "source": [
    "import torch\n",
    "import matplotlib.pyplot as plt\n",
    "import os\n",
    "\n",
    "from analyze_pose_optimization import (\n",
    "    plot_mean_error_per_class,\n",
    "    plot_error_vs_transform_degrees,\n",
    "    get_error_per_exp,\n",
    "    get_euler_angles_per_transform\n",
    ")"
   ]
  },
  {
   "cell_type": "code",
   "execution_count": null,
   "metadata": {},
   "outputs": [],
   "source": [
    "path = os.path.expanduser(\"~/tbp/tbp.monty/projects/monty_runs/logs\")\n",
    "icp_path = os.path.join(path, \"icp\", \"stats.pt\")\n",
    "icp_scipy_path = os.path.join(path, \"icp_scipy\", \"stats.pt\")\n",
    "mcmc_path = os.path.join(path, \"mcmc\", \"stats.pt\")"
   ]
  },
  {
   "cell_type": "code",
   "execution_count": null,
   "metadata": {},
   "outputs": [],
   "source": [
    "data = torch.load(icp_path)\n",
    "sp_data = torch.load(icp_scipy_path)"
   ]
  },
  {
   "cell_type": "code",
   "execution_count": null,
   "metadata": {},
   "outputs": [],
   "source": [
    "plot_mean_error_per_class(data)\n",
    "plt.show()"
   ]
  },
  {
   "cell_type": "code",
   "execution_count": null,
   "metadata": {},
   "outputs": [],
   "source": [
    "angles = get_euler_angles_per_transform(data)\n",
    "all_errors = get_error_per_exp(data)\n",
    "plot_error_vs_transform_degrees(all_errors, angles[:,0])\n",
    "plt.show()"
   ]
  },
  {
   "cell_type": "code",
   "execution_count": null,
   "metadata": {},
   "outputs": [],
   "source": [
    "exps = list(data.keys())\n",
    "d0 = data[exps[0]]"
   ]
  },
  {
   "cell_type": "code",
   "execution_count": null,
   "metadata": {},
   "outputs": [],
   "source": [
    "d0.keys()"
   ]
  },
  {
   "cell_type": "code",
   "execution_count": null,
   "metadata": {},
   "outputs": [],
   "source": [
    "plt.plot(d0[\"time\"])"
   ]
  },
  {
   "cell_type": "code",
   "execution_count": null,
   "metadata": {},
   "outputs": [],
   "source": [
    "import numpy as np\n",
    "\n",
    "\n",
    "def get_time_per_exp(data):\n",
    "\n",
    "    n_exps = len(data.keys())\n",
    "    keys = list(data.keys())\n",
    "    n_samples_per_exp = len(data[keys[0]][\"time\"])\n",
    "    all_times = np.zeros((n_exps, n_samples_per_exp))\n",
    "    for i, k in enumerate(data.keys()):\n",
    "        all_times[i] = data[k][\"time\"]\n",
    "    \n",
    "    return all_times"
   ]
  },
  {
   "cell_type": "code",
   "execution_count": null,
   "metadata": {},
   "outputs": [],
   "source": [
    "all_times = get_time_per_exp(data)\n",
    "all_times_sp = get_time_per_exp(sp_data)"
   ]
  },
  {
   "cell_type": "code",
   "execution_count": null,
   "metadata": {},
   "outputs": [],
   "source": [
    "plt.imshow(all_times)"
   ]
  },
  {
   "cell_type": "code",
   "execution_count": null,
   "metadata": {},
   "outputs": [],
   "source": [
    "print(f\"mean runtime (icp standard): {np.mean(all_times)}\")\n",
    "print(f\"std runtime (icp standard): {np.std(all_times)}\")\n",
    "print(f\"mean runtime (scipy minimizer): {np.mean(all_times_sp)}\")\n",
    "print(f\"std runtime (scipy minimizer): {np.std(all_times_sp)}\")"
   ]
  },
  {
   "cell_type": "code",
   "execution_count": null,
   "metadata": {},
   "outputs": [],
   "source": [
    "np.mean(all_times_sp) / np.mean(all_times)"
   ]
  },
  {
   "cell_type": "code",
   "execution_count": null,
   "metadata": {},
   "outputs": [],
   "source": [
    "plot_mean_error_per_class(sp_data)\n",
    "plt.show()"
   ]
  },
  {
   "cell_type": "code",
   "execution_count": null,
   "metadata": {},
   "outputs": [],
   "source": [
    "sp_angles = get_euler_angles_per_transform(sp_data)\n",
    "sp_all_errors = get_error_per_exp(sp_data)\n",
    "plot_error_vs_transform_degrees(sp_all_errors, sp_angles[:,0])\n",
    "plt.show()"
   ]
  },
  {
   "cell_type": "code",
   "execution_count": null,
   "metadata": {},
   "outputs": [],
   "source": [
    "fig, ax = plt.subplots()\n",
    "\n",
    "sp_errors = sp_all_errors.mean(axis=1)\n",
    "sp_evars = sp_all_errors.var(axis=1)\n",
    "\n",
    "errors = all_errors.mean(axis=1)\n",
    "evars = all_errors.var(axis=1)\n",
    "\n",
    "ax.errorbar(sp_angles[:, 0], sp_errors, yerr=sp_evars, marker=\".\", ls=\"none\", label=\"scipy\")\n",
    "ax.errorbar(angles[:, 0], errors, yerr=evars, marker=\".\", ls=\"none\", label=\"SVD\")\n",
    "ax.set_ylabel(\"Mean pointwise error\")\n",
    "ax.set_xlabel(\"Degrees of rotation\")\n",
    "plt.legend()"
   ]
  },
  {
   "cell_type": "code",
   "execution_count": null,
   "metadata": {},
   "outputs": [],
   "source": [
    "fig, ax = plt.subplots()\n",
    "\n",
    "sp_errors = sp_all_errors.mean(axis=1)\n",
    "sp_evars = sp_all_errors.var(axis=1)\n",
    "\n",
    "errors = all_errors.mean(axis=1)\n",
    "evars = all_errors.var(axis=1)\n",
    "\n",
    "ax.scatter(sp_angles[:, 0], sp_errors, marker=\".\", label=\"scipy\")\n",
    "ax.scatter(angles[:, 0], errors, marker=\".\", label=\"SVD\")\n",
    "\n",
    "ax.set_ylabel(\"Mean pointwise error\")\n",
    "ax.set_xlabel(\"Degrees of rotation\")\n",
    "plt.legend()"
   ]
  },
  {
   "cell_type": "code",
   "execution_count": null,
   "metadata": {},
   "outputs": [],
   "source": []
  },
  {
   "cell_type": "code",
   "execution_count": null,
   "metadata": {},
   "outputs": [],
   "source": []
  },
  {
   "cell_type": "code",
   "execution_count": null,
   "metadata": {},
   "outputs": [],
   "source": []
  },
  {
   "cell_type": "code",
   "execution_count": null,
   "metadata": {},
   "outputs": [],
   "source": []
  },
  {
   "cell_type": "code",
   "execution_count": null,
   "metadata": {},
   "outputs": [],
   "source": []
  },
  {
   "cell_type": "code",
   "execution_count": null,
   "metadata": {},
   "outputs": [],
   "source": [
    "n_exps = len(data.keys())\n",
    "n_samples_per_exp = len(data[\"rotation_0\"][\"mean_pointwise_error\"])\n",
    "all_errors = np.zeros((n_exps, n_samples_per_exp))\n",
    "for i, k in enumerate(data.keys()):\n",
    "    all_errors[i] = data[k][\"mean_pointwise_error\"]"
   ]
  },
  {
   "cell_type": "code",
   "execution_count": null,
   "metadata": {},
   "outputs": [],
   "source": [
    "all_deviations = np.array([data[k][\"inverse_matrix_deviation\"] for k in data.keys()])\n",
    "rots = np.array([data[k][\"transforms\"].rotation.as_euler(\"xyz\", degrees=True)[0] for k in data.keys()])"
   ]
  },
  {
   "cell_type": "code",
   "execution_count": null,
   "metadata": {},
   "outputs": [],
   "source": [
    "fig, ax = plt.subplots(1, 2, figsize=(10, 5))\n",
    "\n",
    "for rot, err, dev in zip(rots, all_errors, all_deviations):\n",
    "    ax[0].hist(err, 15, alpha=0.3, label=\"x_rotation=\" + str(rot))\n",
    "    ax[1].hist(dev, 15, alpha=0.3, label=\"x_rotation=\" + str(rot))\n",
    "\n",
    "ax[0].set_title(\"Pointwise error histogram\")\n",
    "ax[1].set_title(\"Deviation from identity matrix histogram\")\n",
    "plt.legend()"
   ]
  },
  {
   "cell_type": "code",
   "execution_count": null,
   "metadata": {},
   "outputs": [],
   "source": [
    "fig, ax = plt.subplots(1, 2, figsize=(10, 5))\n",
    "\n",
    "errors = all_errors.mean(axis=1)\n",
    "devs = np.mean(all_deviations, axis=1)\n",
    "\n",
    "ax[0].plot(rots, errors, \".\")\n",
    "ax[0].set_ylabel(\"Mean pointwise error\")\n",
    "ax[0].set_xlabel(\"Degrees of x rotation\")\n",
    "ax[1].plot(rots, devs, \".\")\n",
    "ax[1].set_ylabel(\"sum(R^-1 hat R - I)^2\")\n",
    "ax[1].set_xlabel(\"Degrees of x rotation\")\n"
   ]
  },
  {
   "cell_type": "code",
   "execution_count": null,
   "metadata": {},
   "outputs": [],
   "source": [
    "print(np.corrcoef(errors, devs))"
   ]
  },
  {
   "cell_type": "code",
   "execution_count": null,
   "metadata": {},
   "outputs": [],
   "source": [
    "ae = all_errors.ravel()\n",
    "ad = all_deviations.ravel()\n",
    "print(np.corrcoef(ae, ad))"
   ]
  },
  {
   "cell_type": "code",
   "execution_count": null,
   "metadata": {},
   "outputs": [],
   "source": [
    "labels = np.array([data[\"rotation_1\"][\"labels\"][i][0] for i in range(len(data[\"rotation_1\"][\"labels\"]))])\n",
    "unique_labels = np.unique(labels)\n",
    "label_inds = dict()\n",
    "for label in unique_labels:\n",
    "    m = np.where(labels == label)[0]\n",
    "    label_inds[label] = m"
   ]
  },
  {
   "cell_type": "code",
   "execution_count": null,
   "metadata": {},
   "outputs": [],
   "source": [
    "# TODO this should be over all rotations\n",
    "errors = np.array(data[\"rotation_1\"][\"mean_pointwise_error\"])\n",
    "label_to_error = dict()\n",
    "label_to_error_var = dict()\n",
    "for label in unique_labels:\n",
    "    inds = label_inds[label]\n",
    "    error = errors[inds].mean()\n",
    "    label_to_error[label] = error\n",
    "    label_to_error_var[label] = np.var(errors[inds])\n"
   ]
  },
  {
   "cell_type": "code",
   "execution_count": null,
   "metadata": {},
   "outputs": [],
   "source": [
    "label_error = np.array([label_to_error[l] for l in unique_labels])\n",
    "label_var = np.array([label_to_error_var[l] for l in unique_labels])"
   ]
  },
  {
   "cell_type": "code",
   "execution_count": null,
   "metadata": {},
   "outputs": [],
   "source": [
    "fig, ax = plt.subplots()\n",
    "ax.bar(x=unique_labels, height=label_error, yerr=label_var)\n",
    "ax.set_xticklabels(unique_labels, rotation=70)"
   ]
  },
  {
   "cell_type": "code",
   "execution_count": null,
   "metadata": {},
   "outputs": [],
   "source": [
    "fig, ax = plt.subplots(5, 2, figsize=(10, 8), sharey=True)\n",
    "for i in range(n_exps):\n",
    "\n",
    "    rot = rots[i]\n",
    "    row = int(np.floor(i / 2))\n",
    "    col = i % 2\n",
    "    ax[row, col].plot(all_errors[i])\n",
    "    ax[row, col].set_title(\"x_rotation=\" + str(rot))\n",
    "    # ax[1].plot(all_deviations[i], label=\"x_rotation=\" + str(rot))\n",
    "\n",
    "# ax[0].set_ylabel(\"Mean pointwise error\")\n",
    "# ax[1].set_ylabel(\"Identity deviation\")\n",
    "# plt.legend()\n",
    "plt.tight_layout()"
   ]
  },
  {
   "cell_type": "code",
   "execution_count": null,
   "metadata": {},
   "outputs": [],
   "source": [
    "disparities = [np.array(data[k][\"angle_disparity\"]) for k in data.keys()]\n",
    "# data[\"rotation_0\"][\"angle_disparity\"]"
   ]
  },
  {
   "cell_type": "code",
   "execution_count": null,
   "metadata": {},
   "outputs": [],
   "source": [
    "fig, ax = plt.subplots(1, 2, figsize=(10, 5))\n",
    "idx = 10\n",
    "\n",
    "ax[0].plot(disparities[idx][:, 0] % 180, label=\"x-disparity\")\n",
    "# ax[0].plot(disparities[idx][:, 1], label=\"y-disparity\")\n",
    "# ax[0].plot(disparities[idx][:, 2], label=\"z-disparity\")\n",
    "ax[0].set_ylabel(\"Angle disparity\")\n",
    "\n",
    "ax[1].plot(all_errors[idx] * 100)\n",
    "ax[1].set_ylabel(\"Error\")\n",
    "plt.legend()"
   ]
  },
  {
   "cell_type": "code",
   "execution_count": null,
   "metadata": {},
   "outputs": [],
   "source": [
    "fig, ax = plt.subplots()\n",
    "idx = 0\n",
    "\n",
    "ax.plot(disparities[idx][:, 0] % 180, label=\"x-disparity\")\n",
    "ax.plot(all_errors[idx] * 100, label=\"error * 100\")\n",
    "# ax.set_ylabel(\"Error\")\n",
    "plt.legend()"
   ]
  },
  {
   "cell_type": "code",
   "execution_count": null,
   "metadata": {},
   "outputs": [],
   "source": [
    "fig, ax = plt.subplots(5, 2, figsize=(10, 8), sharey=True)\n",
    "\n",
    "cnt = 0\n",
    "for i in range(5):\n",
    "    for j in range(2):\n",
    "        ax[i, j].plot(disparities[cnt][:, 0], label=\"x-disparity\")\n",
    "        ax[i, j].plot(all_errors[cnt] * 100, label=\"error * 100\")\n",
    "        r = data[f\"rotation_{cnt}\"][\"transforms\"].rotation.as_euler(\"xyz\", degrees=True)[0]\n",
    "        ax[i, j].plot(disparities[cnt][:, 0] + r, label=\"rotation + angle disparity\")\n",
    "        ax[i, j].axhline(180, linestyle=\"dashed\", color=\"r\", alpha=0.5)\n",
    "        ax[i, j].axhline(-180, linestyle=\"dashed\", color=\"r\", alpha=0.5)\n",
    "        ax[i, j].set_title(r)\n",
    "        cnt += 1\n",
    "\n",
    "plt.legend()\n",
    "plt.tight_layout()\n",
    "\n"
   ]
  },
  {
   "cell_type": "code",
   "execution_count": null,
   "metadata": {},
   "outputs": [],
   "source": [
    "data[\"rotation_4\"][\"transforms\"].rotation.as_euler(\"xyz\", degrees=True)"
   ]
  },
  {
   "cell_type": "code",
   "execution_count": null,
   "metadata": {},
   "outputs": [],
   "source": [
    "np.corrcoef(all_errors.ravel(), d[:,:,0].ravel())"
   ]
  },
  {
   "cell_type": "code",
   "execution_count": null,
   "metadata": {},
   "outputs": [],
   "source": [
    "d.shape"
   ]
  },
  {
   "cell_type": "code",
   "execution_count": null,
   "metadata": {},
   "outputs": [],
   "source": [
    "np.random.normal(np.ones(3), np.ones(3), (3, 1))"
   ]
  },
  {
   "cell_type": "code",
   "execution_count": null,
   "metadata": {},
   "outputs": [],
   "source": [
    "rpc = torch.randn(100, 3)\n",
    "t = torch.normal(torch.ones(3), torch.ones(3))\n",
    "rpct = rpc + t"
   ]
  },
  {
   "cell_type": "code",
   "execution_count": null,
   "metadata": {},
   "outputs": [],
   "source": [
    "print(rpc[0,:])\n",
    "print(t)\n",
    "print(rpct[0,:])"
   ]
  },
  {
   "cell_type": "code",
   "execution_count": null,
   "metadata": {},
   "outputs": [],
   "source": [
    "t = torch.normal(torch.ones(3), torch.ones(3))"
   ]
  },
  {
   "cell_type": "code",
   "execution_count": null,
   "metadata": {},
   "outputs": [],
   "source": []
  }
 ],
 "metadata": {
  "interpreter": {
   "hash": "c58d2ad1eef270dd28e8febff09dccc29cd6c14ad8ae8485c3c8d4e991b6e982"
  },
  "kernelspec": {
   "display_name": "Python 3.8.13 ('tbp.monty')",
   "language": "python",
   "name": "python3"
  },
  "language_info": {
   "codemirror_mode": {
    "name": "ipython",
    "version": 3
   },
   "file_extension": ".py",
   "mimetype": "text/x-python",
   "name": "python",
   "nbconvert_exporter": "python",
   "pygments_lexer": "ipython3",
   "version": "3.8.13"
  },
  "orig_nbformat": 4
 },
 "nbformat": 4,
 "nbformat_minor": 2
}
