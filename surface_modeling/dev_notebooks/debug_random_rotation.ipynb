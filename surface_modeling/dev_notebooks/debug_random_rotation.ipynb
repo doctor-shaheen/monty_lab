{
 "cells": [
  {
   "cell_type": "code",
   "execution_count": 1,
   "metadata": {},
   "outputs": [],
   "source": [
    "import copy\n",
    "import torch\n",
    "import numpy as np\n",
    "import torch_geometric.transforms as T\n",
    "import matplotlib.pyplot as plt\n",
    "import importlib\n",
    "import os\n",
    "import time\n",
    "from scipy.spatial.transform import Rotation\n",
    "from scipy.spatial.distance import cdist\n",
    "import poisson_modelnet_40\n",
    "importlib.reload(poisson_modelnet_40)\n",
    "\n",
    "from poisson_modelnet_40 import (\n",
    "    get_transform,\n",
    "    get_rotation_transform,\n",
    "    get_single_modelnet40_sample\n",
    ")\n",
    "\n",
    "import pose_estimation\n",
    "importlib.reload(pose_estimation)\n",
    "from pose_estimation import ICP, PointCloudMetropolisHastings, nearest_neighbor_src_dst, metrics_per_step\n",
    "\n",
    "import tbp.monty.frameworks.environment_utils.transforms\n",
    "importlib.reload(tbp.monty.frameworks.environment_utils.transforms)\n",
    "import tbp.monty.frameworks.environments.modelnet\n",
    "importlib.reload(tbp.monty.frameworks.environments.modelnet)\n",
    "\n",
    "from tbp.monty.frameworks.environment_utils.transforms import RandomRotate\n",
    "from tbp.monty.frameworks.utils.metrics import TransformedPointCloudDistance\n",
    "from tbp.monty.frameworks.environments.modelnet import ModelNet40OnlineOptimization\n",
    "\n"
   ]
  },
  {
   "cell_type": "markdown",
   "metadata": {},
   "source": [
    "# Step 1: just see if we can implement ICP or similar.\n",
    "\n",
    "- Load a single modelnet40 object.\n",
    "- Sample k points from the mesh.\n",
    "- Load the same object and apply a known rotation.\n",
    "- Call pose_estimator(src, tgt)\n",
    "- Decode the output of pose_estimator so we can compare to known transform\n",
    "- Examine the fit of the learned transform\n",
    "- Measure how much time passed\n",
    "- Extend by replacing error_fn with poisson surface reconstruction"
   ]
  },
  {
   "cell_type": "code",
   "execution_count": 45,
   "metadata": {},
   "outputs": [],
   "source": [
    "N_SAMPLES = 1024\n",
    "dst_transform = get_transform(N_SAMPLES)\n",
    "rot_transform = RandomRotate(axes=[\"y\"], fix_rotation=True)\n",
    "rotation_matrix = rot_transform.rotation_matrix\n",
    "src_transform = T.Compose([dst_transform, rot_transform])\n",
    "dataset = ModelNet40OnlineOptimization(\n",
    "    root=os.path.expanduser(\"~/tbp/datasets/ModelNet40/raw\"),\n",
    "    transform=None,  # raw torch geometric object\n",
    "    train=True,\n",
    "    num_samples_train=2,\n",
    "    dst_transform=dst_transform,\n",
    "    src_transform=rot_transform\n",
    ")\n",
    "dataloader = torch.utils.data.DataLoader(dataset, shuffle=True, batch_size=1)"
   ]
  },
  {
   "cell_type": "code",
   "execution_count": 46,
   "metadata": {},
   "outputs": [
    {
     "name": "stdout",
     "output_type": "stream",
     "text": [
      "torch.Size([1024, 3])\n"
     ]
    }
   ],
   "source": [
    "x0_dst = dst_transform(dataset.data[0])\n",
    "print(x0_dst.size())  # N x 3; need to take transpose to so we can multiply correctly"
   ]
  },
  {
   "cell_type": "code",
   "execution_count": 47,
   "metadata": {},
   "outputs": [],
   "source": [
    "e0 = np.random.uniform(0, 2 * np.pi)\n",
    "r0 = Rotation.from_euler(\"x\", e0).as_matrix()\n",
    "r0_torch = torch.from_numpy(r0).float()\n",
    "r0_torch_inv = torch.inverse(r0_torch)\n",
    "r0_torch_t_inv = torch.inverse(r0_torch.T)"
   ]
  },
  {
   "cell_type": "markdown",
   "metadata": {},
   "source": [
    "Show that when X is N x 3, RX.T is not the same as XR. RX.T is the correct way according to wikipedia. If you want to post-multiply instead of pre-multiply, then using the rules of algebra: (RX.T).T = XR.T, since you reverse the order and apply the transpose to both."
   ]
  },
  {
   "cell_type": "code",
   "execution_count": 48,
   "metadata": {},
   "outputs": [
    {
     "name": "stdout",
     "output_type": "stream",
     "text": [
      "tensor(False)\n",
      "tensor(True)\n"
     ]
    }
   ],
   "source": [
    "x0_src_L = torch.matmul(r0_torch, x0_dst.T)  # proposed way of doing it, correct according to wikipedia\n",
    "x0_src_R = torch.matmul(x0_dst, r0_torch)  # original way of doing it\n",
    "x0_src_R_t = torch.matmul(x0_dst, r0_torch.T)  # corrected version of original\n",
    "n_entries = x0_dst.size(0) * x0_dst.size(1)\n",
    "\n",
    "print(torch.isclose(x0_src_L, x0_src_R.T).sum() == n_entries)\n",
    "print(torch.isclose(x0_src_L, x0_src_R_t.T).sum() == n_entries)\n",
    "\n"
   ]
  },
  {
   "cell_type": "code",
   "execution_count": 49,
   "metadata": {},
   "outputs": [],
   "source": [
    "x0_est_L_inv = torch.matmul(r0_torch_inv, x0_src_L)  # show we can invert the transform\n",
    "assert torch.isclose(x0_est_L_inv, x0_dst.T).sum() == n_entries"
   ]
  },
  {
   "cell_type": "code",
   "execution_count": null,
   "metadata": {},
   "outputs": [],
   "source": []
  }
 ],
 "metadata": {
  "interpreter": {
   "hash": "c58d2ad1eef270dd28e8febff09dccc29cd6c14ad8ae8485c3c8d4e991b6e982"
  },
  "kernelspec": {
   "display_name": "Python 3.8.13 ('tbp.monty')",
   "language": "python",
   "name": "python3"
  },
  "language_info": {
   "codemirror_mode": {
    "name": "ipython",
    "version": 3
   },
   "file_extension": ".py",
   "mimetype": "text/x-python",
   "name": "python",
   "nbconvert_exporter": "python",
   "pygments_lexer": "ipython3",
   "version": "3.8.13"
  },
  "orig_nbformat": 4
 },
 "nbformat": 4,
 "nbformat_minor": 2
}
