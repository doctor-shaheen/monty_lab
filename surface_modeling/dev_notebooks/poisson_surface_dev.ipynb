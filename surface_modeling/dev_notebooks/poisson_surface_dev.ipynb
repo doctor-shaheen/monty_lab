{
 "cells": [
  {
   "cell_type": "code",
   "execution_count": null,
   "metadata": {},
   "outputs": [],
   "source": [
    "%load_ext autoreload\n",
    "\n",
    "%autoreload 2\n",
    "\n",
    "import open3d as o3d\n",
    "import os\n",
    "import numpy as np\n",
    "import torch\n",
    "from torch_geometric import transforms as T\n",
    "\n",
    "from tbp.monty.frameworks.environments.modelnet import ModelNet40"
   ]
  },
  {
   "cell_type": "markdown",
   "metadata": {},
   "source": [
    "#### Start by replicating the basic results in the open3d tutorial\n",
    "\n",
    "They have a tutorial I was trying to follow on poisson surface reconstruction, but to get stuff working I had to uninstall open3d and install using pip instead of conda to get version 0.15.0. Apparently a lot has changed with open3d in the last few versions, and for whatever reason, the conda command I used previously did not give me the updated version. It doesn't help that there are many older versions of their documentation floating around\n",
    "\n",
    "http://www.open3d.org/docs/latest/getting_started.html#development-version-pip\n",
    "http://www.open3d.org/docs/release/introduction.html\n",
    "http://www.open3d.org/docs/latest/tutorial/Advanced/surface_reconstruction.html\n",
    "\n",
    "To check you have the right version, `import open3d as o3d; o3d.__version__; print(o3d.data)`. You should have version 0.15.0 and there should be a submodule `data`, which does not exist in 0.11 which is what I had originally."
   ]
  },
  {
   "cell_type": "code",
   "execution_count": null,
   "metadata": {},
   "outputs": [],
   "source": [
    "dataset = o3d.data.EaglePointCloud()\n",
    "pcd = o3d.io.read_point_cloud(dataset.path)\n",
    "o3d.visualization.draw(pcd)"
   ]
  },
  {
   "cell_type": "code",
   "execution_count": null,
   "metadata": {},
   "outputs": [],
   "source": [
    "print('run Poisson surface reconstruction')\n",
    "with o3d.utility.VerbosityContextManager(\n",
    "        o3d.utility.VerbosityLevel.Debug) as cm:\n",
    "    mesh, densities = o3d.geometry.TriangleMesh.create_from_point_cloud_poisson(\n",
    "        pcd, depth=9)\n",
    "print(mesh)\n",
    "o3d.visualization.draw_geometries([mesh],\n",
    "                                  zoom=0.664,\n",
    "                                  front=[-0.4761, -0.4698, -0.7434],\n",
    "                                  lookat=[1.8900, 3.2596, 0.9284],\n",
    "                                  up=[0.2304, -0.8825, 0.4101])"
   ]
  },
  {
   "cell_type": "markdown",
   "metadata": {},
   "source": [
    "#### OK, now try taking a modelnet40 object, getting a numpy list of 3d points, passing to open3d pointcloud class, using PC.estimate_normals, and then poisson reconstruction"
   ]
  },
  {
   "cell_type": "code",
   "execution_count": null,
   "metadata": {},
   "outputs": [],
   "source": [
    "class RemoveFaces(T.BaseTransform):\n",
    "    def __call__(self, data):\n",
    "        return data.pos\n",
    "\n",
    "\n",
    "class ToNumpy(T.BaseTransform):\n",
    "    def __call__(self, data):\n",
    "        return data.numpy()\n"
   ]
  },
  {
   "cell_type": "markdown",
   "metadata": {},
   "source": []
  },
  {
   "cell_type": "code",
   "execution_count": null,
   "metadata": {},
   "outputs": [],
   "source": [
    "transform = T.Compose([\n",
    "        T.NormalizeScale(),\n",
    "        T.SamplePoints(num=1024),\n",
    "        RemoveFaces()\n",
    "    ])"
   ]
  },
  {
   "cell_type": "code",
   "execution_count": null,
   "metadata": {},
   "outputs": [],
   "source": [
    "dataset = ModelNet40(\n",
    "    root=os.path.expanduser(\"~/tbp/datasets/ModelNet40/raw\"),\n",
    "    transform=transform,\n",
    "    train=True,\n",
    "    num_samples_train=2)"
   ]
  },
  {
   "cell_type": "code",
   "execution_count": null,
   "metadata": {},
   "outputs": [],
   "source": [
    "xy = dataset[6]"
   ]
  },
  {
   "cell_type": "code",
   "execution_count": null,
   "metadata": {},
   "outputs": [],
   "source": [
    "print(xy)"
   ]
  },
  {
   "cell_type": "code",
   "execution_count": null,
   "metadata": {},
   "outputs": [],
   "source": [
    "x = xy[0]"
   ]
  },
  {
   "cell_type": "code",
   "execution_count": null,
   "metadata": {},
   "outputs": [],
   "source": [
    "x.size()"
   ]
  },
  {
   "cell_type": "code",
   "execution_count": null,
   "metadata": {},
   "outputs": [],
   "source": [
    "dataset.id_to_object"
   ]
  },
  {
   "cell_type": "code",
   "execution_count": null,
   "metadata": {},
   "outputs": [],
   "source": [
    "pcd = o3d.geometry.PointCloud()\n",
    "pcd.points = o3d.utility.Vector3dVector(x)"
   ]
  },
  {
   "cell_type": "code",
   "execution_count": null,
   "metadata": {},
   "outputs": [],
   "source": [
    "pcd"
   ]
  },
  {
   "cell_type": "code",
   "execution_count": null,
   "metadata": {},
   "outputs": [],
   "source": [
    "pcd.normals = o3d.utility.Vector3dVector(np.zeros(\n",
    "    (1, 3)))  # invalidate existing normals\n",
    "\n",
    "pcd.estimate_normals()"
   ]
  },
  {
   "cell_type": "code",
   "execution_count": null,
   "metadata": {},
   "outputs": [],
   "source": [
    "o3d.visualization.draw_geometries([pcd], point_show_normal=True)"
   ]
  },
  {
   "cell_type": "code",
   "execution_count": null,
   "metadata": {},
   "outputs": [],
   "source": [
    "print('run Poisson surface reconstruction')\n",
    "with o3d.utility.VerbosityContextManager(\n",
    "        o3d.utility.VerbosityLevel.Debug) as cm:\n",
    "    mesh, densities = o3d.geometry.TriangleMesh.create_from_point_cloud_poisson(\n",
    "        pcd, depth=9)\n",
    "print(mesh)\n",
    "o3d.visualization.draw_geometries([mesh])\n",
    "                                #   zoom=0.664,\n",
    "                                #   front=[-0.4761, -0.4698, -0.7434],\n",
    "                                #   lookat=[1.8900, 3.2596, 0.9284],\n",
    "                                #   up=[0.2304, -0.8825, 0.4101])"
   ]
  },
  {
   "cell_type": "markdown",
   "metadata": {},
   "source": [
    "#### OK, hard to tell what I'm looking at\n",
    "\n",
    "Maybe it depends on the number of points we are sampling from the mesh. Try, various powers of 2"
   ]
  },
  {
   "cell_type": "code",
   "execution_count": null,
   "metadata": {},
   "outputs": [],
   "source": [
    "def modelnet40_to_poisson_surface(obj):\n",
    "\n",
    "    pcd = o3d.geometry.PointCloud()\n",
    "    pcd.points = o3d.utility.Vector3dVector(obj)\n",
    "    pcd.normals = o3d.utility.Vector3dVector(np.zeros(\n",
    "    (1, 3)))  # invalidate existing normals\n",
    "    pcd.estimate_normals()\n",
    "    print('run Poisson surface reconstruction')\n",
    "    with o3d.utility.VerbosityContextManager(o3d.utility.VerbosityLevel.Debug) as cm:\n",
    "        mesh, densities = o3d.geometry.TriangleMesh.create_from_point_cloud_poisson(pcd, depth=9)\n",
    "    \n",
    "    return mesh\n",
    "    # o3d.visualization.draw_geometries([mesh])"
   ]
  },
  {
   "cell_type": "code",
   "execution_count": null,
   "metadata": {},
   "outputs": [],
   "source": [
    "dataset = ModelNet40(\n",
    "    root=os.path.expanduser(\"~/tbp/datasets/ModelNet40/raw\"),\n",
    "    transform=None,\n",
    "    train=True,\n",
    "    num_samples_train=2\n",
    ")\n",
    "\n",
    "X = dataset.data[10]\n",
    "\n",
    "for num in [2**7, 2**10, 2**13]:\n",
    "\n",
    "    transform = T.Compose([\n",
    "            T.NormalizeScale(),\n",
    "            T.SamplePoints(num=num),\n",
    "            RemoveFaces()\n",
    "        ])\n",
    "\n",
    "    x = transform(X)\n",
    "    modelnet40_to_poisson_surface(x)"
   ]
  },
  {
   "cell_type": "code",
   "execution_count": null,
   "metadata": {},
   "outputs": [],
   "source": [
    "for num in [2**7, 2**10, 2**13]:\n",
    "\n",
    "    transform = T.Compose([\n",
    "            T.NormalizeScale(),\n",
    "            T.SamplePoints(num=num),\n",
    "            RemoveFaces()\n",
    "        ])\n",
    "\n",
    "    dataset = ModelNet40(\n",
    "        root=os.path.expanduser(\"~/tbp/datasets/ModelNet40/raw\"),\n",
    "        transform=transform,\n",
    "        train=True,\n",
    "        num_samples_train=2\n",
    "    )\n",
    "    x = dataset[10]\n",
    "    modelnet40_to_poisson_surface(x)"
   ]
  },
  {
   "cell_type": "code",
   "execution_count": null,
   "metadata": {},
   "outputs": [],
   "source": [
    "# dataset = ModelNet40(\n",
    "#     root=os.path.expanduser(\"~/tbp/datasets/ModelNet40/raw\"),\n",
    "#     transform=None,\n",
    "#     train=True,\n",
    "#     num_samples_train=2\n",
    "# )\n",
    "\n",
    "# x = dataset.data[10]\n",
    "\n",
    "\n",
    "# for num in [2**7, 2**10, 2**13]:\n",
    "\n",
    "#     transform = T.Compose([\n",
    "#             T.NormalizeScale(),\n",
    "#             T.SamplePoints(num=num),\n",
    "#             RemoveFaces()\n",
    "#         ])\n",
    "\n",
    "#     x_ = transform(x)\n",
    "#     modelnet40_to_poisson_surface(x_)\n",
    "    \n",
    "    "
   ]
  },
  {
   "cell_type": "code",
   "execution_count": null,
   "metadata": {},
   "outputs": [],
   "source": []
  }
 ],
 "metadata": {
  "interpreter": {
   "hash": "c58d2ad1eef270dd28e8febff09dccc29cd6c14ad8ae8485c3c8d4e991b6e982"
  },
  "kernelspec": {
   "display_name": "Python 3.8.12 ('tbp.monty')",
   "language": "python",
   "name": "python3"
  },
  "language_info": {
   "codemirror_mode": {
    "name": "ipython",
    "version": 3
   },
   "file_extension": ".py",
   "mimetype": "text/x-python",
   "name": "python",
   "nbconvert_exporter": "python",
   "pygments_lexer": "ipython3",
   "version": "3.8.13"
  },
  "orig_nbformat": 4
 },
 "nbformat": 4,
 "nbformat_minor": 2
}
