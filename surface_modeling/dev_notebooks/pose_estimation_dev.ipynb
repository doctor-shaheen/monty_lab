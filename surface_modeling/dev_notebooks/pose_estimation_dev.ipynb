{
 "cells": [
  {
   "cell_type": "code",
   "execution_count": null,
   "metadata": {},
   "outputs": [],
   "source": [
    "import copy\n",
    "import torch\n",
    "import numpy as np\n",
    "import torch_geometric.transforms as T\n",
    "import matplotlib.pyplot as plt\n",
    "import importlib\n",
    "import os\n",
    "import time\n",
    "from scipy.spatial.transform import Rotation\n",
    "from scipy.spatial.distance import cdist\n",
    "import poisson_modelnet_40\n",
    "importlib.reload(poisson_modelnet_40)\n",
    "\n",
    "from poisson_modelnet_40 import (\n",
    "    get_transform,\n",
    "    get_rotation_transform,\n",
    "    get_single_modelnet40_sample\n",
    ")\n",
    "\n",
    "import pose_estimation\n",
    "importlib.reload(pose_estimation)\n",
    "from pose_estimation import ICP, PointCloudMetropolisHastings, nearest_neighbor_src_dst#, metrics_per_step\n",
    "\n",
    "import tbp.monty.frameworks.environment_utils.transforms\n",
    "importlib.reload(tbp.monty.frameworks.environment_utils.transforms)\n",
    "import tbp.monty.frameworks.environments.modelnet\n",
    "importlib.reload(tbp.monty.frameworks.environments.modelnet)\n",
    "\n",
    "from tbp.monty.frameworks.environment_utils.transforms import RandomRotate\n",
    "from tbp.monty.frameworks.utils.metrics import TransformedPointCloudDistance, AngleDisparity, InverseMatrixDeviation\n",
    "from tbp.monty.frameworks.environments.modelnet import ModelNet40OnlineOptimizationExactCopy\n",
    "\n"
   ]
  },
  {
   "cell_type": "markdown",
   "metadata": {},
   "source": [
    "# Step 1: just see if we can implement ICP or similar.\n",
    "\n",
    "- Load a single modelnet40 object.\n",
    "- Sample k points from the mesh.\n",
    "- Load the same object and apply a known rotation.\n",
    "- Call pose_estimator(src, tgt)\n",
    "- Decode the output of pose_estimator so we can compare to known transform\n",
    "- Examine the fit of the learned transform\n",
    "- Measure how much time passed\n",
    "- Extend by replacing error_fn with poisson surface reconstruction"
   ]
  },
  {
   "cell_type": "code",
   "execution_count": null,
   "metadata": {},
   "outputs": [],
   "source": [
    "N_SAMPLES = 1024\n",
    "dst_transform = get_transform(N_SAMPLES)\n",
    "rot_transform = RandomRotate(axes=[\"y\"], fix_rotation=True)\n",
    "rotation_matrix = rot_transform.rotation_matrix\n",
    "src_transform = rot_transform\n",
    "dataset = ModelNet40OnlineOptimizationExactCopy(\n",
    "    root=os.path.expanduser(\"~/tbp/datasets/ModelNet40/raw\"),\n",
    "    transform=None,  # raw torch geometric object\n",
    "    train=True,\n",
    "    num_samples_train=2,\n",
    "    dst_transform=dst_transform,\n",
    "    src_transform=rot_transform\n",
    "    )\n",
    "dataloader = torch.utils.data.DataLoader(dataset, shuffle=True, batch_size=1)"
   ]
  },
  {
   "cell_type": "code",
   "execution_count": null,
   "metadata": {},
   "outputs": [],
   "source": [
    "icp = ICP(n_steps=100)"
   ]
  },
  {
   "cell_type": "code",
   "execution_count": null,
   "metadata": {},
   "outputs": [],
   "source": [
    "for pcs in dataloader:\n",
    "    src, dst, label = pcs\n",
    "    icp_pc = icp(src, dst)\n",
    "    break\n"
   ]
  },
  {
   "cell_type": "markdown",
   "metadata": {},
   "source": [
    "## Check that we can use the inverse transform to get src back to dst exactly"
   ]
  },
  {
   "cell_type": "code",
   "execution_count": null,
   "metadata": {},
   "outputs": [],
   "source": [
    "r_t = Rotation.from_matrix(rotation_matrix)\n",
    "print(r_t.as_euler(\"xyz\", degrees=True))\n",
    "print(r_t.inv().as_euler(\"xyz\", degrees=True))\n",
    "print(AngleDisparity.disparity(r_t.inv(), r_t))\n"
   ]
  },
  {
   "cell_type": "code",
   "execution_count": null,
   "metadata": {},
   "outputs": [],
   "source": [
    "AngleDisparity()(**dict(inverse_rotation=r_t.inv(), params=r_t))"
   ]
  },
  {
   "cell_type": "code",
   "execution_count": null,
   "metadata": {},
   "outputs": [],
   "source": [
    "tsfm_inv = r_t.inv()\n",
    "snp = src.squeeze(0).numpy()\n",
    "dnp = dst.squeeze(0).numpy()\n",
    "src_inv = tsfm_inv.apply(snp)"
   ]
  },
  {
   "cell_type": "code",
   "execution_count": null,
   "metadata": {},
   "outputs": [],
   "source": [
    "src_inv.shape"
   ]
  },
  {
   "cell_type": "code",
   "execution_count": null,
   "metadata": {},
   "outputs": [],
   "source": [
    "fig = plt.figure()\n",
    "ax = fig.add_subplot(111, projection=\"3d\")\n",
    "ax.set_title(\"Original and transformed point clouds\")\n",
    "\n",
    "ax.scatter(dnp[:, 1], dnp[:, 0], dnp[:, 2], c=\"b\", alpha=0.1, label=\"Original\")\n",
    "# ax.scatter(snp[:, 1], snp[:, 0], snp[:, 2], c=\"r\", alpha=0.3, label=\"Transformed\")\n",
    "ax.scatter(src_inv[:, 1], src_inv[:, 0], src_inv[:, 2], c=\"g\", alpha=0.5, s=2., label=\"Inverse transform\")\n",
    "ax.legend()\n",
    "plt.show()"
   ]
  },
  {
   "cell_type": "markdown",
   "metadata": {},
   "source": [
    "# Looks good. Now manually examine results of ICP"
   ]
  },
  {
   "cell_type": "code",
   "execution_count": null,
   "metadata": {},
   "outputs": [],
   "source": [
    "icp_min_idx = np.argmin(icp.error_history)\n",
    "icp_min_error = icp.error_history[icp_min_idx]\n",
    "print(icp_min_idx)"
   ]
  },
  {
   "cell_type": "code",
   "execution_count": null,
   "metadata": {},
   "outputs": [],
   "source": [
    "fig, ax = plt.subplots()\n",
    "ax.plot(icp.error_history)\n",
    "ax.set_xlabel(\"Time step\")\n",
    "ax.set_ylabel(\"Error (sum over nearest points)\")"
   ]
  },
  {
   "cell_type": "code",
   "execution_count": null,
   "metadata": {},
   "outputs": [],
   "source": [
    "icpt = icp.best_params\n",
    "# Compare ground truth transform to estimate\n",
    "print(f\"Parameter estimate: \\n{icpt.as_matrix()}\")\n",
    "print(f\"true parameters: \\n{torch.inverse(rotation_matrix)}\")"
   ]
  },
  {
   "cell_type": "code",
   "execution_count": null,
   "metadata": {},
   "outputs": [],
   "source": [
    "print(icpt.as_euler(\"xyz\", degrees=True))\n",
    "print(r_t.as_euler(\"xyz\", degrees=True))"
   ]
  },
  {
   "cell_type": "code",
   "execution_count": null,
   "metadata": {},
   "outputs": [],
   "source": [
    "print(AngleDisparity.disparity(r_t, icpt))"
   ]
  },
  {
   "cell_type": "code",
   "execution_count": null,
   "metadata": {},
   "outputs": [],
   "source": [
    "snp = src.squeeze(0).numpy()\n",
    "dnp = dst.squeeze(0).numpy()\n",
    "\n",
    "fig = plt.figure()\n",
    "ax = fig.add_subplot(111, projection=\"3d\")\n",
    "ax.set_title(\"Original and transformed point clouds\")\n",
    "\n",
    "ax.scatter(dnp[:, 1], dnp[:, 0], dnp[:, 2], c=\"b\", alpha=0.3, label=\"dst\")\n",
    "ax.scatter(snp[:, 1], snp[:, 0], snp[:, 2], c=\"r\", s=2., alpha=0.3, label=\"src\")\n",
    "ax.legend()\n",
    "plt.show()"
   ]
  },
  {
   "cell_type": "code",
   "execution_count": null,
   "metadata": {},
   "outputs": [],
   "source": [
    "icp_pc_np = icp_pc.squeeze(0).numpy()\n",
    "\n",
    "fig = plt.figure()\n",
    "ax = fig.add_subplot(111, projection=\"3d\")\n",
    "ax.set_title(\"Original and icp output pointclouds\")\n",
    "\n",
    "ax.scatter(dnp[:, 1], dnp[:, 0], dnp[:, 2], c=\"b\", alpha=0.3, label=\"Original\")\n",
    "ax.scatter(icp_pc_np[:, 1], icp_pc_np[:, 0], icp_pc_np[:, 2], c=\"r\", alpha=0.3, label=\"Estimated\")\n",
    "ax.legend()\n",
    "plt.show()"
   ]
  },
  {
   "cell_type": "code",
   "execution_count": null,
   "metadata": {},
   "outputs": [],
   "source": [
    "fig = plt.figure(figsize=(6, 18))\n",
    "icp_pc_np = icp_pc.squeeze(0).numpy()\n",
    "\n",
    "ax_dst = fig.add_subplot(131, projection=\"3d\")\n",
    "ax_dst.scatter(dnp[:, 1], dnp[:, 0], dnp[:, 2], c=\"b\", s=2., alpha=0.3)\n",
    "ax_dst.set_title(\"Original\")\n",
    "\n",
    "ax_src = fig.add_subplot(132, projection=\"3d\")\n",
    "ax_src.scatter(snp[:, 1], snp[:, 0], snp[:, 2], c=\"r\", s=2., alpha=0.3)\n",
    "ax_src.set_title(\"Transformed\")\n",
    "\n",
    "ax_est = fig.add_subplot(133, projection=\"3d\")\n",
    "ax_est.scatter(icp_pc_np[:, 1], icp_pc_np[:, 0], icp_pc_np[:, 2], c=\"g\", s=2., alpha=0.3)\n",
    "ax_est.set_title(\"Estimated\")\n",
    "plt.show()\n"
   ]
  },
  {
   "cell_type": "code",
   "execution_count": null,
   "metadata": {},
   "outputs": [],
   "source": [
    "transforms = [icp.get_params(i) for i in range(len(icp.param_history))]\n",
    "errors, pct_errors, angle_disparities, identity_deviations = metrics_per_step(snp, dnp, transforms, Rotation.from_matrix(rotation_matrix))"
   ]
  },
  {
   "cell_type": "code",
   "execution_count": null,
   "metadata": {},
   "outputs": [],
   "source": [
    "ad = np.array(angle_disparities).squeeze(1)\n",
    "ad.shape"
   ]
  },
  {
   "cell_type": "code",
   "execution_count": null,
   "metadata": {},
   "outputs": [],
   "source": [
    "fig, ax = plt.subplots()\n",
    "angles = [\"x\", \"y\", \"z\"]\n",
    "for i in range(3):\n",
    "    ax.plot(ad[:, i], label=angles[i])\n",
    "\n",
    "plt.legend()\n",
    "plt.show()"
   ]
  },
  {
   "cell_type": "code",
   "execution_count": null,
   "metadata": {},
   "outputs": [],
   "source": []
  },
  {
   "cell_type": "code",
   "execution_count": null,
   "metadata": {},
   "outputs": [],
   "source": [
    "plt.plot(identity_deviations)"
   ]
  },
  {
   "cell_type": "code",
   "execution_count": null,
   "metadata": {},
   "outputs": [],
   "source": [
    "plt.plot(pct_errors)"
   ]
  },
  {
   "cell_type": "code",
   "execution_count": null,
   "metadata": {},
   "outputs": [],
   "source": [
    "plt.plot(errors)"
   ]
  },
  {
   "cell_type": "code",
   "execution_count": null,
   "metadata": {},
   "outputs": [],
   "source": [
    "m1 = rotation_matrix\n",
    "m2 = icpt.as_matrix()\n",
    "identity_est = np.dot(m2, m1)\n",
    "identity_deviations = np.linalg.norm(np.eye(3) - identity_est)"
   ]
  },
  {
   "cell_type": "code",
   "execution_count": null,
   "metadata": {},
   "outputs": [],
   "source": [
    "identity_deviations"
   ]
  },
  {
   "cell_type": "code",
   "execution_count": null,
   "metadata": {},
   "outputs": [],
   "source": [
    "np.eye(3) - identity_est"
   ]
  },
  {
   "cell_type": "code",
   "execution_count": null,
   "metadata": {},
   "outputs": [],
   "source": [
    "# multiply src by 3 random rotations to give a baseline\n",
    "r1 = Rotation.from_euler(\"xyz\", np.random.uniform(0, 2*np.pi, 3))\n",
    "r2 = Rotation.from_euler(\"xyz\", np.random.uniform(0, 2*np.pi, 3))\n",
    "r3 = Rotation.from_euler(\"xyz\", np.random.uniform(0, 2*np.pi, 3))\n",
    "snp = src.squeeze(0).numpy()\n",
    "dnp = dst.squeeze(0).numpy()\n",
    "pcr1, pcr2, pcr3 = r1.apply(snp), r2.apply(snp), r3.apply(snp)\n",
    "e1, e2, e3 = np.linalg.norm(pcr1 - dnp, axis=1), np.linalg.norm(pcr2 - dnp, axis=1), np.linalg.norm(pcr3 - dnp, axis=1)\n",
    "d = torch.norm(icp_pc - dst, dim=2).numpy()\n",
    "dss = [e1, e2, e3, d.squeeze(0)]\n"
   ]
  },
  {
   "cell_type": "code",
   "execution_count": null,
   "metadata": {},
   "outputs": [],
   "source": [
    "fig, ax = plt.subplots()\n",
    "ax.plot(errors)\n",
    "ax.set_title(\"Mean pointwise error at every icp time step\")\n",
    "ax.set_xlabel(\"Time step\")\n",
    "ax.set_ylabel(\"Mean pointwise error (ground truth)\")\n",
    "for i, e in enumerate(dss[:-1]):\n",
    "    ax.axhline(e.mean(), color=\"r\", linestyle=\"dashed\", label=f\"src + trandom transform {i}\")\n",
    "\n",
    "plt.legend()"
   ]
  },
  {
   "cell_type": "code",
   "execution_count": null,
   "metadata": {},
   "outputs": [],
   "source": [
    "plt.plot(pct_errors)"
   ]
  },
  {
   "cell_type": "code",
   "execution_count": null,
   "metadata": {},
   "outputs": [],
   "source": [
    "plt.plot([rot_diffs[i][0] for i in range(len(rot_diffs))])"
   ]
  },
  {
   "cell_type": "code",
   "execution_count": null,
   "metadata": {},
   "outputs": [],
   "source": [
    "rot_diffs"
   ]
  },
  {
   "cell_type": "code",
   "execution_count": null,
   "metadata": {},
   "outputs": [],
   "source": [
    "fig, ax = plt.subplots(4, 1, sharex=True)\n",
    "for i in range(4):\n",
    "    ax[i].hist(dss[i], 25)\n",
    "    ax[i].axvline(dss[i].mean(), color=\"r\", linestyle=\"dashed\")\n"
   ]
  },
  {
   "cell_type": "code",
   "execution_count": null,
   "metadata": {},
   "outputs": [],
   "source": [
    "# TransformedPointCloudDistance()(icp_pc.T, dst.T)"
   ]
  },
  {
   "cell_type": "code",
   "execution_count": null,
   "metadata": {},
   "outputs": [],
   "source": [
    "dst_dist = torch.cdist(dst, dst)"
   ]
  },
  {
   "cell_type": "code",
   "execution_count": null,
   "metadata": {},
   "outputs": [],
   "source": [
    "dst_dist.size()"
   ]
  },
  {
   "cell_type": "code",
   "execution_count": null,
   "metadata": {},
   "outputs": [],
   "source": [
    "dst_dist.max()"
   ]
  },
  {
   "cell_type": "code",
   "execution_count": null,
   "metadata": {},
   "outputs": [],
   "source": [
    "# TODO: nothing works because I changed the code so it expects output of dataloader\n",
    "\n",
    "n_samples = 1024\n",
    "obj = get_single_modelnet40_sample(idx=6)\n",
    "obj_target = copy.deepcopy(obj)\n",
    "obj_input = copy.deepcopy(obj)\n",
    "\n",
    "raw_transform = get_transform(n_samples)\n",
    "target_point_cloud = raw_transform(obj_target)\n",
    "rot_transform, rotation_matrix = get_rotation_transform(n_samples, axes=[\"x\"])\n",
    "input_point_cloud = rot_transform(obj_input)"
   ]
  },
  {
   "cell_type": "code",
   "execution_count": null,
   "metadata": {},
   "outputs": [],
   "source": [
    "icp = ICP(n_steps=20)"
   ]
  },
  {
   "cell_type": "code",
   "execution_count": null,
   "metadata": {},
   "outputs": [],
   "source": [
    "icp_t0 = time.time()\n",
    "icp_pointcloud = icp(\n",
    "    src=input_point_cloud.numpy(),\n",
    "    dst=target_point_cloud.numpy()\n",
    ")\n",
    "icp_t1 = time.time()\n",
    "icp_time = icp_t1 - icp_t0"
   ]
  },
  {
   "cell_type": "code",
   "execution_count": null,
   "metadata": {},
   "outputs": [],
   "source": [
    "icp_min_idx = np.argmin(icp.distances)\n",
    "icp_min_error = icp.distances[icp_min_idx]"
   ]
  },
  {
   "cell_type": "code",
   "execution_count": null,
   "metadata": {},
   "outputs": [],
   "source": [
    "fig, ax = plt.subplots()\n",
    "ax.plot(icp.distances)\n",
    "ax.set_xlabel(\"Time step\")\n",
    "ax.set_ylabel(\"Error (sum over nearest points\")"
   ]
  },
  {
   "cell_type": "code",
   "execution_count": null,
   "metadata": {},
   "outputs": [],
   "source": [
    "T = icp.extract_final_transform()"
   ]
  },
  {
   "cell_type": "markdown",
   "metadata": {},
   "source": [
    "## Compare ground truth transform to estimate"
   ]
  },
  {
   "cell_type": "code",
   "execution_count": null,
   "metadata": {},
   "outputs": [],
   "source": [
    "print(f\"Parameter estimate: \\n{T}\")\n",
    "print(f\"true parameters: \\n{rotation_matrix}\")"
   ]
  },
  {
   "cell_type": "code",
   "execution_count": null,
   "metadata": {},
   "outputs": [],
   "source": [
    "print(R.from_matrix(T[:3, :3]).as_euler(\"xyz\", degrees=True))\n",
    "print(R.from_matrix(rotation_matrix).as_euler(\"xyz\", degrees=True))"
   ]
  },
  {
   "cell_type": "code",
   "execution_count": null,
   "metadata": {},
   "outputs": [],
   "source": [
    "type(icp_pointcloud)"
   ]
  },
  {
   "cell_type": "code",
   "execution_count": null,
   "metadata": {},
   "outputs": [],
   "source": [
    "# TransformedPointCloudDistance()(icp_pointcloud, target_point_cloud.T)\n",
    "\n",
    "icp_pointcloud - target_point_cloud.T"
   ]
  },
  {
   "cell_type": "code",
   "execution_count": null,
   "metadata": {},
   "outputs": [],
   "source": [
    "print(type(target_point_cloud))\n",
    "print(type(icp.src))"
   ]
  },
  {
   "cell_type": "markdown",
   "metadata": {},
   "source": [
    "## Spot check we can extract the full transform correctly"
   ]
  },
  {
   "cell_type": "code",
   "execution_count": null,
   "metadata": {},
   "outputs": [],
   "source": [
    "T = np.eye(4)\n",
    "for tsfm in icp.transforms:\n",
    "    T = tsfm.dot(T)\n",
    "\n",
    "print(f\"Estimated T: {T}\")\n",
    "print(f\"output T: {icp.extract_final_transform()}\")"
   ]
  },
  {
   "cell_type": "code",
   "execution_count": null,
   "metadata": {},
   "outputs": [],
   "source": [
    "T = np.eye(4)\n",
    "for tsfm in icp.transforms:\n",
    "    T = tsfm.dot(T)"
   ]
  },
  {
   "cell_type": "code",
   "execution_count": null,
   "metadata": {},
   "outputs": [],
   "source": [
    "m = input_point_cloud.shape[1]\n",
    "src_final = icp.src\n",
    "new_src = np.ones((m + 1, input_point_cloud.shape[0]))\n",
    "new_src[:m, :] = copy.deepcopy(input_point_cloud.T)\n",
    "est_final = T.dot(new_src)"
   ]
  },
  {
   "cell_type": "code",
   "execution_count": null,
   "metadata": {},
   "outputs": [],
   "source": [
    "np.isclose(est_final, src_final).sum() == est_final.shape[0] * est_final.shape[1]"
   ]
  },
  {
   "cell_type": "markdown",
   "metadata": {},
   "source": [
    "## Metropolis Hastings Search"
   ]
  },
  {
   "cell_type": "code",
   "execution_count": null,
   "metadata": {},
   "outputs": [],
   "source": [
    "mcmc = PointCloudMetropolisHastings(\n",
    "    n_steps=1_500,\n",
    "    kappa=8,\n",
    "    temp=0.1,\n",
    "    # threshold=0.5,\n",
    ")"
   ]
  },
  {
   "cell_type": "code",
   "execution_count": null,
   "metadata": {},
   "outputs": [],
   "source": [
    "mcmc_t0 = time.time()\n",
    "mcmc_pointcloud = mcmc(\n",
    "    src=input_point_cloud.numpy(),\n",
    "    dst=target_point_cloud.numpy(),\n",
    ")\n",
    "mcmc_t1 = time.time()\n",
    "mcmc_time = mcmc_t1 - mcmc_t0"
   ]
  },
  {
   "cell_type": "code",
   "execution_count": null,
   "metadata": {},
   "outputs": [],
   "source": [
    "fig, ax = plt.subplots(1, 2, figsize=(10,5))\n",
    "\n",
    "ax[0].plot(mcmc.step_history, mcmc.error_history)\n",
    "ax[0].set_ylabel(\"Total cdist error\")\n",
    "\n",
    "ax[1].plot(mcmc.ratio_history)\n",
    "ax[1].plot(mcmc.step_history, mcmc.ratio_history[np.array(mcmc.step_history)], \"x\")\n",
    "\n",
    "ax[0].set_title(f\"Argmin error: {np.min(mcmc.error_history)}\")"
   ]
  },
  {
   "cell_type": "code",
   "execution_count": null,
   "metadata": {},
   "outputs": [],
   "source": [
    "min_idx = np.argmin(mcmc.error_history)\n",
    "rot = mcmc.param_history[min_idx].as_matrix()\n",
    "print(f\"Parameter estimate: \\n{rot}\")\n",
    "print(f\"true parameters: \\n{rotation_matrix}\")\n",
    "print(f\"min error: {mcmc.error_history[min_idx]}\")"
   ]
  },
  {
   "cell_type": "markdown",
   "metadata": {},
   "source": [
    "# Compare mcmc and icp on a single example"
   ]
  },
  {
   "cell_type": "code",
   "execution_count": null,
   "metadata": {},
   "outputs": [],
   "source": [
    "fig, ax = plt.subplots(1, 2, figsize=(10, 5))\n",
    "\n",
    "ax[0].plot(mcmc.step_history, mcmc.error_history)\n",
    "ax[0].set_ylabel(\"Error\")\n",
    "ax[0].set_title(f\"Argmin error: {np.min(mcmc.error_history)}\\nTotal time: {mcmc_time}\")\n",
    "\n",
    "ax[1].plot(icp.distances)\n",
    "ax[1].set_ylabel(\"Error\")\n",
    "ax[1].set_title(f\"Argmin error: {icp_min_error}\\nTotal time: {icp_time}\")"
   ]
  },
  {
   "cell_type": "markdown",
   "metadata": {},
   "source": [
    "### Check implementations of scipy cdist, torch cdist, etc."
   ]
  },
  {
   "cell_type": "code",
   "execution_count": null,
   "metadata": {},
   "outputs": [],
   "source": [
    "import numpy as np\n",
    "import scipy.spatial as ss\n",
    "from scipy.spatial.transform import Rotation as R\n"
   ]
  },
  {
   "cell_type": "code",
   "execution_count": null,
   "metadata": {},
   "outputs": [],
   "source": [
    "x1 = np.random.normal(0, 1, (3, 100))\n",
    "x2 = np.random.normal(0, 1, (3, 100))"
   ]
  },
  {
   "cell_type": "code",
   "execution_count": null,
   "metadata": {},
   "outputs": [],
   "source": [
    "o = ss.distance.cdist(x1.T, x2.T)\n",
    "assert o[0,0] == np.linalg.norm(x1[:,0] - x2[:,0])"
   ]
  },
  {
   "cell_type": "code",
   "execution_count": null,
   "metadata": {},
   "outputs": [],
   "source": [
    "x1 = torch.randn(100, 3)\n",
    "x2 = torch.randn(100, 3)\n",
    "o = torch.cdist(x1, x2, p=2)\n",
    "assert o[0,0] == torch.norm(x1[0,:] - x2[0,:])"
   ]
  },
  {
   "cell_type": "code",
   "execution_count": null,
   "metadata": {},
   "outputs": [],
   "source": [
    "rot = R.from_euler(\"x\", 45, degrees=True)\n",
    "o = rot.apply(obj_target.pos)\n",
    "print(o.dtype)\n",
    "print(type(o))\n",
    "print(o.size)"
   ]
  },
  {
   "cell_type": "code",
   "execution_count": null,
   "metadata": {},
   "outputs": [],
   "source": [
    "x = torch.randn(1, 10, 3)\n",
    "xs = x.squeeze(dim=0)\n",
    "xss = xs.unsqueeze(dim=0)"
   ]
  },
  {
   "cell_type": "code",
   "execution_count": null,
   "metadata": {},
   "outputs": [],
   "source": [
    "xs.size()\n",
    "print(xss.size())"
   ]
  },
  {
   "cell_type": "code",
   "execution_count": null,
   "metadata": {},
   "outputs": [],
   "source": [
    "torch.tensor(np.random.normal(0, 1, 10))"
   ]
  },
  {
   "cell_type": "code",
   "execution_count": null,
   "metadata": {},
   "outputs": [],
   "source": [
    "x = torch.randn(10)\n",
    "n1 = torch.norm(x, p=2)\n",
    "n2 = np.linalg.norm(x.numpy())"
   ]
  },
  {
   "cell_type": "code",
   "execution_count": null,
   "metadata": {},
   "outputs": [],
   "source": [
    "n1"
   ]
  },
  {
   "cell_type": "code",
   "execution_count": null,
   "metadata": {},
   "outputs": [],
   "source": [
    "n2"
   ]
  },
  {
   "cell_type": "code",
   "execution_count": null,
   "metadata": {},
   "outputs": [],
   "source": [
    "x = torch.randn(100, 3)\n",
    "n1 = torch.norm(x, p=2, dim=1)\n",
    "n2 = np.linalg.norm(x, axis=1)"
   ]
  },
  {
   "cell_type": "code",
   "execution_count": null,
   "metadata": {},
   "outputs": [],
   "source": [
    "n1 == n2"
   ]
  },
  {
   "cell_type": "code",
   "execution_count": null,
   "metadata": {},
   "outputs": [],
   "source": [
    "n1"
   ]
  },
  {
   "cell_type": "code",
   "execution_count": null,
   "metadata": {},
   "outputs": [],
   "source": [
    "n2"
   ]
  },
  {
   "cell_type": "code",
   "execution_count": null,
   "metadata": {},
   "outputs": [],
   "source": [
    "x = torch.randn(3, 20)\n",
    "new_point = torch.randn(3, 1)"
   ]
  },
  {
   "cell_type": "code",
   "execution_count": null,
   "metadata": {},
   "outputs": [],
   "source": [
    "sub = (x - new_point).numpy()"
   ]
  },
  {
   "cell_type": "code",
   "execution_count": null,
   "metadata": {},
   "outputs": [],
   "source": [
    "np.linalg.norm(sub, axis=0) > "
   ]
  },
  {
   "cell_type": "code",
   "execution_count": null,
   "metadata": {},
   "outputs": [],
   "source": [
    "R"
   ]
  },
  {
   "cell_type": "code",
   "execution_count": null,
   "metadata": {},
   "outputs": [],
   "source": [
    "x = R.from_euler(\"x\", 45, degrees=True)"
   ]
  },
  {
   "cell_type": "code",
   "execution_count": null,
   "metadata": {},
   "outputs": [],
   "source": [
    "isinstance(x, R)"
   ]
  },
  {
   "cell_type": "code",
   "execution_count": null,
   "metadata": {},
   "outputs": [],
   "source": [
    "x = np.random.normal(0, 1, (3, 3))\n",
    "xr = R.from_matrix(x)"
   ]
  },
  {
   "cell_type": "code",
   "execution_count": null,
   "metadata": {},
   "outputs": [],
   "source": [
    "xr.as_euler(\"xyz\")"
   ]
  },
  {
   "cell_type": "code",
   "execution_count": null,
   "metadata": {},
   "outputs": [],
   "source": [
    "355 % 360"
   ]
  },
  {
   "cell_type": "code",
   "execution_count": null,
   "metadata": {},
   "outputs": [],
   "source": [
    "361 % 360"
   ]
  },
  {
   "cell_type": "code",
   "execution_count": null,
   "metadata": {},
   "outputs": [],
   "source": [
    "(360 - 355) % 360"
   ]
  },
  {
   "cell_type": "code",
   "execution_count": null,
   "metadata": {},
   "outputs": [],
   "source": []
  }
 ],
 "metadata": {
  "interpreter": {
   "hash": "c58d2ad1eef270dd28e8febff09dccc29cd6c14ad8ae8485c3c8d4e991b6e982"
  },
  "kernelspec": {
   "display_name": "Python 3.8.13 ('tbp.monty')",
   "language": "python",
   "name": "python3"
  },
  "language_info": {
   "codemirror_mode": {
    "name": "ipython",
    "version": 3
   },
   "file_extension": ".py",
   "mimetype": "text/x-python",
   "name": "python",
   "nbconvert_exporter": "python",
   "pygments_lexer": "ipython3",
   "version": "3.8.13"
  },
  "orig_nbformat": 4
 },
 "nbformat": 4,
 "nbformat_minor": 2
}
