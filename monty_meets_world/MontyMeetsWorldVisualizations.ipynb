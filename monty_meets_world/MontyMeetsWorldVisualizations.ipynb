{
 "cells": [
  {
   "cell_type": "code",
   "execution_count": null,
   "id": "3ec47d5f",
   "metadata": {},
   "outputs": [],
   "source": [
    "import os\n",
    "import numpy as np\n",
    "import matplotlib.pyplot as plt\n",
    "from PIL import Image\n",
    "import PIL\n",
    "import json"
   ]
  },
  {
   "cell_type": "code",
   "execution_count": null,
   "id": "c9c3aa14",
   "metadata": {},
   "outputs": [],
   "source": [
    "%matplotlib notebook"
   ]
  },
  {
   "cell_type": "markdown",
   "id": "0fd1b356",
   "metadata": {},
   "source": [
    "## Visualize Extracted Images"
   ]
  },
  {
   "cell_type": "code",
   "execution_count": null,
   "id": "73d7789e",
   "metadata": {},
   "outputs": [],
   "source": [
    "path = os.path.expanduser(\"~/tbp/results/monty/monty_meets_world/\")\n",
    "num = '1'\n",
    "depth = np.array(Image.open(path + f\"depth{num}.jpg\").transpose(PIL.Image.FLIP_TOP_BOTTOM))[:,:,0]\n",
    "rgb = np.array(Image.open(path + f\"rgb{num}.jpg\").transpose(PIL.Image.FLIP_TOP_BOTTOM))\n",
    "jet = np.array(Image.open(path + f\"jet{num}.jpg\").transpose(PIL.Image.FLIP_TOP_BOTTOM))"
   ]
  },
  {
   "cell_type": "code",
   "execution_count": null,
   "id": "b380708e",
   "metadata": {},
   "outputs": [],
   "source": [
    "depth_clipped = depth/255\n",
    "depth_clipped[depth_clipped>0.6] = 1"
   ]
  },
  {
   "cell_type": "code",
   "execution_count": null,
   "id": "00abb28b",
   "metadata": {},
   "outputs": [],
   "source": [
    "depth_clipped.shape"
   ]
  },
  {
   "cell_type": "code",
   "execution_count": null,
   "id": "318ca928",
   "metadata": {},
   "outputs": [],
   "source": [
    "plt.figure(figsize=(10,7))\n",
    "plt.subplot(2,2,1)\n",
    "plt.imshow(rgb)\n",
    "plt.axis('off')\n",
    "plt.title('RGB')\n",
    "plt.subplot(2,2,2)\n",
    "plt.imshow(jet)\n",
    "plt.axis('off')\n",
    "plt.title('JET from App')\n",
    "\n",
    "plt.subplot(2,2,3)\n",
    "plt.imshow(depth, cmap='jet_r')\n",
    "plt.axis('off')\n",
    "# plt.colorbar()\n",
    "plt.title('Depth')\n",
    "plt.subplot(2,2,4)\n",
    "plt.imshow(depth_clipped, cmap='jet_r')\n",
    "plt.axis('off')\n",
    "# plt.colorbar()\n",
    "plt.title('Depth Clipped')\n",
    "plt.show()"
   ]
  },
  {
   "cell_type": "code",
   "execution_count": null,
   "id": "6526010c",
   "metadata": {},
   "outputs": [],
   "source": [
    "depthpng = np.array(Image.open(path + f\"depthpng{3}.png\").transpose(PIL.Image.FLIP_TOP_BOTTOM))[:,:,0]"
   ]
  },
  {
   "cell_type": "code",
   "execution_count": null,
   "id": "e7f1429f",
   "metadata": {},
   "outputs": [],
   "source": [
    "plt.figure()\n",
    "plt.subplot(1,3,1)\n",
    "plt.imshow(depthpng)\n",
    "plt.axis('off')\n",
    "plt.title('PNG')\n",
    "plt.subplot(1,3,2)\n",
    "plt.imshow(depth)\n",
    "plt.axis('off')\n",
    "plt.title('JPG')\n",
    "plt.subplot(1,3,3)\n",
    "plt.imshow(depth - depthpng)\n",
    "plt.axis('off')\n",
    "plt.title('Difference')\n",
    "plt.tight_layout()\n",
    "plt.show()"
   ]
  },
  {
   "cell_type": "markdown",
   "id": "3704454b",
   "metadata": {},
   "source": [
    "### Test JSON Saved Depth Points"
   ]
  },
  {
   "cell_type": "code",
   "execution_count": null,
   "id": "61bcc415",
   "metadata": {},
   "outputs": [],
   "source": [
    "f = open(os.path.expanduser('~/Desktop/depth.json',))\n",
    "data = json.load(f)"
   ]
  },
  {
   "cell_type": "code",
   "execution_count": null,
   "id": "9a577db5",
   "metadata": {},
   "outputs": [],
   "source": [
    "plt.figure()\n",
    "plt.plot(data)\n",
    "plt.show()"
   ]
  },
  {
   "cell_type": "code",
   "execution_count": null,
   "id": "21eef3f4",
   "metadata": {},
   "outputs": [],
   "source": [
    "dataimg = np.array(data)\n",
    "dataimg = dataimg.reshape((480, 640))"
   ]
  },
  {
   "cell_type": "code",
   "execution_count": null,
   "id": "1ab480b0",
   "metadata": {},
   "outputs": [],
   "source": [
    "plt.figure()\n",
    "plt.imshow(dataimg, vmax=0.1)\n",
    "plt.colorbar()\n",
    "plt.show()"
   ]
  },
  {
   "cell_type": "markdown",
   "id": "5eb42f70",
   "metadata": {},
   "source": [
    "## Load Mug Observations"
   ]
  },
  {
   "cell_type": "code",
   "execution_count": null,
   "id": "63cac62a",
   "metadata": {},
   "outputs": [],
   "source": [
    "obj_name = 'mug'\n",
    "all_depth_imgs = []\n",
    "all_rgb_imgs = []\n",
    "for obs_id in range(4):\n",
    "    depth = np.array(Image.open(path + f\"{obj_name}/depth{obs_id}.png\").transpose(PIL.Image.FLIP_TOP_BOTTOM))[:,:,0]\n",
    "    depth_clipped = depth/255\n",
    "    depth_clipped[depth_clipped>0.6] = 1\n",
    "    all_depth_imgs.append(depth_clipped)\n",
    "    rgb = np.array(Image.open(path + f\"{obj_name}/rgb{obs_id}.jpg\").transpose(PIL.Image.FLIP_TOP_BOTTOM))\n",
    "    all_rgb_imgs.append(rgb)"
   ]
  },
  {
   "cell_type": "code",
   "execution_count": null,
   "id": "f8edab0a",
   "metadata": {},
   "outputs": [],
   "source": [
    "plt.figure(figsize=(7,10))\n",
    "for obs_id in range(4):\n",
    "    plt.subplot(4,2,(obs_id*2+1))\n",
    "    plt.imshow(all_depth_imgs[obs_id])\n",
    "    plt.axis('off')\n",
    "    plt.subplot(4,2,(obs_id+1)*2)\n",
    "    plt.imshow(all_rgb_imgs[obs_id])\n",
    "    plt.axis('off')\n",
    "plt.tight_layout()\n",
    "plt.show()\n"
   ]
  },
  {
   "cell_type": "markdown",
   "id": "d5ceaa13",
   "metadata": {},
   "source": [
    "## Turn Depth Image into Point Cloud"
   ]
  },
  {
   "cell_type": "code",
   "execution_count": null,
   "id": "a23b455e",
   "metadata": {},
   "outputs": [],
   "source": [
    "from tbp.monty.frameworks.environment_utils.transforms import DepthTo3DLocations\n",
    "from tbp.monty.frameworks.environment_utils.graph_utils import get_center_point_normal,get_curvature_at_point\n",
    "import quaternion as qt"
   ]
  },
  {
   "cell_type": "code",
   "execution_count": null,
   "id": "1e0367f6",
   "metadata": {},
   "outputs": [],
   "source": [
    "agent_id = 'agent_01'\n",
    "sensor_id = 'patch_01'\n",
    "# depth = 1.2 - gaussian_filter(np.array(depth,dtype=float), sigma=0.5)\n",
    "obs = {agent_id:{sensor_id:{\"depth\":depth_clipped}}}\n",
    "rotation = qt.from_rotation_vector([np.pi / 2, 0.0, 0.0])\n",
    "loc = np.array([0,0,0])\n",
    "sensor_position = np.array([loc[0],loc[1],0])\n",
    "state = {agent_id:{\"sensors\":{sensor_id + \".depth\":{\"rotation\":rotation, \n",
    "                                                    \"position\":sensor_position}},\n",
    "                  \"rotation\":rotation, \"position\":np.array([0,0,0])}}"
   ]
  },
  {
   "cell_type": "code",
   "execution_count": null,
   "id": "94c7aafa",
   "metadata": {},
   "outputs": [],
   "source": [
    "transform = DepthTo3DLocations(\n",
    "                agent_id=agent_id,\n",
    "                sensor_ids=[sensor_id],\n",
    "                resolutions=[depth.shape],\n",
    "                world_coord=True,\n",
    "                zooms=1,\n",
    "                get_all_points=True,\n",
    "                use_semantic_sensor=False,\n",
    "                depth_clip_sensors=(0,),\n",
    "                clip_value=1.1,\n",
    "            )\n"
   ]
  },
  {
   "cell_type": "code",
   "execution_count": null,
   "id": "c08ae0b4",
   "metadata": {},
   "outputs": [],
   "source": [
    "obs = transform(obs, state=state)"
   ]
  },
  {
   "cell_type": "code",
   "execution_count": null,
   "id": "d0617e36",
   "metadata": {},
   "outputs": [],
   "source": [
    "obs_3d = obs[agent_id][sensor_id]['semantic_3d']\n",
    "locs = obs_3d[obs_3d[:,3] == 1]\n",
    "\n",
    "# obs_dim = int(np.sqrt(obs_3d.shape[0]))\n",
    "# half_obs_dim = obs_dim // 2\n",
    "# center_id = half_obs_dim + obs_dim * half_obs_dim\n",
    "\n",
    "# point_normal, _ = get_center_point_normal(\n",
    "#                 obs_3d, patch_radius_frac=2.5\n",
    "#             )\n",
    "# k1, k2, dir1, dir2, _ = get_curvature_at_point(obs_3d, center_id, point_normal)\n",
    "\n",
    "# center_loc = obs_3d[center_id,:3]\n",
    "\n",
    "plt.figure()\n",
    "ax = plt.subplot(1,1,1,projection='3d')\n",
    "ax.scatter(locs[:,0], locs[:,1], locs[:,2], c=locs[:,2])\n",
    "# ax.scatter(center_loc[0], center_loc[1], center_loc[2],s=50,c='green')\n",
    "# linelen = 0.8\n",
    "# colors = ['green','red','orange']\n",
    "# for i,line in enumerate([point_normal, dir1, dir2]):\n",
    "#     plt.plot([center_loc[0], center_loc[0] + line[0]*linelen], \n",
    "#              [center_loc[1], center_loc[1] + line[1]*linelen], \n",
    "#              [center_loc[2], center_loc[2] + line[2]*linelen],\n",
    "#             color=colors[i])\n",
    "# ax.set_aspect('equal')\n",
    "ax.view_init(-90,-90)\n",
    "plt.show()"
   ]
  },
  {
   "cell_type": "markdown",
   "id": "c13816a9",
   "metadata": {},
   "source": [
    "## New Dataloaders etc."
   ]
  },
  {
   "cell_type": "code",
   "execution_count": null,
   "id": "9157374d",
   "metadata": {},
   "outputs": [],
   "source": [
    "from tbp.monty.frameworks.utils.logging_utils import (load_stats,\n",
    "                                                        print_overall_stats,\n",
    "                                                        print_unsupervised_stats)\n",
    "from tbp.monty.frameworks.utils.plot_utils import (plot_graph,\n",
    "                                                         show_initial_hypotheses, \n",
    "                                                         plot_evidence_at_step,)"
   ]
  },
  {
   "cell_type": "code",
   "execution_count": null,
   "id": "929168fe",
   "metadata": {},
   "outputs": [],
   "source": [
    "log_path = os.path.expanduser(\"~/tbp/results/monty/projects/monty_runs/\")\n",
    "exp_name = \"evidence_on_world_image/\"\n",
    "exp_path = log_path + exp_name\n",
    "save_path = os.path.expanduser(\"~/tbp/results/monty/projects/monty_runs/\") +exp_name+ 'stepwise_examples/'\n",
    "train_stats, eval_stats, detailed_stats, lm_models = load_stats(exp_path,\n",
    "                                                                load_train=True,\n",
    "                                                                load_eval=True,\n",
    "                                                                load_detailed=True,\n",
    "                                                                pretrained_dict=None,\n",
    "                                                               )"
   ]
  },
  {
   "cell_type": "code",
   "execution_count": null,
   "id": "9bd9bc65",
   "metadata": {},
   "outputs": [],
   "source": [
    "train_stats"
   ]
  },
  {
   "cell_type": "code",
   "execution_count": null,
   "id": "1367723b",
   "metadata": {},
   "outputs": [],
   "source": [
    "eval_stats"
   ]
  },
  {
   "cell_type": "markdown",
   "id": "2d163c80",
   "metadata": {},
   "source": [
    "### Plot Graph"
   ]
  },
  {
   "cell_type": "code",
   "execution_count": null,
   "id": "729d5646",
   "metadata": {},
   "outputs": [],
   "source": [
    "plot_graph(lm_models['1']['LM_0']['new_object0'], show_axticks=False)\n",
    "# ax.grid(True)\n",
    "plt.show()"
   ]
  },
  {
   "cell_type": "markdown",
   "id": "dedc5211",
   "metadata": {},
   "source": [
    "### Plot Patch Depth Values"
   ]
  },
  {
   "cell_type": "code",
   "execution_count": null,
   "id": "325a329a",
   "metadata": {},
   "outputs": [],
   "source": [
    "print(lm_models['0']['LM_0']['new_object0'])"
   ]
  },
  {
   "cell_type": "code",
   "execution_count": null,
   "id": "5d7c86d0",
   "metadata": {},
   "outputs": [],
   "source": [
    "step_id = 5\n",
    "locs = np.array(detailed_stats['2']['SM_0']['raw_observations'][step_id]['depth'])\n",
    "N = 64\n",
    "\n",
    "# Plot depth image\n",
    "xx, yy = np.meshgrid(np.arange(N), np.arange(N))\n",
    "\n",
    "plt.figure(1)\n",
    "ax = plt.subplot(1,1,1,projection='3d')\n",
    "ax.scatter(xx, yy, locs)\n",
    "\n",
    "# Plot 3D point cloud\n",
    "locs = np.array(detailed_stats['2']['SM_0']['raw_observations'][step_id]['semantic_3d'])[:, :3]\n",
    "plt.figure(2)\n",
    "ax = plt.subplot(1,1,1,projection='3d')\n",
    "ax.scatter(locs[:, 0], locs[:, 1], locs[:, 2])"
   ]
  },
  {
   "cell_type": "markdown",
   "id": "c8ee6e29",
   "metadata": {},
   "source": [
    "### Plot LFS Observations & Save"
   ]
  },
  {
   "cell_type": "code",
   "execution_count": null,
   "id": "d53819a2",
   "metadata": {
    "scrolled": true
   },
   "outputs": [],
   "source": [
    "# Note that here the center_pixel_id is no more the 2D index of the patch center \n",
    "# relative to the 2D scene image, but rather the 3D loaction of the patch center \n",
    "# in the body-centric coordinate frame !!! Hence why the blue frame doesn't appear on the picture anymore.\n",
    "\n",
    "episode = 1\n",
    "num_steps = 41\n",
    "\n",
    "for step in range(num_steps):\n",
    "    plt.figure()\n",
    "    plt.subplot(1,2,1)\n",
    "    viewfinder_img = detailed_stats[str(episode)]['SM_1']['raw_observations'][step]['rgba']\n",
    "    center_pixel_id = np.array(detailed_stats[str(episode)]['SM_0']['raw_observations'][step]['pixel_loc'])\n",
    "    square_size = 64\n",
    "\n",
    "    # Calculate top-left and bottom-right coordinates of the square\n",
    "    # Careful here: x coordinates and y coordinates in pixel space are inverted\n",
    "    # i.e. x is index 1, y is index 0\n",
    "    x1 = center_pixel_id[0] - square_size // 2\n",
    "    y1 = center_pixel_id[1] - square_size // 2\n",
    "    x2 = center_pixel_id[0] + square_size // 2\n",
    "    y2 = center_pixel_id[1] + square_size // 2\n",
    "    image_plt = np.array(viewfinder_img.copy())\n",
    "\n",
    "    # Set the outline pixels to blue\n",
    "    image_plt[x1, y1:y2] = [0, 0, 255]\n",
    "    image_plt[x2, y1:y2] = [0, 0, 255]\n",
    "    image_plt[x1:x2, y1] = [0, 0, 255]\n",
    "    image_plt[x1:x2, y2] = [0, 0, 255]\n",
    "    plt.imshow(image_plt)\n",
    "    plt.title('View Finder')\n",
    "    plt.axis('off')\n",
    "    plt.subplot(1,2,2)\n",
    "    plt.imshow(detailed_stats[str(episode)]['SM_0']['raw_observations'][step]['rgba'])\n",
    "    plt.title('Patch')\n",
    "    plt.axis('off')\n",
    "    plt.savefig(\n",
    "            save_path + f\"obs_{episode}_{step}.png\",\n",
    "            bbox_inches=\"tight\",\n",
    "        )"
   ]
  },
  {
   "cell_type": "code",
   "execution_count": null,
   "id": "7916cee5",
   "metadata": {
    "scrolled": true
   },
   "outputs": [],
   "source": [
    "episode = 1\n",
    "objects = [\"new_object0\"]\n",
    "for step in range(eval_stats['monty_matching_steps'][episode-1]):\n",
    "    plot_evidence_at_step(detailed_stats,\n",
    "                          lm_models,\n",
    "                              episode, \n",
    "                              step,\n",
    "                              objects,\n",
    "                              is_touch_sensor=False,\n",
    "                              is_2d_image_movement=True,\n",
    "                              save_fig=True, \n",
    "                              save_path=save_path)"
   ]
  },
  {
   "cell_type": "markdown",
   "id": "03b8d2bd",
   "metadata": {},
   "source": [
    "## Analyze Experiment on Pretrained Numenta Lab Models"
   ]
  },
  {
   "cell_type": "code",
   "execution_count": null,
   "id": "3f8b0968",
   "metadata": {},
   "outputs": [],
   "source": [
    "log_path = os.path.expanduser(\"~/tbp/results/monty/projects/monty_runs/\")\n",
    "pretrain_path = os.path.expanduser(\"~/tbp/results/monty/pretrained_models/\")\n",
    "pretrained_dict = pretrain_path + \"pretrained_ycb_v4/touch_1lm_numenta_lab_obj/pretrained/\"\n",
    "exp_name = \"world_image_on_scanned_model/\"\n",
    "# exp_name = \"world_image_from_stream_on_scanned_model/\"\n",
    "exp_path = log_path + exp_name\n",
    "save_path = os.path.expanduser(\"~/tbp/results/monty/projects/monty_runs/\") + exp_name + 'stepwise_examples/'\n",
    "train_stats, eval_stats, detailed_stats, lm_models = load_stats(exp_path,\n",
    "                                                                load_train=False,\n",
    "                                                                load_eval=True,\n",
    "                                                                load_detailed=True,\n",
    "                                                                pretrained_dict=pretrained_dict,\n",
    "                                                               )"
   ]
  },
  {
   "cell_type": "code",
   "execution_count": null,
   "id": "300bd2bc",
   "metadata": {},
   "outputs": [],
   "source": [
    "print_overall_stats(eval_stats)"
   ]
  },
  {
   "cell_type": "code",
   "execution_count": null,
   "id": "d38c8a89",
   "metadata": {},
   "outputs": [],
   "source": [
    "eval_stats"
   ]
  },
  {
   "cell_type": "code",
   "execution_count": null,
   "id": "b394f875",
   "metadata": {},
   "outputs": [],
   "source": [
    "lm_models['pretrained'][0].keys()"
   ]
  },
  {
   "cell_type": "code",
   "execution_count": null,
   "id": "ae8b7a10",
   "metadata": {},
   "outputs": [],
   "source": [
    "lm_models['pretrained'][0]['numenta_mug'].pos.shape"
   ]
  },
  {
   "cell_type": "code",
   "execution_count": null,
   "id": "58e83ba3",
   "metadata": {},
   "outputs": [],
   "source": [
    "lm_models['pretrained'][0]['ramen_pack'].pos.shape"
   ]
  },
  {
   "cell_type": "code",
   "execution_count": null,
   "id": "b8d5b882",
   "metadata": {},
   "outputs": [],
   "source": [
    "plot_graph(lm_models['pretrained'][0]['cocktail_bitters'], show_axticks=True)\n",
    "plt.show()"
   ]
  },
  {
   "cell_type": "code",
   "execution_count": null,
   "id": "d4bd82c4",
   "metadata": {},
   "outputs": [],
   "source": [
    "offset = 0.1\n",
    "plt.figure()\n",
    "ax = plt.subplot(1,1,1,projection='3d')\n",
    "for i, object_id in enumerate(lm_models['pretrained'][0].keys()):\n",
    "    pos = np.array(lm_models['pretrained'][0][object_id].pos)\n",
    "    if i < 4:\n",
    "        ax.scatter(pos[:,0] + offset * i, pos[:,1], pos[:,2], s=1)\n",
    "    else:\n",
    "        ax.scatter(pos[:,0] + offset * i/2, pos[:,1] + offset, pos[:,2], s=1)\n",
    "ax.set_aspect(\"equal\")\n",
    "plt.show()"
   ]
  },
  {
   "cell_type": "code",
   "execution_count": null,
   "id": "cf588429",
   "metadata": {},
   "outputs": [],
   "source": [
    "object_name = 'numenta_mug'\n",
    "lm_models = lm_models\n",
    "\n",
    "fig = plt.figure()\n",
    "ax = plt.subplot(1,1,1,projection='3d')\n",
    "graph = lm_models['pretrained'][0][object_name]\n",
    "model_pos = graph.pos\n",
    "hsv_ids = lm_models['pretrained'][0][object_name].feature_mapping['patch']['hsv']\n",
    "hue = graph.x[:,hsv_ids[0]:hsv_ids[0]+1]\n",
    "colors = hue[:,0]\n",
    "s = ax.scatter(\n",
    "    model_pos[:, 0],\n",
    "    model_pos[:, 1],\n",
    "    model_pos[:, 2],\n",
    "    s=5,\n",
    "    vmin=0,\n",
    "    vmax=1,\n",
    "    cmap='hsv',\n",
    "    c=colors\n",
    ")\n",
    "norm_len = 0.01\n",
    "ax.set_box_aspect([1,1,1])\n",
    "ax.set_xticks([]), ax.set_yticks([]), ax.set_zticks([])\n",
    "fig.colorbar(s)\n",
    "plt.title('HSV')\n",
    "plt.show()"
   ]
  },
  {
   "cell_type": "code",
   "execution_count": null,
   "id": "78838751",
   "metadata": {},
   "outputs": [],
   "source": [
    "object_name = 'numenta_mug'\n",
    "lm_models = lm_models\n",
    "\n",
    "fig = plt.figure()\n",
    "ax = plt.subplot(1,1,1,projection='3d')\n",
    "graph = lm_models['pretrained'][0][object_name]\n",
    "model_pos = graph.pos\n",
    "# hsv_ids = lm_models['pretrained'][0][object_name].feature_mapping['hsv']\n",
    "curv_ids = lm_models['pretrained'][0][object_name].feature_mapping['patch']['principal_curvatures_log']\n",
    "curv = graph.x[:,curv_ids[0]:curv_ids[1]]\n",
    "colors = curv[:,0]\n",
    "s = ax.scatter(\n",
    "    model_pos[:, 0],\n",
    "    model_pos[:, 1],\n",
    "    model_pos[:, 2],\n",
    "    s=5,\n",
    "    vmin=-10,\n",
    "    vmax=10,\n",
    "    cmap='seismic',\n",
    "    c=colors\n",
    ")\n",
    "norm_len = 0.01\n",
    "ax.set_box_aspect([1,1,0.7])\n",
    "ax.set_xticks([]), ax.set_yticks([]), ax.set_zticks([])\n",
    "fig.colorbar(s)\n",
    "plt.title(\"Principal Curvature Log\")\n",
    "plt.show()"
   ]
  },
  {
   "cell_type": "code",
   "execution_count": null,
   "id": "093a6cde",
   "metadata": {},
   "outputs": [],
   "source": [
    "color_id = graph.feature_mapping['patch']['principal_curvatures_log'][0]\n",
    "norm_len = 0.02\n",
    "\n",
    "fig = plt.figure()\n",
    "ax = plt.subplot(1,1,1,projection='3d')\n",
    "s2 = ax.scatter(\n",
    "    graph.pos[:, 0],\n",
    "    graph.pos[:, 1],\n",
    "    graph.pos[:, 2],\n",
    "    s=5,\n",
    "    alpha=0.5,\n",
    "    c='blue'#np.arctan(np.array(sensor_graph.x[:,color_id])/100)\n",
    ")\n",
    "    \n",
    "for p_id, p in enumerate(np.array(graph.pos)):\n",
    "    norm = graph.norm[p_id]\n",
    "    ax.plot([p[0], p[0] + norm[0] * norm_len],\n",
    "            [p[1], p[1] + norm[1] * norm_len],\n",
    "            [p[2], p[2] + norm[2] * norm_len],\n",
    "            c='lightblue',\n",
    "           )\n",
    "    \n",
    "# plt.legend(['From Mesh','From Sensor'])\n",
    "plt.show()"
   ]
  },
  {
   "cell_type": "code",
   "execution_count": null,
   "id": "692f4fb4",
   "metadata": {},
   "outputs": [],
   "source": [
    "depth = np.array(detailed_stats[str(0)][\"SM_0\"]['raw_observations'][3]['semantic_3d'])"
   ]
  },
  {
   "cell_type": "code",
   "execution_count": null,
   "id": "4a89a4ac",
   "metadata": {},
   "outputs": [],
   "source": [
    "detailed_stats[str(0)][\"SM_0\"]['processed_observations'][0]['features'].keys()"
   ]
  },
  {
   "cell_type": "code",
   "execution_count": null,
   "id": "a440b19e",
   "metadata": {},
   "outputs": [],
   "source": [
    "np.array(pn) * 0.1"
   ]
  },
  {
   "cell_type": "code",
   "execution_count": null,
   "id": "38d9c28f",
   "metadata": {
    "scrolled": false
   },
   "outputs": [],
   "source": [
    "episode = 0\n",
    "step = 63\n",
    "pn_len = 0.02\n",
    "\n",
    "depth = np.array(detailed_stats[str(episode)][\"SM_0\"]['raw_observations'][step]['semantic_3d'])\n",
    "pn = np.array(detailed_stats[str(episode)][\"SM_0\"]['processed_observations'][step]['features']['point_normal'])\n",
    "pc1 = np.array(detailed_stats[str(episode)][\"SM_0\"]\n",
    "               ['processed_observations'][step]['features']['curvature_directions'][:3])\n",
    "\n",
    "plt.figure()\n",
    "ax = plt.subplot(1,1,1,projection='3d')\n",
    "on_obj = np.where(depth[:, 3])[0]\n",
    "s = ax.scatter(\n",
    "    depth[on_obj, 0],\n",
    "    depth[on_obj, 1],\n",
    "    depth[on_obj, 2],\n",
    "    s=5,\n",
    "    alpha=0.5,\n",
    "    c=depth[on_obj, 3]\n",
    ")\n",
    "\n",
    "obs_dim = int(np.sqrt(depth.shape[0]))\n",
    "half_obs_dim = obs_dim // 2\n",
    "center_id = half_obs_dim + obs_dim * half_obs_dim\n",
    "end_point = depth[center_id,:3] + pn * pn_len\n",
    "\n",
    "ax.plot([depth[center_id, 0], end_point[0]],\n",
    "       [depth[center_id, 1], end_point[1]],\n",
    "       [depth[center_id, 2], end_point[2]],\n",
    "       c='blue')\n",
    "end_point = depth[center_id, :3] + pc1 * pn_len\n",
    "ax.plot([depth[center_id, 0], end_point[0]],\n",
    "       [depth[center_id, 1], end_point[1]],\n",
    "       [depth[center_id, 2], end_point[2]],\n",
    "       c='red')\n",
    "plt.show()"
   ]
  },
  {
   "cell_type": "code",
   "execution_count": null,
   "id": "45feaf63",
   "metadata": {},
   "outputs": [],
   "source": [
    "on_obj"
   ]
  },
  {
   "cell_type": "code",
   "execution_count": null,
   "id": "59ac54de",
   "metadata": {
    "scrolled": true
   },
   "outputs": [],
   "source": [
    "episode = 0\n",
    "objects = ['numenta_mug', 'ramen_pack', 'chip_pack', 'cocktail_bitters']\n",
    "for step in range(eval_stats['monty_matching_steps'][episode]):\n",
    "    plot_evidence_at_step(detailed_stats,\n",
    "                          lm_models,\n",
    "                              episode, \n",
    "                              step,\n",
    "                              objects,\n",
    "                              is_touch_sensor=False,\n",
    "                              is_2d_image_movement=True,\n",
    "                              save_fig=True, \n",
    "                              save_path=save_path)"
   ]
  },
  {
   "cell_type": "code",
   "execution_count": null,
   "id": "aec2bed5",
   "metadata": {},
   "outputs": [],
   "source": [
    "depth = np.array(detailed_stats[str(episode)][\"SM_1\"]['raw_observations'][3]['depth'])"
   ]
  },
  {
   "cell_type": "code",
   "execution_count": null,
   "id": "f2aba252",
   "metadata": {},
   "outputs": [],
   "source": [
    "plt.figure()\n",
    "plt.imshow(depth)\n",
    "plt.show()"
   ]
  },
  {
   "cell_type": "code",
   "execution_count": null,
   "id": "b502aacc",
   "metadata": {},
   "outputs": [],
   "source": [
    "disps = np.array(detailed_stats[str(episode)][\"LM_0\"]['displacement'])\n",
    "numg = np.array(lm_models['pretrained'][0]['numenta_mug'].pos)"
   ]
  },
  {
   "cell_type": "code",
   "execution_count": null,
   "id": "34550a2c",
   "metadata": {},
   "outputs": [],
   "source": [
    "plt.figure()\n",
    "ax = plt.subplot(1,1,1,projection='3d')\n",
    "ax.scatter(numg[:,0], numg[:,1],numg[:,2], alpha=0.5)\n",
    "loc = np.zeros(3)\n",
    "for disp in disps:\n",
    "    disp = disp\n",
    "    next_loc = loc + disp\n",
    "    ax.plot(\n",
    "        [loc[0], next_loc[0]],\n",
    "        [loc[1], next_loc[1]],\n",
    "        [loc[2], next_loc[2]],\n",
    "        c=\"black\",\n",
    "    )\n",
    "    loc = next_loc\n",
    "plt.show()"
   ]
  },
  {
   "cell_type": "code",
   "execution_count": null,
   "id": "ec7993bf",
   "metadata": {},
   "outputs": [],
   "source": [
    "a = np.array([0.0162, -0.0218])\n",
    "b = np.array([-0.0327, -0.0601])\n"
   ]
  },
  {
   "cell_type": "code",
   "execution_count": null,
   "id": "7a0f72fd",
   "metadata": {},
   "outputs": [],
   "source": [
    "np.linalg.norm(a-b)"
   ]
  },
  {
   "cell_type": "code",
   "execution_count": null,
   "id": "b543d726",
   "metadata": {},
   "outputs": [],
   "source": [
    "np.sum(np.linalg.norm(disps[:7], axis=1))"
   ]
  },
  {
   "cell_type": "code",
   "execution_count": null,
   "id": "91f8895e",
   "metadata": {},
   "outputs": [],
   "source": [
    "disps"
   ]
  },
  {
   "cell_type": "markdown",
   "id": "145dc219",
   "metadata": {},
   "source": [
    "## Add Numenta Models to YCB Models"
   ]
  },
  {
   "cell_type": "code",
   "execution_count": null,
   "id": "7edfed05",
   "metadata": {},
   "outputs": [],
   "source": [
    "import torch\n",
    "import copy"
   ]
  },
  {
   "cell_type": "code",
   "execution_count": null,
   "id": "2939b344",
   "metadata": {},
   "outputs": [],
   "source": [
    "pretrain_path = os.path.expanduser(\"~/tbp/results/monty/pretrained_models/\")\n",
    "pretrained_dict_n = pretrain_path + \"pretrained_ycb_v4/touch_1lm_numenta_lab_obj/pretrained/\"\n",
    "pretrained_dict_ycb = pretrain_path + \"pretrained_ycb_v4/touch_1lm_10distinctobj/pretrained/\""
   ]
  },
  {
   "cell_type": "code",
   "execution_count": null,
   "id": "4c34e04e",
   "metadata": {},
   "outputs": [],
   "source": [
    "state_dict_n = torch.load(os.path.join(pretrained_dict_n, \"model.pt\"))\n",
    "state_dict_ycb = torch.load(os.path.join(pretrained_dict_ycb, \"model.pt\"))"
   ]
  },
  {
   "cell_type": "code",
   "execution_count": null,
   "id": "1872bb8d",
   "metadata": {},
   "outputs": [],
   "source": [
    "def combine_models(sd1, sd2):\n",
    "    combined_sd = copy.deepcopy(sd1)\n",
    "    for model_id in sd2['lm_dict'][0]['graph_memory'].keys():\n",
    "        combined_sd['lm_dict'][0]['target_to_graph_id'][model_id] = {model_id}\n",
    "        combined_sd['lm_dict'][0]['graph_id_to_target'][model_id] = {model_id}\n",
    "        combined_sd['lm_dict'][0]['graph_memory'][model_id] = sd2['lm_dict'][0]['graph_memory'][model_id]\n",
    "    return combined_sd"
   ]
  },
  {
   "cell_type": "code",
   "execution_count": null,
   "id": "e724fa91",
   "metadata": {},
   "outputs": [],
   "source": [
    "combined_models = combine_models(state_dict_ycb, state_dict_n)"
   ]
  },
  {
   "cell_type": "code",
   "execution_count": null,
   "id": "34757f17",
   "metadata": {},
   "outputs": [],
   "source": [
    "combined_models['lm_dict'][0]['graph_memory'].keys()"
   ]
  },
  {
   "cell_type": "code",
   "execution_count": null,
   "id": "c53da9bc",
   "metadata": {},
   "outputs": [],
   "source": [
    "save_path = pretrain_path + \"pretrained_ycb_v4/touch_1lm_10ycb_3numetbp/pretrained/\"\n",
    "os.makedirs(save_path, exist_ok=True)\n",
    "torch.save(combined_models, save_path + \"model.pt\")"
   ]
  },
  {
   "cell_type": "code",
   "execution_count": null,
   "id": "2b73e398",
   "metadata": {},
   "outputs": [],
   "source": [
    "mug = np.array(combined_models['lm_dict'][0]['graph_memory']['mug'].pos)\n",
    "nmug = np.array(combined_models['lm_dict'][0]['graph_memory']['numenta_mug'].pos)"
   ]
  },
  {
   "cell_type": "code",
   "execution_count": null,
   "id": "33b216c9",
   "metadata": {},
   "outputs": [],
   "source": [
    "offset=0.1\n",
    "plt.figure()\n",
    "ax = plt.subplot(1,1,1,projection='3d')\n",
    "ax.scatter(mug[:,0],mug[:,1],mug[:,2])\n",
    "ax.scatter(nmug[:,0] + offset,nmug[:,1],nmug[:,2])\n",
    "ax.set_aspect(\"equal\")\n",
    "plt.show()"
   ]
  },
  {
   "cell_type": "code",
   "execution_count": null,
   "id": "e9a68109",
   "metadata": {},
   "outputs": [],
   "source": [
    "mustard = np.array(combined_models['lm_dict'][0]['graph_memory']['potted_meat_can'].pos)"
   ]
  },
  {
   "cell_type": "code",
   "execution_count": null,
   "id": "1e6d0289",
   "metadata": {},
   "outputs": [],
   "source": [
    "plt.figure()\n",
    "offset=0.1\n",
    "ax = plt.subplot(1,1,1,projection='3d')\n",
    "ax.scatter(mustard[:,0],mustard[:,1],mustard[:,2])\n",
    "ax.scatter(nmug[:,0] + offset,nmug[:,1],nmug[:,2])\n",
    "ax.set_aspect(\"equal\")\n",
    "plt.show()"
   ]
  },
  {
   "cell_type": "code",
   "execution_count": null,
   "id": "f804e5ac",
   "metadata": {},
   "outputs": [],
   "source": [
    "log_path = os.path.expanduser(\"~/tbp/results/monty/projects/monty_runs/\")\n",
    "pretrain_path = os.path.expanduser(\"~/tbp/results/monty/pretrained_models/\")\n",
    "pretrained_dict = pretrain_path + \"pretrained_ycb_v4/touch_1lm_10ycb_3numetbp/pretrained/\"\n",
    "exp_name = \"world_image_on_10ycb_model/\"\n",
    "exp_path = log_path + exp_name\n",
    "save_path = os.path.expanduser(\"~/tbp/results/monty/projects/monty_runs/\") + exp_name + 'stepwise_examples/'\n",
    "train_stats, eval_stats, detailed_stats, lm_models = load_stats(exp_path,\n",
    "                                                                load_train=False,\n",
    "                                                                load_eval=True,\n",
    "                                                                load_detailed=True,\n",
    "                                                                pretrained_dict=pretrained_dict,\n",
    "                                                               )"
   ]
  },
  {
   "cell_type": "code",
   "execution_count": null,
   "id": "765673d5",
   "metadata": {
    "scrolled": true
   },
   "outputs": [],
   "source": [
    "episode = 0\n",
    "objects = ['numenta_mug', 'red_mug', 'potted_meat_can', 'mustard_bottle']\n",
    "for step in range(eval_stats['monty_matching_steps'][episode]):\n",
    "    plot_evidence_at_step(detailed_stats,\n",
    "                          lm_models,\n",
    "                              episode, \n",
    "                              step,\n",
    "                              objects,\n",
    "                              is_touch_sensor=False,\n",
    "                              is_2d_image_movement=True,\n",
    "                              save_fig=True, \n",
    "                              save_path=save_path)"
   ]
  },
  {
   "cell_type": "code",
   "execution_count": null,
   "id": "04571d25",
   "metadata": {},
   "outputs": [],
   "source": []
  }
 ],
 "metadata": {
  "kernelspec": {
   "display_name": "Python 3 (ipykernel)",
   "language": "python",
   "name": "python3"
  },
  "language_info": {
   "codemirror_mode": {
    "name": "ipython",
    "version": 3
   },
   "file_extension": ".py",
   "mimetype": "text/x-python",
   "name": "python",
   "nbconvert_exporter": "python",
   "pygments_lexer": "ipython3",
   "version": "3.8.13"
  }
 },
 "nbformat": 4,
 "nbformat_minor": 5
}
