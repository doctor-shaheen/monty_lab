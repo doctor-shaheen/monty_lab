{
 "cells": [
  {
   "cell_type": "code",
   "execution_count": 1,
   "metadata": {},
   "outputs": [],
   "source": [
    "%load_ext autoreload\n",
    "%autoreload 2\n",
    "%matplotlib qt\n",
    "\n",
    "from nupic.bindings.math import SparseMatrixConnections\n",
    "from nupic.bindings.math import Random\n",
    "import numpy as np\n",
    "import pickle\n",
    "import matplotlib.pyplot as plt\n",
    "\n",
    "from tbp.monty.frameworks.environments.ycb import *"
   ]
  },
  {
   "cell_type": "code",
   "execution_count": 41,
   "metadata": {},
   "outputs": [],
   "source": [
    "dataset_class = YCBMeshGridCellDataset\n",
    "dataset_args = dict(\n",
    "    root=\"~/tbp/tbp.monty/projects/grid_cells/grid_dataset\",\n",
    "    train=True,\n",
    "    objects=[45, 55],\n",
    "    curve_hash_radius=5,\n",
    "    num_points=500\n",
    ")\n",
    "train_dataset = dataset_class(**dataset_args)"
   ]
  },
  {
   "cell_type": "code",
   "execution_count": 45,
   "metadata": {},
   "outputs": [],
   "source": [
    "train_dataset.show_object(45)"
   ]
  },
  {
   "cell_type": "code",
   "execution_count": null,
   "metadata": {},
   "outputs": [],
   "source": []
  }
 ],
 "metadata": {
  "kernelspec": {
   "display_name": "Python 3.8.13 ('tbp.monty')",
   "language": "python",
   "name": "python3"
  },
  "language_info": {
   "codemirror_mode": {
    "name": "ipython",
    "version": 3
   },
   "file_extension": ".py",
   "mimetype": "text/x-python",
   "name": "python",
   "nbconvert_exporter": "python",
   "pygments_lexer": "ipython3",
   "version": "3.8.13"
  },
  "orig_nbformat": 4,
  "vscode": {
   "interpreter": {
    "hash": "a65c7def2fc82c630ec607efa90c20d772b9431074a1fce9bd8bb07bc24fb060"
   }
  }
 },
 "nbformat": 4,
 "nbformat_minor": 2
}
