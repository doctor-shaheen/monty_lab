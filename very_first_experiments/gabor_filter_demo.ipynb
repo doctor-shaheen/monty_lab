{
 "cells": [
  {
   "cell_type": "markdown",
   "metadata": {},
   "source": [
    "## Gabor filter feature extractor simulations.\n",
    "\n",
    " - The configs for these simulations are available under projects/initial_demo/experiments/base.py.\n",
    "\n",
    " - Note that in these configs, the sensor module receives a whole RGBD image as input and segments it down to a patch which is sent to the learning module (and thereby feature extractor). This is a hack for now while the BugEye sensor is being implemented.\n",
    "\n",
    " - Each action has an amount associated with it (e.g. turn left 30 degrees, move forward .5 meters, etc). This experiment is assuming random sticky actions with the actuation amount changing each step. The actuation amount sampler can be changed in base.py."
   ]
  },
  {
   "cell_type": "code",
   "execution_count": null,
   "metadata": {},
   "outputs": [],
   "source": [
    "%load_ext autoreload\n",
    "\n",
    "%autoreload 2\n",
    "\n",
    "import copy\n",
    "import numpy as np\n",
    "import matplotlib.pyplot as plt\n",
    "import matplotlib.patches as patches\n",
    "import random\n",
    "import torch\n",
    "# from torch_geometric.data import Data\n",
    "\n",
    "import habitat_sim\n",
    "from habitat_sim import AgentConfiguration, CameraSensorSpec\n",
    "\n",
    "from tbp.monty.simulators.habitat import HabitatSim\n",
    "from tbp.monty.frameworks.environments.habitat import SingleSensorAgent\n",
    "\n",
    "from tbp.monty.frameworks.experiments.monty_experiment import MontyExperiment\n",
    "\n",
    "from experiments import CONFIGS\n",
    "\n",
    "from dev_utils import (\n",
    "    habitat_utils as hu,\n",
    "    model_utils as mu,\n",
    "    plot_utils as pu\n",
    ")"
   ]
  },
  {
   "cell_type": "markdown",
   "metadata": {},
   "source": [
    "### Set up an experiment with gabor filter feature extractor"
   ]
  },
  {
   "cell_type": "code",
   "execution_count": null,
   "metadata": {},
   "outputs": [],
   "source": [
    "# setup_experiment removes keys from the config as it processes some of them, so use a copy\n",
    "gabor_config = copy.deepcopy(CONFIGS[\"base_gf\"])"
   ]
  },
  {
   "cell_type": "code",
   "execution_count": null,
   "metadata": {},
   "outputs": [],
   "source": [
    "# setup_experiment removes keys from the config as it processes some of them, so use a copy\n",
    "gabor_config = copy.deepcopy(CONFIGS[\"base_gf\"])\n",
    "my_exp = MontyExperiment()\n",
    "my_exp.setup_experiment(gabor_config)"
   ]
  },
  {
   "cell_type": "markdown",
   "metadata": {},
   "source": [
    "### Verify the train_epoch method works\n",
    "\n",
    "Note that for these simply early sims, I am printing out each action. You can turn this off by setting verbose=False in models/motor_policies/PredefinedPolicy."
   ]
  },
  {
   "cell_type": "code",
   "execution_count": null,
   "metadata": {},
   "outputs": [],
   "source": [
    "my_exp.train_epoch()"
   ]
  },
  {
   "cell_type": "markdown",
   "metadata": {},
   "source": [
    "### Now create a new experiment, and instead of doing train_epoch, use the developer util get_n_model_outputs. This allows you to save the observations returned by the loader, and the feature extractor results easily.\n",
    "\n",
    "Note, you do need to create a new experiment, otherwise you will hit an error where the dataloader says you passed max_steps, or PredefinedPolicy index out of range, since you did in fact just iterate over the whole list of actions."
   ]
  },
  {
   "cell_type": "code",
   "execution_count": null,
   "metadata": {},
   "outputs": [],
   "source": [
    "# setup_experiment removes keys from the config as it processes some of them, so use a copy\n",
    "gabor_config = copy.deepcopy(CONFIGS[\"base_gf\"])\n",
    "my_exp = MontyExperiment()\n",
    "my_exp.setup_experiment(gabor_config)"
   ]
  },
  {
   "cell_type": "code",
   "execution_count": null,
   "metadata": {},
   "outputs": [],
   "source": [
    "obs, outs = mu.get_n_model_outputs(my_exp.dataloader, my_exp.model, 15)"
   ]
  },
  {
   "cell_type": "markdown",
   "metadata": {},
   "source": [
    "### Visualize results. Plot all 15 observations (rgba channels) and denote the patch of input the feature extractor receives with a blue square. "
   ]
  },
  {
   "cell_type": "code",
   "execution_count": null,
   "metadata": {},
   "outputs": [],
   "source": [
    "box_params = CONFIGS[\"base_gf\"][\"sensor_module_configs\"][\"sensor_module_1\"][\"preprocessor_args\"]\n",
    "\n",
    "xy = (box_params[\"col_start\"], box_params[\"row_start\"])\n",
    "width = box_params[\"col_end\"] - box_params[\"col_start\"]\n",
    "height = box_params[\"row_end\"] - box_params[\"row_start\"]"
   ]
  },
  {
   "cell_type": "code",
   "execution_count": null,
   "metadata": {},
   "outputs": [],
   "source": [
    "fig, ax = plt.subplots(3, 5, figsize=(16,8))\n",
    "\n",
    "c = 0\n",
    "for i in range(3):\n",
    "    for j in range(5):\n",
    "        ax[i, j].imshow(obs[c][\"agent_id_0\"][\"sensor_id_0\"][\"rgba\"])\n",
    "        rect = patches.Rectangle(xy, width, height, linewidth=1, edgecolor=\"w\")\n",
    "        ax[i, j].add_patch(rect)\n",
    "        c += 1"
   ]
  },
  {
   "cell_type": "markdown",
   "metadata": {},
   "source": [
    "## Now look at the feature maps returned by gabor filters.\n",
    "\n",
    "You can choose to store feature maps of observations by setting store_convs to True in GaborFilterFeatureExtractor. You would do this by setting it as an argument in FeatureExtractorArgs in the config.\n",
    "\n",
    "First, look at the feature map on the first (0th) observation, just one channel, all filter orientations."
   ]
  },
  {
   "cell_type": "code",
   "execution_count": null,
   "metadata": {},
   "outputs": [],
   "source": [
    "# 0th time step, 0th sensor module output, 0th (r) channel, all filters\n",
    "pu.visualize_filters(my_exp.model.learning_modules[0].feature_extractor.convs[0][0][0])"
   ]
  },
  {
   "cell_type": "markdown",
   "metadata": {},
   "source": [
    "Now look at ALL observations, but only a single filter. Also, check out the depth channel instead of RGBA."
   ]
  },
  {
   "cell_type": "code",
   "execution_count": null,
   "metadata": {},
   "outputs": [],
   "source": [
    "# every time step, 0th sensor module output, -1=depth channel, 8th filter\n",
    "fms = [my_exp.model.learning_modules[0].feature_extractor.convs[i][0][-1][8] for i in range(16)]\n",
    "pu.visualize_filters(fms)"
   ]
  },
  {
   "cell_type": "code",
   "execution_count": null,
   "metadata": {},
   "outputs": [],
   "source": []
  },
  {
   "cell_type": "code",
   "execution_count": null,
   "metadata": {},
   "outputs": [],
   "source": []
  }
 ],
 "metadata": {
  "interpreter": {
   "hash": "a01908c864d365e6f814c7bd0438386df7799587dc22f01c2d7b4cdcd6b0dd3f"
  },
  "kernelspec": {
   "display_name": "Python 3.8.12 64-bit ('monty_01': conda)",
   "language": "python",
   "name": "python3"
  },
  "language_info": {
   "codemirror_mode": {
    "name": "ipython",
    "version": 3
   },
   "file_extension": ".py",
   "mimetype": "text/x-python",
   "name": "python",
   "nbconvert_exporter": "python",
   "pygments_lexer": "ipython3",
   "version": "3.8.12"
  },
  "orig_nbformat": 4
 },
 "nbformat": 4,
 "nbformat_minor": 2
}
