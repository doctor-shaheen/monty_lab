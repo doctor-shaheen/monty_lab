{
 "cells": [
  {
   "cell_type": "code",
   "execution_count": null,
   "id": "70c13b74",
   "metadata": {},
   "outputs": [],
   "source": [
    "%matplotlib inline\n",
    "import numpy as np\n",
    "import quaternion as qt\n",
    "\n",
    "from matplotlib import pyplot as plt\n",
    "\n",
    "from tbp.monty.frameworks.environments.habitat import PanTiltZoomCamera\n",
    "from tbp.monty.frameworks.environment_utils.transforms import DepthTo3DLocations\n",
    "from tbp.monty.simulators.habitat import HabitatSim"
   ]
  },
  {
   "cell_type": "code",
   "execution_count": null,
   "id": "fe2c1218",
   "metadata": {},
   "outputs": [],
   "source": [
    "def show_obs(title, obs):\n",
    "    \"\"\"\n",
    "    Helper function to plot observations\n",
    "    \"\"\"\n",
    "    plt.imshow(obs)\n",
    "    plt.title(title)\n",
    "    plt.show()"
   ]
  },
  {
   "cell_type": "code",
   "execution_count": null,
   "id": "f57cbf28",
   "metadata": {},
   "outputs": [],
   "source": [
    "# Test parameters\n",
    "POSITION = np.zeros(3)\n",
    "ROTATION = qt.one\n",
    "RESOLUTION = (16, 16)\n",
    "MODULE_ID = \"camera\"\n",
    "HEIGHT = 1.5\n",
    "DISTANCE = 0.4"
   ]
  },
  {
   "cell_type": "code",
   "execution_count": null,
   "id": "a0ca95a7",
   "metadata": {},
   "outputs": [],
   "source": [
    "# RGBD camera with semantic information enabled\n",
    "camera = PanTiltZoomCamera(module_id=MODULE_ID,\n",
    "                           semantic=True,\n",
    "                           height=HEIGHT,\n",
    "                           position=POSITION,\n",
    "                           rotation=ROTATION,\n",
    "                           resolution=RESOLUTION)"
   ]
  },
  {
   "cell_type": "code",
   "execution_count": null,
   "id": "2235aacd",
   "metadata": {},
   "outputs": [],
   "source": [
    "# Initialize simulator\n",
    "try:\n",
    "    # Just in case we are running this cell before closing the simulator\n",
    "    sim.close()\n",
    "except NameError:\n",
    "    pass\n",
    "sim = HabitatSim(agents={camera.module_id:camera.get_spec()})\n",
    "camera.initialize(sim)\n",
    "cube = sim.add_object(name=\"cubeSolid\", position=(0.0, HEIGHT, -DISTANCE))"
   ]
  },
  {
   "cell_type": "code",
   "execution_count": null,
   "id": "c631bbe0",
   "metadata": {},
   "outputs": [],
   "source": [
    "obs = sim.get_observations()\n",
    "state = sim.get_states()\n",
    "agent_obs = obs[MODULE_ID]\n",
    "depth_obs = agent_obs[\"depth\"]\n",
    "semantic_obs = agent_obs[\"semantic\"]\n",
    "show_obs(\"obs\", semantic_obs)"
   ]
  },
  {
   "cell_type": "code",
   "execution_count": null,
   "id": "16b150a5",
   "metadata": {},
   "outputs": [],
   "source": [
    "transform = DepthTo3DLocations(module_id=MODULE_ID, resolution=RESOLUTION)\n",
    "obs = transform(obs)"
   ]
  },
  {
   "cell_type": "code",
   "execution_count": null,
   "id": "72619c22",
   "metadata": {},
   "outputs": [],
   "source": [
    "obs[MODULE_ID][\"semantic_3d\"]"
   ]
  },
  {
   "cell_type": "code",
   "execution_count": null,
   "id": "6852e91c",
   "metadata": {},
   "outputs": [],
   "source": [
    "obs[MODULE_ID][\"semantic\"]"
   ]
  },
  {
   "cell_type": "code",
   "execution_count": null,
   "id": "6aebd85b",
   "metadata": {},
   "outputs": [],
   "source": [
    "obs[MODULE_ID][\"depth\"]"
   ]
  }
 ],
 "metadata": {
  "kernelspec": {
   "display_name": "Python 3 (ipykernel)",
   "language": "python",
   "name": "python3"
  },
  "language_info": {
   "codemirror_mode": {
    "name": "ipython",
    "version": 3
   },
   "file_extension": ".py",
   "mimetype": "text/x-python",
   "name": "python",
   "nbconvert_exporter": "python",
   "pygments_lexer": "ipython3",
   "version": "3.8.12"
  }
 },
 "nbformat": 4,
 "nbformat_minor": 5
}
