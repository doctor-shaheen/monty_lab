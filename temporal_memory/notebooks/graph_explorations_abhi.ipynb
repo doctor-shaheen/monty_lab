{
 "cells": [
  {
   "cell_type": "markdown",
   "metadata": {},
   "source": [
    "# Graph Building & Matching"
   ]
  },
  {
   "cell_type": "code",
   "execution_count": null,
   "metadata": {},
   "outputs": [],
   "source": [
    "%load_ext autoreload\n",
    "%autoreload 2\n",
    "\n",
    "# %matplotlib widget\n",
    "# above line is for interactive figures (nice for 3D plots). Install with:\n",
    "# conda install -c conda-forge ipympl\n",
    "import numpy as np\n",
    "import matplotlib.pyplot as plt\n",
    "import random\n",
    "import quaternion as qt\n",
    "#from scipy.spatial.transform import Rotation as R\n",
    "\n",
    "import habitat_sim\n",
    "from habitat_sim import AgentConfiguration, CameraSensorSpec\n",
    "\n",
    "from tbp.monty.simulators.habitat import HabitatSim\n",
    "from tbp.monty.frameworks.environments.habitat import PanTiltZoomCamera\n",
    "from tbp.monty.frameworks.environment_utils.transforms import DepthTo3DLocations\n",
    "\n",
    "from graph_utils import *\n",
    "\n",
    "import warnings\n",
    "warnings.filterwarnings('ignore')"
   ]
  },
  {
   "cell_type": "code",
   "execution_count": null,
   "metadata": {},
   "outputs": [],
   "source": []
  },
  {
   "cell_type": "markdown",
   "metadata": {},
   "source": [
    "## Habitat Experiment Setup"
   ]
  },
  {
   "cell_type": "code",
   "execution_count": null,
   "metadata": {},
   "outputs": [],
   "source": []
  },
  {
   "cell_type": "code",
   "execution_count": null,
   "metadata": {},
   "outputs": [],
   "source": [
    "# def get_one_obs_sim(obj=\"mug\",obj_position=(0.01, 1.5, -0.08),cam_position=(0.0,0.0,0.0),cam_rotation=(1.0,0.0,0.0,0.0), obj_rotation=(0.0,0.0,0.0,0.0), world_coord=True):\n",
    "    \n",
    "#     camera = PanTiltZoomCamera(semantic=True, resolution=(32, 32),position=cam_position, rotation=cam_rotation)\n",
    "#     sim = HabitatSim(agents={\"agent_01\": camera.get_spec()})\n",
    "#     obj = sim.add_object(name=obj, position=obj_position,rotation=obj_rotation)\n",
    "\n",
    "#     state = sim.get_agent(\"agent_01\").get_state()\n",
    "#     states = sim.get_states()\n",
    "#     print(state)\n",
    "#     print(states)\n",
    "\n",
    "#     obs = sim.get_observations()\n",
    "#     # add 3D coordinates\n",
    "#     transform = DepthTo3DLocations(module_id='agent_01', resolution=obs['agent_01']['depth'].shape, world_coord=world_coord)\n",
    "#     obs = transform(obs, state=states)\n",
    "\n",
    "#     sim.close()\n",
    "#     return obs, None, state\n"
   ]
  },
  {
   "cell_type": "markdown",
   "metadata": {},
   "source": [
    "### Get Observations for Different Perspectives"
   ]
  },
  {
   "cell_type": "code",
   "execution_count": null,
   "metadata": {},
   "outputs": [],
   "source": [
    "obs, state = get_one_obs_sim(obj=\"cup\", resolution=(1024, 1024), \n",
    "                             cam_position=(0.0, 0.1, -0.01),\n",
    "                             cam_rotation=(1.0, -0.4, 0.0, 0.0), \n",
    "                             world_coord=True)"
   ]
  },
  {
   "cell_type": "code",
   "execution_count": null,
   "metadata": {},
   "outputs": [],
   "source": [
    "plt.figure()\n",
    "plt.subplot(2,3,1)\n",
    "plt.imshow(obs['agent_01']['rgba'])\n",
    "plt.title('RGBA')\n",
    "plt.axis('off')\n",
    "plt.subplot(2,3,2)\n",
    "plt.imshow(obs['agent_01']['depth'])\n",
    "plt.title('Depth')\n",
    "plt.axis('off')\n",
    "plt.subplot(2,3,3)\n",
    "plt.imshow(obs['agent_01']['semantic'])\n",
    "plt.title('Semantic')\n",
    "plt.axis('off')"
   ]
  },
  {
   "cell_type": "code",
   "execution_count": null,
   "metadata": {},
   "outputs": [],
   "source": [
    "# xy_range = obs['agent_01']['rgba'].shape[:2]\n",
    "# xy = np.round(np.random.normal(xy_range[0]//6, xy_range[0]//6, 2))\n",
    "# xy"
   ]
  },
  {
   "cell_type": "markdown",
   "metadata": {},
   "source": [
    "### Saccade on Environment Observation (will be moved into Habitat)"
   ]
  },
  {
   "cell_type": "code",
   "execution_count": null,
   "metadata": {},
   "outputs": [],
   "source": []
  },
  {
   "cell_type": "code",
   "execution_count": null,
   "metadata": {
    "scrolled": true
   },
   "outputs": [],
   "source": []
  },
  {
   "cell_type": "code",
   "execution_count": null,
   "metadata": {},
   "outputs": [],
   "source": [
    "def fake_saccade(full_obs, x, y):#gaussian=True):\n",
    "#    xy_range = full_obs['agent_01']['rgba'].shape[:2]\n",
    "    \n",
    "#     if gaussian:\n",
    "#         xy = np.round(np.random.normal(xy_range[0]//2, xy_range[0]//1.4, 2)).astype(int)#random.randint(0,xy_range[0]-1),random.randint(0,xy_range[1]-1)\n",
    "#         xy[xy>45] = 45\n",
    "#         xy[xy<30] = 30\n",
    "#         x,y = xy\n",
    "#     else:\n",
    "#         x,y = random.randint(0,xy_range[0]-1),random.randint(0,xy_range[1]-1)\n",
    "    \n",
    "    z = full_obs['agent_01']['depth'][y,x]\n",
    "    obj = full_obs['agent_01']['semantic'][y,x]>0\n",
    "    feat = full_obs['agent_01']['rgba'][y,x]\n",
    "    return x, y, z, obj, feat"
   ]
  },
  {
   "cell_type": "code",
   "execution_count": null,
   "metadata": {},
   "outputs": [],
   "source": [
    "def collect_fake_saccades(full_obs, xs, ys):#, gaussian=True):\n",
    "    all_x, all_y, all_z, all_obj, all_feat = [],[],[],[],[]\n",
    "    \n",
    "    for n in range(len(xs)):\n",
    "        x, y = xs[n], ys[n]\n",
    "        \n",
    "        x, y, z, obj, feat = fake_saccade(full_obs, x, y)#, gaussian=gaussian)\n",
    "        all_x.append(x), all_y.append(y), all_z.append(z), all_obj.append(obj), all_feat.append(feat)\n",
    "        \n",
    "    return all_x, all_y, all_z, all_obj, all_feat"
   ]
  },
  {
   "cell_type": "code",
   "execution_count": null,
   "metadata": {
    "scrolled": false
   },
   "outputs": [],
   "source": [
    "xs1, ys1, zs1, objs1, feats = collect_fake_saccades(\n",
    "    obs, \n",
    "    xs=[500, 510, 520, 530], \n",
    "    ys=[640, 640, 630, 610]\n",
    ")\n",
    "\n",
    "# Important: When indexing array, x and y are switched!\n",
    "\n",
    "plt.figure()\n",
    "plt.imshow(obs['agent_01']['depth'])\n",
    "plt.xlim([0,1024])\n",
    "plt.ylim([1024,0])\n",
    "plt.plot(xs1, ys1, marker='o',color='lightblue', markerfacecolor='green', markersize=0)\n",
    "plt.scatter(xs1, ys1, marker='o',c=np.array([objs1])*1,cmap='Reds',s=70)\n",
    "plt.title(\"Gaussian\")\n",
    "\n",
    "plt.show()"
   ]
  },
  {
   "cell_type": "code",
   "execution_count": null,
   "metadata": {},
   "outputs": [],
   "source": [
    "xs2, ys2, zs2, objs2, feats = collect_fake_saccades(\n",
    "    obs, \n",
    "    xs=[480, 490, 500, 510], \n",
    "    ys=[620, 620, 610, 590]\n",
    ")\n",
    "\n",
    "plt.figure()\n",
    "plt.imshow(obs['agent_01']['depth'])\n",
    "plt.xlim([0,1024])\n",
    "plt.ylim([1024,0])\n",
    "plt.plot(xs2, ys2, marker='o',color='lightblue', markerfacecolor='green', markersize=0)\n",
    "plt.scatter(xs2, ys2, marker='o',c=np.array([objs2])*1,cmap='Reds',s=70)\n",
    "plt.title(\"Gaussian\")\n",
    "\n",
    "plt.show()"
   ]
  },
  {
   "cell_type": "code",
   "execution_count": null,
   "metadata": {},
   "outputs": [],
   "source": [
    "xs3, ys3, zs3, objs3, feats = collect_fake_saccades(\n",
    "    obs, \n",
    "    xs=[31 * 16, 33 * 16, 34 * 16, 33 * 16], \n",
    "    ys=[41 * 16, 41 * 16, 39 * 16, 39 * 16]\n",
    ")\n",
    "\n",
    "plt.figure()\n",
    "plt.imshow(obs['agent_01']['depth'])\n",
    "plt.xlim([0,1024])\n",
    "plt.ylim([1024,0])\n",
    "plt.plot(xs3, ys3, marker='o',color='lightblue', markerfacecolor='green', markersize=0)\n",
    "plt.scatter(xs3, ys3, marker='o',c=np.array([objs3])*1,cmap='Reds',s=70)\n",
    "plt.title(\"Gaussian\")\n",
    "\n",
    "plt.show()"
   ]
  },
  {
   "cell_type": "code",
   "execution_count": null,
   "metadata": {},
   "outputs": [],
   "source": [
    "xs4, ys4, zs4, objs4, feats = collect_fake_saccades(\n",
    "    obs, \n",
    "    xs=[30 * 16, 32 * 16, 34 * 16, 32 * 16], \n",
    "    ys=[39 * 16, 41 * 16, 38 * 16, 37 * 16]\n",
    ")\n",
    "\n",
    "plt.figure()\n",
    "plt.imshow(obs['agent_01']['depth'])\n",
    "plt.xlim([0,1024])\n",
    "plt.ylim([1024,0])\n",
    "plt.plot(xs4, ys4, marker='o',color='lightblue', markerfacecolor='green', markersize=0)\n",
    "plt.scatter(xs4, ys4, marker='o',c=np.array([objs4])*1,cmap='Reds',s=70)\n",
    "plt.title(\"Gaussian\")\n",
    "\n",
    "plt.show()"
   ]
  },
  {
   "cell_type": "code",
   "execution_count": null,
   "metadata": {},
   "outputs": [],
   "source": []
  },
  {
   "cell_type": "code",
   "execution_count": null,
   "metadata": {},
   "outputs": [],
   "source": [
    "def encode_displacements(xs, ys, zs, num_padding, size):\n",
    "    sdr1 = np.zeros(size)\n",
    "    sdr2 = np.zeros(size)\n",
    "    \n",
    "    vec1 = np.array([xs[1] - xs[0],\n",
    "                ys[1] - ys[0],\n",
    "                zs[1] - zs[0]])\n",
    "\n",
    "    vec2 = np.array([xs[2] - xs[1],\n",
    "                    ys[2] - ys[1],\n",
    "                    zs[2] - zs[1]])\n",
    "\n",
    "    vec3 = np.array([xs[3] - xs[2],\n",
    "                    ys[3] - ys[2],\n",
    "                    zs[3] - zs[2]])\n",
    "    \n",
    "    e = np.cross(vec1, vec2) / np.linalg.norm(np.cross(vec1, vec2))\n",
    "    theta = np.arccos(np.dot(e, vec3) / np.linalg.norm(vec3))\n",
    "\n",
    "\n",
    "    f = vec3 - (np.dot(vec3, e) * e)\n",
    "    phi = np.arccos(np.dot(vec1, f) / (np.linalg.norm(vec1) * np.linalg.norm(f)))\n",
    "    \n",
    "    \n",
    "    print(theta, phi)\n",
    "    \n",
    "    theta_ind = np.digitize(theta, np.linspace(0, 360, size))\n",
    "    phi_ind = np.digitize(phi, np.linspace(0, 360, size))\n",
    "    \n",
    "    for i in range(theta_ind - num_padding, theta_ind + num_padding + 1):\n",
    "        sdr1[i] = 1\n",
    "        \n",
    "    for i in range(phi_ind - num_padding, phi_ind + num_padding + 1):\n",
    "        sdr2[i] = 1\n",
    "        \n",
    "    return np.concatenate([sdr1, sdr2])"
   ]
  },
  {
   "cell_type": "code",
   "execution_count": null,
   "metadata": {},
   "outputs": [],
   "source": []
  },
  {
   "cell_type": "code",
   "execution_count": null,
   "metadata": {},
   "outputs": [],
   "source": [
    "np.nonzero(encode_displacements(xs1, ys1, zs1, num_padding=0, size=1000))"
   ]
  },
  {
   "cell_type": "code",
   "execution_count": null,
   "metadata": {},
   "outputs": [],
   "source": []
  },
  {
   "cell_type": "code",
   "execution_count": null,
   "metadata": {},
   "outputs": [],
   "source": [
    "np.nonzero(encode_displacements(xs2, ys2, zs2, num_padding=0, size=1000))"
   ]
  },
  {
   "cell_type": "code",
   "execution_count": null,
   "metadata": {},
   "outputs": [],
   "source": []
  },
  {
   "cell_type": "code",
   "execution_count": null,
   "metadata": {},
   "outputs": [],
   "source": []
  },
  {
   "cell_type": "code",
   "execution_count": null,
   "metadata": {},
   "outputs": [],
   "source": [
    "np.nonzero(encode_displacements(xs3, ys3, zs3, num_padding=0))"
   ]
  },
  {
   "cell_type": "code",
   "execution_count": null,
   "metadata": {},
   "outputs": [],
   "source": [
    "np.nonzero(encode_displacements(xs4, ys4, zs4, num_padding=0))"
   ]
  },
  {
   "cell_type": "code",
   "execution_count": null,
   "metadata": {},
   "outputs": [],
   "source": []
  },
  {
   "cell_type": "code",
   "execution_count": null,
   "metadata": {},
   "outputs": [],
   "source": []
  },
  {
   "cell_type": "code",
   "execution_count": null,
   "metadata": {},
   "outputs": [],
   "source": []
  }
 ],
 "metadata": {
  "interpreter": {
   "hash": "afd031353baad683352012889635065b5ead677db46de01f74900d2f1b74ac26"
  },
  "kernelspec": {
   "display_name": "Python 3 (ipykernel)",
   "language": "python",
   "name": "python3"
  },
  "language_info": {
   "codemirror_mode": {
    "name": "ipython",
    "version": 3
   },
   "file_extension": ".py",
   "mimetype": "text/x-python",
   "name": "python",
   "nbconvert_exporter": "python",
   "pygments_lexer": "ipython3",
   "version": "3.8.12"
  }
 },
 "nbformat": 4,
 "nbformat_minor": 2
}
