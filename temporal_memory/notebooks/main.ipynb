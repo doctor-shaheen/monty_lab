{
 "cells": [
  {
   "cell_type": "code",
   "execution_count": 2,
   "metadata": {},
   "outputs": [
    {
     "name": "stdout",
     "output_type": "stream",
     "text": [
      "The autoreload extension is already loaded. To reload it, use:\n",
      "  %reload_ext autoreload\n"
     ]
    }
   ],
   "source": [
    "%load_ext autoreload\n",
    "%autoreload 2\n",
    "%matplotlib qt \n",
    "\n",
    "import sys\n",
    "import os\n",
    "sys.path.insert(1, os.path.expanduser(\"~/tbp/tbp.monty/projects/temporal_memory\"))"
   ]
  },
  {
   "cell_type": "code",
   "execution_count": 4,
   "metadata": {},
   "outputs": [],
   "source": [
    "from tbp.monty.frameworks.environments.ycb import YCBMeshSDRDataset10\n",
    "from torch.utils.data import DataLoader\n",
    "from tbp.monty.frameworks.config_utils.temporal_memory_config_args import TemporalMemoryArgs\n"
   ]
  },
  {
   "cell_type": "code",
   "execution_count": 5,
   "metadata": {},
   "outputs": [],
   "source": [
    "dataset = TemporalMemoryArgs[\"dataset_class\"](**TemporalMemoryArgs[\"dataset_args\"], train=True)"
   ]
  },
  {
   "cell_type": "code",
   "execution_count": 57,
   "metadata": {},
   "outputs": [],
   "source": [
    "loader = DataLoader(dataset, batch_size=1, shuffle=False)"
   ]
  }
 ],
 "metadata": {
  "interpreter": {
   "hash": "a65c7def2fc82c630ec607efa90c20d772b9431074a1fce9bd8bb07bc24fb060"
  },
  "kernelspec": {
   "display_name": "Python 3.8.12 ('tbp.monty')",
   "language": "python",
   "name": "python3"
  },
  "language_info": {
   "codemirror_mode": {
    "name": "ipython",
    "version": 3
   },
   "file_extension": ".py",
   "mimetype": "text/x-python",
   "name": "python",
   "nbconvert_exporter": "python",
   "pygments_lexer": "ipython3",
   "version": "3.8.13"
  },
  "orig_nbformat": 4
 },
 "nbformat": 4,
 "nbformat_minor": 2
}
